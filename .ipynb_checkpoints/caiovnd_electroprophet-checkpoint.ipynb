{
 "cells": [
  {
   "cell_type": "markdown",
   "id": "98cbf15d-e740-4eea-96a0-bf4dea556b41",
   "metadata": {
    "tags": []
   },
   "source": [
    "# Electroprophet⚡️"
   ]
  },
  {
   "cell_type": "markdown",
   "id": "ac62b8e9-e2cb-43fd-82ee-100d6e6eb6b9",
   "metadata": {},
   "source": [
    "In this notebook, I will do the first steps on our final project for Le Wagon's Data Science bootcamp. Here, I'll try to model the carbon emission in France using weather data, in order to provide recomendations for users to reduce their carbon footprint 👣."
   ]
  },
  {
   "cell_type": "markdown",
   "id": "2ba1f429-683a-4848-ba55-8eb20f891eb2",
   "metadata": {
    "jp-MarkdownHeadingCollapsed": true,
    "tags": []
   },
   "source": [
    "## Getting the data (outdated, don't use it)"
   ]
  },
  {
   "cell_type": "code",
   "execution_count": 1,
   "id": "1af9676c-8557-40d0-a4e9-267e2f728e49",
   "metadata": {
    "tags": []
   },
   "outputs": [],
   "source": [
    "%load_ext autoreload\n",
    "%autoreload 2"
   ]
  },
  {
   "cell_type": "markdown",
   "id": "aec7b128-3928-4856-9cc1-8085b988be55",
   "metadata": {
    "tags": []
   },
   "source": [
    "### 1. Wheater API"
   ]
  },
  {
   "cell_type": "markdown",
   "id": "3adf937a-5b6d-4130-a5ed-a95b96abad74",
   "metadata": {
    "tags": []
   },
   "source": [
    "Here we'll be able to get weather data of a chosen city. "
   ]
  },
  {
   "cell_type": "markdown",
   "id": "23e278a1-bb4d-4414-8e78-e471e3976926",
   "metadata": {
    "tags": []
   },
   "source": [
    "As the energy data is given by region, later we'll have to check how many cities we have to take in consideration in order to get the weather in a given region."
   ]
  },
  {
   "cell_type": "code",
   "execution_count": 2,
   "id": "4da713b0-02ff-4f6c-a2ac-ac50fdcdf6e1",
   "metadata": {
    "tags": []
   },
   "outputs": [],
   "source": [
    "import requests\n",
    "import datetime\n",
    "from dateutil.relativedelta import relativedelta\n",
    "import pandas as pd\n",
    "import os.path\n",
    "\n",
    "# Get the absolute path of the directory where the script is located\n",
    "script_dir = os.getcwd()\n",
    "\n",
    "# Construct the path to the \"my_directory\" directory relative to the script directory\n",
    "raw_data_path = os.path.join(script_dir, \"raw_data\")"
   ]
  },
  {
   "cell_type": "code",
   "execution_count": 3,
   "id": "76509299-5d6b-4488-a77e-f2f5e70dc882",
   "metadata": {
    "tags": []
   },
   "outputs": [],
   "source": [
    "def get_weather(city, years=10, overwrite=False):\n",
    "    \n",
    "    '''\n",
    "    This function receives the name of a city and a number of years, and returns a dataframe \n",
    "    with weather data from this city during those past years\n",
    "    '''\n",
    "    \n",
    "    path = raw_data_path + '/df_' + city.lower() + '_weather.csv'\n",
    "    file_exists = os.path.isfile(path) \n",
    "    \n",
    "    if file_exists and not overwrite:\n",
    "        \n",
    "        print('Found a file for this city. Importing...')\n",
    "        \n",
    "        weather_df = pd.read_csv(path, index_col=0)\n",
    "        \n",
    "    else:\n",
    "        \n",
    "        print('Creating a new .csv file for this city')\n",
    "        \n",
    "        # First we declare the weather parameters. Here we'll be taking all params supported by the API\n",
    "        weather_params = ['temperature_2m','relativehumidity_2m','dewpoint_2m',\n",
    "                      'apparent_temperature','pressure_msl','surface_pressure',\n",
    "                      'precipitation','rain','snowfall','cloudcover',\n",
    "                      'cloudcover_low','cloudcover_mid','cloudcover_high',\n",
    "                      'shortwave_radiation','direct_radiation','direct_normal_irradiance',\n",
    "                      'diffuse_radiation','windspeed_10m','windspeed_100m',\n",
    "                      'winddirection_10m','winddirection_100m','windgusts_10m',\n",
    "                      'et0_fao_evapotranspiration','weathercode','vapor_pressure_deficit',\n",
    "                      'soil_temperature_0_to_7cm','soil_temperature_7_to_28cm',\n",
    "                      'soil_temperature_28_to_100cm','soil_temperature_100_to_255cm',\n",
    "                      'soil_moisture_0_to_7cm','soil_moisture_7_to_28cm',\n",
    "                      'soil_moisture_28_to_100cm','soil_moisture_100_to_255cm']\n",
    "\n",
    "        # This request is done in order to get the latitude and longitude of the desired city\n",
    "        city_response = requests.get('https://geocoding-api.open-meteo.com/v1/search',\n",
    "                           params = {'name': city}).json()\n",
    "\n",
    "        lat = city_response['results'][0]['latitude']\n",
    "        lon = city_response['results'][0]['longitude']\n",
    "\n",
    "        # Then we compute the dates used to get the weather data\n",
    "        ## The API only has data until 9 days ago\n",
    "        end_date = (datetime.date.today() - relativedelta(days=8)).strftime('%Y-%m-%d') \n",
    "        #start_date = (datetime.date.today() - relativedelta(years=years)).strftime('%Y-%m-%d')\n",
    "        start_date = '2013-01-01'\n",
    "\n",
    "        # So we make the request to the weather API archive\n",
    "        weather_response = requests.get('https://archive-api.open-meteo.com/v1/archive',\n",
    "                           params = {'latitude': lat,\n",
    "                                    'longitude': lon,\n",
    "                                    'start_date': start_date,\n",
    "                                    'end_date': end_date,\n",
    "                                    'hourly': weather_params,\n",
    "                                    'timezone': 'auto'}).json()\n",
    "        \n",
    "        weather_df = pd.DataFrame(weather_response['hourly'], columns = ['time'] + weather_params)\n",
    "        weather_df['time'] = pd.to_datetime(weather_df['time'], format='%Y-%m-%d')\n",
    "        weather_df = weather_df.set_index('time')\n",
    "        \n",
    "        weather_df.to_csv(path)\n",
    "    \n",
    "    print('Done ✅')\n",
    "    return weather_df"
   ]
  },
  {
   "cell_type": "code",
   "execution_count": 4,
   "id": "3726edb6-a3ff-46c3-ab2c-fa5d9d676ea9",
   "metadata": {
    "tags": []
   },
   "outputs": [
    {
     "ename": "ImportError",
     "evalue": "cannot import name 'data' from 'prophecy' (/home/jupyter/code/caiovnd/electroprophet/prophecy/__init__.py)",
     "output_type": "error",
     "traceback": [
      "\u001b[0;31m---------------------------------------------------------------------------\u001b[0m",
      "\u001b[0;31mImportError\u001b[0m                               Traceback (most recent call last)",
      "\u001b[0;32m/var/tmp/ipykernel_16080/3965296030.py\u001b[0m in \u001b[0;36m<module>\u001b[0;34m\u001b[0m\n\u001b[0;32m----> 1\u001b[0;31m \u001b[0;32mfrom\u001b[0m \u001b[0mprophecy\u001b[0m \u001b[0;32mimport\u001b[0m \u001b[0mdata\u001b[0m\u001b[0;34m\u001b[0m\u001b[0;34m\u001b[0m\u001b[0m\n\u001b[0m\u001b[1;32m      2\u001b[0m \u001b[0;34m\u001b[0m\u001b[0m\n\u001b[1;32m      3\u001b[0m \u001b[0mdata\u001b[0m\u001b[0;34m.\u001b[0m\u001b[0mget_weather\u001b[0m\u001b[0;34m(\u001b[0m\u001b[0;34m'Amiens'\u001b[0m\u001b[0;34m)\u001b[0m\u001b[0;34m\u001b[0m\u001b[0;34m\u001b[0m\u001b[0m\n\u001b[1;32m      4\u001b[0m \u001b[0;31m#df = data.get_weather('Paris',overwrite=True)\u001b[0m\u001b[0;34m\u001b[0m\u001b[0;34m\u001b[0m\u001b[0;34m\u001b[0m\u001b[0m\n\u001b[1;32m      5\u001b[0m \u001b[0;31m#df = data.get_weather('Marseille',overwrite=True)\u001b[0m\u001b[0;34m\u001b[0m\u001b[0;34m\u001b[0m\u001b[0;34m\u001b[0m\u001b[0m\n",
      "\u001b[0;31mImportError\u001b[0m: cannot import name 'data' from 'prophecy' (/home/jupyter/code/caiovnd/electroprophet/prophecy/__init__.py)"
     ]
    }
   ],
   "source": [
    "from prophecy import data\n",
    "\n",
    "data.get_weather('Amiens')\n",
    "#df = data.get_weather('Paris',overwrite=True)\n",
    "#df = data.get_weather('Marseille',overwrite=True)"
   ]
  },
  {
   "cell_type": "code",
   "execution_count": null,
   "id": "41d0272b-82e4-468c-89c7-f8acb69bc738",
   "metadata": {
    "tags": []
   },
   "outputs": [],
   "source": [
    "import pandas as pd\n",
    "pd.to_datetime(df.index, format='%Y-%m-%d')"
   ]
  },
  {
   "cell_type": "code",
   "execution_count": null,
   "id": "aaf8b41d-b8dc-409f-931b-1963a4d06330",
   "metadata": {
    "tags": []
   },
   "outputs": [],
   "source": [
    "import datetime\n",
    "\n",
    "print(datetime.datetime.strptime('2013-01-01','%Y-%m-%d'))"
   ]
  },
  {
   "cell_type": "markdown",
   "id": "aeb79de4-de43-45d9-94b9-9b8cce4ce715",
   "metadata": {},
   "source": [
    "First let's explore and see if we find any problems"
   ]
  },
  {
   "cell_type": "code",
   "execution_count": null,
   "id": "f10651d2-27fc-4ec7-8c16-12fd7282ce43",
   "metadata": {
    "tags": []
   },
   "outputs": [],
   "source": [
    "df.duplicated().sum() # Checking for duplicates"
   ]
  },
  {
   "cell_type": "code",
   "execution_count": null,
   "id": "b3a42b46-0e0b-425c-a030-da80c428bf05",
   "metadata": {
    "tags": []
   },
   "outputs": [],
   "source": [
    "df.isnull().sum().sort_values(ascending=False)/len(df) # Checking for null values"
   ]
  },
  {
   "cell_type": "code",
   "execution_count": null,
   "id": "ca283872-d86b-4287-9a28-ceec71878a7e",
   "metadata": {
    "tags": []
   },
   "outputs": [],
   "source": [
    "weather_params = ['temperature_2m','relativehumidity_2m','dewpoint_2m',\n",
    "                      'apparent_temperature','pressure_msl','surface_pressure',\n",
    "                      'precipitation','rain','snowfall','cloudcover',\n",
    "                      'cloudcover_low','cloudcover_mid','cloudcover_high',\n",
    "                      'shortwave_radiation','direct_radiation','direct_normal_irradiance',\n",
    "                      'diffuse_radiation','windspeed_10m','windspeed_100m',\n",
    "                      'winddirection_10m','winddirection_100m','windgusts_10m',\n",
    "                      'et0_fao_evapotranspiration','weathercode','vapor_pressure_deficit',\n",
    "                      'soil_temperature_0_to_7cm','soil_temperature_7_to_28cm',\n",
    "                      'soil_temperature_28_to_100cm','soil_temperature_100_to_255cm',\n",
    "                      'soil_moisture_0_to_7cm','soil_moisture_7_to_28cm',\n",
    "                      'soil_moisture_28_to_100cm','soil_moisture_100_to_255cm']"
   ]
  },
  {
   "cell_type": "code",
   "execution_count": null,
   "id": "82f7a6c8-0124-484f-adaf-a1c89426e1ec",
   "metadata": {},
   "outputs": [],
   "source": [
    "import matplotlib.pyplot as plt\n",
    "import seaborn as sns"
   ]
  },
  {
   "cell_type": "markdown",
   "id": "be828314-0f47-4636-8ac2-41fb92e73ab2",
   "metadata": {},
   "source": [
    "Then we can preprocess our data"
   ]
  },
  {
   "cell_type": "markdown",
   "id": "c5ca84e8-43df-4206-a844-b554f08d41b9",
   "metadata": {
    "jp-MarkdownHeadingCollapsed": true,
    "tags": []
   },
   "source": [
    "### 1. MinMax Scaling"
   ]
  },
  {
   "cell_type": "code",
   "execution_count": null,
   "id": "b428918c-2279-41a8-893e-69af6953dee3",
   "metadata": {
    "tags": []
   },
   "outputs": [],
   "source": [
    "from sklearn.preprocessing import MinMaxScaler"
   ]
  },
  {
   "cell_type": "code",
   "execution_count": null,
   "id": "3dd52805-77f0-42d6-a0e5-63df48a8f393",
   "metadata": {
    "tags": []
   },
   "outputs": [],
   "source": [
    "scaler = MinMaxScaler()\n",
    "df_preproc = df.copy()\n",
    "for feature in weather_params:\n",
    "    scaler.fit(df[[feature]])\n",
    "    df_preproc[feature] = scaler.transform(df[[feature]])"
   ]
  },
  {
   "cell_type": "code",
   "execution_count": null,
   "id": "669d68ce-bc01-4eb1-8b98-d25d7536a14c",
   "metadata": {
    "tags": []
   },
   "outputs": [],
   "source": [
    "df_preproc.head()"
   ]
  },
  {
   "cell_type": "code",
   "execution_count": null,
   "id": "b7610df7-df17-41c9-9de4-b8d8da2c6569",
   "metadata": {
    "tags": []
   },
   "outputs": [],
   "source": [
    "import matplotlib.pyplot as plt\n",
    "import seaborn as sns\n",
    "\n",
    "index = 0\n",
    "\n",
    "for index in enumerate(weather_params):\n",
    "    index=index[0]\n",
    "    fig, axes = plt.subplots(nrows=1, ncols=4, figsize=(12,3))\n",
    "\n",
    "    sns.histplot(df[weather_params[index]], bins=200,kde = True, ax=axes[0]);\n",
    "    sns.boxplot(data=df, x=weather_params[index], ax=axes[1]);\n",
    "    sns.histplot(df_preproc[weather_params[index]], bins=200,kde = True, ax=axes[2], color='orange');\n",
    "    sns.boxplot(data=df_preproc, x=weather_params[index], ax=axes[3], color='orange');"
   ]
  },
  {
   "cell_type": "markdown",
   "id": "721567f5-bf31-49e6-9d02-0e9506b138a6",
   "metadata": {
    "jp-MarkdownHeadingCollapsed": true,
    "tags": []
   },
   "source": [
    "### 2. Robust Scaler"
   ]
  },
  {
   "cell_type": "code",
   "execution_count": null,
   "id": "c54ddc63-bd0f-4fa3-8209-f66593f8180f",
   "metadata": {},
   "outputs": [],
   "source": [
    "from sklearn.preprocessing import RobustScaler\n",
    "\n",
    "\n",
    "rb_scaler = RobustScaler() \n",
    "df_preproc2 = df.copy()\n",
    "for feature in weather_params:\n",
    "    rb_scaler.fit(df[[feature]])\n",
    "    df_preproc2[feature] = rb_scaler.transform(df[[feature]])\n",
    "\n",
    "rb_scaler.fit(data[['GrLivArea']]) \n",
    "\n",
    "data['GrLivArea'] = rb_scaler.transform(data[['GrLivArea']]) \n"
   ]
  },
  {
   "cell_type": "code",
   "execution_count": null,
   "id": "1beceef2-9de2-4ea4-9652-b2d06b1b1442",
   "metadata": {
    "tags": []
   },
   "outputs": [],
   "source": [
    "df_weather = data.get_weather('Amiens')\n",
    "df_weather"
   ]
  },
  {
   "cell_type": "code",
   "execution_count": null,
   "id": "86e26e9b-7b79-4e4e-a211-43484d3424ac",
   "metadata": {
    "tags": []
   },
   "outputs": [],
   "source": [
    "df_merge = data.merge_weather_energy_df('Amiens', 'Hauts-de-France', 'eolien')\n",
    "df_merge"
   ]
  },
  {
   "cell_type": "code",
   "execution_count": null,
   "id": "981ae33d-d338-4d6b-9837-26304e4929ee",
   "metadata": {
    "tags": []
   },
   "outputs": [],
   "source": [
    "prod_df = data.get_energy_production(-1, 0, 'Hauts-de-France')"
   ]
  },
  {
   "cell_type": "code",
   "execution_count": null,
   "id": "a98f4b82-9be3-44dc-bba3-73c1a21a791e",
   "metadata": {
    "tags": []
   },
   "outputs": [],
   "source": [
    "prod_df.columns"
   ]
  },
  {
   "cell_type": "markdown",
   "id": "b1708612-073b-47e3-b70f-67241720317f",
   "metadata": {
    "jp-MarkdownHeadingCollapsed": true,
    "tags": []
   },
   "source": [
    "## Baseline model - Random Forest (not the best parameters)"
   ]
  },
  {
   "cell_type": "markdown",
   "id": "9400d258-805c-4688-8817-cf1b9a5657ec",
   "metadata": {},
   "source": [
    "First we import our class:"
   ]
  },
  {
   "cell_type": "code",
   "execution_count": null,
   "id": "77733858-c5e5-4fbe-952e-27fbcf53c7c0",
   "metadata": {
    "tags": []
   },
   "outputs": [],
   "source": [
    "from prophecy.data_3_cities import WeatherEnergy"
   ]
  },
  {
   "cell_type": "code",
   "execution_count": 5,
   "id": "685e3abd-a44c-4164-97e3-4d10044844fe",
   "metadata": {
    "tags": []
   },
   "outputs": [
    {
     "ename": "NameError",
     "evalue": "name 'WeatherEnergy' is not defined",
     "output_type": "error",
     "traceback": [
      "\u001b[0;31m---------------------------------------------------------------------------\u001b[0m",
      "\u001b[0;31mNameError\u001b[0m                                 Traceback (most recent call last)",
      "\u001b[0;32m/var/tmp/ipykernel_16080/1674202486.py\u001b[0m in \u001b[0;36m<module>\u001b[0;34m\u001b[0m\n\u001b[0;32m----> 1\u001b[0;31m \u001b[0mdata\u001b[0m \u001b[0;34m=\u001b[0m \u001b[0mWeatherEnergy\u001b[0m\u001b[0;34m(\u001b[0m\u001b[0mlimit\u001b[0m\u001b[0;34m=\u001b[0m\u001b[0;34m-\u001b[0m\u001b[0;36m1\u001b[0m\u001b[0;34m,\u001b[0m \u001b[0moffset\u001b[0m\u001b[0;34m=\u001b[0m\u001b[0;36m0\u001b[0m\u001b[0;34m,\u001b[0m \u001b[0mrefine\u001b[0m\u001b[0;34m=\u001b[0m\u001b[0;34m'Hauts-de-France'\u001b[0m\u001b[0;34m,\u001b[0m \u001b[0mcity1\u001b[0m\u001b[0;34m=\u001b[0m\u001b[0;34m'Heudicourt'\u001b[0m\u001b[0;34m,\u001b[0m \u001b[0mcity2\u001b[0m\u001b[0;34m=\u001b[0m\u001b[0;34m'Bucy-les-Pierrepont'\u001b[0m\u001b[0;34m,\u001b[0m \u001b[0mcity3\u001b[0m\u001b[0;34m=\u001b[0m\u001b[0;34m'Riencourt'\u001b[0m\u001b[0;34m,\u001b[0m \u001b[0mtarget\u001b[0m\u001b[0;34m=\u001b[0m\u001b[0;34m'eolien'\u001b[0m\u001b[0;34m)\u001b[0m\u001b[0;34m\u001b[0m\u001b[0;34m\u001b[0m\u001b[0m\n\u001b[0m",
      "\u001b[0;31mNameError\u001b[0m: name 'WeatherEnergy' is not defined"
     ]
    }
   ],
   "source": [
    "data = WeatherEnergy(limit=-1, offset=0, refine='Hauts-de-France', city1='Heudicourt', city2='Bucy-les-Pierrepont', city3='Riencourt', target='eolien')"
   ]
  },
  {
   "cell_type": "markdown",
   "id": "fb6417e5-9c57-4110-a24d-cd4ed73573db",
   "metadata": {},
   "source": [
    "Then we get our dataframe"
   ]
  },
  {
   "cell_type": "code",
   "execution_count": null,
   "id": "fb80d407-6063-49a7-9e41-c84bc6826df3",
   "metadata": {
    "tags": []
   },
   "outputs": [],
   "source": [
    "df = data.merged()\n",
    "df.head()"
   ]
  },
  {
   "cell_type": "markdown",
   "id": "f3550de0-9846-4d1e-b91c-7961bf4d2cb6",
   "metadata": {},
   "source": [
    "And we drop all `NaN`'s from our target"
   ]
  },
  {
   "cell_type": "code",
   "execution_count": null,
   "id": "1dc90549-a805-4fd7-a9ea-02cbef4eaecf",
   "metadata": {
    "scrolled": true,
    "tags": []
   },
   "outputs": [],
   "source": [
    "df_nona=df.dropna(subset=['eolien'])"
   ]
  },
  {
   "cell_type": "markdown",
   "id": "09749a3d-349d-455f-98b1-dbc804b39dfb",
   "metadata": {},
   "source": [
    "Now we define our features and target"
   ]
  },
  {
   "cell_type": "code",
   "execution_count": null,
   "id": "2d504a55-eb3c-4da8-9880-e68ba11324e4",
   "metadata": {
    "tags": []
   },
   "outputs": [],
   "source": [
    "X = df_nona.drop(columns=['eolien','weathercode'])\n",
    "y = df_nona['eolien']"
   ]
  },
  {
   "cell_type": "markdown",
   "id": "dbac518c-d507-4674-85a4-79dcd5b99e7a",
   "metadata": {},
   "source": [
    "Then we run and evaluate our baseline model with RandomForest"
   ]
  },
  {
   "cell_type": "code",
   "execution_count": null,
   "id": "8e075f4c-75ea-4402-953e-539cbc91565e",
   "metadata": {
    "tags": []
   },
   "outputs": [],
   "source": [
    "from sklearn.ensemble import RandomForestRegressor\n",
    "from sklearn.model_selection import cross_val_score"
   ]
  },
  {
   "cell_type": "code",
   "execution_count": null,
   "id": "70a6fa80-5208-4600-8149-868746263237",
   "metadata": {
    "tags": []
   },
   "outputs": [],
   "source": [
    "forest = RandomForestRegressor(max_depth=10, n_estimators=100)\n",
    "score_baseline = cross_val_score(forest, X, y, cv=5,scoring='r2',n_jobs=-1)\n",
    "score_baseline.mean()"
   ]
  },
  {
   "cell_type": "markdown",
   "id": "c0df0881-0d9d-469f-9b2d-8d15ae911fd1",
   "metadata": {},
   "source": [
    "Let's try also for XGBoost"
   ]
  },
  {
   "cell_type": "code",
   "execution_count": null,
   "id": "164d13bf-2679-4059-83c7-b7a97e46a98c",
   "metadata": {},
   "outputs": [],
   "source": [
    "!pip install xgboost"
   ]
  },
  {
   "cell_type": "code",
   "execution_count": null,
   "id": "d771d084-b524-429d-afca-1b0df6bd6c5d",
   "metadata": {
    "tags": []
   },
   "outputs": [],
   "source": [
    "from xgboost import XGBRegressor"
   ]
  },
  {
   "cell_type": "code",
   "execution_count": null,
   "id": "0e16b03e-730f-42bd-8ac1-8ba056130e6b",
   "metadata": {
    "tags": []
   },
   "outputs": [],
   "source": [
    "xgb_reg = XGBRegressor(max_depth=10, n_estimators=100, learning_rate=0.1)\n",
    "score_baseline = cross_val_score(xgb_reg, X, y, cv=5,scoring='r2',n_jobs=-1)\n",
    "score_baseline.mean()"
   ]
  },
  {
   "cell_type": "markdown",
   "id": "06a27b3d-fb97-41c1-b836-9fa601d6441e",
   "metadata": {
    "jp-MarkdownHeadingCollapsed": true,
    "tags": []
   },
   "source": [
    "## Model Tuning - Random Forest (here I run GridSearch and use the best parameters)"
   ]
  },
  {
   "cell_type": "code",
   "execution_count": null,
   "id": "3befc50b-db7b-4591-8f5f-aa14830245e2",
   "metadata": {
    "tags": []
   },
   "outputs": [],
   "source": [
    "import numpy as np\n",
    "import pandas as pd\n",
    "from random import randint\n",
    "from sklearn.model_selection import RandomizedSearchCV\n",
    "from sklearn.ensemble import RandomForestRegressor\n",
    "from sklearn.model_selection import cross_val_score\n",
    "import multiprocessing"
   ]
  },
  {
   "cell_type": "code",
   "execution_count": null,
   "id": "cd3bf0a7-ae84-4805-97a8-d9e0fe460a2c",
   "metadata": {
    "tags": []
   },
   "outputs": [],
   "source": [
    "df_scaled = pd.read_csv('raw_data/wind_energy_scaled.csv',index_col=0)\n",
    "df_scaled.head()"
   ]
  },
  {
   "cell_type": "code",
   "execution_count": null,
   "id": "9b11da44-0961-4d43-81ce-a27f6972dd39",
   "metadata": {},
   "outputs": [],
   "source": [
    "df_scaled.columns"
   ]
  },
  {
   "cell_type": "code",
   "execution_count": null,
   "id": "ceac588b-1f7e-4102-94aa-f425f6fbdda6",
   "metadata": {
    "tags": []
   },
   "outputs": [],
   "source": [
    "X_scaled = df_scaled.drop(columns=['eolien'])\n",
    "y = df_scaled['eolien']"
   ]
  },
  {
   "cell_type": "code",
   "execution_count": null,
   "id": "d24cf44f-a2c5-4200-b122-4b3587a0f492",
   "metadata": {},
   "outputs": [],
   "source": [
    "X_red = X_scaled.tail(8760)\n",
    "y_red = y.tail(8760)"
   ]
  },
  {
   "cell_type": "code",
   "execution_count": null,
   "id": "2a79f4c5-5761-49c4-abc6-fc697487e36d",
   "metadata": {
    "tags": []
   },
   "outputs": [],
   "source": [
    "forest = RandomForestRegressor(max_depth=10, n_estimators=100)\n",
    "score_scaled = cross_val_score(forest, X_red, y_red, cv=5,scoring='r2',n_jobs=-1)\n",
    "score_scaled.mean()"
   ]
  },
  {
   "cell_type": "code",
   "execution_count": null,
   "id": "5fdd23cb-98d9-4a95-a323-a14cb0e986a9",
   "metadata": {
    "tags": []
   },
   "outputs": [],
   "source": [
    "# Define the parameter grid to search over\n",
    "param_grid = {\n",
    "    'n_estimators': [50, 100, 150],\n",
    "    'max_depth': [3, 5, 10, 15, 20],\n",
    "    'min_samples_split': [2, 5, 10],\n",
    "    'min_samples_leaf': [1, 2, 4]\n",
    "}\n",
    "\n",
    "# Define the RandomForestRegressor model\n",
    "rf_model = RandomForestRegressor(random_state=42)"
   ]
  },
  {
   "cell_type": "code",
   "execution_count": null,
   "id": "ec547b0f-6f50-4e2f-a6a7-0b3b20911c04",
   "metadata": {
    "tags": []
   },
   "outputs": [],
   "source": [
    "# Use RandomizedSearchCV to search for the best hyperparameters\n",
    "random_search = RandomizedSearchCV(rf_model, param_distributions=param_grid, n_iter=50, cv=5, n_jobs=multiprocessing.cpu_count(), scoring='r2')"
   ]
  },
  {
   "cell_type": "code",
   "execution_count": null,
   "id": "0019e1f6-25c9-4b81-982b-aadd2fc12033",
   "metadata": {
    "tags": []
   },
   "outputs": [],
   "source": [
    "# Fit the model on the Boston Housing dataset\n",
    "random_search.fit(X_red, y_red)"
   ]
  },
  {
   "cell_type": "code",
   "execution_count": null,
   "id": "51b26143-9cf4-47a5-9f02-8b3e8551b0e8",
   "metadata": {
    "tags": []
   },
   "outputs": [],
   "source": [
    "# Print the best hyperparameters found\n",
    "print('Best hyperparameters:', random_search.best_params_)"
   ]
  },
  {
   "cell_type": "markdown",
   "id": "d5c53e4a-d65a-4366-8957-bdb535fdecd4",
   "metadata": {},
   "source": [
    "Results from last run: (n_estimators: 150, min_samples_split: 2, min_samples_leaf: 2, max_depth: 10)"
   ]
  },
  {
   "cell_type": "code",
   "execution_count": null,
   "id": "1633aad7-e033-4b84-8a83-6738014c99aa",
   "metadata": {},
   "outputs": [],
   "source": [
    "# Print the best score found\n",
    "print('Best score:', random_search.best_score_)"
   ]
  },
  {
   "cell_type": "markdown",
   "id": "1b302416-716d-458d-97a2-a80108a5232f",
   "metadata": {
    "jp-MarkdownHeadingCollapsed": true,
    "tags": []
   },
   "source": [
    "## Feature importance"
   ]
  },
  {
   "cell_type": "code",
   "execution_count": 186,
   "id": "789f7479-62db-4389-9f8e-9add4f294784",
   "metadata": {},
   "outputs": [],
   "source": [
    "import pandas as pd\n",
    "import numpy as np\n",
    "from statsmodels.tsa.statespace.sarimax import SARIMAX\n",
    "from sklearn.inspection import permutation_importance"
   ]
  },
  {
   "cell_type": "markdown",
   "id": "6c64b3b2-a9a0-4bfa-b8cc-6913fafc761f",
   "metadata": {},
   "source": [
    "Here I use the .csv without the vector features"
   ]
  },
  {
   "cell_type": "code",
   "execution_count": 187,
   "id": "bcfcf55f-86a6-42a0-aee4-2d5348ed26f6",
   "metadata": {},
   "outputs": [],
   "source": [
    "df_scaled = pd.read_csv('raw_data/wind_energy_scaled.csv',index_col=0)"
   ]
  },
  {
   "cell_type": "markdown",
   "id": "6a82140d-b996-405a-a39f-563f222a72bf",
   "metadata": {},
   "source": [
    "Here I am dropping the worst features"
   ]
  },
  {
   "cell_type": "code",
   "execution_count": 188,
   "id": "e7fe49d0-e9f6-4eef-afd8-8e71360efbfc",
   "metadata": {},
   "outputs": [],
   "source": [
    "X_scaled = df_scaled.drop(columns=['eolien','cloudcover','cloudcover_low','cloudcover_mid',\n",
    "                       'cloudcover_high','shortwave_radiation','direct_radiation',\n",
    "                      'direct_normal_irradiance','diffuse_radiation','et0_fao_evapotranspiration',\n",
    "                       'soil_temperature_0_to_7cm','soil_temperature_7_to_28cm','soil_temperature_28_to_100cm',\n",
    "                       'soil_temperature_100_to_255cm','soil_moisture_0_to_7cm','soil_moisture_7_to_28cm',\n",
    "                       'soil_moisture_28_to_100cm','soil_moisture_100_to_255cm','dewpoint_2m','precipitation',\n",
    "                        'rain','snowfall'])\n",
    "y = df_scaled['eolien']"
   ]
  },
  {
   "cell_type": "code",
   "execution_count": 189,
   "id": "e486bdd4-71f8-4a29-8f42-4fb1a47a5886",
   "metadata": {},
   "outputs": [],
   "source": [
    "X_red_train = X_scaled.iloc[:8760]\n",
    "y_red_train = y.iloc[:8760]\n",
    "X_red_test = X_scaled.iloc[8760:8784]\n",
    "y_red_test = y.iloc[8760:8784]"
   ]
  },
  {
   "cell_type": "code",
   "execution_count": 190,
   "id": "7338ec38-cb70-4b67-b7b1-0439f3a720ca",
   "metadata": {},
   "outputs": [],
   "source": [
    "forest = RandomForestRegressor(n_estimators=150, min_samples_split=2, min_samples_leaf=2, max_depth=10)\n",
    "result = forest.fit(X_red_train,y_red_train)"
   ]
  },
  {
   "cell_type": "code",
   "execution_count": 191,
   "id": "d633364c-1995-4b41-a2d1-c1e122f782ed",
   "metadata": {},
   "outputs": [],
   "source": [
    "result = permutation_importance(forest, X_red_test, y_red_test.values, n_repeats=10, random_state=42, scoring='r2')"
   ]
  },
  {
   "cell_type": "code",
   "execution_count": 197,
   "id": "a9109fdc-f816-4b90-b8a2-51a16e9d99ae",
   "metadata": {},
   "outputs": [
    {
     "name": "stdout",
     "output_type": "stream",
     "text": [
      "                   feature  importance_mean  importance_std\n",
      "6           windspeed_100m         0.755956        0.197437\n",
      "8       winddirection_100m         0.160437        0.059801\n",
      "5            windspeed_10m         0.046652        0.021766\n",
      "7        winddirection_10m         0.027003        0.017087\n",
      "9            windgusts_10m         0.017687        0.013001\n",
      "3             pressure_msl         0.008122        0.018070\n",
      "2     apparent_temperature         0.006556        0.016101\n",
      "1      relativehumidity_2m         0.005053        0.010814\n",
      "10  vapor_pressure_deficit         0.004954        0.011637\n",
      "0           temperature_2m         0.002770        0.006516\n",
      "4         surface_pressure         0.001269        0.004982\n"
     ]
    }
   ],
   "source": [
    "df = pd.DataFrame({\n",
    "    'feature': X_red_test.columns,\n",
    "    'importance_mean': abs(result['importances_mean']),\n",
    "    'importance_std': result['importances_std']\n",
    "}).sort_values('importance_mean', ascending=False)\n",
    "\n",
    "print(df)"
   ]
  },
  {
   "cell_type": "markdown",
   "id": "80fd17c7-a9cb-497d-86f6-fec897254934",
   "metadata": {},
   "source": [
    "## Best RandomForest"
   ]
  },
  {
   "cell_type": "code",
   "execution_count": 200,
   "id": "0687b467-2f85-46c0-b92b-bba61e7eb51c",
   "metadata": {},
   "outputs": [],
   "source": [
    "df_scaled = pd.read_csv('raw_data/wind_energy_scaled.csv',index_col=0)"
   ]
  },
  {
   "cell_type": "code",
   "execution_count": 201,
   "id": "1e77b7a5-209e-4288-88cb-1123702ff1e8",
   "metadata": {},
   "outputs": [],
   "source": [
    "X_scaled = df_scaled.drop(columns=['eolien','cloudcover','cloudcover_low','cloudcover_mid',\n",
    "                       'cloudcover_high','shortwave_radiation','direct_radiation',\n",
    "                      'direct_normal_irradiance','diffuse_radiation','et0_fao_evapotranspiration',\n",
    "                       'soil_temperature_0_to_7cm','soil_temperature_7_to_28cm','soil_temperature_28_to_100cm',\n",
    "                       'soil_temperature_100_to_255cm','soil_moisture_0_to_7cm','soil_moisture_7_to_28cm',\n",
    "                       'soil_moisture_28_to_100cm','soil_moisture_100_to_255cm','dewpoint_2m','precipitation',\n",
    "                        'rain','snowfall'])\n",
    "y = df_scaled['eolien']"
   ]
  },
  {
   "cell_type": "markdown",
   "id": "2a566b95-f5f8-46e7-aee3-415765e119e7",
   "metadata": {},
   "source": [
    "Training one year to predict the following day"
   ]
  },
  {
   "cell_type": "code",
   "execution_count": 202,
   "id": "7e95dc34-c97a-40bd-8eae-d831e95f6dc4",
   "metadata": {},
   "outputs": [],
   "source": [
    "X_red_train = X_scaled.iloc[:8760]\n",
    "y_red_train = y.iloc[:8760]\n",
    "X_red_test = X_scaled.iloc[8760:8784]\n",
    "y_red_test = y.iloc[8760:8784]"
   ]
  },
  {
   "cell_type": "markdown",
   "id": "62c2c4f2-ad0b-4aa0-b030-ac6f34b2d0b0",
   "metadata": {},
   "source": [
    "Using the best params from GridSearch"
   ]
  },
  {
   "cell_type": "code",
   "execution_count": 203,
   "id": "4cb455e2-f791-471f-928d-80e95b271958",
   "metadata": {},
   "outputs": [
    {
     "data": {
      "text/plain": [
       "0.7430569325747344"
      ]
     },
     "execution_count": 203,
     "metadata": {},
     "output_type": "execute_result"
    }
   ],
   "source": [
    "forest = RandomForestRegressor(n_estimators=150, min_samples_split=2, min_samples_leaf=2, max_depth=10)\n",
    "score_scaled = cross_val_score(forest, X_red_train, y_red_train, cv=5,scoring='r2',n_jobs=-1)\n",
    "score_scaled.mean()"
   ]
  },
  {
   "cell_type": "markdown",
   "id": "7240f911-1e2d-4e95-82e8-8e6257df6e6e",
   "metadata": {
    "jp-MarkdownHeadingCollapsed": true,
    "tags": []
   },
   "source": [
    "## SARIMAX (gave up on it)"
   ]
  },
  {
   "cell_type": "code",
   "execution_count": 12,
   "id": "d30cb189-7dbd-4fe6-8048-9f1e6de75297",
   "metadata": {},
   "outputs": [],
   "source": [
    "from pmdarima.arima import auto_arima\n",
    "import statsmodels.api as sm\n",
    "import numpy as np\n",
    "import pandas as pd\n",
    "from random import randint\n",
    "from sklearn.model_selection import RandomizedSearchCV\n",
    "from sklearn.ensemble import RandomForestRegressor\n",
    "from sklearn.model_selection import cross_val_score\n",
    "import multiprocessing\n",
    "from statsmodels.tsa.statespace.sarimax import SARIMAX"
   ]
  },
  {
   "cell_type": "code",
   "execution_count": 7,
   "id": "ea2a507d-e6c7-4a1f-b87f-311a12590b5b",
   "metadata": {},
   "outputs": [],
   "source": [
    "df_scaled = pd.read_csv('raw_data/wind_energy_scaled.csv',index_col=0)"
   ]
  },
  {
   "cell_type": "code",
   "execution_count": 8,
   "id": "c8157cbb-d212-46a4-a17d-4f5d3d35911f",
   "metadata": {},
   "outputs": [],
   "source": [
    "X_scaled = df_scaled.drop(columns=['eolien','cloudcover','cloudcover_low','cloudcover_mid',\n",
    "                       'cloudcover_high','shortwave_radiation','direct_radiation',\n",
    "                      'direct_normal_irradiance','diffuse_radiation','et0_fao_evapotranspiration',\n",
    "                       'soil_temperature_0_to_7cm','soil_temperature_7_to_28cm','soil_temperature_28_to_100cm',\n",
    "                       'soil_temperature_100_to_255cm','soil_moisture_0_to_7cm','soil_moisture_7_to_28cm',\n",
    "                       'soil_moisture_28_to_100cm','soil_moisture_100_to_255cm','dewpoint_2m','precipitation',\n",
    "                        'rain','snowfall'])\n",
    "y = df_scaled['eolien']"
   ]
  },
  {
   "cell_type": "code",
   "execution_count": 9,
   "id": "867a1283-9181-45d2-b2b1-fe40e71e290e",
   "metadata": {},
   "outputs": [],
   "source": [
    "X_red_train = X_scaled.iloc[:8760]\n",
    "y_red_train = y.iloc[:8760]\n",
    "X_red_test = X_scaled.iloc[8760:8784]\n",
    "y_red_test = y.iloc[8760:8784]"
   ]
  },
  {
   "cell_type": "code",
   "execution_count": 22,
   "id": "c1f799f0-1fcd-4727-8ee2-be4d88c9c292",
   "metadata": {},
   "outputs": [
    {
     "name": "stderr",
     "output_type": "stream",
     "text": [
      "/opt/conda/lib/python3.7/site-packages/statsmodels/tsa/base/tsa_model.py:471: ValueWarning: No frequency information was provided, so inferred frequency H will be used.\n",
      "  self._init_dates(dates, freq)\n",
      "/opt/conda/lib/python3.7/site-packages/statsmodels/tsa/base/tsa_model.py:471: ValueWarning: No frequency information was provided, so inferred frequency H will be used.\n",
      "  self._init_dates(dates, freq)\n"
     ]
    },
    {
     "name": "stdout",
     "output_type": "stream",
     "text": [
      " ARIMA(0,1,0)(0,0,0)[24] intercept   : BIC=98027.042, Time=0.20 sec\n",
      " ARIMA(0,1,0)(0,0,1)[24] intercept   : BIC=98020.789, Time=6.33 sec\n",
      " ARIMA(0,1,0)(0,0,2)[24] intercept   : BIC=98008.724, Time=50.05 sec\n",
      " ARIMA(0,1,0)(1,0,0)[24] intercept   : BIC=98019.217, Time=6.05 sec\n",
      " ARIMA(0,1,0)(1,0,1)[24] intercept   : BIC=inf, Time=27.84 sec\n",
      " ARIMA(0,1,0)(1,0,2)[24] intercept   : BIC=inf, Time=105.43 sec\n",
      " ARIMA(0,1,0)(2,0,0)[24] intercept   : BIC=98004.034, Time=23.20 sec\n",
      " ARIMA(0,1,0)(2,0,1)[24] intercept   : BIC=inf, Time=107.49 sec\n",
      " ARIMA(0,1,0)(2,0,2)[24] intercept   : BIC=inf, Time=88.94 sec\n",
      " ARIMA(0,1,1)(0,0,0)[24] intercept   : BIC=95529.799, Time=1.31 sec\n",
      " ARIMA(0,1,1)(0,0,1)[24] intercept   : BIC=95530.782, Time=15.86 sec\n",
      " ARIMA(0,1,1)(0,0,2)[24] intercept   : BIC=95532.080, Time=57.50 sec\n",
      " ARIMA(0,1,1)(1,0,0)[24] intercept   : BIC=95530.278, Time=13.71 sec\n",
      " ARIMA(0,1,1)(1,0,1)[24] intercept   : BIC=inf, Time=35.89 sec\n",
      " ARIMA(0,1,1)(1,0,2)[24] intercept   : BIC=inf, Time=120.15 sec\n",
      " ARIMA(0,1,1)(2,0,0)[24] intercept   : BIC=95530.338, Time=46.35 sec\n",
      " ARIMA(0,1,1)(2,0,1)[24] intercept   : BIC=inf, Time=128.28 sec\n",
      " ARIMA(0,1,1)(2,0,2)[24] intercept   : BIC=inf, Time=139.55 sec\n",
      " ARIMA(0,1,2)(0,0,0)[24] intercept   : BIC=95119.279, Time=1.67 sec\n",
      " ARIMA(0,1,2)(0,0,1)[24] intercept   : BIC=95122.496, Time=17.39 sec\n"
     ]
    },
    {
     "ename": "KeyboardInterrupt",
     "evalue": "",
     "output_type": "error",
     "traceback": [
      "\u001b[0;31m---------------------------------------------------------------------------\u001b[0m",
      "\u001b[0;31mKeyboardInterrupt\u001b[0m                         Traceback (most recent call last)",
      "\u001b[0;32m/var/tmp/ipykernel_16080/2092465400.py\u001b[0m in \u001b[0;36m<module>\u001b[0;34m\u001b[0m\n\u001b[1;32m      6\u001b[0m                          \u001b[0mmax_p\u001b[0m\u001b[0;34m=\u001b[0m\u001b[0;36m2\u001b[0m\u001b[0;34m,\u001b[0m \u001b[0mmax_d\u001b[0m\u001b[0;34m=\u001b[0m\u001b[0;36m2\u001b[0m\u001b[0;34m,\u001b[0m \u001b[0mmax_q\u001b[0m\u001b[0;34m=\u001b[0m\u001b[0;36m2\u001b[0m\u001b[0;34m,\u001b[0m \u001b[0mmax_P\u001b[0m\u001b[0;34m=\u001b[0m\u001b[0;36m2\u001b[0m\u001b[0;34m,\u001b[0m \u001b[0mmax_D\u001b[0m\u001b[0;34m=\u001b[0m\u001b[0;36m1\u001b[0m\u001b[0;34m,\u001b[0m \u001b[0mmax_Q\u001b[0m\u001b[0;34m=\u001b[0m\u001b[0;36m2\u001b[0m\u001b[0;34m,\u001b[0m\u001b[0;34m\u001b[0m\u001b[0;34m\u001b[0m\u001b[0m\n\u001b[1;32m      7\u001b[0m                          \u001b[0mstepwise\u001b[0m\u001b[0;34m=\u001b[0m\u001b[0;32mFalse\u001b[0m\u001b[0;34m,\u001b[0m \u001b[0mtrace\u001b[0m\u001b[0;34m=\u001b[0m\u001b[0;32mTrue\u001b[0m\u001b[0;34m,\u001b[0m \u001b[0minformation_criterion\u001b[0m\u001b[0;34m=\u001b[0m\u001b[0;34m'bic'\u001b[0m\u001b[0;34m,\u001b[0m\u001b[0;34m\u001b[0m\u001b[0;34m\u001b[0m\u001b[0m\n\u001b[0;32m----> 8\u001b[0;31m                          parallel=True,njobs=-1)\n\u001b[0m\u001b[1;32m      9\u001b[0m \u001b[0;34m\u001b[0m\u001b[0m\n\u001b[1;32m     10\u001b[0m \u001b[0;31m# Print the best hyperparameters found by auto_arima\u001b[0m\u001b[0;34m\u001b[0m\u001b[0;34m\u001b[0m\u001b[0;34m\u001b[0m\u001b[0m\n",
      "\u001b[0;32m/opt/conda/lib/python3.7/site-packages/pmdarima/arima/auto.py\u001b[0m in \u001b[0;36mauto_arima\u001b[0;34m(y, X, start_p, d, start_q, max_p, max_d, max_q, start_P, D, start_Q, max_P, max_D, max_Q, max_order, m, seasonal, stationary, information_criterion, alpha, test, seasonal_test, stepwise, n_jobs, start_params, trend, method, maxiter, offset_test_args, seasonal_test_args, suppress_warnings, error_action, trace, random, random_state, n_fits, return_valid_fits, out_of_sample_size, scoring, scoring_args, with_intercept, sarimax_kwargs, **fit_args)\u001b[0m\n\u001b[1;32m    699\u001b[0m         )\n\u001b[1;32m    700\u001b[0m \u001b[0;34m\u001b[0m\u001b[0m\n\u001b[0;32m--> 701\u001b[0;31m     \u001b[0msorted_res\u001b[0m \u001b[0;34m=\u001b[0m \u001b[0msearch\u001b[0m\u001b[0;34m.\u001b[0m\u001b[0msolve\u001b[0m\u001b[0;34m(\u001b[0m\u001b[0;34m)\u001b[0m\u001b[0;34m\u001b[0m\u001b[0;34m\u001b[0m\u001b[0m\n\u001b[0m\u001b[1;32m    702\u001b[0m     \u001b[0;32mreturn\u001b[0m \u001b[0m_return_wrapper\u001b[0m\u001b[0;34m(\u001b[0m\u001b[0msorted_res\u001b[0m\u001b[0;34m,\u001b[0m \u001b[0mreturn_valid_fits\u001b[0m\u001b[0;34m,\u001b[0m \u001b[0mstart\u001b[0m\u001b[0;34m,\u001b[0m \u001b[0mtrace\u001b[0m\u001b[0;34m)\u001b[0m\u001b[0;34m\u001b[0m\u001b[0;34m\u001b[0m\u001b[0m\n\u001b[1;32m    703\u001b[0m \u001b[0;34m\u001b[0m\u001b[0m\n",
      "\u001b[0;32m/opt/conda/lib/python3.7/site-packages/pmdarima/arima/_auto_solvers.py\u001b[0m in \u001b[0;36msolve\u001b[0;34m(self)\u001b[0m\n\u001b[1;32m    128\u001b[0m                 \u001b[0mseasonal_order\u001b[0m\u001b[0;34m=\u001b[0m\u001b[0mseasonal_order\u001b[0m\u001b[0;34m,\u001b[0m\u001b[0;34m\u001b[0m\u001b[0;34m\u001b[0m\u001b[0m\n\u001b[1;32m    129\u001b[0m             )\n\u001b[0;32m--> 130\u001b[0;31m             \u001b[0;32mfor\u001b[0m \u001b[0morder\u001b[0m\u001b[0;34m,\u001b[0m \u001b[0mseasonal_order\u001b[0m \u001b[0;32min\u001b[0m \u001b[0mgen\u001b[0m\u001b[0;34m\u001b[0m\u001b[0;34m\u001b[0m\u001b[0m\n\u001b[0m\u001b[1;32m    131\u001b[0m         )\n\u001b[1;32m    132\u001b[0m \u001b[0;34m\u001b[0m\u001b[0m\n",
      "\u001b[0;32m/opt/conda/lib/python3.7/site-packages/joblib/parallel.py\u001b[0m in \u001b[0;36m__call__\u001b[0;34m(self, iterable)\u001b[0m\n\u001b[1;32m   1086\u001b[0m                 \u001b[0mself\u001b[0m\u001b[0;34m.\u001b[0m\u001b[0m_iterating\u001b[0m \u001b[0;34m=\u001b[0m \u001b[0mself\u001b[0m\u001b[0;34m.\u001b[0m\u001b[0m_original_iterator\u001b[0m \u001b[0;32mis\u001b[0m \u001b[0;32mnot\u001b[0m \u001b[0;32mNone\u001b[0m\u001b[0;34m\u001b[0m\u001b[0;34m\u001b[0m\u001b[0m\n\u001b[1;32m   1087\u001b[0m \u001b[0;34m\u001b[0m\u001b[0m\n\u001b[0;32m-> 1088\u001b[0;31m             \u001b[0;32mwhile\u001b[0m \u001b[0mself\u001b[0m\u001b[0;34m.\u001b[0m\u001b[0mdispatch_one_batch\u001b[0m\u001b[0;34m(\u001b[0m\u001b[0miterator\u001b[0m\u001b[0;34m)\u001b[0m\u001b[0;34m:\u001b[0m\u001b[0;34m\u001b[0m\u001b[0;34m\u001b[0m\u001b[0m\n\u001b[0m\u001b[1;32m   1089\u001b[0m                 \u001b[0;32mpass\u001b[0m\u001b[0;34m\u001b[0m\u001b[0;34m\u001b[0m\u001b[0m\n\u001b[1;32m   1090\u001b[0m \u001b[0;34m\u001b[0m\u001b[0m\n",
      "\u001b[0;32m/opt/conda/lib/python3.7/site-packages/joblib/parallel.py\u001b[0m in \u001b[0;36mdispatch_one_batch\u001b[0;34m(self, iterator)\u001b[0m\n\u001b[1;32m    899\u001b[0m                 \u001b[0;32mreturn\u001b[0m \u001b[0;32mFalse\u001b[0m\u001b[0;34m\u001b[0m\u001b[0;34m\u001b[0m\u001b[0m\n\u001b[1;32m    900\u001b[0m             \u001b[0;32melse\u001b[0m\u001b[0;34m:\u001b[0m\u001b[0;34m\u001b[0m\u001b[0;34m\u001b[0m\u001b[0m\n\u001b[0;32m--> 901\u001b[0;31m                 \u001b[0mself\u001b[0m\u001b[0;34m.\u001b[0m\u001b[0m_dispatch\u001b[0m\u001b[0;34m(\u001b[0m\u001b[0mtasks\u001b[0m\u001b[0;34m)\u001b[0m\u001b[0;34m\u001b[0m\u001b[0;34m\u001b[0m\u001b[0m\n\u001b[0m\u001b[1;32m    902\u001b[0m                 \u001b[0;32mreturn\u001b[0m \u001b[0;32mTrue\u001b[0m\u001b[0;34m\u001b[0m\u001b[0;34m\u001b[0m\u001b[0m\n\u001b[1;32m    903\u001b[0m \u001b[0;34m\u001b[0m\u001b[0m\n",
      "\u001b[0;32m/opt/conda/lib/python3.7/site-packages/joblib/parallel.py\u001b[0m in \u001b[0;36m_dispatch\u001b[0;34m(self, batch)\u001b[0m\n\u001b[1;32m    817\u001b[0m         \u001b[0;32mwith\u001b[0m \u001b[0mself\u001b[0m\u001b[0;34m.\u001b[0m\u001b[0m_lock\u001b[0m\u001b[0;34m:\u001b[0m\u001b[0;34m\u001b[0m\u001b[0;34m\u001b[0m\u001b[0m\n\u001b[1;32m    818\u001b[0m             \u001b[0mjob_idx\u001b[0m \u001b[0;34m=\u001b[0m \u001b[0mlen\u001b[0m\u001b[0;34m(\u001b[0m\u001b[0mself\u001b[0m\u001b[0;34m.\u001b[0m\u001b[0m_jobs\u001b[0m\u001b[0;34m)\u001b[0m\u001b[0;34m\u001b[0m\u001b[0;34m\u001b[0m\u001b[0m\n\u001b[0;32m--> 819\u001b[0;31m             \u001b[0mjob\u001b[0m \u001b[0;34m=\u001b[0m \u001b[0mself\u001b[0m\u001b[0;34m.\u001b[0m\u001b[0m_backend\u001b[0m\u001b[0;34m.\u001b[0m\u001b[0mapply_async\u001b[0m\u001b[0;34m(\u001b[0m\u001b[0mbatch\u001b[0m\u001b[0;34m,\u001b[0m \u001b[0mcallback\u001b[0m\u001b[0;34m=\u001b[0m\u001b[0mcb\u001b[0m\u001b[0;34m)\u001b[0m\u001b[0;34m\u001b[0m\u001b[0;34m\u001b[0m\u001b[0m\n\u001b[0m\u001b[1;32m    820\u001b[0m             \u001b[0;31m# A job can complete so quickly than its callback is\u001b[0m\u001b[0;34m\u001b[0m\u001b[0;34m\u001b[0m\u001b[0;34m\u001b[0m\u001b[0m\n\u001b[1;32m    821\u001b[0m             \u001b[0;31m# called before we get here, causing self._jobs to\u001b[0m\u001b[0;34m\u001b[0m\u001b[0;34m\u001b[0m\u001b[0;34m\u001b[0m\u001b[0m\n",
      "\u001b[0;32m/opt/conda/lib/python3.7/site-packages/joblib/_parallel_backends.py\u001b[0m in \u001b[0;36mapply_async\u001b[0;34m(self, func, callback)\u001b[0m\n\u001b[1;32m    206\u001b[0m     \u001b[0;32mdef\u001b[0m \u001b[0mapply_async\u001b[0m\u001b[0;34m(\u001b[0m\u001b[0mself\u001b[0m\u001b[0;34m,\u001b[0m \u001b[0mfunc\u001b[0m\u001b[0;34m,\u001b[0m \u001b[0mcallback\u001b[0m\u001b[0;34m=\u001b[0m\u001b[0;32mNone\u001b[0m\u001b[0;34m)\u001b[0m\u001b[0;34m:\u001b[0m\u001b[0;34m\u001b[0m\u001b[0;34m\u001b[0m\u001b[0m\n\u001b[1;32m    207\u001b[0m         \u001b[0;34m\"\"\"Schedule a func to be run\"\"\"\u001b[0m\u001b[0;34m\u001b[0m\u001b[0;34m\u001b[0m\u001b[0m\n\u001b[0;32m--> 208\u001b[0;31m         \u001b[0mresult\u001b[0m \u001b[0;34m=\u001b[0m \u001b[0mImmediateResult\u001b[0m\u001b[0;34m(\u001b[0m\u001b[0mfunc\u001b[0m\u001b[0;34m)\u001b[0m\u001b[0;34m\u001b[0m\u001b[0;34m\u001b[0m\u001b[0m\n\u001b[0m\u001b[1;32m    209\u001b[0m         \u001b[0;32mif\u001b[0m \u001b[0mcallback\u001b[0m\u001b[0;34m:\u001b[0m\u001b[0;34m\u001b[0m\u001b[0;34m\u001b[0m\u001b[0m\n\u001b[1;32m    210\u001b[0m             \u001b[0mcallback\u001b[0m\u001b[0;34m(\u001b[0m\u001b[0mresult\u001b[0m\u001b[0;34m)\u001b[0m\u001b[0;34m\u001b[0m\u001b[0;34m\u001b[0m\u001b[0m\n",
      "\u001b[0;32m/opt/conda/lib/python3.7/site-packages/joblib/_parallel_backends.py\u001b[0m in \u001b[0;36m__init__\u001b[0;34m(self, batch)\u001b[0m\n\u001b[1;32m    595\u001b[0m         \u001b[0;31m# Don't delay the application, to avoid keeping the input\u001b[0m\u001b[0;34m\u001b[0m\u001b[0;34m\u001b[0m\u001b[0;34m\u001b[0m\u001b[0m\n\u001b[1;32m    596\u001b[0m         \u001b[0;31m# arguments in memory\u001b[0m\u001b[0;34m\u001b[0m\u001b[0;34m\u001b[0m\u001b[0;34m\u001b[0m\u001b[0m\n\u001b[0;32m--> 597\u001b[0;31m         \u001b[0mself\u001b[0m\u001b[0;34m.\u001b[0m\u001b[0mresults\u001b[0m \u001b[0;34m=\u001b[0m \u001b[0mbatch\u001b[0m\u001b[0;34m(\u001b[0m\u001b[0;34m)\u001b[0m\u001b[0;34m\u001b[0m\u001b[0;34m\u001b[0m\u001b[0m\n\u001b[0m\u001b[1;32m    598\u001b[0m \u001b[0;34m\u001b[0m\u001b[0m\n\u001b[1;32m    599\u001b[0m     \u001b[0;32mdef\u001b[0m \u001b[0mget\u001b[0m\u001b[0;34m(\u001b[0m\u001b[0mself\u001b[0m\u001b[0;34m)\u001b[0m\u001b[0;34m:\u001b[0m\u001b[0;34m\u001b[0m\u001b[0;34m\u001b[0m\u001b[0m\n",
      "\u001b[0;32m/opt/conda/lib/python3.7/site-packages/joblib/parallel.py\u001b[0m in \u001b[0;36m__call__\u001b[0;34m(self)\u001b[0m\n\u001b[1;32m    287\u001b[0m         \u001b[0;32mwith\u001b[0m \u001b[0mparallel_backend\u001b[0m\u001b[0;34m(\u001b[0m\u001b[0mself\u001b[0m\u001b[0;34m.\u001b[0m\u001b[0m_backend\u001b[0m\u001b[0;34m,\u001b[0m \u001b[0mn_jobs\u001b[0m\u001b[0;34m=\u001b[0m\u001b[0mself\u001b[0m\u001b[0;34m.\u001b[0m\u001b[0m_n_jobs\u001b[0m\u001b[0;34m)\u001b[0m\u001b[0;34m:\u001b[0m\u001b[0;34m\u001b[0m\u001b[0;34m\u001b[0m\u001b[0m\n\u001b[1;32m    288\u001b[0m             return [func(*args, **kwargs)\n\u001b[0;32m--> 289\u001b[0;31m                     for func, args, kwargs in self.items]\n\u001b[0m\u001b[1;32m    290\u001b[0m \u001b[0;34m\u001b[0m\u001b[0m\n\u001b[1;32m    291\u001b[0m     \u001b[0;32mdef\u001b[0m \u001b[0m__reduce__\u001b[0m\u001b[0;34m(\u001b[0m\u001b[0mself\u001b[0m\u001b[0;34m)\u001b[0m\u001b[0;34m:\u001b[0m\u001b[0;34m\u001b[0m\u001b[0;34m\u001b[0m\u001b[0m\n",
      "\u001b[0;32m/opt/conda/lib/python3.7/site-packages/joblib/parallel.py\u001b[0m in \u001b[0;36m<listcomp>\u001b[0;34m(.0)\u001b[0m\n\u001b[1;32m    287\u001b[0m         \u001b[0;32mwith\u001b[0m \u001b[0mparallel_backend\u001b[0m\u001b[0;34m(\u001b[0m\u001b[0mself\u001b[0m\u001b[0;34m.\u001b[0m\u001b[0m_backend\u001b[0m\u001b[0;34m,\u001b[0m \u001b[0mn_jobs\u001b[0m\u001b[0;34m=\u001b[0m\u001b[0mself\u001b[0m\u001b[0;34m.\u001b[0m\u001b[0m_n_jobs\u001b[0m\u001b[0;34m)\u001b[0m\u001b[0;34m:\u001b[0m\u001b[0;34m\u001b[0m\u001b[0;34m\u001b[0m\u001b[0m\n\u001b[1;32m    288\u001b[0m             return [func(*args, **kwargs)\n\u001b[0;32m--> 289\u001b[0;31m                     for func, args, kwargs in self.items]\n\u001b[0m\u001b[1;32m    290\u001b[0m \u001b[0;34m\u001b[0m\u001b[0m\n\u001b[1;32m    291\u001b[0m     \u001b[0;32mdef\u001b[0m \u001b[0m__reduce__\u001b[0m\u001b[0;34m(\u001b[0m\u001b[0mself\u001b[0m\u001b[0;34m)\u001b[0m\u001b[0;34m:\u001b[0m\u001b[0;34m\u001b[0m\u001b[0;34m\u001b[0m\u001b[0m\n",
      "\u001b[0;32m/opt/conda/lib/python3.7/site-packages/pmdarima/arima/_auto_solvers.py\u001b[0m in \u001b[0;36m_fit_candidate_model\u001b[0;34m(y, X, order, seasonal_order, start_params, trend, method, maxiter, fit_params, suppress_warnings, trace, error_action, out_of_sample_size, scoring, scoring_args, with_intercept, information_criterion, **kwargs)\u001b[0m\n\u001b[1;32m    504\u001b[0m \u001b[0;34m\u001b[0m\u001b[0m\n\u001b[1;32m    505\u001b[0m     \u001b[0;32mtry\u001b[0m\u001b[0;34m:\u001b[0m\u001b[0;34m\u001b[0m\u001b[0;34m\u001b[0m\u001b[0m\n\u001b[0;32m--> 506\u001b[0;31m         \u001b[0mfit\u001b[0m\u001b[0;34m.\u001b[0m\u001b[0mfit\u001b[0m\u001b[0;34m(\u001b[0m\u001b[0my\u001b[0m\u001b[0;34m,\u001b[0m \u001b[0mX\u001b[0m\u001b[0;34m=\u001b[0m\u001b[0mX\u001b[0m\u001b[0;34m,\u001b[0m \u001b[0;34m**\u001b[0m\u001b[0mfit_params\u001b[0m\u001b[0;34m)\u001b[0m\u001b[0;34m\u001b[0m\u001b[0;34m\u001b[0m\u001b[0m\n\u001b[0m\u001b[1;32m    507\u001b[0m \u001b[0;34m\u001b[0m\u001b[0m\n\u001b[1;32m    508\u001b[0m     \u001b[0;31m# for non-stationarity errors or singular matrices, return None\u001b[0m\u001b[0;34m\u001b[0m\u001b[0;34m\u001b[0m\u001b[0;34m\u001b[0m\u001b[0m\n",
      "\u001b[0;32m/opt/conda/lib/python3.7/site-packages/pmdarima/arima/arima.py\u001b[0m in \u001b[0;36mfit\u001b[0;34m(self, y, X, **fit_args)\u001b[0m\n\u001b[1;32m    601\u001b[0m \u001b[0;34m\u001b[0m\u001b[0m\n\u001b[1;32m    602\u001b[0m         \u001b[0;31m# Internal call\u001b[0m\u001b[0;34m\u001b[0m\u001b[0;34m\u001b[0m\u001b[0;34m\u001b[0m\u001b[0m\n\u001b[0;32m--> 603\u001b[0;31m         \u001b[0mself\u001b[0m\u001b[0;34m.\u001b[0m\u001b[0m_fit\u001b[0m\u001b[0;34m(\u001b[0m\u001b[0my\u001b[0m\u001b[0;34m,\u001b[0m \u001b[0mX\u001b[0m\u001b[0;34m,\u001b[0m \u001b[0;34m**\u001b[0m\u001b[0mfit_args\u001b[0m\u001b[0;34m)\u001b[0m\u001b[0;34m\u001b[0m\u001b[0;34m\u001b[0m\u001b[0m\n\u001b[0m\u001b[1;32m    604\u001b[0m \u001b[0;34m\u001b[0m\u001b[0m\n\u001b[1;32m    605\u001b[0m         \u001b[0;31m# now make a forecast if we're validating to compute the\u001b[0m\u001b[0;34m\u001b[0m\u001b[0;34m\u001b[0m\u001b[0;34m\u001b[0m\u001b[0m\n",
      "\u001b[0;32m/opt/conda/lib/python3.7/site-packages/pmdarima/arima/arima.py\u001b[0m in \u001b[0;36m_fit\u001b[0;34m(self, y, X, **fit_args)\u001b[0m\n\u001b[1;32m    522\u001b[0m             \u001b[0;32mwith\u001b[0m \u001b[0mwarnings\u001b[0m\u001b[0;34m.\u001b[0m\u001b[0mcatch_warnings\u001b[0m\u001b[0;34m(\u001b[0m\u001b[0mrecord\u001b[0m\u001b[0;34m=\u001b[0m\u001b[0;32mFalse\u001b[0m\u001b[0;34m)\u001b[0m\u001b[0;34m:\u001b[0m\u001b[0;34m\u001b[0m\u001b[0;34m\u001b[0m\u001b[0m\n\u001b[1;32m    523\u001b[0m                 \u001b[0mwarnings\u001b[0m\u001b[0;34m.\u001b[0m\u001b[0msimplefilter\u001b[0m\u001b[0;34m(\u001b[0m\u001b[0;34m'ignore'\u001b[0m\u001b[0;34m)\u001b[0m\u001b[0;34m\u001b[0m\u001b[0;34m\u001b[0m\u001b[0m\n\u001b[0;32m--> 524\u001b[0;31m                 \u001b[0mfit\u001b[0m\u001b[0;34m,\u001b[0m \u001b[0mself\u001b[0m\u001b[0;34m.\u001b[0m\u001b[0marima_res_\u001b[0m \u001b[0;34m=\u001b[0m \u001b[0m_fit_wrapper\u001b[0m\u001b[0;34m(\u001b[0m\u001b[0;34m)\u001b[0m\u001b[0;34m\u001b[0m\u001b[0;34m\u001b[0m\u001b[0m\n\u001b[0m\u001b[1;32m    525\u001b[0m         \u001b[0;32melse\u001b[0m\u001b[0;34m:\u001b[0m\u001b[0;34m\u001b[0m\u001b[0;34m\u001b[0m\u001b[0m\n\u001b[1;32m    526\u001b[0m             \u001b[0mfit\u001b[0m\u001b[0;34m,\u001b[0m \u001b[0mself\u001b[0m\u001b[0;34m.\u001b[0m\u001b[0marima_res_\u001b[0m \u001b[0;34m=\u001b[0m \u001b[0m_fit_wrapper\u001b[0m\u001b[0;34m(\u001b[0m\u001b[0;34m)\u001b[0m\u001b[0;34m\u001b[0m\u001b[0;34m\u001b[0m\u001b[0m\n",
      "\u001b[0;32m/opt/conda/lib/python3.7/site-packages/pmdarima/arima/arima.py\u001b[0m in \u001b[0;36m_fit_wrapper\u001b[0;34m()\u001b[0m\n\u001b[1;32m    513\u001b[0m                 \u001b[0mmaxiter\u001b[0m\u001b[0;34m=\u001b[0m\u001b[0m_maxiter\u001b[0m\u001b[0;34m,\u001b[0m\u001b[0;34m\u001b[0m\u001b[0;34m\u001b[0m\u001b[0m\n\u001b[1;32m    514\u001b[0m                 \u001b[0mdisp\u001b[0m\u001b[0;34m=\u001b[0m\u001b[0mdisp\u001b[0m\u001b[0;34m,\u001b[0m\u001b[0;34m\u001b[0m\u001b[0;34m\u001b[0m\u001b[0m\n\u001b[0;32m--> 515\u001b[0;31m                 \u001b[0;34m**\u001b[0m\u001b[0mfit_args\u001b[0m\u001b[0;34m,\u001b[0m\u001b[0;34m\u001b[0m\u001b[0;34m\u001b[0m\u001b[0m\n\u001b[0m\u001b[1;32m    516\u001b[0m             )\n\u001b[1;32m    517\u001b[0m \u001b[0;34m\u001b[0m\u001b[0m\n",
      "\u001b[0;32m/opt/conda/lib/python3.7/site-packages/statsmodels/tsa/statespace/mlemodel.py\u001b[0m in \u001b[0;36mfit\u001b[0;34m(self, start_params, transformed, includes_fixed, cov_type, cov_kwds, method, maxiter, full_output, disp, callback, return_params, optim_score, optim_complex_step, optim_hessian, flags, low_memory, **kwargs)\u001b[0m\n\u001b[1;32m    707\u001b[0m                                                \u001b[0mfull_output\u001b[0m\u001b[0;34m=\u001b[0m\u001b[0mfull_output\u001b[0m\u001b[0;34m,\u001b[0m\u001b[0;34m\u001b[0m\u001b[0;34m\u001b[0m\u001b[0m\n\u001b[1;32m    708\u001b[0m                                                \u001b[0mdisp\u001b[0m\u001b[0;34m=\u001b[0m\u001b[0mdisp\u001b[0m\u001b[0;34m,\u001b[0m \u001b[0mcallback\u001b[0m\u001b[0;34m=\u001b[0m\u001b[0mcallback\u001b[0m\u001b[0;34m,\u001b[0m\u001b[0;34m\u001b[0m\u001b[0;34m\u001b[0m\u001b[0m\n\u001b[0;32m--> 709\u001b[0;31m                                                skip_hessian=True, **kwargs)\n\u001b[0m\u001b[1;32m    710\u001b[0m \u001b[0;34m\u001b[0m\u001b[0m\n\u001b[1;32m    711\u001b[0m         \u001b[0;31m# Just return the fitted parameters if requested\u001b[0m\u001b[0;34m\u001b[0m\u001b[0;34m\u001b[0m\u001b[0;34m\u001b[0m\u001b[0m\n",
      "\u001b[0;32m/opt/conda/lib/python3.7/site-packages/statsmodels/base/model.py\u001b[0m in \u001b[0;36mfit\u001b[0;34m(self, start_params, method, maxiter, full_output, disp, fargs, callback, retall, skip_hessian, **kwargs)\u001b[0m\n\u001b[1;32m    569\u001b[0m                                                        \u001b[0mcallback\u001b[0m\u001b[0;34m=\u001b[0m\u001b[0mcallback\u001b[0m\u001b[0;34m,\u001b[0m\u001b[0;34m\u001b[0m\u001b[0;34m\u001b[0m\u001b[0m\n\u001b[1;32m    570\u001b[0m                                                        \u001b[0mretall\u001b[0m\u001b[0;34m=\u001b[0m\u001b[0mretall\u001b[0m\u001b[0;34m,\u001b[0m\u001b[0;34m\u001b[0m\u001b[0;34m\u001b[0m\u001b[0m\n\u001b[0;32m--> 571\u001b[0;31m                                                        full_output=full_output)\n\u001b[0m\u001b[1;32m    572\u001b[0m         \u001b[0;31m# Restore cov_type, cov_kwds and use_t\u001b[0m\u001b[0;34m\u001b[0m\u001b[0;34m\u001b[0m\u001b[0;34m\u001b[0m\u001b[0m\n\u001b[1;32m    573\u001b[0m         \u001b[0moptim_settings\u001b[0m\u001b[0;34m.\u001b[0m\u001b[0mupdate\u001b[0m\u001b[0;34m(\u001b[0m\u001b[0mkwds\u001b[0m\u001b[0;34m)\u001b[0m\u001b[0;34m\u001b[0m\u001b[0;34m\u001b[0m\u001b[0m\n",
      "\u001b[0;32m/opt/conda/lib/python3.7/site-packages/statsmodels/base/optimizer.py\u001b[0m in \u001b[0;36m_fit\u001b[0;34m(self, objective, gradient, start_params, fargs, kwargs, hessian, method, maxiter, full_output, disp, callback, retall)\u001b[0m\n\u001b[1;32m    242\u001b[0m                              \u001b[0mdisp\u001b[0m\u001b[0;34m=\u001b[0m\u001b[0mdisp\u001b[0m\u001b[0;34m,\u001b[0m \u001b[0mmaxiter\u001b[0m\u001b[0;34m=\u001b[0m\u001b[0mmaxiter\u001b[0m\u001b[0;34m,\u001b[0m \u001b[0mcallback\u001b[0m\u001b[0;34m=\u001b[0m\u001b[0mcallback\u001b[0m\u001b[0;34m,\u001b[0m\u001b[0;34m\u001b[0m\u001b[0;34m\u001b[0m\u001b[0m\n\u001b[1;32m    243\u001b[0m                              \u001b[0mretall\u001b[0m\u001b[0;34m=\u001b[0m\u001b[0mretall\u001b[0m\u001b[0;34m,\u001b[0m \u001b[0mfull_output\u001b[0m\u001b[0;34m=\u001b[0m\u001b[0mfull_output\u001b[0m\u001b[0;34m,\u001b[0m\u001b[0;34m\u001b[0m\u001b[0;34m\u001b[0m\u001b[0m\n\u001b[0;32m--> 244\u001b[0;31m                              hess=hessian)\n\u001b[0m\u001b[1;32m    245\u001b[0m \u001b[0;34m\u001b[0m\u001b[0m\n\u001b[1;32m    246\u001b[0m         optim_settings = {'optimizer': method, 'start_params': start_params,\n",
      "\u001b[0;32m/opt/conda/lib/python3.7/site-packages/statsmodels/base/optimizer.py\u001b[0m in \u001b[0;36m_fit_lbfgs\u001b[0;34m(f, score, start_params, fargs, kwargs, disp, maxiter, callback, retall, full_output, hess)\u001b[0m\n\u001b[1;32m    652\u001b[0m                                      \u001b[0mcallback\u001b[0m\u001b[0;34m=\u001b[0m\u001b[0mcallback\u001b[0m\u001b[0;34m,\u001b[0m \u001b[0margs\u001b[0m\u001b[0;34m=\u001b[0m\u001b[0mfargs\u001b[0m\u001b[0;34m,\u001b[0m\u001b[0;34m\u001b[0m\u001b[0;34m\u001b[0m\u001b[0m\n\u001b[1;32m    653\u001b[0m                                      \u001b[0mbounds\u001b[0m\u001b[0;34m=\u001b[0m\u001b[0mbounds\u001b[0m\u001b[0;34m,\u001b[0m \u001b[0mdisp\u001b[0m\u001b[0;34m=\u001b[0m\u001b[0mdisp\u001b[0m\u001b[0;34m,\u001b[0m\u001b[0;34m\u001b[0m\u001b[0;34m\u001b[0m\u001b[0m\n\u001b[0;32m--> 654\u001b[0;31m                                      **extra_kwargs)\n\u001b[0m\u001b[1;32m    655\u001b[0m \u001b[0;34m\u001b[0m\u001b[0m\n\u001b[1;32m    656\u001b[0m     \u001b[0;32mif\u001b[0m \u001b[0mfull_output\u001b[0m\u001b[0;34m:\u001b[0m\u001b[0;34m\u001b[0m\u001b[0;34m\u001b[0m\u001b[0m\n",
      "\u001b[0;32m/opt/conda/lib/python3.7/site-packages/scipy/optimize/lbfgsb.py\u001b[0m in \u001b[0;36mfmin_l_bfgs_b\u001b[0;34m(func, x0, fprime, args, approx_grad, bounds, m, factr, pgtol, epsilon, iprint, maxfun, maxiter, disp, callback, maxls)\u001b[0m\n\u001b[1;32m    196\u001b[0m \u001b[0;34m\u001b[0m\u001b[0m\n\u001b[1;32m    197\u001b[0m     res = _minimize_lbfgsb(fun, x0, args=args, jac=jac, bounds=bounds,\n\u001b[0;32m--> 198\u001b[0;31m                            **opts)\n\u001b[0m\u001b[1;32m    199\u001b[0m     d = {'grad': res['jac'],\n\u001b[1;32m    200\u001b[0m          \u001b[0;34m'task'\u001b[0m\u001b[0;34m:\u001b[0m \u001b[0mres\u001b[0m\u001b[0;34m[\u001b[0m\u001b[0;34m'message'\u001b[0m\u001b[0;34m]\u001b[0m\u001b[0;34m,\u001b[0m\u001b[0;34m\u001b[0m\u001b[0;34m\u001b[0m\u001b[0m\n",
      "\u001b[0;32m/opt/conda/lib/python3.7/site-packages/scipy/optimize/lbfgsb.py\u001b[0m in \u001b[0;36m_minimize_lbfgsb\u001b[0;34m(fun, x0, args, jac, bounds, disp, maxcor, ftol, gtol, eps, maxfun, maxiter, iprint, callback, maxls, finite_diff_rel_step, **unknown_options)\u001b[0m\n\u001b[1;32m    358\u001b[0m             \u001b[0;31m# until the completion of the current minimization iteration.\u001b[0m\u001b[0;34m\u001b[0m\u001b[0;34m\u001b[0m\u001b[0;34m\u001b[0m\u001b[0m\n\u001b[1;32m    359\u001b[0m             \u001b[0;31m# Overwrite f and g:\u001b[0m\u001b[0;34m\u001b[0m\u001b[0;34m\u001b[0m\u001b[0;34m\u001b[0m\u001b[0m\n\u001b[0;32m--> 360\u001b[0;31m             \u001b[0mf\u001b[0m\u001b[0;34m,\u001b[0m \u001b[0mg\u001b[0m \u001b[0;34m=\u001b[0m \u001b[0mfunc_and_grad\u001b[0m\u001b[0;34m(\u001b[0m\u001b[0mx\u001b[0m\u001b[0;34m)\u001b[0m\u001b[0;34m\u001b[0m\u001b[0;34m\u001b[0m\u001b[0m\n\u001b[0m\u001b[1;32m    361\u001b[0m         \u001b[0;32melif\u001b[0m \u001b[0mtask_str\u001b[0m\u001b[0;34m.\u001b[0m\u001b[0mstartswith\u001b[0m\u001b[0;34m(\u001b[0m\u001b[0;34mb'NEW_X'\u001b[0m\u001b[0;34m)\u001b[0m\u001b[0;34m:\u001b[0m\u001b[0;34m\u001b[0m\u001b[0;34m\u001b[0m\u001b[0m\n\u001b[1;32m    362\u001b[0m             \u001b[0;31m# new iteration\u001b[0m\u001b[0;34m\u001b[0m\u001b[0;34m\u001b[0m\u001b[0;34m\u001b[0m\u001b[0m\n",
      "\u001b[0;32m/opt/conda/lib/python3.7/site-packages/scipy/optimize/_differentiable_functions.py\u001b[0m in \u001b[0;36mfun_and_grad\u001b[0;34m(self, x)\u001b[0m\n\u001b[1;32m    265\u001b[0m         \u001b[0;32mif\u001b[0m \u001b[0;32mnot\u001b[0m \u001b[0mnp\u001b[0m\u001b[0;34m.\u001b[0m\u001b[0marray_equal\u001b[0m\u001b[0;34m(\u001b[0m\u001b[0mx\u001b[0m\u001b[0;34m,\u001b[0m \u001b[0mself\u001b[0m\u001b[0;34m.\u001b[0m\u001b[0mx\u001b[0m\u001b[0;34m)\u001b[0m\u001b[0;34m:\u001b[0m\u001b[0;34m\u001b[0m\u001b[0;34m\u001b[0m\u001b[0m\n\u001b[1;32m    266\u001b[0m             \u001b[0mself\u001b[0m\u001b[0;34m.\u001b[0m\u001b[0m_update_x_impl\u001b[0m\u001b[0;34m(\u001b[0m\u001b[0mx\u001b[0m\u001b[0;34m)\u001b[0m\u001b[0;34m\u001b[0m\u001b[0;34m\u001b[0m\u001b[0m\n\u001b[0;32m--> 267\u001b[0;31m         \u001b[0mself\u001b[0m\u001b[0;34m.\u001b[0m\u001b[0m_update_fun\u001b[0m\u001b[0;34m(\u001b[0m\u001b[0;34m)\u001b[0m\u001b[0;34m\u001b[0m\u001b[0;34m\u001b[0m\u001b[0m\n\u001b[0m\u001b[1;32m    268\u001b[0m         \u001b[0mself\u001b[0m\u001b[0;34m.\u001b[0m\u001b[0m_update_grad\u001b[0m\u001b[0;34m(\u001b[0m\u001b[0;34m)\u001b[0m\u001b[0;34m\u001b[0m\u001b[0;34m\u001b[0m\u001b[0m\n\u001b[1;32m    269\u001b[0m         \u001b[0;32mreturn\u001b[0m \u001b[0mself\u001b[0m\u001b[0;34m.\u001b[0m\u001b[0mf\u001b[0m\u001b[0;34m,\u001b[0m \u001b[0mself\u001b[0m\u001b[0;34m.\u001b[0m\u001b[0mg\u001b[0m\u001b[0;34m\u001b[0m\u001b[0;34m\u001b[0m\u001b[0m\n",
      "\u001b[0;32m/opt/conda/lib/python3.7/site-packages/scipy/optimize/_differentiable_functions.py\u001b[0m in \u001b[0;36m_update_fun\u001b[0;34m(self)\u001b[0m\n\u001b[1;32m    231\u001b[0m     \u001b[0;32mdef\u001b[0m \u001b[0m_update_fun\u001b[0m\u001b[0;34m(\u001b[0m\u001b[0mself\u001b[0m\u001b[0;34m)\u001b[0m\u001b[0;34m:\u001b[0m\u001b[0;34m\u001b[0m\u001b[0;34m\u001b[0m\u001b[0m\n\u001b[1;32m    232\u001b[0m         \u001b[0;32mif\u001b[0m \u001b[0;32mnot\u001b[0m \u001b[0mself\u001b[0m\u001b[0;34m.\u001b[0m\u001b[0mf_updated\u001b[0m\u001b[0;34m:\u001b[0m\u001b[0;34m\u001b[0m\u001b[0;34m\u001b[0m\u001b[0m\n\u001b[0;32m--> 233\u001b[0;31m             \u001b[0mself\u001b[0m\u001b[0;34m.\u001b[0m\u001b[0m_update_fun_impl\u001b[0m\u001b[0;34m(\u001b[0m\u001b[0;34m)\u001b[0m\u001b[0;34m\u001b[0m\u001b[0;34m\u001b[0m\u001b[0m\n\u001b[0m\u001b[1;32m    234\u001b[0m             \u001b[0mself\u001b[0m\u001b[0;34m.\u001b[0m\u001b[0mf_updated\u001b[0m \u001b[0;34m=\u001b[0m \u001b[0;32mTrue\u001b[0m\u001b[0;34m\u001b[0m\u001b[0;34m\u001b[0m\u001b[0m\n\u001b[1;32m    235\u001b[0m \u001b[0;34m\u001b[0m\u001b[0m\n",
      "\u001b[0;32m/opt/conda/lib/python3.7/site-packages/scipy/optimize/_differentiable_functions.py\u001b[0m in \u001b[0;36mupdate_fun\u001b[0;34m()\u001b[0m\n\u001b[1;32m    135\u001b[0m \u001b[0;34m\u001b[0m\u001b[0m\n\u001b[1;32m    136\u001b[0m         \u001b[0;32mdef\u001b[0m \u001b[0mupdate_fun\u001b[0m\u001b[0;34m(\u001b[0m\u001b[0;34m)\u001b[0m\u001b[0;34m:\u001b[0m\u001b[0;34m\u001b[0m\u001b[0;34m\u001b[0m\u001b[0m\n\u001b[0;32m--> 137\u001b[0;31m             \u001b[0mself\u001b[0m\u001b[0;34m.\u001b[0m\u001b[0mf\u001b[0m \u001b[0;34m=\u001b[0m \u001b[0mfun_wrapped\u001b[0m\u001b[0;34m(\u001b[0m\u001b[0mself\u001b[0m\u001b[0;34m.\u001b[0m\u001b[0mx\u001b[0m\u001b[0;34m)\u001b[0m\u001b[0;34m\u001b[0m\u001b[0;34m\u001b[0m\u001b[0m\n\u001b[0m\u001b[1;32m    138\u001b[0m \u001b[0;34m\u001b[0m\u001b[0m\n\u001b[1;32m    139\u001b[0m         \u001b[0mself\u001b[0m\u001b[0;34m.\u001b[0m\u001b[0m_update_fun_impl\u001b[0m \u001b[0;34m=\u001b[0m \u001b[0mupdate_fun\u001b[0m\u001b[0;34m\u001b[0m\u001b[0;34m\u001b[0m\u001b[0m\n",
      "\u001b[0;32m/opt/conda/lib/python3.7/site-packages/scipy/optimize/_differentiable_functions.py\u001b[0m in \u001b[0;36mfun_wrapped\u001b[0;34m(x)\u001b[0m\n\u001b[1;32m    132\u001b[0m             \u001b[0;31m# Overwriting results in undefined behaviour because\u001b[0m\u001b[0;34m\u001b[0m\u001b[0;34m\u001b[0m\u001b[0;34m\u001b[0m\u001b[0m\n\u001b[1;32m    133\u001b[0m             \u001b[0;31m# fun(self.x) will change self.x, with the two no longer linked.\u001b[0m\u001b[0;34m\u001b[0m\u001b[0;34m\u001b[0m\u001b[0;34m\u001b[0m\u001b[0m\n\u001b[0;32m--> 134\u001b[0;31m             \u001b[0;32mreturn\u001b[0m \u001b[0mfun\u001b[0m\u001b[0;34m(\u001b[0m\u001b[0mnp\u001b[0m\u001b[0;34m.\u001b[0m\u001b[0mcopy\u001b[0m\u001b[0;34m(\u001b[0m\u001b[0mx\u001b[0m\u001b[0;34m)\u001b[0m\u001b[0;34m,\u001b[0m \u001b[0;34m*\u001b[0m\u001b[0margs\u001b[0m\u001b[0;34m)\u001b[0m\u001b[0;34m\u001b[0m\u001b[0;34m\u001b[0m\u001b[0m\n\u001b[0m\u001b[1;32m    135\u001b[0m \u001b[0;34m\u001b[0m\u001b[0m\n\u001b[1;32m    136\u001b[0m         \u001b[0;32mdef\u001b[0m \u001b[0mupdate_fun\u001b[0m\u001b[0;34m(\u001b[0m\u001b[0;34m)\u001b[0m\u001b[0;34m:\u001b[0m\u001b[0;34m\u001b[0m\u001b[0;34m\u001b[0m\u001b[0m\n",
      "\u001b[0;32m/opt/conda/lib/python3.7/site-packages/statsmodels/base/model.py\u001b[0m in \u001b[0;36mf\u001b[0;34m(params, *args)\u001b[0m\n\u001b[1;32m    529\u001b[0m \u001b[0;34m\u001b[0m\u001b[0m\n\u001b[1;32m    530\u001b[0m         \u001b[0;32mdef\u001b[0m \u001b[0mf\u001b[0m\u001b[0;34m(\u001b[0m\u001b[0mparams\u001b[0m\u001b[0;34m,\u001b[0m \u001b[0;34m*\u001b[0m\u001b[0margs\u001b[0m\u001b[0;34m)\u001b[0m\u001b[0;34m:\u001b[0m\u001b[0;34m\u001b[0m\u001b[0;34m\u001b[0m\u001b[0m\n\u001b[0;32m--> 531\u001b[0;31m             \u001b[0;32mreturn\u001b[0m \u001b[0;34m-\u001b[0m\u001b[0mself\u001b[0m\u001b[0;34m.\u001b[0m\u001b[0mloglike\u001b[0m\u001b[0;34m(\u001b[0m\u001b[0mparams\u001b[0m\u001b[0;34m,\u001b[0m \u001b[0;34m*\u001b[0m\u001b[0margs\u001b[0m\u001b[0;34m)\u001b[0m \u001b[0;34m/\u001b[0m \u001b[0mnobs\u001b[0m\u001b[0;34m\u001b[0m\u001b[0;34m\u001b[0m\u001b[0m\n\u001b[0m\u001b[1;32m    532\u001b[0m \u001b[0;34m\u001b[0m\u001b[0m\n\u001b[1;32m    533\u001b[0m         \u001b[0;32mif\u001b[0m \u001b[0mmethod\u001b[0m \u001b[0;34m==\u001b[0m \u001b[0;34m'newton'\u001b[0m\u001b[0;34m:\u001b[0m\u001b[0;34m\u001b[0m\u001b[0;34m\u001b[0m\u001b[0m\n",
      "\u001b[0;32m/opt/conda/lib/python3.7/site-packages/statsmodels/tsa/statespace/mlemodel.py\u001b[0m in \u001b[0;36mloglike\u001b[0;34m(self, params, *args, **kwargs)\u001b[0m\n\u001b[1;32m    937\u001b[0m             \u001b[0mkwargs\u001b[0m\u001b[0;34m[\u001b[0m\u001b[0;34m'inversion_method'\u001b[0m\u001b[0;34m]\u001b[0m \u001b[0;34m=\u001b[0m \u001b[0mINVERT_UNIVARIATE\u001b[0m \u001b[0;34m|\u001b[0m \u001b[0mSOLVE_LU\u001b[0m\u001b[0;34m\u001b[0m\u001b[0;34m\u001b[0m\u001b[0m\n\u001b[1;32m    938\u001b[0m \u001b[0;34m\u001b[0m\u001b[0m\n\u001b[0;32m--> 939\u001b[0;31m         \u001b[0mloglike\u001b[0m \u001b[0;34m=\u001b[0m \u001b[0mself\u001b[0m\u001b[0;34m.\u001b[0m\u001b[0mssm\u001b[0m\u001b[0;34m.\u001b[0m\u001b[0mloglike\u001b[0m\u001b[0;34m(\u001b[0m\u001b[0mcomplex_step\u001b[0m\u001b[0;34m=\u001b[0m\u001b[0mcomplex_step\u001b[0m\u001b[0;34m,\u001b[0m \u001b[0;34m**\u001b[0m\u001b[0mkwargs\u001b[0m\u001b[0;34m)\u001b[0m\u001b[0;34m\u001b[0m\u001b[0;34m\u001b[0m\u001b[0m\n\u001b[0m\u001b[1;32m    940\u001b[0m \u001b[0;34m\u001b[0m\u001b[0m\n\u001b[1;32m    941\u001b[0m         \u001b[0;31m# Koopman, Shephard, and Doornik recommend maximizing the average\u001b[0m\u001b[0;34m\u001b[0m\u001b[0;34m\u001b[0m\u001b[0;34m\u001b[0m\u001b[0m\n",
      "\u001b[0;32m/opt/conda/lib/python3.7/site-packages/statsmodels/tsa/statespace/kalman_filter.py\u001b[0m in \u001b[0;36mloglike\u001b[0;34m(self, **kwargs)\u001b[0m\n\u001b[1;32m    981\u001b[0m         kwargs.setdefault('conserve_memory',\n\u001b[1;32m    982\u001b[0m                           MEMORY_CONSERVE ^ MEMORY_NO_LIKELIHOOD)\n\u001b[0;32m--> 983\u001b[0;31m         \u001b[0mkfilter\u001b[0m \u001b[0;34m=\u001b[0m \u001b[0mself\u001b[0m\u001b[0;34m.\u001b[0m\u001b[0m_filter\u001b[0m\u001b[0;34m(\u001b[0m\u001b[0;34m**\u001b[0m\u001b[0mkwargs\u001b[0m\u001b[0;34m)\u001b[0m\u001b[0;34m\u001b[0m\u001b[0;34m\u001b[0m\u001b[0m\n\u001b[0m\u001b[1;32m    984\u001b[0m         loglikelihood_burn = kwargs.get('loglikelihood_burn',\n\u001b[1;32m    985\u001b[0m                                         self.loglikelihood_burn)\n",
      "\u001b[0;32m/opt/conda/lib/python3.7/site-packages/statsmodels/tsa/statespace/kalman_filter.py\u001b[0m in \u001b[0;36m_filter\u001b[0;34m(self, filter_method, inversion_method, stability_method, conserve_memory, filter_timing, tolerance, loglikelihood_burn, complex_step)\u001b[0m\n\u001b[1;32m    904\u001b[0m \u001b[0;34m\u001b[0m\u001b[0m\n\u001b[1;32m    905\u001b[0m         \u001b[0;31m# Run the filter\u001b[0m\u001b[0;34m\u001b[0m\u001b[0;34m\u001b[0m\u001b[0;34m\u001b[0m\u001b[0m\n\u001b[0;32m--> 906\u001b[0;31m         \u001b[0mkfilter\u001b[0m\u001b[0;34m(\u001b[0m\u001b[0;34m)\u001b[0m\u001b[0;34m\u001b[0m\u001b[0;34m\u001b[0m\u001b[0m\n\u001b[0m\u001b[1;32m    907\u001b[0m \u001b[0;34m\u001b[0m\u001b[0m\n\u001b[1;32m    908\u001b[0m         \u001b[0;32mreturn\u001b[0m \u001b[0mkfilter\u001b[0m\u001b[0;34m\u001b[0m\u001b[0;34m\u001b[0m\u001b[0m\n",
      "\u001b[0;31mKeyboardInterrupt\u001b[0m: "
     ]
    }
   ],
   "source": [
    "# Define the SARIMAX model with exogenous variables\n",
    "model = sm.tsa.statespace.SARIMAX(endog=y_red_train, exog=X_red_train, order=(2,1,1), seasonal_order=(1,0,0,12))\n",
    "\n",
    "# Use auto_arima to find the best hyperparameters for the SARIMAX model\n",
    "arima_model = auto_arima(y_red_train, exogenous=X_red_train, seasonal=True, m=24, \n",
    "                         max_p=2, max_d=2, max_q=2, max_P=2, max_D=1, max_Q=2, \n",
    "                         stepwise=False, trace=True, information_criterion='bic',\n",
    "                         parallel=True,njobs=-1)\n",
    "\n",
    "# Print the best hyperparameters found by auto_arima\n",
    "print(arima_model.summary())"
   ]
  },
  {
   "cell_type": "code",
   "execution_count": 23,
   "id": "ccb8ac6f-ecf9-424d-9e6f-df56b13c37ba",
   "metadata": {},
   "outputs": [
    {
     "name": "stderr",
     "output_type": "stream",
     "text": [
      "/opt/conda/lib/python3.7/site-packages/statsmodels/tsa/base/tsa_model.py:471: ValueWarning: No frequency information was provided, so inferred frequency H will be used.\n",
      "  self._init_dates(dates, freq)\n",
      "/opt/conda/lib/python3.7/site-packages/statsmodels/tsa/base/tsa_model.py:471: ValueWarning: No frequency information was provided, so inferred frequency H will be used.\n",
      "  self._init_dates(dates, freq)\n"
     ]
    },
    {
     "name": "stdout",
     "output_type": "stream",
     "text": [
      "RUNNING THE L-BFGS-B CODE\n",
      "\n",
      "           * * *\n",
      "\n",
      "Machine precision = 2.220D-16\n",
      " N =           14     M =           10\n",
      "\n",
      "At X0         0 variables are exactly at the bounds\n",
      "\n",
      "At iterate    0    f=  5.41709D+00    |proj g|=  7.89079D-03\n"
     ]
    },
    {
     "name": "stderr",
     "output_type": "stream",
     "text": [
      " This problem is unconstrained.\n"
     ]
    },
    {
     "name": "stdout",
     "output_type": "stream",
     "text": [
      "\n",
      "At iterate    5    f=  5.41703D+00    |proj g|=  4.50209D-03\n",
      "\n",
      "At iterate   10    f=  5.41436D+00    |proj g|=  5.04472D-02\n",
      "\n",
      "At iterate   15    f=  5.40673D+00    |proj g|=  3.24935D-04\n",
      "\n",
      "At iterate   20    f=  5.40607D+00    |proj g|=  5.29064D-04\n",
      "\n",
      "At iterate   25    f=  5.40576D+00    |proj g|=  5.77823D-03\n",
      "\n",
      "At iterate   30    f=  5.40535D+00    |proj g|=  1.61018D-04\n",
      "\n",
      "At iterate   35    f=  5.40530D+00    |proj g|=  3.30801D-03\n",
      "\n",
      "At iterate   40    f=  5.40376D+00    |proj g|=  1.69271D-02\n",
      "\n",
      "At iterate   45    f=  5.40343D+00    |proj g|=  3.51815D-04\n"
     ]
    },
    {
     "name": "stderr",
     "output_type": "stream",
     "text": [
      "/opt/conda/lib/python3.7/site-packages/statsmodels/base/model.py:606: ConvergenceWarning: Maximum Likelihood optimization failed to converge. Check mle_retvals\n",
      "  ConvergenceWarning)\n"
     ]
    },
    {
     "name": "stdout",
     "output_type": "stream",
     "text": [
      "\n",
      "At iterate   50    f=  5.40328D+00    |proj g|=  7.49188D-05\n",
      "\n",
      "           * * *\n",
      "\n",
      "Tit   = total number of iterations\n",
      "Tnf   = total number of function evaluations\n",
      "Tnint = total number of segments explored during Cauchy searches\n",
      "Skip  = number of BFGS updates skipped\n",
      "Nact  = number of active bounds at final generalized Cauchy point\n",
      "Projg = norm of the final projected gradient\n",
      "F     = final function value\n",
      "\n",
      "           * * *\n",
      "\n",
      "   N    Tit     Tnf  Tnint  Skip  Nact     Projg        F\n",
      "   14     50     55      1     0     0   7.492D-05   5.403D+00\n",
      "  F =   5.4032758341898148     \n",
      "\n",
      "STOP: TOTAL NO. of ITERATIONS REACHED LIMIT                 \n"
     ]
    }
   ],
   "source": [
    "# Fit the SARIMAX model using the best hyperparameters found by auto_arima\n",
    "sarima = SARIMAX(endog=y_red_train, exog=X_red_train, order=(0, 1, 2), seasonal_order=(0, 0, 0, 24))\n",
    "results = sarima.fit()"
   ]
  },
  {
   "cell_type": "code",
   "execution_count": 24,
   "id": "f2f595ab-3cb4-4a4e-86c6-c27a59177509",
   "metadata": {},
   "outputs": [
    {
     "data": {
      "text/plain": [
       "time\n",
       "2014-03-13 00:00:00    130.0\n",
       "2014-03-13 01:00:00     88.0\n",
       "2014-03-13 02:00:00     59.0\n",
       "2014-03-13 03:00:00     38.0\n",
       "2014-03-13 04:00:00     31.0\n",
       "2014-03-13 05:00:00     24.0\n",
       "2014-03-13 06:00:00     25.0\n",
       "2014-03-13 07:00:00     27.0\n",
       "2014-03-13 08:00:00     23.0\n",
       "2014-03-13 09:00:00     21.0\n",
       "2014-03-13 10:00:00     11.0\n",
       "2014-03-13 11:00:00      5.0\n",
       "2014-03-13 12:00:00      4.0\n",
       "2014-03-13 13:00:00      5.0\n",
       "2014-03-13 14:00:00      3.0\n",
       "2014-03-13 15:00:00      4.0\n",
       "2014-03-13 16:00:00      3.0\n",
       "2014-03-13 17:00:00      5.0\n",
       "2014-03-13 18:00:00     20.0\n",
       "2014-03-13 19:00:00     71.0\n",
       "2014-03-13 20:00:00    119.0\n",
       "2014-03-13 21:00:00    169.0\n",
       "2014-03-13 22:00:00    195.0\n",
       "2014-03-13 23:00:00    222.0\n",
       "Name: eolien, dtype: float64"
      ]
     },
     "execution_count": 24,
     "metadata": {},
     "output_type": "execute_result"
    }
   ],
   "source": [
    "y_red_test"
   ]
  },
  {
   "cell_type": "code",
   "execution_count": 25,
   "id": "2ecf7e39-143b-4ceb-8f13-8b4a238b5c93",
   "metadata": {},
   "outputs": [
    {
     "data": {
      "text/plain": [
       "2014-03-13 00:00:00    160.696759\n",
       "2014-03-13 01:00:00    144.410051\n",
       "2014-03-13 02:00:00    138.373236\n",
       "2014-03-13 03:00:00    132.478550\n",
       "2014-03-13 04:00:00    124.619753\n",
       "2014-03-13 05:00:00    115.290466\n",
       "2014-03-13 06:00:00    105.847554\n",
       "2014-03-13 07:00:00    104.838611\n",
       "2014-03-13 08:00:00     92.250412\n",
       "2014-03-13 09:00:00     80.913424\n",
       "2014-03-13 10:00:00     69.113415\n",
       "2014-03-13 11:00:00     60.237952\n",
       "2014-03-13 12:00:00     65.731024\n",
       "2014-03-13 13:00:00     73.038856\n",
       "2014-03-13 14:00:00     87.111301\n",
       "2014-03-13 15:00:00     91.460262\n",
       "2014-03-13 16:00:00     94.227666\n",
       "2014-03-13 17:00:00     93.047691\n",
       "2014-03-13 18:00:00     73.071411\n",
       "2014-03-13 19:00:00     58.845513\n",
       "2014-03-13 20:00:00     84.390561\n",
       "2014-03-13 21:00:00     99.473210\n",
       "2014-03-13 22:00:00    125.658680\n",
       "2014-03-13 23:00:00    159.982042\n",
       "Freq: H, Name: predicted_mean, dtype: float64"
      ]
     },
     "execution_count": 25,
     "metadata": {},
     "output_type": "execute_result"
    }
   ],
   "source": [
    "# Make predictions on the test data using the trained model\n",
    "predictions = results.predict(start='2014-03-13 00:00:00', end='2014-03-13 23:00:00', exog=X_red_test)\n",
    "predictions"
   ]
  },
  {
   "cell_type": "code",
   "execution_count": 26,
   "id": "ecff54cc-9dbc-4b3b-a5ca-043926849298",
   "metadata": {},
   "outputs": [],
   "source": [
    "from sklearn.metrics import r2_score"
   ]
  },
  {
   "cell_type": "code",
   "execution_count": 27,
   "id": "39d47d1c-b8df-4ec2-ae21-6f9bf6feb3d9",
   "metadata": {},
   "outputs": [
    {
     "name": "stdout",
     "output_type": "stream",
     "text": [
      "Forecast score: -0.22568302482914215\n"
     ]
    }
   ],
   "source": [
    "# Calculate the score of the forecast\n",
    "score = r2_score(y_red_test, predictions)\n",
    "print('Forecast score:', score)"
   ]
  },
  {
   "cell_type": "markdown",
   "id": "ed9fa17b-4fa1-438c-9bc0-29b0d0898861",
   "metadata": {},
   "source": [
    "Don't forget to move this notebook back to the notebooks folder using import sys"
   ]
  },
  {
   "cell_type": "markdown",
   "id": "f21fb742-a2db-4839-bb10-de5ac7f87395",
   "metadata": {},
   "source": [
    "## RNN (still working)"
   ]
  },
  {
   "cell_type": "markdown",
   "id": "8bdacf0d-069e-456c-bd84-1311a5c1829f",
   "metadata": {
    "jp-MarkdownHeadingCollapsed": true,
    "tags": []
   },
   "source": [
    "### Importations"
   ]
  },
  {
   "cell_type": "code",
   "execution_count": 177,
   "id": "69206370-2064-4dae-9a23-a303c2ff4995",
   "metadata": {},
   "outputs": [],
   "source": [
    "# Data manipulation\n",
    "import numpy as np\n",
    "import pandas as pd\n",
    "pd.set_option(\"display.max_columns\", None)\n",
    "\n",
    "# Data Visualiation\n",
    "import matplotlib.pyplot as plt\n",
    "import seaborn as sns\n",
    "\n",
    "# System\n",
    "import os\n",
    "\n",
    "# Deep Learning\n",
    "import tensorflow as tf\n",
    "\n",
    "from typing import Dict, List, Tuple, Sequence"
   ]
  },
  {
   "cell_type": "markdown",
   "id": "35badb36-4d4b-4610-917f-aaaf67e433d3",
   "metadata": {
    "jp-MarkdownHeadingCollapsed": true,
    "tags": []
   },
   "source": [
    "### Getting the dataframe"
   ]
  },
  {
   "cell_type": "code",
   "execution_count": 178,
   "id": "12bdb1c7-988d-4d84-9f78-fad684348a01",
   "metadata": {},
   "outputs": [],
   "source": [
    "df_scaled = df = pd.read_csv('raw_data/wind_energy_scaled.csv',index_col=0)"
   ]
  },
  {
   "cell_type": "markdown",
   "id": "6e9455e4-f76a-4f32-ae8b-df451786b70a",
   "metadata": {
    "jp-MarkdownHeadingCollapsed": true,
    "tags": []
   },
   "source": [
    "### Defining global variables"
   ]
  },
  {
   "cell_type": "code",
   "execution_count": 179,
   "id": "41c5c692-6dc3-40a9-8f9b-fbd3fafba1d5",
   "metadata": {},
   "outputs": [],
   "source": [
    "# Let's define the global variables of our dataset\n",
    "TARGET = 'eolien'\n",
    "N_TARGETS = 1\n",
    "N_FEATURES = df.shape[1] - 1"
   ]
  },
  {
   "cell_type": "markdown",
   "id": "ded5d97b-52a9-4600-a0a3-4711f04bf2a7",
   "metadata": {},
   "source": [
    "Defining the folds informations"
   ]
  },
  {
   "cell_type": "code",
   "execution_count": 180,
   "id": "5a14f088-ebc8-406a-ad35-f17466b3ca1c",
   "metadata": {},
   "outputs": [],
   "source": [
    "# --------------------------------------------------- #\n",
    "# Let's consider FOLDS with a length of 3 years       #\n",
    "# (2 years will be used for train, 1 for test!)       #\n",
    "# --------------------------------------------------- #\n",
    "\n",
    "FOLD_LENGTH = 24*365 * 3 # every hour\n",
    "                        # three years\n",
    "\n",
    "# --------------------------------------------------- #\n",
    "# Let's consider FOLDS starting every trimester       #\n",
    "# --------------------------------------------------- #\n",
    "    \n",
    "FOLD_STRIDE = 24*91 # every hour\n",
    "                   # 1 quarter = 91 days\n",
    "\n",
    "# --------------------------------------------------- #\n",
    "# Let's consider a train-test-split ratio of 2/3      #\n",
    "# --------------------------------------------------- #\n",
    "\n",
    "TRAIN_TEST_RATIO = 0.66"
   ]
  },
  {
   "cell_type": "markdown",
   "id": "03ae1354-43c7-468f-ae00-84e510239b67",
   "metadata": {},
   "source": [
    "And the input length"
   ]
  },
  {
   "cell_type": "code",
   "execution_count": 181,
   "id": "d408e4b1-9439-489f-b83d-2e399c6d6ee8",
   "metadata": {},
   "outputs": [],
   "source": [
    "INPUT_LENGTH = 24 * 7 # records every hour\n",
    "                      # one week"
   ]
  },
  {
   "cell_type": "markdown",
   "id": "c39cb88d-d937-490f-84e2-329939107244",
   "metadata": {
    "jp-MarkdownHeadingCollapsed": true,
    "tags": []
   },
   "source": [
    "### Getting the folds"
   ]
  },
  {
   "cell_type": "code",
   "execution_count": 172,
   "id": "1091cda2-dc3b-4576-9018-239f64d9889e",
   "metadata": {},
   "outputs": [],
   "source": [
    "def get_folds(\n",
    "    df: pd.DataFrame,\n",
    "    fold_length: int,\n",
    "    fold_stride: int) -> List[pd.DataFrame]:\n",
    "    \"\"\"    \n",
    "    This function slides through the Time Series dataframe of shape (n_timesteps, n_features) to create folds\n",
    "    - of equal `fold_length`\n",
    "    - using `fold_stride` between each fold\n",
    "\n",
    "    Args:\n",
    "        df (pd.DataFrame): Overall dataframe\n",
    "        fold_length (int): How long each fold should be in rows\n",
    "        fold_stride (int): How many timesteps to move forward between taking each fold\n",
    "\n",
    "    Returns:\n",
    "        List[pd.DataFrame]: A list where each fold is a dataframe within\n",
    "    \"\"\"\n",
    "    # $CHALLENGIFY_BEGIN\n",
    "    \n",
    "    folds = []\n",
    "    for idx in range(0, len(df), fold_stride):\n",
    "        # Exits the loop as soon as the last fold index would exceed the last index\n",
    "        if (idx + fold_length) > len(df):\n",
    "            break\n",
    "        fold = df.iloc[idx:idx + fold_length, :]\n",
    "        folds.append(fold)\n",
    "    return folds"
   ]
  },
  {
   "cell_type": "code",
   "execution_count": 173,
   "id": "ddfaa1d0-a65a-44d5-849b-ff375d06e7bd",
   "metadata": {},
   "outputs": [
    {
     "name": "stdout",
     "output_type": "stream",
     "text": [
      "The function generated 29 folds.\n",
      "Each fold has a shape equal to (26280, 33).\n"
     ]
    }
   ],
   "source": [
    "folds = get_folds(df, FOLD_LENGTH, FOLD_STRIDE)\n",
    "\n",
    "print(f'The function generated {len(folds)} folds.')\n",
    "print(f'Each fold has a shape equal to {folds[0].shape}.')"
   ]
  },
  {
   "cell_type": "code",
   "execution_count": 174,
   "id": "781b376b-4567-41b5-9b00-07d6173a3fec",
   "metadata": {},
   "outputs": [
    {
     "data": {
      "text/html": [
       "<div>\n",
       "<style scoped>\n",
       "    .dataframe tbody tr th:only-of-type {\n",
       "        vertical-align: middle;\n",
       "    }\n",
       "\n",
       "    .dataframe tbody tr th {\n",
       "        vertical-align: top;\n",
       "    }\n",
       "\n",
       "    .dataframe thead th {\n",
       "        text-align: right;\n",
       "    }\n",
       "</style>\n",
       "<table border=\"1\" class=\"dataframe\">\n",
       "  <thead>\n",
       "    <tr style=\"text-align: right;\">\n",
       "      <th></th>\n",
       "      <th>temperature_2m</th>\n",
       "      <th>relativehumidity_2m</th>\n",
       "      <th>dewpoint_2m</th>\n",
       "      <th>apparent_temperature</th>\n",
       "      <th>pressure_msl</th>\n",
       "      <th>surface_pressure</th>\n",
       "      <th>precipitation</th>\n",
       "      <th>rain</th>\n",
       "      <th>snowfall</th>\n",
       "      <th>cloudcover</th>\n",
       "      <th>cloudcover_low</th>\n",
       "      <th>cloudcover_mid</th>\n",
       "      <th>cloudcover_high</th>\n",
       "      <th>shortwave_radiation</th>\n",
       "      <th>direct_radiation</th>\n",
       "      <th>direct_normal_irradiance</th>\n",
       "      <th>diffuse_radiation</th>\n",
       "      <th>windspeed_10m</th>\n",
       "      <th>windspeed_100m</th>\n",
       "      <th>winddirection_10m</th>\n",
       "      <th>winddirection_100m</th>\n",
       "      <th>windgusts_10m</th>\n",
       "      <th>et0_fao_evapotranspiration</th>\n",
       "      <th>vapor_pressure_deficit</th>\n",
       "      <th>soil_temperature_0_to_7cm</th>\n",
       "      <th>soil_temperature_7_to_28cm</th>\n",
       "      <th>soil_temperature_28_to_100cm</th>\n",
       "      <th>soil_temperature_100_to_255cm</th>\n",
       "      <th>soil_moisture_0_to_7cm</th>\n",
       "      <th>soil_moisture_7_to_28cm</th>\n",
       "      <th>soil_moisture_28_to_100cm</th>\n",
       "      <th>soil_moisture_100_to_255cm</th>\n",
       "      <th>eolien</th>\n",
       "    </tr>\n",
       "    <tr>\n",
       "      <th>time</th>\n",
       "      <th></th>\n",
       "      <th></th>\n",
       "      <th></th>\n",
       "      <th></th>\n",
       "      <th></th>\n",
       "      <th></th>\n",
       "      <th></th>\n",
       "      <th></th>\n",
       "      <th></th>\n",
       "      <th></th>\n",
       "      <th></th>\n",
       "      <th></th>\n",
       "      <th></th>\n",
       "      <th></th>\n",
       "      <th></th>\n",
       "      <th></th>\n",
       "      <th></th>\n",
       "      <th></th>\n",
       "      <th></th>\n",
       "      <th></th>\n",
       "      <th></th>\n",
       "      <th></th>\n",
       "      <th></th>\n",
       "      <th></th>\n",
       "      <th></th>\n",
       "      <th></th>\n",
       "      <th></th>\n",
       "      <th></th>\n",
       "      <th></th>\n",
       "      <th></th>\n",
       "      <th></th>\n",
       "      <th></th>\n",
       "      <th></th>\n",
       "    </tr>\n",
       "  </thead>\n",
       "  <tbody>\n",
       "    <tr>\n",
       "      <th>2013-03-13 00:00:00</th>\n",
       "      <td>-2.421369</td>\n",
       "      <td>0.025938</td>\n",
       "      <td>-2.914182</td>\n",
       "      <td>-2.384180</td>\n",
       "      <td>-1.054767</td>\n",
       "      <td>-1.139810</td>\n",
       "      <td>-0.262839</td>\n",
       "      <td>-0.260893</td>\n",
       "      <td>-0.039484</td>\n",
       "      <td>-0.155325</td>\n",
       "      <td>-0.902583</td>\n",
       "      <td>0.703199</td>\n",
       "      <td>0.246731</td>\n",
       "      <td>-0.653208</td>\n",
       "      <td>-0.525716</td>\n",
       "      <td>-0.631120</td>\n",
       "      <td>-0.717029</td>\n",
       "      <td>0.793214</td>\n",
       "      <td>0.969348</td>\n",
       "      <td>-1.649471</td>\n",
       "      <td>-1.642269</td>\n",
       "      <td>0.621635</td>\n",
       "      <td>-0.609462</td>\n",
       "      <td>-0.647985</td>\n",
       "      <td>-1.651989</td>\n",
       "      <td>-1.732444</td>\n",
       "      <td>-1.446414</td>\n",
       "      <td>-1.715239</td>\n",
       "      <td>0.583833</td>\n",
       "      <td>0.745491</td>\n",
       "      <td>1.057895</td>\n",
       "      <td>1.276617</td>\n",
       "      <td>533.0</td>\n",
       "    </tr>\n",
       "    <tr>\n",
       "      <th>2013-03-13 01:00:00</th>\n",
       "      <td>-2.525290</td>\n",
       "      <td>0.025938</td>\n",
       "      <td>-3.027487</td>\n",
       "      <td>-2.421353</td>\n",
       "      <td>-1.044193</td>\n",
       "      <td>-1.129068</td>\n",
       "      <td>-0.262839</td>\n",
       "      <td>-0.260893</td>\n",
       "      <td>-0.039484</td>\n",
       "      <td>-0.861529</td>\n",
       "      <td>-0.980592</td>\n",
       "      <td>-0.101030</td>\n",
       "      <td>-0.291642</td>\n",
       "      <td>-0.653208</td>\n",
       "      <td>-0.525716</td>\n",
       "      <td>-0.631120</td>\n",
       "      <td>-0.717029</td>\n",
       "      <td>0.625955</td>\n",
       "      <td>0.871060</td>\n",
       "      <td>-1.639567</td>\n",
       "      <td>-1.622364</td>\n",
       "      <td>0.452294</td>\n",
       "      <td>-0.609462</td>\n",
       "      <td>-0.670159</td>\n",
       "      <td>-1.651989</td>\n",
       "      <td>-1.732444</td>\n",
       "      <td>-1.446414</td>\n",
       "      <td>-1.715239</td>\n",
       "      <td>0.570448</td>\n",
       "      <td>0.745491</td>\n",
       "      <td>1.057895</td>\n",
       "      <td>1.276617</td>\n",
       "      <td>451.0</td>\n",
       "    </tr>\n",
       "    <tr>\n",
       "      <th>2013-03-13 02:00:00</th>\n",
       "      <td>-2.629212</td>\n",
       "      <td>0.091235</td>\n",
       "      <td>-3.159676</td>\n",
       "      <td>-2.433744</td>\n",
       "      <td>-1.012471</td>\n",
       "      <td>-1.107584</td>\n",
       "      <td>-0.262839</td>\n",
       "      <td>-0.260893</td>\n",
       "      <td>-0.039484</td>\n",
       "      <td>-1.268954</td>\n",
       "      <td>-1.006595</td>\n",
       "      <td>-0.560590</td>\n",
       "      <td>-0.658715</td>\n",
       "      <td>-0.653208</td>\n",
       "      <td>-0.525716</td>\n",
       "      <td>-0.631120</td>\n",
       "      <td>-0.717029</td>\n",
       "      <td>0.200205</td>\n",
       "      <td>0.625341</td>\n",
       "      <td>-1.659375</td>\n",
       "      <td>-1.632316</td>\n",
       "      <td>0.229071</td>\n",
       "      <td>-0.609462</td>\n",
       "      <td>-0.670159</td>\n",
       "      <td>-1.651989</td>\n",
       "      <td>-1.732444</td>\n",
       "      <td>-1.446414</td>\n",
       "      <td>-1.715239</td>\n",
       "      <td>0.570448</td>\n",
       "      <td>0.745491</td>\n",
       "      <td>1.057895</td>\n",
       "      <td>1.276617</td>\n",
       "      <td>330.0</td>\n",
       "    </tr>\n",
       "    <tr>\n",
       "      <th>2013-03-13 03:00:00</th>\n",
       "      <td>-2.762825</td>\n",
       "      <td>0.091235</td>\n",
       "      <td>-3.291866</td>\n",
       "      <td>-2.557652</td>\n",
       "      <td>-0.970175</td>\n",
       "      <td>-1.064616</td>\n",
       "      <td>-0.262839</td>\n",
       "      <td>-0.260893</td>\n",
       "      <td>-0.039484</td>\n",
       "      <td>-1.486248</td>\n",
       "      <td>-1.006595</td>\n",
       "      <td>-0.847815</td>\n",
       "      <td>-0.854487</td>\n",
       "      <td>-0.653208</td>\n",
       "      <td>-0.525716</td>\n",
       "      <td>-0.631120</td>\n",
       "      <td>-0.717029</td>\n",
       "      <td>-0.164723</td>\n",
       "      <td>0.418936</td>\n",
       "      <td>-1.718801</td>\n",
       "      <td>-1.652222</td>\n",
       "      <td>-0.071125</td>\n",
       "      <td>-0.688026</td>\n",
       "      <td>-0.692333</td>\n",
       "      <td>-1.651989</td>\n",
       "      <td>-1.732444</td>\n",
       "      <td>-1.467968</td>\n",
       "      <td>-1.715239</td>\n",
       "      <td>0.570448</td>\n",
       "      <td>0.745491</td>\n",
       "      <td>1.057895</td>\n",
       "      <td>1.276617</td>\n",
       "      <td>267.0</td>\n",
       "    </tr>\n",
       "    <tr>\n",
       "      <th>2013-03-13 04:00:00</th>\n",
       "      <td>-2.896438</td>\n",
       "      <td>0.091235</td>\n",
       "      <td>-3.461824</td>\n",
       "      <td>-2.693952</td>\n",
       "      <td>-1.001897</td>\n",
       "      <td>-1.107584</td>\n",
       "      <td>-0.262839</td>\n",
       "      <td>-0.260893</td>\n",
       "      <td>-0.039484</td>\n",
       "      <td>-1.513409</td>\n",
       "      <td>-1.006595</td>\n",
       "      <td>-0.847815</td>\n",
       "      <td>-0.903430</td>\n",
       "      <td>-0.653208</td>\n",
       "      <td>-0.525716</td>\n",
       "      <td>-0.631120</td>\n",
       "      <td>-0.717029</td>\n",
       "      <td>-0.362392</td>\n",
       "      <td>0.261675</td>\n",
       "      <td>-1.778227</td>\n",
       "      <td>-1.701985</td>\n",
       "      <td>-0.379018</td>\n",
       "      <td>-0.688026</td>\n",
       "      <td>-0.692333</td>\n",
       "      <td>-1.651989</td>\n",
       "      <td>-1.732444</td>\n",
       "      <td>-1.467968</td>\n",
       "      <td>-1.715239</td>\n",
       "      <td>0.570448</td>\n",
       "      <td>0.745491</td>\n",
       "      <td>1.057895</td>\n",
       "      <td>1.276617</td>\n",
       "      <td>216.0</td>\n",
       "    </tr>\n",
       "    <tr>\n",
       "      <th>...</th>\n",
       "      <td>...</td>\n",
       "      <td>...</td>\n",
       "      <td>...</td>\n",
       "      <td>...</td>\n",
       "      <td>...</td>\n",
       "      <td>...</td>\n",
       "      <td>...</td>\n",
       "      <td>...</td>\n",
       "      <td>...</td>\n",
       "      <td>...</td>\n",
       "      <td>...</td>\n",
       "      <td>...</td>\n",
       "      <td>...</td>\n",
       "      <td>...</td>\n",
       "      <td>...</td>\n",
       "      <td>...</td>\n",
       "      <td>...</td>\n",
       "      <td>...</td>\n",
       "      <td>...</td>\n",
       "      <td>...</td>\n",
       "      <td>...</td>\n",
       "      <td>...</td>\n",
       "      <td>...</td>\n",
       "      <td>...</td>\n",
       "      <td>...</td>\n",
       "      <td>...</td>\n",
       "      <td>...</td>\n",
       "      <td>...</td>\n",
       "      <td>...</td>\n",
       "      <td>...</td>\n",
       "      <td>...</td>\n",
       "      <td>...</td>\n",
       "      <td>...</td>\n",
       "    </tr>\n",
       "    <tr>\n",
       "      <th>2016-03-11 19:00:00</th>\n",
       "      <td>-0.491398</td>\n",
       "      <td>-1.084120</td>\n",
       "      <td>-1.176835</td>\n",
       "      <td>-0.612285</td>\n",
       "      <td>0.964866</td>\n",
       "      <td>0.944142</td>\n",
       "      <td>-0.262839</td>\n",
       "      <td>-0.260893</td>\n",
       "      <td>-0.039484</td>\n",
       "      <td>0.333585</td>\n",
       "      <td>0.969646</td>\n",
       "      <td>-0.847815</td>\n",
       "      <td>-0.903430</td>\n",
       "      <td>-0.523462</td>\n",
       "      <td>-0.446881</td>\n",
       "      <td>-0.108237</td>\n",
       "      <td>-0.524654</td>\n",
       "      <td>-0.970606</td>\n",
       "      <td>-0.514800</td>\n",
       "      <td>-1.471193</td>\n",
       "      <td>-1.403405</td>\n",
       "      <td>-1.040990</td>\n",
       "      <td>-0.452334</td>\n",
       "      <td>0.061587</td>\n",
       "      <td>-0.624247</td>\n",
       "      <td>-0.847780</td>\n",
       "      <td>-1.338646</td>\n",
       "      <td>-1.233061</td>\n",
       "      <td>0.811368</td>\n",
       "      <td>1.084478</td>\n",
       "      <td>1.392371</td>\n",
       "      <td>1.058620</td>\n",
       "      <td>180.0</td>\n",
       "    </tr>\n",
       "    <tr>\n",
       "      <th>2016-03-11 20:00:00</th>\n",
       "      <td>-0.669549</td>\n",
       "      <td>-0.692335</td>\n",
       "      <td>-1.157950</td>\n",
       "      <td>-0.773366</td>\n",
       "      <td>1.038884</td>\n",
       "      <td>1.008594</td>\n",
       "      <td>-0.262839</td>\n",
       "      <td>-0.260893</td>\n",
       "      <td>-0.039484</td>\n",
       "      <td>0.034807</td>\n",
       "      <td>0.631604</td>\n",
       "      <td>-0.847815</td>\n",
       "      <td>-0.903430</td>\n",
       "      <td>-0.653208</td>\n",
       "      <td>-0.525716</td>\n",
       "      <td>-0.631120</td>\n",
       "      <td>-0.717029</td>\n",
       "      <td>-0.955401</td>\n",
       "      <td>-0.465656</td>\n",
       "      <td>-1.510810</td>\n",
       "      <td>-1.413357</td>\n",
       "      <td>-1.102568</td>\n",
       "      <td>-0.609462</td>\n",
       "      <td>-0.137980</td>\n",
       "      <td>-0.745157</td>\n",
       "      <td>-0.847780</td>\n",
       "      <td>-1.338646</td>\n",
       "      <td>-1.233061</td>\n",
       "      <td>0.811368</td>\n",
       "      <td>1.084478</td>\n",
       "      <td>1.377829</td>\n",
       "      <td>1.058620</td>\n",
       "      <td>259.0</td>\n",
       "    </tr>\n",
       "    <tr>\n",
       "      <th>2016-03-11 21:00:00</th>\n",
       "      <td>-0.818008</td>\n",
       "      <td>-0.431145</td>\n",
       "      <td>-1.157950</td>\n",
       "      <td>-0.860102</td>\n",
       "      <td>1.091754</td>\n",
       "      <td>1.062304</td>\n",
       "      <td>-0.262839</td>\n",
       "      <td>-0.260893</td>\n",
       "      <td>-0.039484</td>\n",
       "      <td>-0.046678</td>\n",
       "      <td>0.553595</td>\n",
       "      <td>-0.847815</td>\n",
       "      <td>-0.903430</td>\n",
       "      <td>-0.653208</td>\n",
       "      <td>-0.525716</td>\n",
       "      <td>-0.631120</td>\n",
       "      <td>-0.717029</td>\n",
       "      <td>-0.864169</td>\n",
       "      <td>-0.387025</td>\n",
       "      <td>-1.550428</td>\n",
       "      <td>-1.403405</td>\n",
       "      <td>-1.040990</td>\n",
       "      <td>-0.609462</td>\n",
       "      <td>-0.271025</td>\n",
       "      <td>-0.850954</td>\n",
       "      <td>-0.865126</td>\n",
       "      <td>-1.338646</td>\n",
       "      <td>-1.233061</td>\n",
       "      <td>0.811368</td>\n",
       "      <td>1.084478</td>\n",
       "      <td>1.377829</td>\n",
       "      <td>1.058620</td>\n",
       "      <td>261.0</td>\n",
       "    </tr>\n",
       "    <tr>\n",
       "      <th>2016-03-11 22:00:00</th>\n",
       "      <td>-0.892238</td>\n",
       "      <td>-0.235252</td>\n",
       "      <td>-1.157950</td>\n",
       "      <td>-0.959229</td>\n",
       "      <td>1.123476</td>\n",
       "      <td>1.094530</td>\n",
       "      <td>-0.262839</td>\n",
       "      <td>-0.260893</td>\n",
       "      <td>-0.039484</td>\n",
       "      <td>-0.128163</td>\n",
       "      <td>0.475585</td>\n",
       "      <td>-0.847815</td>\n",
       "      <td>-0.903430</td>\n",
       "      <td>-0.653208</td>\n",
       "      <td>-0.525716</td>\n",
       "      <td>-0.631120</td>\n",
       "      <td>-0.717029</td>\n",
       "      <td>-0.772937</td>\n",
       "      <td>-0.249422</td>\n",
       "      <td>-1.481097</td>\n",
       "      <td>-1.353641</td>\n",
       "      <td>-0.933227</td>\n",
       "      <td>-0.609462</td>\n",
       "      <td>-0.337547</td>\n",
       "      <td>-0.926524</td>\n",
       "      <td>-0.882472</td>\n",
       "      <td>-1.338646</td>\n",
       "      <td>-1.233061</td>\n",
       "      <td>0.811368</td>\n",
       "      <td>1.071440</td>\n",
       "      <td>1.377829</td>\n",
       "      <td>1.058620</td>\n",
       "      <td>282.0</td>\n",
       "    </tr>\n",
       "    <tr>\n",
       "      <th>2016-03-11 23:00:00</th>\n",
       "      <td>-0.907084</td>\n",
       "      <td>-0.235252</td>\n",
       "      <td>-1.176835</td>\n",
       "      <td>-0.946839</td>\n",
       "      <td>1.155198</td>\n",
       "      <td>1.126756</td>\n",
       "      <td>-0.262839</td>\n",
       "      <td>-0.260893</td>\n",
       "      <td>-0.039484</td>\n",
       "      <td>-0.345457</td>\n",
       "      <td>0.241557</td>\n",
       "      <td>-0.847815</td>\n",
       "      <td>-0.903430</td>\n",
       "      <td>-0.653208</td>\n",
       "      <td>-0.525716</td>\n",
       "      <td>-0.631120</td>\n",
       "      <td>-0.717029</td>\n",
       "      <td>-0.742526</td>\n",
       "      <td>-0.249422</td>\n",
       "      <td>-1.461289</td>\n",
       "      <td>-1.353641</td>\n",
       "      <td>-0.825464</td>\n",
       "      <td>-0.609462</td>\n",
       "      <td>-0.359721</td>\n",
       "      <td>-0.956751</td>\n",
       "      <td>-0.899819</td>\n",
       "      <td>-1.338646</td>\n",
       "      <td>-1.233061</td>\n",
       "      <td>0.811368</td>\n",
       "      <td>1.071440</td>\n",
       "      <td>1.377829</td>\n",
       "      <td>1.058620</td>\n",
       "      <td>311.0</td>\n",
       "    </tr>\n",
       "  </tbody>\n",
       "</table>\n",
       "<p>26280 rows × 33 columns</p>\n",
       "</div>"
      ],
      "text/plain": [
       "                     temperature_2m  relativehumidity_2m  dewpoint_2m  \\\n",
       "time                                                                    \n",
       "2013-03-13 00:00:00       -2.421369             0.025938    -2.914182   \n",
       "2013-03-13 01:00:00       -2.525290             0.025938    -3.027487   \n",
       "2013-03-13 02:00:00       -2.629212             0.091235    -3.159676   \n",
       "2013-03-13 03:00:00       -2.762825             0.091235    -3.291866   \n",
       "2013-03-13 04:00:00       -2.896438             0.091235    -3.461824   \n",
       "...                             ...                  ...          ...   \n",
       "2016-03-11 19:00:00       -0.491398            -1.084120    -1.176835   \n",
       "2016-03-11 20:00:00       -0.669549            -0.692335    -1.157950   \n",
       "2016-03-11 21:00:00       -0.818008            -0.431145    -1.157950   \n",
       "2016-03-11 22:00:00       -0.892238            -0.235252    -1.157950   \n",
       "2016-03-11 23:00:00       -0.907084            -0.235252    -1.176835   \n",
       "\n",
       "                     apparent_temperature  pressure_msl  surface_pressure  \\\n",
       "time                                                                        \n",
       "2013-03-13 00:00:00             -2.384180     -1.054767         -1.139810   \n",
       "2013-03-13 01:00:00             -2.421353     -1.044193         -1.129068   \n",
       "2013-03-13 02:00:00             -2.433744     -1.012471         -1.107584   \n",
       "2013-03-13 03:00:00             -2.557652     -0.970175         -1.064616   \n",
       "2013-03-13 04:00:00             -2.693952     -1.001897         -1.107584   \n",
       "...                                   ...           ...               ...   \n",
       "2016-03-11 19:00:00             -0.612285      0.964866          0.944142   \n",
       "2016-03-11 20:00:00             -0.773366      1.038884          1.008594   \n",
       "2016-03-11 21:00:00             -0.860102      1.091754          1.062304   \n",
       "2016-03-11 22:00:00             -0.959229      1.123476          1.094530   \n",
       "2016-03-11 23:00:00             -0.946839      1.155198          1.126756   \n",
       "\n",
       "                     precipitation      rain  snowfall  cloudcover  \\\n",
       "time                                                                 \n",
       "2013-03-13 00:00:00      -0.262839 -0.260893 -0.039484   -0.155325   \n",
       "2013-03-13 01:00:00      -0.262839 -0.260893 -0.039484   -0.861529   \n",
       "2013-03-13 02:00:00      -0.262839 -0.260893 -0.039484   -1.268954   \n",
       "2013-03-13 03:00:00      -0.262839 -0.260893 -0.039484   -1.486248   \n",
       "2013-03-13 04:00:00      -0.262839 -0.260893 -0.039484   -1.513409   \n",
       "...                            ...       ...       ...         ...   \n",
       "2016-03-11 19:00:00      -0.262839 -0.260893 -0.039484    0.333585   \n",
       "2016-03-11 20:00:00      -0.262839 -0.260893 -0.039484    0.034807   \n",
       "2016-03-11 21:00:00      -0.262839 -0.260893 -0.039484   -0.046678   \n",
       "2016-03-11 22:00:00      -0.262839 -0.260893 -0.039484   -0.128163   \n",
       "2016-03-11 23:00:00      -0.262839 -0.260893 -0.039484   -0.345457   \n",
       "\n",
       "                     cloudcover_low  cloudcover_mid  cloudcover_high  \\\n",
       "time                                                                   \n",
       "2013-03-13 00:00:00       -0.902583        0.703199         0.246731   \n",
       "2013-03-13 01:00:00       -0.980592       -0.101030        -0.291642   \n",
       "2013-03-13 02:00:00       -1.006595       -0.560590        -0.658715   \n",
       "2013-03-13 03:00:00       -1.006595       -0.847815        -0.854487   \n",
       "2013-03-13 04:00:00       -1.006595       -0.847815        -0.903430   \n",
       "...                             ...             ...              ...   \n",
       "2016-03-11 19:00:00        0.969646       -0.847815        -0.903430   \n",
       "2016-03-11 20:00:00        0.631604       -0.847815        -0.903430   \n",
       "2016-03-11 21:00:00        0.553595       -0.847815        -0.903430   \n",
       "2016-03-11 22:00:00        0.475585       -0.847815        -0.903430   \n",
       "2016-03-11 23:00:00        0.241557       -0.847815        -0.903430   \n",
       "\n",
       "                     shortwave_radiation  direct_radiation  \\\n",
       "time                                                         \n",
       "2013-03-13 00:00:00            -0.653208         -0.525716   \n",
       "2013-03-13 01:00:00            -0.653208         -0.525716   \n",
       "2013-03-13 02:00:00            -0.653208         -0.525716   \n",
       "2013-03-13 03:00:00            -0.653208         -0.525716   \n",
       "2013-03-13 04:00:00            -0.653208         -0.525716   \n",
       "...                                  ...               ...   \n",
       "2016-03-11 19:00:00            -0.523462         -0.446881   \n",
       "2016-03-11 20:00:00            -0.653208         -0.525716   \n",
       "2016-03-11 21:00:00            -0.653208         -0.525716   \n",
       "2016-03-11 22:00:00            -0.653208         -0.525716   \n",
       "2016-03-11 23:00:00            -0.653208         -0.525716   \n",
       "\n",
       "                     direct_normal_irradiance  diffuse_radiation  \\\n",
       "time                                                               \n",
       "2013-03-13 00:00:00                 -0.631120          -0.717029   \n",
       "2013-03-13 01:00:00                 -0.631120          -0.717029   \n",
       "2013-03-13 02:00:00                 -0.631120          -0.717029   \n",
       "2013-03-13 03:00:00                 -0.631120          -0.717029   \n",
       "2013-03-13 04:00:00                 -0.631120          -0.717029   \n",
       "...                                       ...                ...   \n",
       "2016-03-11 19:00:00                 -0.108237          -0.524654   \n",
       "2016-03-11 20:00:00                 -0.631120          -0.717029   \n",
       "2016-03-11 21:00:00                 -0.631120          -0.717029   \n",
       "2016-03-11 22:00:00                 -0.631120          -0.717029   \n",
       "2016-03-11 23:00:00                 -0.631120          -0.717029   \n",
       "\n",
       "                     windspeed_10m  windspeed_100m  winddirection_10m  \\\n",
       "time                                                                    \n",
       "2013-03-13 00:00:00       0.793214        0.969348          -1.649471   \n",
       "2013-03-13 01:00:00       0.625955        0.871060          -1.639567   \n",
       "2013-03-13 02:00:00       0.200205        0.625341          -1.659375   \n",
       "2013-03-13 03:00:00      -0.164723        0.418936          -1.718801   \n",
       "2013-03-13 04:00:00      -0.362392        0.261675          -1.778227   \n",
       "...                            ...             ...                ...   \n",
       "2016-03-11 19:00:00      -0.970606       -0.514800          -1.471193   \n",
       "2016-03-11 20:00:00      -0.955401       -0.465656          -1.510810   \n",
       "2016-03-11 21:00:00      -0.864169       -0.387025          -1.550428   \n",
       "2016-03-11 22:00:00      -0.772937       -0.249422          -1.481097   \n",
       "2016-03-11 23:00:00      -0.742526       -0.249422          -1.461289   \n",
       "\n",
       "                     winddirection_100m  windgusts_10m  \\\n",
       "time                                                     \n",
       "2013-03-13 00:00:00           -1.642269       0.621635   \n",
       "2013-03-13 01:00:00           -1.622364       0.452294   \n",
       "2013-03-13 02:00:00           -1.632316       0.229071   \n",
       "2013-03-13 03:00:00           -1.652222      -0.071125   \n",
       "2013-03-13 04:00:00           -1.701985      -0.379018   \n",
       "...                                 ...            ...   \n",
       "2016-03-11 19:00:00           -1.403405      -1.040990   \n",
       "2016-03-11 20:00:00           -1.413357      -1.102568   \n",
       "2016-03-11 21:00:00           -1.403405      -1.040990   \n",
       "2016-03-11 22:00:00           -1.353641      -0.933227   \n",
       "2016-03-11 23:00:00           -1.353641      -0.825464   \n",
       "\n",
       "                     et0_fao_evapotranspiration  vapor_pressure_deficit  \\\n",
       "time                                                                      \n",
       "2013-03-13 00:00:00                   -0.609462               -0.647985   \n",
       "2013-03-13 01:00:00                   -0.609462               -0.670159   \n",
       "2013-03-13 02:00:00                   -0.609462               -0.670159   \n",
       "2013-03-13 03:00:00                   -0.688026               -0.692333   \n",
       "2013-03-13 04:00:00                   -0.688026               -0.692333   \n",
       "...                                         ...                     ...   \n",
       "2016-03-11 19:00:00                   -0.452334                0.061587   \n",
       "2016-03-11 20:00:00                   -0.609462               -0.137980   \n",
       "2016-03-11 21:00:00                   -0.609462               -0.271025   \n",
       "2016-03-11 22:00:00                   -0.609462               -0.337547   \n",
       "2016-03-11 23:00:00                   -0.609462               -0.359721   \n",
       "\n",
       "                     soil_temperature_0_to_7cm  soil_temperature_7_to_28cm  \\\n",
       "time                                                                         \n",
       "2013-03-13 00:00:00                  -1.651989                   -1.732444   \n",
       "2013-03-13 01:00:00                  -1.651989                   -1.732444   \n",
       "2013-03-13 02:00:00                  -1.651989                   -1.732444   \n",
       "2013-03-13 03:00:00                  -1.651989                   -1.732444   \n",
       "2013-03-13 04:00:00                  -1.651989                   -1.732444   \n",
       "...                                        ...                         ...   \n",
       "2016-03-11 19:00:00                  -0.624247                   -0.847780   \n",
       "2016-03-11 20:00:00                  -0.745157                   -0.847780   \n",
       "2016-03-11 21:00:00                  -0.850954                   -0.865126   \n",
       "2016-03-11 22:00:00                  -0.926524                   -0.882472   \n",
       "2016-03-11 23:00:00                  -0.956751                   -0.899819   \n",
       "\n",
       "                     soil_temperature_28_to_100cm  \\\n",
       "time                                                \n",
       "2013-03-13 00:00:00                     -1.446414   \n",
       "2013-03-13 01:00:00                     -1.446414   \n",
       "2013-03-13 02:00:00                     -1.446414   \n",
       "2013-03-13 03:00:00                     -1.467968   \n",
       "2013-03-13 04:00:00                     -1.467968   \n",
       "...                                           ...   \n",
       "2016-03-11 19:00:00                     -1.338646   \n",
       "2016-03-11 20:00:00                     -1.338646   \n",
       "2016-03-11 21:00:00                     -1.338646   \n",
       "2016-03-11 22:00:00                     -1.338646   \n",
       "2016-03-11 23:00:00                     -1.338646   \n",
       "\n",
       "                     soil_temperature_100_to_255cm  soil_moisture_0_to_7cm  \\\n",
       "time                                                                         \n",
       "2013-03-13 00:00:00                      -1.715239                0.583833   \n",
       "2013-03-13 01:00:00                      -1.715239                0.570448   \n",
       "2013-03-13 02:00:00                      -1.715239                0.570448   \n",
       "2013-03-13 03:00:00                      -1.715239                0.570448   \n",
       "2013-03-13 04:00:00                      -1.715239                0.570448   \n",
       "...                                            ...                     ...   \n",
       "2016-03-11 19:00:00                      -1.233061                0.811368   \n",
       "2016-03-11 20:00:00                      -1.233061                0.811368   \n",
       "2016-03-11 21:00:00                      -1.233061                0.811368   \n",
       "2016-03-11 22:00:00                      -1.233061                0.811368   \n",
       "2016-03-11 23:00:00                      -1.233061                0.811368   \n",
       "\n",
       "                     soil_moisture_7_to_28cm  soil_moisture_28_to_100cm  \\\n",
       "time                                                                      \n",
       "2013-03-13 00:00:00                 0.745491                   1.057895   \n",
       "2013-03-13 01:00:00                 0.745491                   1.057895   \n",
       "2013-03-13 02:00:00                 0.745491                   1.057895   \n",
       "2013-03-13 03:00:00                 0.745491                   1.057895   \n",
       "2013-03-13 04:00:00                 0.745491                   1.057895   \n",
       "...                                      ...                        ...   \n",
       "2016-03-11 19:00:00                 1.084478                   1.392371   \n",
       "2016-03-11 20:00:00                 1.084478                   1.377829   \n",
       "2016-03-11 21:00:00                 1.084478                   1.377829   \n",
       "2016-03-11 22:00:00                 1.071440                   1.377829   \n",
       "2016-03-11 23:00:00                 1.071440                   1.377829   \n",
       "\n",
       "                     soil_moisture_100_to_255cm  eolien  \n",
       "time                                                     \n",
       "2013-03-13 00:00:00                    1.276617   533.0  \n",
       "2013-03-13 01:00:00                    1.276617   451.0  \n",
       "2013-03-13 02:00:00                    1.276617   330.0  \n",
       "2013-03-13 03:00:00                    1.276617   267.0  \n",
       "2013-03-13 04:00:00                    1.276617   216.0  \n",
       "...                                         ...     ...  \n",
       "2016-03-11 19:00:00                    1.058620   180.0  \n",
       "2016-03-11 20:00:00                    1.058620   259.0  \n",
       "2016-03-11 21:00:00                    1.058620   261.0  \n",
       "2016-03-11 22:00:00                    1.058620   282.0  \n",
       "2016-03-11 23:00:00                    1.058620   311.0  \n",
       "\n",
       "[26280 rows x 33 columns]"
      ]
     },
     "execution_count": 174,
     "metadata": {},
     "output_type": "execute_result"
    }
   ],
   "source": [
    "fold = folds[0]\n",
    "fold"
   ]
  },
  {
   "cell_type": "markdown",
   "id": "0065bf54-cb08-4dea-a20f-0ac8f4295846",
   "metadata": {
    "tags": []
   },
   "source": [
    "### Spliting the train and test samples"
   ]
  },
  {
   "cell_type": "code",
   "execution_count": 182,
   "id": "e56b2f22-40ea-485a-bf1f-8eb0137392b0",
   "metadata": {},
   "outputs": [],
   "source": [
    "def train_test_split(fold:pd.DataFrame,\n",
    "                     train_test_ratio: float,\n",
    "                     input_length: int) -> Tuple[pd.DataFrame]:\n",
    "    \"\"\"From a fold dataframe, take a train dataframe and test dataframe based on \n",
    "    the split ratio.\n",
    "    - df_train should contain all the timesteps until round(train_test_ratio * len(fold))\n",
    "    - df_test should contain all the timesteps needed to create all (X_test, y_test) tuples\n",
    "\n",
    "    Args:\n",
    "        fold (pd.DataFrame): A fold of timesteps\n",
    "        train_test_ratio (float): The ratio between train and test 0-1\n",
    "        input_length (int): How long each X_i will be\n",
    "\n",
    "    Returns:\n",
    "        Tuple[pd.DataFrame]: A tuple of two dataframes (fold_train, fold_test)\n",
    "    \"\"\"\n",
    "    # $CHALLENGIFY_BEGIN\n",
    "    \n",
    "    # TRAIN SET\n",
    "    # ======================\n",
    "    last_train_idx = round(train_test_ratio * len(fold))\n",
    "    fold_train = fold.iloc[0:last_train_idx, :]\n",
    "\n",
    "    # TEST SET\n",
    "    # ======================    \n",
    "    first_test_idx = last_train_idx - input_length\n",
    "    fold_test = fold.iloc[first_test_idx:, :]\n",
    "\n",
    "    return (fold_train, fold_test)"
   ]
  },
  {
   "cell_type": "code",
   "execution_count": 183,
   "id": "c393d611-8e0a-4f17-ac22-aed986874310",
   "metadata": {},
   "outputs": [],
   "source": [
    "(fold_train, fold_test) = train_test_split(fold, TRAIN_TEST_RATIO, INPUT_LENGTH)"
   ]
  },
  {
   "cell_type": "code",
   "execution_count": 184,
   "id": "24b5a6c6-de42-4f4e-b105-9158ab0d7a32",
   "metadata": {},
   "outputs": [
    {
     "name": "stdout",
     "output_type": "stream",
     "text": [
      "N_FEATURES = 32\n",
      "INPUT_LENGTH = 168 timesteps = 7 days = 1 weeks\n"
     ]
    }
   ],
   "source": [
    "# INPUT X\n",
    "print(f'N_FEATURES = {N_FEATURES}')\n",
    "print(f'INPUT_LENGTH = {INPUT_LENGTH} timesteps = {int(INPUT_LENGTH/24)} days = {int(INPUT_LENGTH/24/7)} weeks')"
   ]
  },
  {
   "cell_type": "code",
   "execution_count": 185,
   "id": "f9a70229-8364-41c3-b22a-576537cc510b",
   "metadata": {},
   "outputs": [
    {
     "name": "stdout",
     "output_type": "stream",
     "text": [
      "N_TARGETS = 1\n",
      "OUTPUT_LENGTH = 1\n"
     ]
    }
   ],
   "source": [
    "# TARGET Y\n",
    "print(f'N_TARGETS = {N_TARGETS}')\n",
    "\n",
    "# Let's only predict 1 value ahead of us\n",
    "OUTPUT_LENGTH = 1\n",
    "print(f'OUTPUT_LENGTH = {OUTPUT_LENGTH}')"
   ]
  },
  {
   "cell_type": "markdown",
   "id": "8cc965a9-4693-40a8-914a-ba36816a04cd",
   "metadata": {},
   "source": [
    "### Getting sequences"
   ]
  },
  {
   "cell_type": "markdown",
   "id": "3180b9ad-0555-4584-a01d-68039e72180a",
   "metadata": {},
   "source": [
    "#### Random based"
   ]
  },
  {
   "cell_type": "code",
   "execution_count": 139,
   "id": "9c39e708-f622-4b7f-9b3a-0569b2e6eca8",
   "metadata": {},
   "outputs": [],
   "source": [
    "def get_Xi_yi(\n",
    "    fold:pd.DataFrame, \n",
    "    input_length:int, \n",
    "    output_length:int) -> Tuple[pd.DataFrame]:\n",
    "    \"\"\"given a fold, it returns one sequence (X_i, y_i) as based on the desired \n",
    "    input_length and output_length with the starting point of the sequence being chosen at random based\n",
    "\n",
    "    Args:\n",
    "        fold (pd.DataFrame): A single fold\n",
    "        input_length (int): How long each X_i should be \n",
    "        output_length (int): How long each y_i should be\n",
    "\n",
    "    Returns:\n",
    "        Tuple[pd.DataFrame]: A tuple of two dataframes (X_i, y_i)\n",
    "    \"\"\"\n",
    "    # $CHALLENGIFY_BEGIN\n",
    "    first_possible_start = 0\n",
    "    last_possible_start = len(fold) - (input_length + output_length) + 1\n",
    "    random_start = np.random.randint(first_possible_start, last_possible_start)\n",
    "    X_i = fold.iloc[random_start:random_start+input_length]    \n",
    "    y_i = fold.iloc[random_start+input_length:\n",
    "                  random_start+input_length+output_length][[TARGET]]\n",
    "    \n",
    "    return (X_i, y_i)"
   ]
  },
  {
   "cell_type": "code",
   "execution_count": 140,
   "id": "bc60b641-8a48-4197-82e4-752aa62f3373",
   "metadata": {},
   "outputs": [],
   "source": [
    "X_train_i, y_train_i = get_Xi_yi(fold_train, INPUT_LENGTH, OUTPUT_LENGTH)\n",
    "X_test_i, y_test_i = get_Xi_yi(fold_test, INPUT_LENGTH, OUTPUT_LENGTH)"
   ]
  },
  {
   "cell_type": "code",
   "execution_count": 141,
   "id": "099f8897-a919-424f-bb73-2814e5a3216a",
   "metadata": {},
   "outputs": [],
   "source": [
    "X_last, y_last = get_Xi_yi(fold_test, input_length=len(fold_test)-1, output_length=OUTPUT_LENGTH)\n",
    "assert y_last.values == fold_test.iloc[-1,:][TARGET]"
   ]
  },
  {
   "cell_type": "markdown",
   "id": "ea52f656-bdc1-4d0e-a516-759412ccbe65",
   "metadata": {},
   "source": [
    "#### Not random "
   ]
  },
  {
   "cell_type": "code",
   "execution_count": 142,
   "id": "a1269cc6-1f47-4a40-b21c-0a94dd2944ef",
   "metadata": {},
   "outputs": [],
   "source": [
    "def get_X_y(\n",
    "    fold:pd.DataFrame,\n",
    "    number_of_sequences:int,\n",
    "    input_length:int,\n",
    "    output_length:int) -> Tuple[np.array]:\n",
    "    \"\"\"Given a fold generate X and y based on the number of desired sequences \n",
    "    of the given input_length and output_length\n",
    "\n",
    "    Args:\n",
    "        fold (pd.DataFrame): Fold dataframe\n",
    "        number_of_sequences (int): The number of X_i and y_i pairs to include\n",
    "        input_length (int): Length of each X_i\n",
    "        output_length (int): Length of each y_i\n",
    "\n",
    "    Returns:\n",
    "        Tuple[np.array]: A tuple of numpy arrays (X, y)\n",
    "    \"\"\"\n",
    "    # $CHALLENGIFY_BEGIN    \n",
    "    X, y = [], []\n",
    "\n",
    "    for i in range(number_of_sequences):\n",
    "        (Xi, yi) = get_Xi_yi(fold, input_length, output_length)\n",
    "        X.append(Xi)\n",
    "        y.append(yi)\n",
    "        \n",
    "    return np.array(X), np.array(y)"
   ]
  },
  {
   "cell_type": "code",
   "execution_count": 143,
   "id": "1de53029-b045-4aaf-83d1-f3a6480b665f",
   "metadata": {},
   "outputs": [],
   "source": [
    "N_TRAIN = 6666 # number_of_sequences_train\n",
    "N_TEST =  3333 # number_of_sequences_test\n",
    "\n",
    "X_train, y_train = get_X_y(fold_train, N_TRAIN, INPUT_LENGTH, OUTPUT_LENGTH)\n",
    "X_test, y_test = get_X_y(fold_test, N_TEST, INPUT_LENGTH, OUTPUT_LENGTH)"
   ]
  },
  {
   "cell_type": "code",
   "execution_count": 107,
   "id": "a839eb41-12f6-433e-94cc-b75caea7b9d7",
   "metadata": {},
   "outputs": [],
   "source": [
    "SEQUENCE_STRIDE = 1"
   ]
  },
  {
   "cell_type": "code",
   "execution_count": 144,
   "id": "df740938-5dc3-40c7-b480-7166735c73bb",
   "metadata": {},
   "outputs": [],
   "source": [
    "from tensorflow.keras import models\n",
    "from tensorflow.keras import layers\n",
    "from tensorflow.keras import optimizers, metrics\n",
    "from tensorflow.keras.regularizers import L1L2\n",
    "from tensorflow.keras.layers.experimental.preprocessing import Normalization"
   ]
  },
  {
   "cell_type": "code",
   "execution_count": 163,
   "id": "1e4d4990-19f5-4558-989b-303a1fb9d3f8",
   "metadata": {},
   "outputs": [],
   "source": [
    "def init_model(X_train, y_train):\n",
    "    \n",
    "    # $CHALLENGIFY_BEGIN    \n",
    "    \n",
    "    # 0 - Normalization\n",
    "    # ======================    \n",
    "    normalizer = Normalization()\n",
    "    normalizer.adapt(X_train)\n",
    "    \n",
    "    # 1 - RNN architecture\n",
    "    # ======================    \n",
    "    model = models.Sequential()\n",
    "    ## 1.0 - All the rows will be standardized through the already adapted normalization layer\n",
    "    model.add(normalizer)\n",
    "    ## 1.1 - Recurrent Layer\n",
    "    model.add(layers.LSTM(64, \n",
    "                          activation='tanh', \n",
    "                          return_sequences = False,\n",
    "                          kernel_regularizer=L1L2(l1=0.05, l2=0.05),\n",
    "                          ))\n",
    "    ## 1.2 - Predictive Dense Layers\n",
    "    output_length = y_train.shape[1]\n",
    "    model.add(layers.Dense(output_length, activation='linear'))\n",
    "\n",
    "    # 2 - Compiler\n",
    "    # ======================    \n",
    "    adam = optimizers.Adam(learning_rate=0.02)    \n",
    "    model.compile(loss='mse', optimizer=adam, metrics=[\"mae\"])\n",
    "    \n",
    "    return model\n",
    "    # $CHALLENGIFY_END"
   ]
  },
  {
   "cell_type": "code",
   "execution_count": 164,
   "id": "e9edb20b-fe5d-4362-ba73-0821c31f6414",
   "metadata": {},
   "outputs": [
    {
     "name": "stdout",
     "output_type": "stream",
     "text": [
      "Model: \"sequential_26\"\n",
      "_________________________________________________________________\n",
      " Layer (type)                Output Shape              Param #   \n",
      "=================================================================\n",
      " normalization_9 (Normalizat  (None, None, 33)         67        \n",
      " ion)                                                            \n",
      "                                                                 \n",
      " lstm_9 (LSTM)               (None, 64)                25088     \n",
      "                                                                 \n",
      " dense_13 (Dense)            (None, 1)                 65        \n",
      "                                                                 \n",
      "=================================================================\n",
      "Total params: 25,220\n",
      "Trainable params: 25,153\n",
      "Non-trainable params: 67\n",
      "_________________________________________________________________\n"
     ]
    }
   ],
   "source": [
    "model = init_model(X_train, y_train)\n",
    "model.summary()"
   ]
  },
  {
   "cell_type": "code",
   "execution_count": 165,
   "id": "b6175985-74ed-4d7b-9cb2-4be1ffc0616c",
   "metadata": {},
   "outputs": [],
   "source": [
    "from tensorflow import keras\n",
    "from keras.callbacks import EarlyStopping\n",
    "\n",
    "def fit_model(model: tf.keras.Model, verbose=1) -> Tuple[tf.keras.Model, dict]:\n",
    "\n",
    "    # $CHALLENGIFY_BEGIN\n",
    "    es = EarlyStopping(monitor = \"val_loss\",\n",
    "                      patience = 3,\n",
    "                      mode = \"min\",\n",
    "                      restore_best_weights = True)\n",
    "\n",
    "\n",
    "    history = model.fit(X_train, y_train,\n",
    "                        validation_split = 0.3,\n",
    "                        shuffle = False,\n",
    "                        batch_size = 32,\n",
    "                        epochs = 50,\n",
    "                        callbacks = [es],\n",
    "                        verbose = verbose)\n",
    "\n",
    "    return model, history"
   ]
  },
  {
   "cell_type": "code",
   "execution_count": 166,
   "id": "ae6d5513-bd64-4ea3-b9f2-22f69eca7235",
   "metadata": {},
   "outputs": [],
   "source": [
    "def plot_history(history):\n",
    "    \n",
    "    fig, ax = plt.subplots(1,2, figsize=(20,7))\n",
    "    # --- LOSS: MSE --- \n",
    "    ax[0].plot(history.history['loss'])\n",
    "    ax[0].plot(history.history['val_loss'])\n",
    "    ax[0].set_title('MSE')\n",
    "    ax[0].set_ylabel('Loss')\n",
    "    ax[0].set_xlabel('Epoch')\n",
    "    ax[0].legend(['Train', 'Validation'], loc='best')\n",
    "    ax[0].grid(axis=\"x\",linewidth=0.5)\n",
    "    ax[0].grid(axis=\"y\",linewidth=0.5)\n",
    "    \n",
    "    # --- METRICS:MAE ---\n",
    "    \n",
    "    ax[1].plot(history.history['mae'])\n",
    "    ax[1].plot(history.history['val_mae'])\n",
    "    ax[1].set_title('MAE')\n",
    "    ax[1].set_ylabel('MAE')\n",
    "    ax[1].set_xlabel('Epoch')\n",
    "    ax[1].legend(['Train', 'Validation'], loc='best')\n",
    "    ax[1].grid(axis=\"x\",linewidth=0.5)\n",
    "    ax[1].grid(axis=\"y\",linewidth=0.5)\n",
    "                        \n",
    "    return ax"
   ]
  },
  {
   "cell_type": "code",
   "execution_count": 167,
   "id": "c9d0790a-5505-4280-96d5-7f623846da25",
   "metadata": {},
   "outputs": [
    {
     "name": "stdout",
     "output_type": "stream",
     "text": [
      "Model: \"sequential_27\"\n",
      "_________________________________________________________________\n",
      " Layer (type)                Output Shape              Param #   \n",
      "=================================================================\n",
      " normalization_10 (Normaliza  (None, None, 33)         67        \n",
      " tion)                                                           \n",
      "                                                                 \n",
      " lstm_10 (LSTM)              (None, 64)                25088     \n",
      "                                                                 \n",
      " dense_14 (Dense)            (None, 1)                 65        \n",
      "                                                                 \n",
      "=================================================================\n",
      "Total params: 25,220\n",
      "Trainable params: 25,153\n",
      "Non-trainable params: 67\n",
      "_________________________________________________________________\n",
      "Epoch 1/50\n",
      " 45/146 [========>.....................] - ETA: 14s - loss: 321505.5625 - mae: 387.8690"
     ]
    },
    {
     "ename": "KeyboardInterrupt",
     "evalue": "",
     "output_type": "error",
     "traceback": [
      "\u001b[0;31m---------------------------------------------------------------------------\u001b[0m",
      "\u001b[0;31mKeyboardInterrupt\u001b[0m                         Traceback (most recent call last)",
      "\u001b[0;32m/var/tmp/ipykernel_16080/3813871808.py\u001b[0m in \u001b[0;36m<module>\u001b[0;34m\u001b[0m\n\u001b[1;32m      7\u001b[0m \u001b[0;31m# 2 - Training\u001b[0m\u001b[0;34m\u001b[0m\u001b[0;34m\u001b[0m\u001b[0;34m\u001b[0m\u001b[0m\n\u001b[1;32m      8\u001b[0m \u001b[0;31m# ====================================\u001b[0m\u001b[0;34m\u001b[0m\u001b[0;34m\u001b[0m\u001b[0;34m\u001b[0m\u001b[0m\n\u001b[0;32m----> 9\u001b[0;31m \u001b[0mmodel\u001b[0m\u001b[0;34m,\u001b[0m \u001b[0mhistory\u001b[0m \u001b[0;34m=\u001b[0m \u001b[0mfit_model\u001b[0m\u001b[0;34m(\u001b[0m\u001b[0mmodel\u001b[0m\u001b[0;34m)\u001b[0m\u001b[0;34m\u001b[0m\u001b[0;34m\u001b[0m\u001b[0m\n\u001b[0m",
      "\u001b[0;32m/var/tmp/ipykernel_16080/2945999626.py\u001b[0m in \u001b[0;36mfit_model\u001b[0;34m(model, verbose)\u001b[0m\n\u001b[1;32m     17\u001b[0m                         \u001b[0mepochs\u001b[0m \u001b[0;34m=\u001b[0m \u001b[0;36m50\u001b[0m\u001b[0;34m,\u001b[0m\u001b[0;34m\u001b[0m\u001b[0;34m\u001b[0m\u001b[0m\n\u001b[1;32m     18\u001b[0m                         \u001b[0mcallbacks\u001b[0m \u001b[0;34m=\u001b[0m \u001b[0;34m[\u001b[0m\u001b[0mes\u001b[0m\u001b[0;34m]\u001b[0m\u001b[0;34m,\u001b[0m\u001b[0;34m\u001b[0m\u001b[0;34m\u001b[0m\u001b[0m\n\u001b[0;32m---> 19\u001b[0;31m                         verbose = verbose)\n\u001b[0m\u001b[1;32m     20\u001b[0m \u001b[0;34m\u001b[0m\u001b[0m\n\u001b[1;32m     21\u001b[0m     \u001b[0;32mreturn\u001b[0m \u001b[0mmodel\u001b[0m\u001b[0;34m,\u001b[0m \u001b[0mhistory\u001b[0m\u001b[0;34m\u001b[0m\u001b[0;34m\u001b[0m\u001b[0m\n",
      "\u001b[0;32m/opt/conda/lib/python3.7/site-packages/keras/utils/traceback_utils.py\u001b[0m in \u001b[0;36merror_handler\u001b[0;34m(*args, **kwargs)\u001b[0m\n\u001b[1;32m     63\u001b[0m         \u001b[0mfiltered_tb\u001b[0m \u001b[0;34m=\u001b[0m \u001b[0;32mNone\u001b[0m\u001b[0;34m\u001b[0m\u001b[0;34m\u001b[0m\u001b[0m\n\u001b[1;32m     64\u001b[0m         \u001b[0;32mtry\u001b[0m\u001b[0;34m:\u001b[0m\u001b[0;34m\u001b[0m\u001b[0;34m\u001b[0m\u001b[0m\n\u001b[0;32m---> 65\u001b[0;31m             \u001b[0;32mreturn\u001b[0m \u001b[0mfn\u001b[0m\u001b[0;34m(\u001b[0m\u001b[0;34m*\u001b[0m\u001b[0margs\u001b[0m\u001b[0;34m,\u001b[0m \u001b[0;34m**\u001b[0m\u001b[0mkwargs\u001b[0m\u001b[0;34m)\u001b[0m\u001b[0;34m\u001b[0m\u001b[0;34m\u001b[0m\u001b[0m\n\u001b[0m\u001b[1;32m     66\u001b[0m         \u001b[0;32mexcept\u001b[0m \u001b[0mException\u001b[0m \u001b[0;32mas\u001b[0m \u001b[0me\u001b[0m\u001b[0;34m:\u001b[0m\u001b[0;34m\u001b[0m\u001b[0;34m\u001b[0m\u001b[0m\n\u001b[1;32m     67\u001b[0m             \u001b[0mfiltered_tb\u001b[0m \u001b[0;34m=\u001b[0m \u001b[0m_process_traceback_frames\u001b[0m\u001b[0;34m(\u001b[0m\u001b[0me\u001b[0m\u001b[0;34m.\u001b[0m\u001b[0m__traceback__\u001b[0m\u001b[0;34m)\u001b[0m\u001b[0;34m\u001b[0m\u001b[0;34m\u001b[0m\u001b[0m\n",
      "\u001b[0;32m/opt/conda/lib/python3.7/site-packages/keras/engine/training.py\u001b[0m in \u001b[0;36mfit\u001b[0;34m(self, x, y, batch_size, epochs, verbose, callbacks, validation_split, validation_data, shuffle, class_weight, sample_weight, initial_epoch, steps_per_epoch, validation_steps, validation_batch_size, validation_freq, max_queue_size, workers, use_multiprocessing)\u001b[0m\n\u001b[1;32m   1648\u001b[0m                         ):\n\u001b[1;32m   1649\u001b[0m                             \u001b[0mcallbacks\u001b[0m\u001b[0;34m.\u001b[0m\u001b[0mon_train_batch_begin\u001b[0m\u001b[0;34m(\u001b[0m\u001b[0mstep\u001b[0m\u001b[0;34m)\u001b[0m\u001b[0;34m\u001b[0m\u001b[0;34m\u001b[0m\u001b[0m\n\u001b[0;32m-> 1650\u001b[0;31m                             \u001b[0mtmp_logs\u001b[0m \u001b[0;34m=\u001b[0m \u001b[0mself\u001b[0m\u001b[0;34m.\u001b[0m\u001b[0mtrain_function\u001b[0m\u001b[0;34m(\u001b[0m\u001b[0miterator\u001b[0m\u001b[0;34m)\u001b[0m\u001b[0;34m\u001b[0m\u001b[0;34m\u001b[0m\u001b[0m\n\u001b[0m\u001b[1;32m   1651\u001b[0m                             \u001b[0;32mif\u001b[0m \u001b[0mdata_handler\u001b[0m\u001b[0;34m.\u001b[0m\u001b[0mshould_sync\u001b[0m\u001b[0;34m:\u001b[0m\u001b[0;34m\u001b[0m\u001b[0;34m\u001b[0m\u001b[0m\n\u001b[1;32m   1652\u001b[0m                                 \u001b[0mcontext\u001b[0m\u001b[0;34m.\u001b[0m\u001b[0masync_wait\u001b[0m\u001b[0;34m(\u001b[0m\u001b[0;34m)\u001b[0m\u001b[0;34m\u001b[0m\u001b[0;34m\u001b[0m\u001b[0m\n",
      "\u001b[0;32m/opt/conda/lib/python3.7/site-packages/tensorflow/python/util/traceback_utils.py\u001b[0m in \u001b[0;36merror_handler\u001b[0;34m(*args, **kwargs)\u001b[0m\n\u001b[1;32m    148\u001b[0m     \u001b[0mfiltered_tb\u001b[0m \u001b[0;34m=\u001b[0m \u001b[0;32mNone\u001b[0m\u001b[0;34m\u001b[0m\u001b[0;34m\u001b[0m\u001b[0m\n\u001b[1;32m    149\u001b[0m     \u001b[0;32mtry\u001b[0m\u001b[0;34m:\u001b[0m\u001b[0;34m\u001b[0m\u001b[0;34m\u001b[0m\u001b[0m\n\u001b[0;32m--> 150\u001b[0;31m       \u001b[0;32mreturn\u001b[0m \u001b[0mfn\u001b[0m\u001b[0;34m(\u001b[0m\u001b[0;34m*\u001b[0m\u001b[0margs\u001b[0m\u001b[0;34m,\u001b[0m \u001b[0;34m**\u001b[0m\u001b[0mkwargs\u001b[0m\u001b[0;34m)\u001b[0m\u001b[0;34m\u001b[0m\u001b[0;34m\u001b[0m\u001b[0m\n\u001b[0m\u001b[1;32m    151\u001b[0m     \u001b[0;32mexcept\u001b[0m \u001b[0mException\u001b[0m \u001b[0;32mas\u001b[0m \u001b[0me\u001b[0m\u001b[0;34m:\u001b[0m\u001b[0;34m\u001b[0m\u001b[0;34m\u001b[0m\u001b[0m\n\u001b[1;32m    152\u001b[0m       \u001b[0mfiltered_tb\u001b[0m \u001b[0;34m=\u001b[0m \u001b[0m_process_traceback_frames\u001b[0m\u001b[0;34m(\u001b[0m\u001b[0me\u001b[0m\u001b[0;34m.\u001b[0m\u001b[0m__traceback__\u001b[0m\u001b[0;34m)\u001b[0m\u001b[0;34m\u001b[0m\u001b[0;34m\u001b[0m\u001b[0m\n",
      "\u001b[0;32m/opt/conda/lib/python3.7/site-packages/tensorflow/python/eager/polymorphic_function/polymorphic_function.py\u001b[0m in \u001b[0;36m__call__\u001b[0;34m(self, *args, **kwds)\u001b[0m\n\u001b[1;32m    878\u001b[0m \u001b[0;34m\u001b[0m\u001b[0m\n\u001b[1;32m    879\u001b[0m       \u001b[0;32mwith\u001b[0m \u001b[0mOptionalXlaContext\u001b[0m\u001b[0;34m(\u001b[0m\u001b[0mself\u001b[0m\u001b[0;34m.\u001b[0m\u001b[0m_jit_compile\u001b[0m\u001b[0;34m)\u001b[0m\u001b[0;34m:\u001b[0m\u001b[0;34m\u001b[0m\u001b[0;34m\u001b[0m\u001b[0m\n\u001b[0;32m--> 880\u001b[0;31m         \u001b[0mresult\u001b[0m \u001b[0;34m=\u001b[0m \u001b[0mself\u001b[0m\u001b[0;34m.\u001b[0m\u001b[0m_call\u001b[0m\u001b[0;34m(\u001b[0m\u001b[0;34m*\u001b[0m\u001b[0margs\u001b[0m\u001b[0;34m,\u001b[0m \u001b[0;34m**\u001b[0m\u001b[0mkwds\u001b[0m\u001b[0;34m)\u001b[0m\u001b[0;34m\u001b[0m\u001b[0;34m\u001b[0m\u001b[0m\n\u001b[0m\u001b[1;32m    881\u001b[0m \u001b[0;34m\u001b[0m\u001b[0m\n\u001b[1;32m    882\u001b[0m       \u001b[0mnew_tracing_count\u001b[0m \u001b[0;34m=\u001b[0m \u001b[0mself\u001b[0m\u001b[0;34m.\u001b[0m\u001b[0mexperimental_get_tracing_count\u001b[0m\u001b[0;34m(\u001b[0m\u001b[0;34m)\u001b[0m\u001b[0;34m\u001b[0m\u001b[0;34m\u001b[0m\u001b[0m\n",
      "\u001b[0;32m/opt/conda/lib/python3.7/site-packages/tensorflow/python/eager/polymorphic_function/polymorphic_function.py\u001b[0m in \u001b[0;36m_call\u001b[0;34m(self, *args, **kwds)\u001b[0m\n\u001b[1;32m    910\u001b[0m       \u001b[0;31m# In this case we have created variables on the first call, so we run the\u001b[0m\u001b[0;34m\u001b[0m\u001b[0;34m\u001b[0m\u001b[0;34m\u001b[0m\u001b[0m\n\u001b[1;32m    911\u001b[0m       \u001b[0;31m# defunned version which is guaranteed to never create variables.\u001b[0m\u001b[0;34m\u001b[0m\u001b[0;34m\u001b[0m\u001b[0;34m\u001b[0m\u001b[0m\n\u001b[0;32m--> 912\u001b[0;31m       \u001b[0;32mreturn\u001b[0m \u001b[0mself\u001b[0m\u001b[0;34m.\u001b[0m\u001b[0m_no_variable_creation_fn\u001b[0m\u001b[0;34m(\u001b[0m\u001b[0;34m*\u001b[0m\u001b[0margs\u001b[0m\u001b[0;34m,\u001b[0m \u001b[0;34m**\u001b[0m\u001b[0mkwds\u001b[0m\u001b[0;34m)\u001b[0m  \u001b[0;31m# pylint: disable=not-callable\u001b[0m\u001b[0;34m\u001b[0m\u001b[0;34m\u001b[0m\u001b[0m\n\u001b[0m\u001b[1;32m    913\u001b[0m     \u001b[0;32melif\u001b[0m \u001b[0mself\u001b[0m\u001b[0;34m.\u001b[0m\u001b[0m_variable_creation_fn\u001b[0m \u001b[0;32mis\u001b[0m \u001b[0;32mnot\u001b[0m \u001b[0;32mNone\u001b[0m\u001b[0;34m:\u001b[0m\u001b[0;34m\u001b[0m\u001b[0;34m\u001b[0m\u001b[0m\n\u001b[1;32m    914\u001b[0m       \u001b[0;31m# Release the lock early so that multiple threads can perform the call\u001b[0m\u001b[0;34m\u001b[0m\u001b[0;34m\u001b[0m\u001b[0;34m\u001b[0m\u001b[0m\n",
      "\u001b[0;32m/opt/conda/lib/python3.7/site-packages/tensorflow/python/eager/polymorphic_function/tracing_compiler.py\u001b[0m in \u001b[0;36m__call__\u001b[0;34m(self, *args, **kwargs)\u001b[0m\n\u001b[1;32m    133\u001b[0m        filtered_flat_args) = self._maybe_define_function(args, kwargs)\n\u001b[1;32m    134\u001b[0m     return concrete_function._call_flat(\n\u001b[0;32m--> 135\u001b[0;31m         filtered_flat_args, captured_inputs=concrete_function.captured_inputs)  # pylint: disable=protected-access\n\u001b[0m\u001b[1;32m    136\u001b[0m \u001b[0;34m\u001b[0m\u001b[0m\n\u001b[1;32m    137\u001b[0m   \u001b[0;34m@\u001b[0m\u001b[0mproperty\u001b[0m\u001b[0;34m\u001b[0m\u001b[0;34m\u001b[0m\u001b[0m\n",
      "\u001b[0;32m/opt/conda/lib/python3.7/site-packages/tensorflow/python/eager/polymorphic_function/monomorphic_function.py\u001b[0m in \u001b[0;36m_call_flat\u001b[0;34m(self, args, captured_inputs, cancellation_manager)\u001b[0m\n\u001b[1;32m   1744\u001b[0m       \u001b[0;31m# No tape is watching; skip to running the function.\u001b[0m\u001b[0;34m\u001b[0m\u001b[0;34m\u001b[0m\u001b[0;34m\u001b[0m\u001b[0m\n\u001b[1;32m   1745\u001b[0m       return self._build_call_outputs(self._inference_function.call(\n\u001b[0;32m-> 1746\u001b[0;31m           ctx, args, cancellation_manager=cancellation_manager))\n\u001b[0m\u001b[1;32m   1747\u001b[0m     forward_backward = self._select_forward_and_backward_functions(\n\u001b[1;32m   1748\u001b[0m         \u001b[0margs\u001b[0m\u001b[0;34m,\u001b[0m\u001b[0;34m\u001b[0m\u001b[0;34m\u001b[0m\u001b[0m\n",
      "\u001b[0;32m/opt/conda/lib/python3.7/site-packages/tensorflow/python/eager/polymorphic_function/monomorphic_function.py\u001b[0m in \u001b[0;36mcall\u001b[0;34m(self, ctx, args, cancellation_manager)\u001b[0m\n\u001b[1;32m    381\u001b[0m               \u001b[0minputs\u001b[0m\u001b[0;34m=\u001b[0m\u001b[0margs\u001b[0m\u001b[0;34m,\u001b[0m\u001b[0;34m\u001b[0m\u001b[0;34m\u001b[0m\u001b[0m\n\u001b[1;32m    382\u001b[0m               \u001b[0mattrs\u001b[0m\u001b[0;34m=\u001b[0m\u001b[0mattrs\u001b[0m\u001b[0;34m,\u001b[0m\u001b[0;34m\u001b[0m\u001b[0;34m\u001b[0m\u001b[0m\n\u001b[0;32m--> 383\u001b[0;31m               ctx=ctx)\n\u001b[0m\u001b[1;32m    384\u001b[0m         \u001b[0;32melse\u001b[0m\u001b[0;34m:\u001b[0m\u001b[0;34m\u001b[0m\u001b[0;34m\u001b[0m\u001b[0m\n\u001b[1;32m    385\u001b[0m           outputs = execute.execute_with_cancellation(\n",
      "\u001b[0;32m/opt/conda/lib/python3.7/site-packages/tensorflow/python/eager/execute.py\u001b[0m in \u001b[0;36mquick_execute\u001b[0;34m(op_name, num_outputs, inputs, attrs, ctx, name)\u001b[0m\n\u001b[1;32m     51\u001b[0m     \u001b[0mctx\u001b[0m\u001b[0;34m.\u001b[0m\u001b[0mensure_initialized\u001b[0m\u001b[0;34m(\u001b[0m\u001b[0;34m)\u001b[0m\u001b[0;34m\u001b[0m\u001b[0;34m\u001b[0m\u001b[0m\n\u001b[1;32m     52\u001b[0m     tensors = pywrap_tfe.TFE_Py_Execute(ctx._handle, device_name, op_name,\n\u001b[0;32m---> 53\u001b[0;31m                                         inputs, attrs, num_outputs)\n\u001b[0m\u001b[1;32m     54\u001b[0m   \u001b[0;32mexcept\u001b[0m \u001b[0mcore\u001b[0m\u001b[0;34m.\u001b[0m\u001b[0m_NotOkStatusException\u001b[0m \u001b[0;32mas\u001b[0m \u001b[0me\u001b[0m\u001b[0;34m:\u001b[0m\u001b[0;34m\u001b[0m\u001b[0;34m\u001b[0m\u001b[0m\n\u001b[1;32m     55\u001b[0m     \u001b[0;32mif\u001b[0m \u001b[0mname\u001b[0m \u001b[0;32mis\u001b[0m \u001b[0;32mnot\u001b[0m \u001b[0;32mNone\u001b[0m\u001b[0;34m:\u001b[0m\u001b[0;34m\u001b[0m\u001b[0;34m\u001b[0m\u001b[0m\n",
      "\u001b[0;31mKeyboardInterrupt\u001b[0m: "
     ]
    }
   ],
   "source": [
    "# 1 - Initialising the RNN model\n",
    "# ====================================\n",
    "\n",
    "model = init_model(X_train, y_train)\n",
    "model.summary()\n",
    "\n",
    "# 2 - Training\n",
    "# ====================================\n",
    "model, history = fit_model(model)"
   ]
  },
  {
   "cell_type": "code",
   "execution_count": 151,
   "id": "5c0bd268-9055-438c-b07f-978037be5635",
   "metadata": {},
   "outputs": [
    {
     "data": {
      "image/png": "[encoded data removed]",
      "text/plain": [
       "<Figure size 2000x700 with 2 Axes>"
      ]
     },
     "metadata": {},
     "output_type": "display_data"
    }
   ],
   "source": [
    "plot_history(history);"
   ]
  },
  {
   "cell_type": "code",
   "execution_count": 152,
   "id": "4ae58d5f-4c43-407d-8b47-5e3132facc23",
   "metadata": {},
   "outputs": [
    {
     "name": "stdout",
     "output_type": "stream",
     "text": [
      "105/105 [==============================] - 6s 52ms/step - loss: 14212.4443 - mae: 74.2122\n",
      "The LSTM MAE on the test set is equal to 74.21\n"
     ]
    }
   ],
   "source": [
    "res = model.evaluate(X_test, y_test)\n",
    "print(f\"The LSTM MAE on the test set is equal to {round(res[1],2)}\")"
   ]
  },
  {
   "cell_type": "code",
   "execution_count": 153,
   "id": "78761d65-3f61-402a-a2f8-9eed38ac18c1",
   "metadata": {},
   "outputs": [],
   "source": [
    "from tensorflow.keras.layers import Lambda\n",
    "\n",
    "def init_baseline():\n",
    "\n",
    "    # $CHALLENGIFY_BEGIN\n",
    "    model = models.Sequential()\n",
    "    model.add(layers.Lambda(lambda x: x[:,-1,1,None]))\n",
    "\n",
    "    adam = optimizers.Adam(learning_rate=0.02)\n",
    "    model.compile(loss='mse', optimizer=adam, metrics=[\"mae\"])\n",
    "\n",
    "    return model\n",
    "    # $CHALLENGIFY_END"
   ]
  },
  {
   "cell_type": "code",
   "execution_count": 154,
   "id": "4ab57f75-0d2d-44ff-a490-3c5bf4c91a8c",
   "metadata": {},
   "outputs": [
    {
     "name": "stdout",
     "output_type": "stream",
     "text": [
      "105/105 [==============================] - 0s 2ms/step - loss: 695275.5625 - mae: 618.1322\n",
      "- The Baseline MAE on the test set is equal to 618.13\n"
     ]
    }
   ],
   "source": [
    "baseline_model = init_baseline()\n",
    "baseline_score = baseline_model.evaluate(X_test, y_test)\n",
    "print(f\"- The Baseline MAE on the test set is equal to {round(baseline_score[1],2)}\")"
   ]
  },
  {
   "cell_type": "code",
   "execution_count": 155,
   "id": "a3a00242-c724-4b18-8b1a-809c4ab9c003",
   "metadata": {},
   "outputs": [],
   "source": [
    "from tensorflow.keras.callbacks import EarlyStopping\n",
    "\n",
    "def cross_validate_baseline_and_lstm():\n",
    "    '''\n",
    "    This function cross-validates \n",
    "    - the \"last seen value\" baseline model\n",
    "    - the RNN model\n",
    "    '''\n",
    "    \n",
    "    list_of_mae_baseline_model = []\n",
    "    list_of_mae_recurrent_model = []\n",
    "    \n",
    "    # 0 - Creating folds\n",
    "    # =========================================    \n",
    "    folds = get_folds(df, FOLD_LENGTH, FOLD_STRIDE)\n",
    "    \n",
    "    for fold_id, fold in enumerate(folds):\n",
    "        \n",
    "        # 1 - Train/Test split the current fold\n",
    "        # =========================================\n",
    "        (fold_train, fold_test) = train_test_split(fold, TRAIN_TEST_RATIO, INPUT_LENGTH)                   \n",
    "\n",
    "        X_train, y_train = get_X_y(fold_train, N_TRAIN, INPUT_LENGTH, OUTPUT_LENGTH)\n",
    "        X_test, y_test = get_X_y(fold_test, N_TEST, INPUT_LENGTH, OUTPUT_LENGTH)\n",
    "        \n",
    "        # 2 - Modelling\n",
    "        # =========================================\n",
    "        \n",
    "        ##### Baseline Model\n",
    "        baseline_model = init_baseline()\n",
    "        mae_baseline = baseline_model.evaluate(X_test, y_test, verbose=0)[1]\n",
    "        list_of_mae_baseline_model.append(mae_baseline)\n",
    "        print(\"-\"*50)\n",
    "        print(f\"MAE baseline fold n°{fold_id} = {round(mae_baseline, 2)}\")\n",
    "\n",
    "        ##### LSTM Model\n",
    "        model = init_model(X_train, y_train)\n",
    "        es = EarlyStopping(monitor = \"val_mae\",\n",
    "                           mode = \"min\",\n",
    "                           patience = 2, \n",
    "                           restore_best_weights = True)\n",
    "        history = model.fit(X_train, y_train,\n",
    "                            validation_split = 0.3,\n",
    "                            shuffle = False,\n",
    "                            batch_size = 32,\n",
    "                            epochs = 50,\n",
    "                            callbacks = [es],\n",
    "                            verbose = 0)\n",
    "        res = model.evaluate(X_test, y_test, verbose=0)\n",
    "        mae_lstm = res[1]\n",
    "        list_of_mae_recurrent_model.append(mae_lstm)\n",
    "        print(f\"MAE LSTM fold n°{fold_id} = {round(mae_lstm, 2)}\")\n",
    "        \n",
    "        ##### Comparison LSTM vs Baseline for the current fold\n",
    "        print(f\"🏋🏽‍♂️ improvement over baseline: {round((1 - (mae_lstm/mae_baseline))*100,2)} % \\n\")\n",
    "\n",
    "    return list_of_mae_baseline_model, list_of_mae_recurrent_model"
   ]
  },
  {
   "cell_type": "code",
   "execution_count": null,
   "id": "3d36606c-cf8b-4d91-8d76-3e2ae2e70d14",
   "metadata": {},
   "outputs": [
    {
     "name": "stdout",
     "output_type": "stream",
     "text": [
      "--------------------------------------------------\n",
      "MAE baseline fold n°0 = 617.09\n",
      "MAE LSTM fold n°0 = 453.26\n",
      "🏋🏽‍♂️ improvement over baseline: 26.55 % \n",
      "\n",
      "--------------------------------------------------\n",
      "MAE baseline fold n°1 = 639.6\n"
     ]
    },
    {
     "ename": "KeyboardInterrupt",
     "evalue": "",
     "output_type": "error",
     "traceback": [
      "\u001b[0;31m---------------------------------------------------------------------------\u001b[0m",
      "\u001b[0;31mKeyboardInterrupt\u001b[0m                         Traceback (most recent call last)",
      "\u001b[0;32m<timed exec>\u001b[0m in \u001b[0;36m<module>\u001b[0;34m\u001b[0m\n",
      "\u001b[0;32m/var/tmp/ipykernel_16080/2706832892.py\u001b[0m in \u001b[0;36mcross_validate_baseline_and_lstm\u001b[0;34m()\u001b[0m\n\u001b[1;32m     46\u001b[0m                             \u001b[0mepochs\u001b[0m \u001b[0;34m=\u001b[0m \u001b[0;36m50\u001b[0m\u001b[0;34m,\u001b[0m\u001b[0;34m\u001b[0m\u001b[0;34m\u001b[0m\u001b[0m\n\u001b[1;32m     47\u001b[0m                             \u001b[0mcallbacks\u001b[0m \u001b[0;34m=\u001b[0m \u001b[0;34m[\u001b[0m\u001b[0mes\u001b[0m\u001b[0;34m]\u001b[0m\u001b[0;34m,\u001b[0m\u001b[0;34m\u001b[0m\u001b[0;34m\u001b[0m\u001b[0m\n\u001b[0;32m---> 48\u001b[0;31m                             verbose = 0)\n\u001b[0m\u001b[1;32m     49\u001b[0m         \u001b[0mres\u001b[0m \u001b[0;34m=\u001b[0m \u001b[0mmodel\u001b[0m\u001b[0;34m.\u001b[0m\u001b[0mevaluate\u001b[0m\u001b[0;34m(\u001b[0m\u001b[0mX_test\u001b[0m\u001b[0;34m,\u001b[0m \u001b[0my_test\u001b[0m\u001b[0;34m,\u001b[0m \u001b[0mverbose\u001b[0m\u001b[0;34m=\u001b[0m\u001b[0;36m0\u001b[0m\u001b[0;34m)\u001b[0m\u001b[0;34m\u001b[0m\u001b[0;34m\u001b[0m\u001b[0m\n\u001b[1;32m     50\u001b[0m         \u001b[0mmae_lstm\u001b[0m \u001b[0;34m=\u001b[0m \u001b[0mres\u001b[0m\u001b[0;34m[\u001b[0m\u001b[0;36m1\u001b[0m\u001b[0;34m]\u001b[0m\u001b[0;34m\u001b[0m\u001b[0;34m\u001b[0m\u001b[0m\n",
      "\u001b[0;32m/opt/conda/lib/python3.7/site-packages/keras/utils/traceback_utils.py\u001b[0m in \u001b[0;36merror_handler\u001b[0;34m(*args, **kwargs)\u001b[0m\n\u001b[1;32m     63\u001b[0m         \u001b[0mfiltered_tb\u001b[0m \u001b[0;34m=\u001b[0m \u001b[0;32mNone\u001b[0m\u001b[0;34m\u001b[0m\u001b[0;34m\u001b[0m\u001b[0m\n\u001b[1;32m     64\u001b[0m         \u001b[0;32mtry\u001b[0m\u001b[0;34m:\u001b[0m\u001b[0;34m\u001b[0m\u001b[0;34m\u001b[0m\u001b[0m\n\u001b[0;32m---> 65\u001b[0;31m             \u001b[0;32mreturn\u001b[0m \u001b[0mfn\u001b[0m\u001b[0;34m(\u001b[0m\u001b[0;34m*\u001b[0m\u001b[0margs\u001b[0m\u001b[0;34m,\u001b[0m \u001b[0;34m**\u001b[0m\u001b[0mkwargs\u001b[0m\u001b[0;34m)\u001b[0m\u001b[0;34m\u001b[0m\u001b[0;34m\u001b[0m\u001b[0m\n\u001b[0m\u001b[1;32m     66\u001b[0m         \u001b[0;32mexcept\u001b[0m \u001b[0mException\u001b[0m \u001b[0;32mas\u001b[0m \u001b[0me\u001b[0m\u001b[0;34m:\u001b[0m\u001b[0;34m\u001b[0m\u001b[0;34m\u001b[0m\u001b[0m\n\u001b[1;32m     67\u001b[0m             \u001b[0mfiltered_tb\u001b[0m \u001b[0;34m=\u001b[0m \u001b[0m_process_traceback_frames\u001b[0m\u001b[0;34m(\u001b[0m\u001b[0me\u001b[0m\u001b[0;34m.\u001b[0m\u001b[0m__traceback__\u001b[0m\u001b[0;34m)\u001b[0m\u001b[0;34m\u001b[0m\u001b[0;34m\u001b[0m\u001b[0m\n",
      "\u001b[0;32m/opt/conda/lib/python3.7/site-packages/keras/engine/training.py\u001b[0m in \u001b[0;36mfit\u001b[0;34m(self, x, y, batch_size, epochs, verbose, callbacks, validation_split, validation_data, shuffle, class_weight, sample_weight, initial_epoch, steps_per_epoch, validation_steps, validation_batch_size, validation_freq, max_queue_size, workers, use_multiprocessing)\u001b[0m\n\u001b[1;32m   1703\u001b[0m                         \u001b[0muse_multiprocessing\u001b[0m\u001b[0;34m=\u001b[0m\u001b[0muse_multiprocessing\u001b[0m\u001b[0;34m,\u001b[0m\u001b[0;34m\u001b[0m\u001b[0;34m\u001b[0m\u001b[0m\n\u001b[1;32m   1704\u001b[0m                         \u001b[0mreturn_dict\u001b[0m\u001b[0;34m=\u001b[0m\u001b[0;32mTrue\u001b[0m\u001b[0;34m,\u001b[0m\u001b[0;34m\u001b[0m\u001b[0;34m\u001b[0m\u001b[0m\n\u001b[0;32m-> 1705\u001b[0;31m                         \u001b[0m_use_cached_eval_dataset\u001b[0m\u001b[0;34m=\u001b[0m\u001b[0;32mTrue\u001b[0m\u001b[0;34m,\u001b[0m\u001b[0;34m\u001b[0m\u001b[0;34m\u001b[0m\u001b[0m\n\u001b[0m\u001b[1;32m   1706\u001b[0m                     )\n\u001b[1;32m   1707\u001b[0m                     val_logs = {\n",
      "\u001b[0;32m/opt/conda/lib/python3.7/site-packages/keras/utils/traceback_utils.py\u001b[0m in \u001b[0;36merror_handler\u001b[0;34m(*args, **kwargs)\u001b[0m\n\u001b[1;32m     63\u001b[0m         \u001b[0mfiltered_tb\u001b[0m \u001b[0;34m=\u001b[0m \u001b[0;32mNone\u001b[0m\u001b[0;34m\u001b[0m\u001b[0;34m\u001b[0m\u001b[0m\n\u001b[1;32m     64\u001b[0m         \u001b[0;32mtry\u001b[0m\u001b[0;34m:\u001b[0m\u001b[0;34m\u001b[0m\u001b[0;34m\u001b[0m\u001b[0m\n\u001b[0;32m---> 65\u001b[0;31m             \u001b[0;32mreturn\u001b[0m \u001b[0mfn\u001b[0m\u001b[0;34m(\u001b[0m\u001b[0;34m*\u001b[0m\u001b[0margs\u001b[0m\u001b[0;34m,\u001b[0m \u001b[0;34m**\u001b[0m\u001b[0mkwargs\u001b[0m\u001b[0;34m)\u001b[0m\u001b[0;34m\u001b[0m\u001b[0;34m\u001b[0m\u001b[0m\n\u001b[0m\u001b[1;32m     66\u001b[0m         \u001b[0;32mexcept\u001b[0m \u001b[0mException\u001b[0m \u001b[0;32mas\u001b[0m \u001b[0me\u001b[0m\u001b[0;34m:\u001b[0m\u001b[0;34m\u001b[0m\u001b[0;34m\u001b[0m\u001b[0m\n\u001b[1;32m     67\u001b[0m             \u001b[0mfiltered_tb\u001b[0m \u001b[0;34m=\u001b[0m \u001b[0m_process_traceback_frames\u001b[0m\u001b[0;34m(\u001b[0m\u001b[0me\u001b[0m\u001b[0;34m.\u001b[0m\u001b[0m__traceback__\u001b[0m\u001b[0;34m)\u001b[0m\u001b[0;34m\u001b[0m\u001b[0;34m\u001b[0m\u001b[0m\n",
      "\u001b[0;32m/opt/conda/lib/python3.7/site-packages/keras/engine/training.py\u001b[0m in \u001b[0;36mevaluate\u001b[0;34m(self, x, y, batch_size, verbose, sample_weight, steps, callbacks, max_queue_size, workers, use_multiprocessing, return_dict, **kwargs)\u001b[0m\n\u001b[1;32m   2038\u001b[0m                         ):\n\u001b[1;32m   2039\u001b[0m                             \u001b[0mcallbacks\u001b[0m\u001b[0;34m.\u001b[0m\u001b[0mon_test_batch_begin\u001b[0m\u001b[0;34m(\u001b[0m\u001b[0mstep\u001b[0m\u001b[0;34m)\u001b[0m\u001b[0;34m\u001b[0m\u001b[0;34m\u001b[0m\u001b[0m\n\u001b[0;32m-> 2040\u001b[0;31m                             \u001b[0mtmp_logs\u001b[0m \u001b[0;34m=\u001b[0m \u001b[0mself\u001b[0m\u001b[0;34m.\u001b[0m\u001b[0mtest_function\u001b[0m\u001b[0;34m(\u001b[0m\u001b[0miterator\u001b[0m\u001b[0;34m)\u001b[0m\u001b[0;34m\u001b[0m\u001b[0;34m\u001b[0m\u001b[0m\n\u001b[0m\u001b[1;32m   2041\u001b[0m                             \u001b[0;32mif\u001b[0m \u001b[0mdata_handler\u001b[0m\u001b[0;34m.\u001b[0m\u001b[0mshould_sync\u001b[0m\u001b[0;34m:\u001b[0m\u001b[0;34m\u001b[0m\u001b[0;34m\u001b[0m\u001b[0m\n\u001b[1;32m   2042\u001b[0m                                 \u001b[0mcontext\u001b[0m\u001b[0;34m.\u001b[0m\u001b[0masync_wait\u001b[0m\u001b[0;34m(\u001b[0m\u001b[0;34m)\u001b[0m\u001b[0;34m\u001b[0m\u001b[0;34m\u001b[0m\u001b[0m\n",
      "\u001b[0;32m/opt/conda/lib/python3.7/site-packages/tensorflow/python/util/traceback_utils.py\u001b[0m in \u001b[0;36merror_handler\u001b[0;34m(*args, **kwargs)\u001b[0m\n\u001b[1;32m    148\u001b[0m     \u001b[0mfiltered_tb\u001b[0m \u001b[0;34m=\u001b[0m \u001b[0;32mNone\u001b[0m\u001b[0;34m\u001b[0m\u001b[0;34m\u001b[0m\u001b[0m\n\u001b[1;32m    149\u001b[0m     \u001b[0;32mtry\u001b[0m\u001b[0;34m:\u001b[0m\u001b[0;34m\u001b[0m\u001b[0;34m\u001b[0m\u001b[0m\n\u001b[0;32m--> 150\u001b[0;31m       \u001b[0;32mreturn\u001b[0m \u001b[0mfn\u001b[0m\u001b[0;34m(\u001b[0m\u001b[0;34m*\u001b[0m\u001b[0margs\u001b[0m\u001b[0;34m,\u001b[0m \u001b[0;34m**\u001b[0m\u001b[0mkwargs\u001b[0m\u001b[0;34m)\u001b[0m\u001b[0;34m\u001b[0m\u001b[0;34m\u001b[0m\u001b[0m\n\u001b[0m\u001b[1;32m    151\u001b[0m     \u001b[0;32mexcept\u001b[0m \u001b[0mException\u001b[0m \u001b[0;32mas\u001b[0m \u001b[0me\u001b[0m\u001b[0;34m:\u001b[0m\u001b[0;34m\u001b[0m\u001b[0;34m\u001b[0m\u001b[0m\n\u001b[1;32m    152\u001b[0m       \u001b[0mfiltered_tb\u001b[0m \u001b[0;34m=\u001b[0m \u001b[0m_process_traceback_frames\u001b[0m\u001b[0;34m(\u001b[0m\u001b[0me\u001b[0m\u001b[0;34m.\u001b[0m\u001b[0m__traceback__\u001b[0m\u001b[0;34m)\u001b[0m\u001b[0;34m\u001b[0m\u001b[0;34m\u001b[0m\u001b[0m\n",
      "\u001b[0;32m/opt/conda/lib/python3.7/site-packages/tensorflow/python/eager/polymorphic_function/polymorphic_function.py\u001b[0m in \u001b[0;36m__call__\u001b[0;34m(self, *args, **kwds)\u001b[0m\n\u001b[1;32m    878\u001b[0m \u001b[0;34m\u001b[0m\u001b[0m\n\u001b[1;32m    879\u001b[0m       \u001b[0;32mwith\u001b[0m \u001b[0mOptionalXlaContext\u001b[0m\u001b[0;34m(\u001b[0m\u001b[0mself\u001b[0m\u001b[0;34m.\u001b[0m\u001b[0m_jit_compile\u001b[0m\u001b[0;34m)\u001b[0m\u001b[0;34m:\u001b[0m\u001b[0;34m\u001b[0m\u001b[0;34m\u001b[0m\u001b[0m\n\u001b[0;32m--> 880\u001b[0;31m         \u001b[0mresult\u001b[0m \u001b[0;34m=\u001b[0m \u001b[0mself\u001b[0m\u001b[0;34m.\u001b[0m\u001b[0m_call\u001b[0m\u001b[0;34m(\u001b[0m\u001b[0;34m*\u001b[0m\u001b[0margs\u001b[0m\u001b[0;34m,\u001b[0m \u001b[0;34m**\u001b[0m\u001b[0mkwds\u001b[0m\u001b[0;34m)\u001b[0m\u001b[0;34m\u001b[0m\u001b[0;34m\u001b[0m\u001b[0m\n\u001b[0m\u001b[1;32m    881\u001b[0m \u001b[0;34m\u001b[0m\u001b[0m\n\u001b[1;32m    882\u001b[0m       \u001b[0mnew_tracing_count\u001b[0m \u001b[0;34m=\u001b[0m \u001b[0mself\u001b[0m\u001b[0;34m.\u001b[0m\u001b[0mexperimental_get_tracing_count\u001b[0m\u001b[0;34m(\u001b[0m\u001b[0;34m)\u001b[0m\u001b[0;34m\u001b[0m\u001b[0;34m\u001b[0m\u001b[0m\n",
      "\u001b[0;32m/opt/conda/lib/python3.7/site-packages/tensorflow/python/eager/polymorphic_function/polymorphic_function.py\u001b[0m in \u001b[0;36m_call\u001b[0;34m(self, *args, **kwds)\u001b[0m\n\u001b[1;32m    917\u001b[0m       \u001b[0;31m# In this case we have not created variables on the first call. So we can\u001b[0m\u001b[0;34m\u001b[0m\u001b[0;34m\u001b[0m\u001b[0;34m\u001b[0m\u001b[0m\n\u001b[1;32m    918\u001b[0m       \u001b[0;31m# run the first trace but we should fail if variables are created.\u001b[0m\u001b[0;34m\u001b[0m\u001b[0;34m\u001b[0m\u001b[0;34m\u001b[0m\u001b[0m\n\u001b[0;32m--> 919\u001b[0;31m       \u001b[0mresults\u001b[0m \u001b[0;34m=\u001b[0m \u001b[0mself\u001b[0m\u001b[0;34m.\u001b[0m\u001b[0m_variable_creation_fn\u001b[0m\u001b[0;34m(\u001b[0m\u001b[0;34m*\u001b[0m\u001b[0margs\u001b[0m\u001b[0;34m,\u001b[0m \u001b[0;34m**\u001b[0m\u001b[0mkwds\u001b[0m\u001b[0;34m)\u001b[0m\u001b[0;34m\u001b[0m\u001b[0;34m\u001b[0m\u001b[0m\n\u001b[0m\u001b[1;32m    920\u001b[0m       \u001b[0;32mif\u001b[0m \u001b[0mself\u001b[0m\u001b[0;34m.\u001b[0m\u001b[0m_created_variables\u001b[0m \u001b[0;32mand\u001b[0m \u001b[0;32mnot\u001b[0m \u001b[0mALLOW_DYNAMIC_VARIABLE_CREATION\u001b[0m\u001b[0;34m:\u001b[0m\u001b[0;34m\u001b[0m\u001b[0;34m\u001b[0m\u001b[0m\n\u001b[1;32m    921\u001b[0m         raise ValueError(\"Creating variables on a non-first call to a function\"\n",
      "\u001b[0;32m/opt/conda/lib/python3.7/site-packages/tensorflow/python/eager/polymorphic_function/tracing_compiler.py\u001b[0m in \u001b[0;36m__call__\u001b[0;34m(self, *args, **kwargs)\u001b[0m\n\u001b[1;32m    133\u001b[0m        filtered_flat_args) = self._maybe_define_function(args, kwargs)\n\u001b[1;32m    134\u001b[0m     return concrete_function._call_flat(\n\u001b[0;32m--> 135\u001b[0;31m         filtered_flat_args, captured_inputs=concrete_function.captured_inputs)  # pylint: disable=protected-access\n\u001b[0m\u001b[1;32m    136\u001b[0m \u001b[0;34m\u001b[0m\u001b[0m\n\u001b[1;32m    137\u001b[0m   \u001b[0;34m@\u001b[0m\u001b[0mproperty\u001b[0m\u001b[0;34m\u001b[0m\u001b[0;34m\u001b[0m\u001b[0m\n",
      "\u001b[0;32m/opt/conda/lib/python3.7/site-packages/tensorflow/python/eager/polymorphic_function/monomorphic_function.py\u001b[0m in \u001b[0;36m_call_flat\u001b[0;34m(self, args, captured_inputs, cancellation_manager)\u001b[0m\n\u001b[1;32m   1744\u001b[0m       \u001b[0;31m# No tape is watching; skip to running the function.\u001b[0m\u001b[0;34m\u001b[0m\u001b[0;34m\u001b[0m\u001b[0;34m\u001b[0m\u001b[0m\n\u001b[1;32m   1745\u001b[0m       return self._build_call_outputs(self._inference_function.call(\n\u001b[0;32m-> 1746\u001b[0;31m           ctx, args, cancellation_manager=cancellation_manager))\n\u001b[0m\u001b[1;32m   1747\u001b[0m     forward_backward = self._select_forward_and_backward_functions(\n\u001b[1;32m   1748\u001b[0m         \u001b[0margs\u001b[0m\u001b[0;34m,\u001b[0m\u001b[0;34m\u001b[0m\u001b[0;34m\u001b[0m\u001b[0m\n",
      "\u001b[0;32m/opt/conda/lib/python3.7/site-packages/tensorflow/python/eager/polymorphic_function/monomorphic_function.py\u001b[0m in \u001b[0;36mcall\u001b[0;34m(self, ctx, args, cancellation_manager)\u001b[0m\n\u001b[1;32m    381\u001b[0m               \u001b[0minputs\u001b[0m\u001b[0;34m=\u001b[0m\u001b[0margs\u001b[0m\u001b[0;34m,\u001b[0m\u001b[0;34m\u001b[0m\u001b[0;34m\u001b[0m\u001b[0m\n\u001b[1;32m    382\u001b[0m               \u001b[0mattrs\u001b[0m\u001b[0;34m=\u001b[0m\u001b[0mattrs\u001b[0m\u001b[0;34m,\u001b[0m\u001b[0;34m\u001b[0m\u001b[0;34m\u001b[0m\u001b[0m\n\u001b[0;32m--> 383\u001b[0;31m               ctx=ctx)\n\u001b[0m\u001b[1;32m    384\u001b[0m         \u001b[0;32melse\u001b[0m\u001b[0;34m:\u001b[0m\u001b[0;34m\u001b[0m\u001b[0;34m\u001b[0m\u001b[0m\n\u001b[1;32m    385\u001b[0m           outputs = execute.execute_with_cancellation(\n",
      "\u001b[0;32m/opt/conda/lib/python3.7/site-packages/tensorflow/python/eager/execute.py\u001b[0m in \u001b[0;36mquick_execute\u001b[0;34m(op_name, num_outputs, inputs, attrs, ctx, name)\u001b[0m\n\u001b[1;32m     51\u001b[0m     \u001b[0mctx\u001b[0m\u001b[0;34m.\u001b[0m\u001b[0mensure_initialized\u001b[0m\u001b[0;34m(\u001b[0m\u001b[0;34m)\u001b[0m\u001b[0;34m\u001b[0m\u001b[0;34m\u001b[0m\u001b[0m\n\u001b[1;32m     52\u001b[0m     tensors = pywrap_tfe.TFE_Py_Execute(ctx._handle, device_name, op_name,\n\u001b[0;32m---> 53\u001b[0;31m                                         inputs, attrs, num_outputs)\n\u001b[0m\u001b[1;32m     54\u001b[0m   \u001b[0;32mexcept\u001b[0m \u001b[0mcore\u001b[0m\u001b[0;34m.\u001b[0m\u001b[0m_NotOkStatusException\u001b[0m \u001b[0;32mas\u001b[0m \u001b[0me\u001b[0m\u001b[0;34m:\u001b[0m\u001b[0;34m\u001b[0m\u001b[0;34m\u001b[0m\u001b[0m\n\u001b[1;32m     55\u001b[0m     \u001b[0;32mif\u001b[0m \u001b[0mname\u001b[0m \u001b[0;32mis\u001b[0m \u001b[0;32mnot\u001b[0m \u001b[0;32mNone\u001b[0m\u001b[0;34m:\u001b[0m\u001b[0;34m\u001b[0m\u001b[0;34m\u001b[0m\u001b[0m\n",
      "\u001b[0;31mKeyboardInterrupt\u001b[0m: "
     ]
    }
   ],
   "source": [
    "%%time\n",
    "# WARNING : it takes 75 minutes to run this cell \n",
    "mae_baselines, mae_lstms = cross_validate_baseline_and_lstm()"
   ]
  },
  {
   "cell_type": "code",
   "execution_count": null,
   "id": "e576c12a-fe6a-4752-a3a7-f389b764567d",
   "metadata": {},
   "outputs": [],
   "source": []
  }
 ],
 "metadata": {
  "environment": {
   "kernel": "python3",
   "name": "tf2-gpu.2-11.m104",
   "type": "gcloud",
   "uri": "gcr.io/deeplearning-platform-release/tf2-gpu.2-11:m104"
  },
  "kernelspec": {
   "display_name": "Python 3 (ipykernel)",
   "language": "python",
   "name": "python3"
  },
  "language_info": {
   "codemirror_mode": {
    "name": "ipython",
    "version": 3
   },
   "file_extension": ".py",
   "mimetype": "text/x-python",
   "name": "python",
   "nbconvert_exporter": "python",
   "pygments_lexer": "ipython3",
   "version": "3.7.12"
  }
 },
 "nbformat": 4,
 "nbformat_minor": 5
}
