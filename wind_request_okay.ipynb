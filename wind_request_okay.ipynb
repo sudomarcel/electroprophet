{
 "cells": [
  {
   "cell_type": "code",
   "execution_count": null,
   "id": "8ede1f05",
   "metadata": {},
   "outputs": [],
   "source": [
    "import requests\n",
    "import pandas as pd"
   ]
  },
  {
   "cell_type": "code",
   "execution_count": null,
   "id": "8969dc71",
   "metadata": {},
   "outputs": [],
   "source": [
    "# Creating a function to request data from the API for the production of different kinds of energy sources(wind, sun etc.)\n",
    "# Function requests all available data automatically \n",
    "# timezone automatically adjusts to region, which will be for this api Europe%2FParis \n",
    "# always takes all the data, except otherwise specified in variable limit\n",
    "\n",
    "def get_energy_production(limit, offset, refine):\n",
    "    \n",
    "    # create path or overwrite path --> see function caio for now we just request the data\n",
    "    \n",
    "    #params to pass into the requests\n",
    "    #params = dict(refine = libelle_region:,\n",
    "    #              libelle_region = region, \n",
    "    #              timezone = \"Europe/Paris\",\n",
    "    #              limit = limit,\n",
    "    #              offset = offset)\n",
    "    \n",
    "    params = {'limit': limit, 'offset': offset, 'refine': refine}\n",
    "    \n",
    "    #request the API for the data from 2013-2022\n",
    "    url_2013_2022 = 'https://odre.opendatasoft.com/api/v2/catalog/datasets/eco2mix-regional-cons-def/exports/json'\n",
    "\n",
    "    response_2013_2022 = requests.get(url=url_2013_2022,params = params).json()\n",
    "    \n",
    "    #transform API request into a dataframe \n",
    "    df_2013_2022 = pd.DataFrame(response_2013_2022)\n",
    "    \n",
    "    #request the API for the data from 2022-today\n",
    "    url_2022_today = 'https://odre.opendatasoft.com/api/v2/catalog/datasets/eco2mix-regional-tr/exports/json'\n",
    "    \n",
    "    response_2022_today = requests.get(url=url_2022_today,params = params).json()\n",
    "    \n",
    "    #transform API request into a dataframe \n",
    "    df_2022_today = pd.DataFrame(response_2022_today)\n",
    "\n",
    "    \n",
    "    #merge those two together on just columns that exist in the first one\n",
    "    df_final = pd.concat([df_2013_2022, df_2022_today], sort=False)\n",
    "    \n",
    "    #transform the column \"date_heure\", so that it is compatible with the weather data\n",
    "    df_final.insert(0, \"time\", df_final['date'] + ' ' + df_final['heure'])\n",
    "    df_final['time'] =  pd.to_datetime(df_final['time'])\n",
    "    df_final = df_final.sort_values('time')\n",
    "    \n",
    "    return df_final\n",
    "    "
   ]
  },
  {
   "cell_type": "code",
   "execution_count": null,
   "id": "1b543a07",
   "metadata": {},
   "outputs": [],
   "source": [
    "get_energy_production(-1, 0, 'libelle_region:Hauts-de-France')"
   ]
  }
 ],
 "metadata": {
  "kernelspec": {
   "display_name": "Python 3 (ipykernel)",
   "language": "python",
   "name": "python3"
  },
  "language_info": {
   "codemirror_mode": {
    "name": "ipython",
    "version": 3
   },
   "file_extension": ".py",
   "mimetype": "text/x-python",
   "name": "python",
   "nbconvert_exporter": "python",
   "pygments_lexer": "ipython3",
   "version": "3.10.6"
  },
  "toc": {
   "base_numbering": 1,
   "nav_menu": {},
   "number_sections": true,
   "sideBar": true,
   "skip_h1_title": false,
   "title_cell": "Table of Contents",
   "title_sidebar": "Contents",
   "toc_cell": false,
   "toc_position": {},
   "toc_section_display": true,
   "toc_window_display": false
  }
 },
 "nbformat": 4,
 "nbformat_minor": 5
}
