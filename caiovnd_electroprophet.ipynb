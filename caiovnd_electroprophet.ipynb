{
 "cells": [
  {
   "cell_type": "markdown",
   "id": "98cbf15d-e740-4eea-96a0-bf4dea556b41",
   "metadata": {
    "tags": []
   },
   "source": [
    "# Electroprophet⚡️"
   ]
  },
  {
   "cell_type": "markdown",
   "id": "ac62b8e9-e2cb-43fd-82ee-100d6e6eb6b9",
   "metadata": {},
   "source": [
    "In this notebook, I will do the first steps on our final project for Le Wagon's Data Science bootcamp. Here, I'll try to model the carbon emission in France using weather data, in order to provide recomendations for users to reduce their carbon footprint 👣."
   ]
  },
  {
   "cell_type": "markdown",
   "id": "2ba1f429-683a-4848-ba55-8eb20f891eb2",
   "metadata": {},
   "source": [
    "## Getting the data"
   ]
  },
  {
   "cell_type": "code",
   "execution_count": 1,
   "id": "da977702-1f98-4cba-ac7e-47fbcbb6708d",
   "metadata": {
    "tags": []
   },
   "outputs": [],
   "source": [
    "import requests"
   ]
  },
  {
   "cell_type": "code",
   "execution_count": 55,
   "id": "d404e341-355f-44ba-88a1-28b359fd547e",
   "metadata": {
    "tags": []
   },
   "outputs": [],
   "source": [
    "import datetime\n",
    "from dateutil.relativedelta import relativedelta"
   ]
  },
  {
   "cell_type": "code",
   "execution_count": 45,
   "id": "a042730f-788d-4d4b-938e-015725fe8c57",
   "metadata": {
    "tags": []
   },
   "outputs": [],
   "source": [
    "import pandas as pd"
   ]
  },
  {
   "cell_type": "markdown",
   "id": "aec7b128-3928-4856-9cc1-8085b988be55",
   "metadata": {},
   "source": [
    "### 1. Wheater API"
   ]
  },
  {
   "cell_type": "markdown",
   "id": "3adf937a-5b6d-4130-a5ed-a95b96abad74",
   "metadata": {
    "tags": []
   },
   "source": [
    "Here we'll be able to get weather data of a chosen city. "
   ]
  },
  {
   "cell_type": "markdown",
   "id": "23e278a1-bb4d-4414-8e78-e471e3976926",
   "metadata": {
    "tags": []
   },
   "source": [
    "As the energy data is given by region, later we'll have to check how many cities we have to take in consideration in order to get the weather in a given region."
   ]
  },
  {
   "cell_type": "code",
   "execution_count": 43,
   "id": "e1277d84-759f-4d65-b41d-b8bff845daa9",
   "metadata": {
    "tags": []
   },
   "outputs": [],
   "source": [
    "city = 'Paris'\n",
    "\n",
    "city_response = requests.get('https://geocoding-api.open-meteo.com/v1/search',\n",
    "                       params = {'name': city}).json()\n",
    "\n",
    "lat = city_info['results'][0]['latitude']\n",
    "lon = city_info['results'][0]['longitude']"
   ]
  },
  {
   "cell_type": "code",
   "execution_count": 87,
   "id": "569f8031-37a8-46a8-bd7f-228d2a28f2ad",
   "metadata": {
    "tags": []
   },
   "outputs": [],
   "source": [
    "end_date = (date.today() - relativedelta(days=9)).strftime('%Y-%m-%d')\n",
    "start_date = (date.today() - relativedelta(years=10)).strftime('%Y-%m-%d')"
   ]
  },
  {
   "cell_type": "code",
   "execution_count": 88,
   "id": "69172a92-5f7d-4efb-a4b5-a7b584eb719b",
   "metadata": {
    "tags": []
   },
   "outputs": [],
   "source": [
    "weather_response = requests.get('https://archive-api.open-meteo.com/v1/archive',\n",
    "                       params = {'latitude': lat,\n",
    "                                'longitude': lon,\n",
    "                                'start_date': start_date,\n",
    "                                'end_date': end_date,\n",
    "                                'hourly':['windspeed_10m','cloudcover']}).json()"
   ]
  },
  {
   "cell_type": "code",
   "execution_count": 89,
   "id": "f47e6d24-03ef-47eb-9993-d73e4ba0cdeb",
   "metadata": {
    "tags": []
   },
   "outputs": [
    {
     "data": {
      "text/html": [
       "<div>\n",
       "<style scoped>\n",
       "    .dataframe tbody tr th:only-of-type {\n",
       "        vertical-align: middle;\n",
       "    }\n",
       "\n",
       "    .dataframe tbody tr th {\n",
       "        vertical-align: top;\n",
       "    }\n",
       "\n",
       "    .dataframe thead th {\n",
       "        text-align: right;\n",
       "    }\n",
       "</style>\n",
       "<table border=\"1\" class=\"dataframe\">\n",
       "  <thead>\n",
       "    <tr style=\"text-align: right;\">\n",
       "      <th></th>\n",
       "      <th>time</th>\n",
       "      <th>windspeed_10m</th>\n",
       "      <th>cloudcover</th>\n",
       "    </tr>\n",
       "  </thead>\n",
       "  <tbody>\n",
       "    <tr>\n",
       "      <th>0</th>\n",
       "      <td>2013-03-08T00:00</td>\n",
       "      <td>9.6</td>\n",
       "      <td>62</td>\n",
       "    </tr>\n",
       "    <tr>\n",
       "      <th>1</th>\n",
       "      <td>2013-03-08T01:00</td>\n",
       "      <td>10.8</td>\n",
       "      <td>79</td>\n",
       "    </tr>\n",
       "    <tr>\n",
       "      <th>2</th>\n",
       "      <td>2013-03-08T02:00</td>\n",
       "      <td>12.1</td>\n",
       "      <td>100</td>\n",
       "    </tr>\n",
       "    <tr>\n",
       "      <th>3</th>\n",
       "      <td>2013-03-08T03:00</td>\n",
       "      <td>12.3</td>\n",
       "      <td>100</td>\n",
       "    </tr>\n",
       "    <tr>\n",
       "      <th>4</th>\n",
       "      <td>2013-03-08T04:00</td>\n",
       "      <td>11.3</td>\n",
       "      <td>100</td>\n",
       "    </tr>\n",
       "    <tr>\n",
       "      <th>...</th>\n",
       "      <td>...</td>\n",
       "      <td>...</td>\n",
       "      <td>...</td>\n",
       "    </tr>\n",
       "    <tr>\n",
       "      <th>87451</th>\n",
       "      <td>2023-02-27T19:00</td>\n",
       "      <td>18.9</td>\n",
       "      <td>2</td>\n",
       "    </tr>\n",
       "    <tr>\n",
       "      <th>87452</th>\n",
       "      <td>2023-02-27T20:00</td>\n",
       "      <td>18.1</td>\n",
       "      <td>0</td>\n",
       "    </tr>\n",
       "    <tr>\n",
       "      <th>87453</th>\n",
       "      <td>2023-02-27T21:00</td>\n",
       "      <td>17.6</td>\n",
       "      <td>1</td>\n",
       "    </tr>\n",
       "    <tr>\n",
       "      <th>87454</th>\n",
       "      <td>2023-02-27T22:00</td>\n",
       "      <td>16.1</td>\n",
       "      <td>5</td>\n",
       "    </tr>\n",
       "    <tr>\n",
       "      <th>87455</th>\n",
       "      <td>2023-02-27T23:00</td>\n",
       "      <td>15.2</td>\n",
       "      <td>0</td>\n",
       "    </tr>\n",
       "  </tbody>\n",
       "</table>\n",
       "<p>87456 rows × 3 columns</p>\n",
       "</div>"
      ],
      "text/plain": [
       "                   time  windspeed_10m  cloudcover\n",
       "0      2013-03-08T00:00            9.6          62\n",
       "1      2013-03-08T01:00           10.8          79\n",
       "2      2013-03-08T02:00           12.1         100\n",
       "3      2013-03-08T03:00           12.3         100\n",
       "4      2013-03-08T04:00           11.3         100\n",
       "...                 ...            ...         ...\n",
       "87451  2023-02-27T19:00           18.9           2\n",
       "87452  2023-02-27T20:00           18.1           0\n",
       "87453  2023-02-27T21:00           17.6           1\n",
       "87454  2023-02-27T22:00           16.1           5\n",
       "87455  2023-02-27T23:00           15.2           0\n",
       "\n",
       "[87456 rows x 3 columns]"
      ]
     },
     "execution_count": 89,
     "metadata": {},
     "output_type": "execute_result"
    }
   ],
   "source": [
    "weather_df = pd.DataFrame(weather_response['hourly'], columns = ['time','windspeed_10m','cloudcover'])\n",
    "\n",
    "weather_df"
   ]
  },
  {
   "cell_type": "markdown",
   "id": "da98902c-3591-4d83-8998-b33475f973e6",
   "metadata": {},
   "source": [
    "### 2. Energy API"
   ]
  },
  {
   "cell_type": "code",
   "execution_count": null,
   "id": "c976e166-4a10-4991-a1bb-b5a8b6f75b96",
   "metadata": {},
   "outputs": [],
   "source": [
    "energy_response = requests.get('',\n",
    "                       params = {}).json()"
   ]
  }
 ],
 "metadata": {
  "kernelspec": {
   "display_name": "Python 3 (ipykernel)",
   "language": "python",
   "name": "python3"
  },
  "language_info": {
   "codemirror_mode": {
    "name": "ipython",
    "version": 3
   },
   "file_extension": ".py",
   "mimetype": "text/x-python",
   "name": "python",
   "nbconvert_exporter": "python",
   "pygments_lexer": "ipython3",
   "version": "3.10.6"
  }
 },
 "nbformat": 4,
 "nbformat_minor": 5
}
