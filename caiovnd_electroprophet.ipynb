{
 "cells": [
  {
   "cell_type": "markdown",
   "id": "98cbf15d-e740-4eea-96a0-bf4dea556b41",
   "metadata": {
    "tags": []
   },
   "source": [
    "# Electroprophet⚡️"
   ]
  },
  {
   "cell_type": "markdown",
   "id": "ac62b8e9-e2cb-43fd-82ee-100d6e6eb6b9",
   "metadata": {},
   "source": [
    "In this notebook, I will do the first steps on our final project for Le Wagon's Data Science bootcamp. Here, I'll try to model the carbon emission in France using weather data, in order to provide recomendations for users to reduce their carbon footprint 👣."
   ]
  },
  {
   "cell_type": "markdown",
   "id": "2ba1f429-683a-4848-ba55-8eb20f891eb2",
   "metadata": {},
   "source": [
    "## Getting the data"
   ]
  },
  {
   "cell_type": "code",
   "execution_count": 75,
   "id": "1af9676c-8557-40d0-a4e9-267e2f728e49",
   "metadata": {
    "tags": []
   },
   "outputs": [],
   "source": [
    "%load_ext autoreload\n",
    "%autoreload 2"
   ]
  },
  {
   "cell_type": "markdown",
   "id": "aec7b128-3928-4856-9cc1-8085b988be55",
   "metadata": {
    "tags": []
   },
   "source": [
    "### 1. Wheater API"
   ]
  },
  {
   "cell_type": "markdown",
   "id": "3adf937a-5b6d-4130-a5ed-a95b96abad74",
   "metadata": {
    "tags": []
   },
   "source": [
    "Here we'll be able to get weather data of a chosen city. "
   ]
  },
  {
   "cell_type": "markdown",
   "id": "23e278a1-bb4d-4414-8e78-e471e3976926",
   "metadata": {
    "tags": []
   },
   "source": [
    "As the energy data is given by region, later we'll have to check how many cities we have to take in consideration in order to get the weather in a given region."
   ]
  },
  {
   "cell_type": "code",
   "execution_count": 158,
   "id": "76509299-5d6b-4488-a77e-f2f5e70dc882",
   "metadata": {
    "tags": []
   },
   "outputs": [],
   "source": [
    "def get_weather(city, years=10, overwrite=False):\n",
    "    \n",
    "    '''\n",
    "    This function receives the name of a city and a number of years, and returns a dataframe \n",
    "    with weather data from this city during those past years\n",
    "    '''\n",
    "    \n",
    "    import requests\n",
    "    import datetime\n",
    "    from dateutil.relativedelta import relativedelta\n",
    "    import pandas as pd\n",
    "    import os.path\n",
    "    \n",
    "    path = './raw_data/df_' + city.lower() + '_weather.csv'\n",
    "    file_exists = os.path.isfile(path) \n",
    "    \n",
    "    if file_exists and not overwrite:\n",
    "        \n",
    "        print('Found a file for this city. Importing...')\n",
    "        \n",
    "        weather_df = pd.read_csv(path, index_col=0)\n",
    "        \n",
    "    else:\n",
    "        \n",
    "        print('Creating a new .csv file for this city')\n",
    "        \n",
    "        # First we declare the weather parameters. Here we'll be taking all params supported by the API\n",
    "        weather_params = ['temperature_2m','relativehumidity_2m','dewpoint_2m',\n",
    "                      'apparent_temperature','pressure_msl','surface_pressure',\n",
    "                      'precipitation','rain','snowfall','cloudcover',\n",
    "                      'cloudcover_low','cloudcover_mid','cloudcover_high',\n",
    "                      'shortwave_radiation','direct_radiation','direct_normal_irradiance',\n",
    "                      'diffuse_radiation','windspeed_10m','windspeed_100m',\n",
    "                      'winddirection_10m','winddirection_100m','windgusts_10m',\n",
    "                      'et0_fao_evapotranspiration','weathercode','vapor_pressure_deficit',\n",
    "                      'soil_temperature_0_to_7cm','soil_temperature_7_to_28cm',\n",
    "                      'soil_temperature_28_to_100cm','soil_temperature_100_to_255cm',\n",
    "                      'soil_moisture_0_to_7cm','soil_moisture_7_to_28cm',\n",
    "                      'soil_moisture_28_to_100cm','soil_moisture_100_to_255cm']\n",
    "\n",
    "        # This request is done in order to get the latitude and longitude of the desired city\n",
    "        city_response = requests.get('https://geocoding-api.open-meteo.com/v1/search',\n",
    "                           params = {'name': city}).json()\n",
    "\n",
    "        lat = city_response['results'][0]['latitude']\n",
    "        lon = city_response['results'][0]['longitude']\n",
    "\n",
    "        # Then we compute the dates used to get the weather data\n",
    "        ## The API only has data until 9 days ago\n",
    "        end_date = (datetime.date.today() - relativedelta(days=8)).strftime('%Y-%m-%d') \n",
    "        start_date = (datetime.date.today() - relativedelta(years=years)).strftime('%Y-%m-%d')\n",
    "\n",
    "        # So we make the request to the weather API archive\n",
    "        weather_response = requests.get('https://archive-api.open-meteo.com/v1/archive',\n",
    "                           params = {'latitude': lat,\n",
    "                                    'longitude': lon,\n",
    "                                    'start_date': start_date,\n",
    "                                    'end_date': end_date,\n",
    "                                    'hourly': weather_params,\n",
    "                                    'timezone': 'auto'}).json()\n",
    "\n",
    "        weather_df = pd.DataFrame(weather_response['hourly'], columns = ['time'] + weather_params)\n",
    "        \n",
    "        weather_df.to_csv(path, index=False)\n",
    "    \n",
    "    print('Done')\n",
    "    return weather_df"
   ]
  },
  {
   "cell_type": "code",
   "execution_count": 160,
   "id": "3726edb6-a3ff-46c3-ab2c-fa5d9d676ea9",
   "metadata": {
    "tags": []
   },
   "outputs": [
    {
     "name": "stdout",
     "output_type": "stream",
     "text": [
      "Creating a new .csv file for Amiens\n",
      "Done ✅\n",
      "Creating a new .csv file for Paris\n",
      "Done ✅\n",
      "Creating a new .csv file for Marseille\n",
      "Done ✅\n"
     ]
    }
   ],
   "source": [
    "from prophecy import data\n",
    "\n",
    "df = data.get_weather('Amiens',overwrite=True)\n",
    "df = data.get_weather('Paris',overwrite=True)\n",
    "df = data.get_weather('Marseille',overwrite=True)"
   ]
  },
  {
   "cell_type": "markdown",
   "id": "daff7621-573e-4404-8d5c-9b9d5f8486ff",
   "metadata": {},
   "source": [
    "## Preprocessing the weather data"
   ]
  },
  {
   "cell_type": "markdown",
   "id": "aeb79de4-de43-45d9-94b9-9b8cce4ce715",
   "metadata": {},
   "source": [
    "First let's explore and see if we find any problems"
   ]
  },
  {
   "cell_type": "code",
   "execution_count": 144,
   "id": "f10651d2-27fc-4ec7-8c16-12fd7282ce43",
   "metadata": {
    "tags": []
   },
   "outputs": [
    {
     "data": {
      "text/plain": [
       "0"
      ]
     },
     "execution_count": 144,
     "metadata": {},
     "output_type": "execute_result"
    }
   ],
   "source": [
    "df.duplicated().sum() # Checking for duplicates"
   ]
  },
  {
   "cell_type": "code",
   "execution_count": 145,
   "id": "b3a42b46-0e0b-425c-a030-da80c428bf05",
   "metadata": {
    "tags": []
   },
   "outputs": [
    {
     "data": {
      "text/plain": [
       "time                             0.0\n",
       "vapor_pressure_deficit           0.0\n",
       "windspeed_100m                   0.0\n",
       "winddirection_10m                0.0\n",
       "winddirection_100m               0.0\n",
       "windgusts_10m                    0.0\n",
       "et0_fao_evapotranspiration       0.0\n",
       "weathercode                      0.0\n",
       "soil_temperature_0_to_7cm        0.0\n",
       "temperature_2m                   0.0\n",
       "soil_temperature_7_to_28cm       0.0\n",
       "soil_temperature_28_to_100cm     0.0\n",
       "soil_temperature_100_to_255cm    0.0\n",
       "soil_moisture_0_to_7cm           0.0\n",
       "soil_moisture_7_to_28cm          0.0\n",
       "soil_moisture_28_to_100cm        0.0\n",
       "windspeed_10m                    0.0\n",
       "diffuse_radiation                0.0\n",
       "direct_normal_irradiance         0.0\n",
       "direct_radiation                 0.0\n",
       "shortwave_radiation              0.0\n",
       "cloudcover_high                  0.0\n",
       "cloudcover_mid                   0.0\n",
       "cloudcover_low                   0.0\n",
       "cloudcover                       0.0\n",
       "snowfall                         0.0\n",
       "rain                             0.0\n",
       "precipitation                    0.0\n",
       "surface_pressure                 0.0\n",
       "pressure_msl                     0.0\n",
       "apparent_temperature             0.0\n",
       "dewpoint_2m                      0.0\n",
       "relativehumidity_2m              0.0\n",
       "soil_moisture_100_to_255cm       0.0\n",
       "dtype: float64"
      ]
     },
     "execution_count": 145,
     "metadata": {},
     "output_type": "execute_result"
    }
   ],
   "source": [
    "df.isnull().sum().sort_values(ascending=False)/len(df) # Checking for null values"
   ]
  },
  {
   "cell_type": "markdown",
   "id": "be828314-0f47-4636-8ac2-41fb92e73ab2",
   "metadata": {},
   "source": [
    "Then we can preprocess our data"
   ]
  },
  {
   "cell_type": "code",
   "execution_count": 146,
   "id": "b428918c-2279-41a8-893e-69af6953dee3",
   "metadata": {
    "tags": []
   },
   "outputs": [],
   "source": [
    "from sklearn.preprocessing import MinMaxScaler"
   ]
  },
  {
   "cell_type": "code",
   "execution_count": 147,
   "id": "3dd52805-77f0-42d6-a0e5-63df48a8f393",
   "metadata": {
    "tags": []
   },
   "outputs": [],
   "source": [
    "scaler = MinMaxScaler()\n",
    "df_preproc = df.copy()\n",
    "for feature in weather_params:\n",
    "    scaler.fit(df[[feature]])\n",
    "    df_preproc[feature] = scaler.transform(df[[feature]])"
   ]
  },
  {
   "cell_type": "code",
   "execution_count": 149,
   "id": "669d68ce-bc01-4eb1-8b98-d25d7536a14c",
   "metadata": {
    "tags": []
   },
   "outputs": [
    {
     "data": {
      "text/html": [
       "<div>\n",
       "<style scoped>\n",
       "    .dataframe tbody tr th:only-of-type {\n",
       "        vertical-align: middle;\n",
       "    }\n",
       "\n",
       "    .dataframe tbody tr th {\n",
       "        vertical-align: top;\n",
       "    }\n",
       "\n",
       "    .dataframe thead th {\n",
       "        text-align: right;\n",
       "    }\n",
       "</style>\n",
       "<table border=\"1\" class=\"dataframe\">\n",
       "  <thead>\n",
       "    <tr style=\"text-align: right;\">\n",
       "      <th></th>\n",
       "      <th>time</th>\n",
       "      <th>temperature_2m</th>\n",
       "      <th>relativehumidity_2m</th>\n",
       "      <th>dewpoint_2m</th>\n",
       "      <th>apparent_temperature</th>\n",
       "      <th>pressure_msl</th>\n",
       "      <th>surface_pressure</th>\n",
       "      <th>precipitation</th>\n",
       "      <th>rain</th>\n",
       "      <th>snowfall</th>\n",
       "      <th>...</th>\n",
       "      <th>weathercode</th>\n",
       "      <th>vapor_pressure_deficit</th>\n",
       "      <th>soil_temperature_0_to_7cm</th>\n",
       "      <th>soil_temperature_7_to_28cm</th>\n",
       "      <th>soil_temperature_28_to_100cm</th>\n",
       "      <th>soil_temperature_100_to_255cm</th>\n",
       "      <th>soil_moisture_0_to_7cm</th>\n",
       "      <th>soil_moisture_7_to_28cm</th>\n",
       "      <th>soil_moisture_28_to_100cm</th>\n",
       "      <th>soil_moisture_100_to_255cm</th>\n",
       "    </tr>\n",
       "  </thead>\n",
       "  <tbody>\n",
       "    <tr>\n",
       "      <th>0</th>\n",
       "      <td>2013-03-09T00:00</td>\n",
       "      <td>0.334239</td>\n",
       "      <td>0.870130</td>\n",
       "      <td>0.547826</td>\n",
       "      <td>0.370722</td>\n",
       "      <td>0.423932</td>\n",
       "      <td>0.427574</td>\n",
       "      <td>0.000000</td>\n",
       "      <td>0.000000</td>\n",
       "      <td>0.0</td>\n",
       "      <td>...</td>\n",
       "      <td>0.013333</td>\n",
       "      <td>0.034759</td>\n",
       "      <td>0.242820</td>\n",
       "      <td>0.275362</td>\n",
       "      <td>0.082474</td>\n",
       "      <td>0.022388</td>\n",
       "      <td>0.870968</td>\n",
       "      <td>0.862543</td>\n",
       "      <td>0.69962</td>\n",
       "      <td>0.430556</td>\n",
       "    </tr>\n",
       "    <tr>\n",
       "      <th>1</th>\n",
       "      <td>2013-03-09T01:00</td>\n",
       "      <td>0.358696</td>\n",
       "      <td>0.805195</td>\n",
       "      <td>0.547826</td>\n",
       "      <td>0.346008</td>\n",
       "      <td>0.415385</td>\n",
       "      <td>0.418848</td>\n",
       "      <td>0.000000</td>\n",
       "      <td>0.000000</td>\n",
       "      <td>0.0</td>\n",
       "      <td>...</td>\n",
       "      <td>0.013333</td>\n",
       "      <td>0.053476</td>\n",
       "      <td>0.221932</td>\n",
       "      <td>0.271739</td>\n",
       "      <td>0.082474</td>\n",
       "      <td>0.022388</td>\n",
       "      <td>0.867742</td>\n",
       "      <td>0.862543</td>\n",
       "      <td>0.69962</td>\n",
       "      <td>0.430556</td>\n",
       "    </tr>\n",
       "    <tr>\n",
       "      <th>2</th>\n",
       "      <td>2013-03-09T02:00</td>\n",
       "      <td>0.364130</td>\n",
       "      <td>0.805195</td>\n",
       "      <td>0.553623</td>\n",
       "      <td>0.315589</td>\n",
       "      <td>0.415385</td>\n",
       "      <td>0.417103</td>\n",
       "      <td>0.000000</td>\n",
       "      <td>0.000000</td>\n",
       "      <td>0.0</td>\n",
       "      <td>...</td>\n",
       "      <td>0.026667</td>\n",
       "      <td>0.056150</td>\n",
       "      <td>0.206266</td>\n",
       "      <td>0.264493</td>\n",
       "      <td>0.082474</td>\n",
       "      <td>0.022388</td>\n",
       "      <td>0.864516</td>\n",
       "      <td>0.862543</td>\n",
       "      <td>0.69962</td>\n",
       "      <td>0.430556</td>\n",
       "    </tr>\n",
       "    <tr>\n",
       "      <th>3</th>\n",
       "      <td>2013-03-09T03:00</td>\n",
       "      <td>0.277174</td>\n",
       "      <td>0.922078</td>\n",
       "      <td>0.507246</td>\n",
       "      <td>0.307985</td>\n",
       "      <td>0.403419</td>\n",
       "      <td>0.404887</td>\n",
       "      <td>0.000000</td>\n",
       "      <td>0.000000</td>\n",
       "      <td>0.0</td>\n",
       "      <td>...</td>\n",
       "      <td>0.026667</td>\n",
       "      <td>0.018717</td>\n",
       "      <td>0.198433</td>\n",
       "      <td>0.257246</td>\n",
       "      <td>0.082474</td>\n",
       "      <td>0.022388</td>\n",
       "      <td>0.864516</td>\n",
       "      <td>0.862543</td>\n",
       "      <td>0.69962</td>\n",
       "      <td>0.430556</td>\n",
       "    </tr>\n",
       "    <tr>\n",
       "      <th>4</th>\n",
       "      <td>2013-03-09T04:00</td>\n",
       "      <td>0.277174</td>\n",
       "      <td>0.948052</td>\n",
       "      <td>0.515942</td>\n",
       "      <td>0.302281</td>\n",
       "      <td>0.388034</td>\n",
       "      <td>0.389180</td>\n",
       "      <td>0.008475</td>\n",
       "      <td>0.008475</td>\n",
       "      <td>0.0</td>\n",
       "      <td>...</td>\n",
       "      <td>0.680000</td>\n",
       "      <td>0.010695</td>\n",
       "      <td>0.203655</td>\n",
       "      <td>0.250000</td>\n",
       "      <td>0.082474</td>\n",
       "      <td>0.022388</td>\n",
       "      <td>0.867742</td>\n",
       "      <td>0.859107</td>\n",
       "      <td>0.69962</td>\n",
       "      <td>0.430556</td>\n",
       "    </tr>\n",
       "  </tbody>\n",
       "</table>\n",
       "<p>5 rows × 34 columns</p>\n",
       "</div>"
      ],
      "text/plain": [
       "               time  temperature_2m  relativehumidity_2m  dewpoint_2m  \\\n",
       "0  2013-03-09T00:00        0.334239             0.870130     0.547826   \n",
       "1  2013-03-09T01:00        0.358696             0.805195     0.547826   \n",
       "2  2013-03-09T02:00        0.364130             0.805195     0.553623   \n",
       "3  2013-03-09T03:00        0.277174             0.922078     0.507246   \n",
       "4  2013-03-09T04:00        0.277174             0.948052     0.515942   \n",
       "\n",
       "   apparent_temperature  pressure_msl  surface_pressure  precipitation  \\\n",
       "0              0.370722      0.423932          0.427574       0.000000   \n",
       "1              0.346008      0.415385          0.418848       0.000000   \n",
       "2              0.315589      0.415385          0.417103       0.000000   \n",
       "3              0.307985      0.403419          0.404887       0.000000   \n",
       "4              0.302281      0.388034          0.389180       0.008475   \n",
       "\n",
       "       rain  snowfall  ...  weathercode  vapor_pressure_deficit  \\\n",
       "0  0.000000       0.0  ...     0.013333                0.034759   \n",
       "1  0.000000       0.0  ...     0.013333                0.053476   \n",
       "2  0.000000       0.0  ...     0.026667                0.056150   \n",
       "3  0.000000       0.0  ...     0.026667                0.018717   \n",
       "4  0.008475       0.0  ...     0.680000                0.010695   \n",
       "\n",
       "   soil_temperature_0_to_7cm  soil_temperature_7_to_28cm  \\\n",
       "0                   0.242820                    0.275362   \n",
       "1                   0.221932                    0.271739   \n",
       "2                   0.206266                    0.264493   \n",
       "3                   0.198433                    0.257246   \n",
       "4                   0.203655                    0.250000   \n",
       "\n",
       "   soil_temperature_28_to_100cm  soil_temperature_100_to_255cm  \\\n",
       "0                      0.082474                       0.022388   \n",
       "1                      0.082474                       0.022388   \n",
       "2                      0.082474                       0.022388   \n",
       "3                      0.082474                       0.022388   \n",
       "4                      0.082474                       0.022388   \n",
       "\n",
       "   soil_moisture_0_to_7cm  soil_moisture_7_to_28cm  soil_moisture_28_to_100cm  \\\n",
       "0                0.870968                 0.862543                    0.69962   \n",
       "1                0.867742                 0.862543                    0.69962   \n",
       "2                0.864516                 0.862543                    0.69962   \n",
       "3                0.864516                 0.862543                    0.69962   \n",
       "4                0.867742                 0.859107                    0.69962   \n",
       "\n",
       "   soil_moisture_100_to_255cm  \n",
       "0                    0.430556  \n",
       "1                    0.430556  \n",
       "2                    0.430556  \n",
       "3                    0.430556  \n",
       "4                    0.430556  \n",
       "\n",
       "[5 rows x 34 columns]"
      ]
     },
     "execution_count": 149,
     "metadata": {},
     "output_type": "execute_result"
    }
   ],
   "source": [
    "df_preproc.head()"
   ]
  }
 ],
 "metadata": {
  "kernelspec": {
   "display_name": "Python 3 (ipykernel)",
   "language": "python",
   "name": "python3"
  },
  "language_info": {
   "codemirror_mode": {
    "name": "ipython",
    "version": 3
   },
   "file_extension": ".py",
   "mimetype": "text/x-python",
   "name": "python",
   "nbconvert_exporter": "python",
   "pygments_lexer": "ipython3",
   "version": "3.10.6"
  }
 },
 "nbformat": 4,
 "nbformat_minor": 5
}
