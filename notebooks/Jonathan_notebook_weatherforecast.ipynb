{
 "cells": [
  {
   "cell_type": "code",
   "execution_count": null,
   "id": "090ed013",
   "metadata": {},
   "outputs": [],
   "source": [
    "# copy model from get_data.py\n",
    "# replace list of cities by just one city."
   ]
  },
  {
   "cell_type": "code",
   "execution_count": null,
   "id": "18fdea5e",
   "metadata": {},
   "outputs": [],
   "source": [
    "# error on line 81\n",
    "\n",
    "# KeyError                                  Traceback (most recent call last)\n",
    "# Cell In[54], line 1\n",
    "# ----> 1 forecast.get_weather_forecast()\n",
    "\n",
    "# Cell In[51], line 81, in WeatherForecast.get_weather_forecast(self)\n",
    "#      74 # So we make the request to the weather API archive\n",
    "#      75 weather_forecast_response= requests.get('https://api.open-meteo.com/v1/forecast',\n",
    "#      76                     params = {'latitude': lat,\n",
    "#      77                                 'longitude': lan,\n",
    "#      78                                 'forecast_days' : self.days,\n",
    "#      79                                 'hourly': weather_params,\n",
    "#      80                                 'timezone': 'auto'}).json()\n",
    "# ---> 81 weather_forecast_df = pd.DataFrame(weather_forecast_response['hourly'], columns = ['time'] + weather_params)\n",
    "#      82 weather_forecast_df['time'] = pd.to_datetime(weather_forecast_df['time'], format='%Y-%m-%d')\n",
    "#      83 weather_forecast_df = weather_forecast_df.set_index('time')\n",
    "\n",
    "# KeyError: 'hourly'"
   ]
  },
  {
   "cell_type": "code",
   "execution_count": 6,
   "id": "470ad8d9",
   "metadata": {},
   "outputs": [],
   "source": [
    "import pandas as pd\n",
    "import requests\n",
    "from datetime import date\n",
    "from dateutil.relativedelta import relativedelta\n",
    "from geopy.geocoders import Nominatim"
   ]
  },
  {
   "cell_type": "code",
   "execution_count": null,
   "id": "b125a7ea",
   "metadata": {},
   "outputs": [],
   "source": []
  },
  {
   "cell_type": "code",
   "execution_count": 51,
   "id": "ee5ca0a4",
   "metadata": {},
   "outputs": [],
   "source": [
    "class WeatherForecast:\n",
    "    def __init__(self, city:str, days:int):\n",
    "        self.city = city\n",
    "        self.days = days\n",
    "\n",
    "    def get_city_lonlan(self):\n",
    "        '''\n",
    "        This function receives the name of one city and returns the lat and lon of that city\n",
    "        in a dictionary\n",
    "        '''\n",
    "\n",
    "        # Create a geolocator object\n",
    "        geolocator = Nominatim(user_agent=\"my_app\")\n",
    "\n",
    "        #save the coordinates of each city in self.city in a dictionary\n",
    "        coordinates = {}\n",
    "        \n",
    "        # Get the location of the city\n",
    "        location = geolocator.geocode(self.city)\n",
    "\n",
    "        #check if the location exists\n",
    "        if location:\n",
    "            lat, lon = location.latitude, location.longitude # Extract the latitude and longitude\n",
    "            coordinates[self.city] = [lat,lon]\n",
    "        else:\n",
    "            print(f\"Could not retrieve coordinates for {self.city}\")\n",
    "\n",
    "        return coordinates\n",
    "\n",
    "    def get_weather_forecast(self):\n",
    "\n",
    "        '''\n",
    "        This function receives \n",
    "            * the name of the city list\n",
    "            * a number of days of weather forecast we want to work on\n",
    "            \n",
    "        This function returns a dataframe with the average of the weather data from these city list during those days of forecast\n",
    "        '''\n",
    "\n",
    "        # First we declare the weather parameters. Here we'll be taking all params supported by the API\n",
    "        weather_params = ['temperature_2m','relativehumidity_2m','dewpoint_2m',\n",
    "                      'apparent_temperature','pressure_msl','surface_pressure',\n",
    "                      'precipitation','rain','snowfall','cloudcover',\n",
    "                      'cloudcover_low','cloudcover_mid','cloudcover_high',\n",
    "                      'shortwave_radiation','direct_radiation','direct_normal_irradiance',\n",
    "                      'diffuse_radiation','windspeed_10m','windspeed_100m',\n",
    "                      'winddirection_10m','winddirection_100m','windgusts_10m',\n",
    "                      'et0_fao_evapotranspiration','weathercode','vapor_pressure_deficit',\n",
    "                      'soil_temperature_0_to_7cm','soil_temperature_7_to_28cm',\n",
    "                      'soil_temperature_28_to_100cm','soil_temperature_100_to_255cm',\n",
    "                      'soil_moisture_0_to_7cm','soil_moisture_7_to_28cm',\n",
    "                      'soil_moisture_28_to_100cm','soil_moisture_100_to_255cm']\n",
    "\n",
    "        # Then we compute the dates used to get the weather forecast data\n",
    "        \n",
    "        # end_date : today + number of days of forecast (self.days)\n",
    "        end_date = (date.today() + relativedelta(days=self.days)).strftime('%Y-%m-%d')\n",
    "        \n",
    "        #start_date : today at midnight\n",
    "        start_date = (date.today()).strftime('%Y-%m-%d')\n",
    "\n",
    "        #call the method to receive the coordinates from the self.city list\n",
    "        coordinates = self.get_city_lonlan()\n",
    "        \n",
    "        #create an empty dataframe\n",
    "        weather_forecast_df_full = pd.DataFrame(columns=weather_params)\n",
    "        # cities = []\n",
    "        \n",
    "        #create a dataframe with weather params for the selected city and store it\n",
    "        lat = coordinates[self.city][0]\n",
    "        lan = coordinates[self.city][1]\n",
    "\n",
    "    \n",
    "        # So we make the request to the weather API archive\n",
    "        weather_forecast_response= requests.get('https://api.open-meteo.com/v1/forecast',\n",
    "                            params = {'latitude': lat,\n",
    "                                        'longitude': lan,\n",
    "                                        'forecast_days' : self.days,\n",
    "                                        'hourly': weather_params,\n",
    "                                        'timezone': 'auto'}).json()\n",
    "        weather_forecast_df = pd.DataFrame(weather_forecast_response['hourly'], columns = ['time'] + weather_params)\n",
    "        weather_forecast_df['time'] = pd.to_datetime(weather_forecast_df['time'], format='%Y-%m-%d')\n",
    "        weather_forecast_df = weather_forecast_df.set_index('time')\n",
    "\n",
    "        # Format float to 1 decimal, sum the 3 tables and return the average\n",
    "        pd.options.display.float_format = \"{:,.1f}\".format\n",
    "\n",
    "        return weather_forecast_df_full"
   ]
  },
  {
   "cell_type": "code",
   "execution_count": 52,
   "id": "cf544083",
   "metadata": {},
   "outputs": [],
   "source": [
    "forecast = WeatherForecast(city=\"Amiens\", days=3)"
   ]
  },
  {
   "cell_type": "code",
   "execution_count": 53,
   "id": "7776bb54",
   "metadata": {},
   "outputs": [
    {
     "data": {
      "text/plain": [
       "{'Amiens': [49.8941708, 2.2956951]}"
      ]
     },
     "execution_count": 53,
     "metadata": {},
     "output_type": "execute_result"
    }
   ],
   "source": [
    "forecast.get_city_lonlan()"
   ]
  },
  {
   "cell_type": "code",
   "execution_count": 54,
   "id": "cad9be76",
   "metadata": {},
   "outputs": [
    {
     "ename": "KeyError",
     "evalue": "'hourly'",
     "output_type": "error",
     "traceback": [
      "\u001b[0;31m---------------------------------------------------------------------------\u001b[0m",
      "\u001b[0;31mKeyError\u001b[0m                                  Traceback (most recent call last)",
      "Cell \u001b[0;32mIn[54], line 1\u001b[0m\n\u001b[0;32m----> 1\u001b[0m \u001b[43mforecast\u001b[49m\u001b[38;5;241;43m.\u001b[39;49m\u001b[43mget_weather_forecast\u001b[49m\u001b[43m(\u001b[49m\u001b[43m)\u001b[49m\n",
      "Cell \u001b[0;32mIn[51], line 81\u001b[0m, in \u001b[0;36mWeatherForecast.get_weather_forecast\u001b[0;34m(self)\u001b[0m\n\u001b[1;32m     74\u001b[0m \u001b[38;5;66;03m# So we make the request to the weather API archive\u001b[39;00m\n\u001b[1;32m     75\u001b[0m weather_forecast_response\u001b[38;5;241m=\u001b[39m requests\u001b[38;5;241m.\u001b[39mget(\u001b[38;5;124m'\u001b[39m\u001b[38;5;124mhttps://api.open-meteo.com/v1/forecast\u001b[39m\u001b[38;5;124m'\u001b[39m,\n\u001b[1;32m     76\u001b[0m                     params \u001b[38;5;241m=\u001b[39m {\u001b[38;5;124m'\u001b[39m\u001b[38;5;124mlatitude\u001b[39m\u001b[38;5;124m'\u001b[39m: lat,\n\u001b[1;32m     77\u001b[0m                                 \u001b[38;5;124m'\u001b[39m\u001b[38;5;124mlongitude\u001b[39m\u001b[38;5;124m'\u001b[39m: lan,\n\u001b[1;32m     78\u001b[0m                                 \u001b[38;5;124m'\u001b[39m\u001b[38;5;124mforecast_days\u001b[39m\u001b[38;5;124m'\u001b[39m : \u001b[38;5;28mself\u001b[39m\u001b[38;5;241m.\u001b[39mdays,\n\u001b[1;32m     79\u001b[0m                                 \u001b[38;5;124m'\u001b[39m\u001b[38;5;124mhourly\u001b[39m\u001b[38;5;124m'\u001b[39m: weather_params,\n\u001b[1;32m     80\u001b[0m                                 \u001b[38;5;124m'\u001b[39m\u001b[38;5;124mtimezone\u001b[39m\u001b[38;5;124m'\u001b[39m: \u001b[38;5;124m'\u001b[39m\u001b[38;5;124mauto\u001b[39m\u001b[38;5;124m'\u001b[39m})\u001b[38;5;241m.\u001b[39mjson()\n\u001b[0;32m---> 81\u001b[0m weather_forecast_df \u001b[38;5;241m=\u001b[39m pd\u001b[38;5;241m.\u001b[39mDataFrame(\u001b[43mweather_forecast_response\u001b[49m\u001b[43m[\u001b[49m\u001b[38;5;124;43m'\u001b[39;49m\u001b[38;5;124;43mhourly\u001b[39;49m\u001b[38;5;124;43m'\u001b[39;49m\u001b[43m]\u001b[49m, columns \u001b[38;5;241m=\u001b[39m [\u001b[38;5;124m'\u001b[39m\u001b[38;5;124mtime\u001b[39m\u001b[38;5;124m'\u001b[39m] \u001b[38;5;241m+\u001b[39m weather_params)\n\u001b[1;32m     82\u001b[0m weather_forecast_df[\u001b[38;5;124m'\u001b[39m\u001b[38;5;124mtime\u001b[39m\u001b[38;5;124m'\u001b[39m] \u001b[38;5;241m=\u001b[39m pd\u001b[38;5;241m.\u001b[39mto_datetime(weather_forecast_df[\u001b[38;5;124m'\u001b[39m\u001b[38;5;124mtime\u001b[39m\u001b[38;5;124m'\u001b[39m], \u001b[38;5;28mformat\u001b[39m\u001b[38;5;241m=\u001b[39m\u001b[38;5;124m'\u001b[39m\u001b[38;5;124m%\u001b[39m\u001b[38;5;124mY-\u001b[39m\u001b[38;5;124m%\u001b[39m\u001b[38;5;124mm-\u001b[39m\u001b[38;5;132;01m%d\u001b[39;00m\u001b[38;5;124m'\u001b[39m)\n\u001b[1;32m     83\u001b[0m weather_forecast_df \u001b[38;5;241m=\u001b[39m weather_forecast_df\u001b[38;5;241m.\u001b[39mset_index(\u001b[38;5;124m'\u001b[39m\u001b[38;5;124mtime\u001b[39m\u001b[38;5;124m'\u001b[39m)\n",
      "\u001b[0;31mKeyError\u001b[0m: 'hourly'"
     ]
    }
   ],
   "source": [
    "forecast.get_weather_forecast()"
   ]
  },
  {
   "cell_type": "code",
   "execution_count": null,
   "id": "f4f1e843",
   "metadata": {},
   "outputs": [],
   "source": []
  }
 ],
 "metadata": {
  "kernelspec": {
   "display_name": "Python 3 (ipykernel)",
   "language": "python",
   "name": "python3"
  },
  "language_info": {
   "codemirror_mode": {
    "name": "ipython",
    "version": 3
   },
   "file_extension": ".py",
   "mimetype": "text/x-python",
   "name": "python",
   "nbconvert_exporter": "python",
   "pygments_lexer": "ipython3",
   "version": "3.10.6"
  },
  "toc": {
   "base_numbering": 1,
   "nav_menu": {},
   "number_sections": true,
   "sideBar": true,
   "skip_h1_title": false,
   "title_cell": "Table of Contents",
   "title_sidebar": "Contents",
   "toc_cell": false,
   "toc_position": {},
   "toc_section_display": true,
   "toc_window_display": false
  }
 },
 "nbformat": 4,
 "nbformat_minor": 5
}
