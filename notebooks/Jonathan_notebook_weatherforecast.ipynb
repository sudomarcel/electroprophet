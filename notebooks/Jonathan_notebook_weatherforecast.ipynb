{
 "cells": [
  {
   "cell_type": "code",
   "execution_count": null,
   "id": "72a61543",
   "metadata": {},
   "outputs": [],
   "source": [
    "# copy model from get_data.py\n",
    "# replace list of cities by just one city."
   ]
  },
  {
   "cell_type": "code",
   "execution_count": 6,
   "id": "4e7dd0f6",
   "metadata": {},
   "outputs": [],
   "source": [
    "import pandas as pd\n",
    "import requests\n",
    "from datetime import date\n",
    "from dateutil.relativedelta import relativedelta\n",
    "from geopy.geocoders import Nominatim"
   ]
  },
  {
   "cell_type": "code",
   "execution_count": null,
   "id": "ae85445d",
   "metadata": {},
   "outputs": [],
   "source": []
  },
  {
   "cell_type": "code",
   "execution_count": 50,
   "id": "64e951b0",
   "metadata": {},
   "outputs": [
    {
     "ename": "NameError",
     "evalue": "name 'self' is not defined",
     "output_type": "error",
     "traceback": [
      "\u001b[0;31m---------------------------------------------------------------------------\u001b[0m",
      "\u001b[0;31mNameError\u001b[0m                                 Traceback (most recent call last)",
      "Cell \u001b[0;32mIn[50], line 17\u001b[0m\n\u001b[1;32m      1\u001b[0m weather_params \u001b[38;5;241m=\u001b[39m [\u001b[38;5;124m'\u001b[39m\u001b[38;5;124mtemperature_2m\u001b[39m\u001b[38;5;124m'\u001b[39m,\u001b[38;5;124m'\u001b[39m\u001b[38;5;124mrelativehumidity_2m\u001b[39m\u001b[38;5;124m'\u001b[39m,\u001b[38;5;124m'\u001b[39m\u001b[38;5;124mdewpoint_2m\u001b[39m\u001b[38;5;124m'\u001b[39m,\n\u001b[1;32m      2\u001b[0m                       \u001b[38;5;124m'\u001b[39m\u001b[38;5;124mapparent_temperature\u001b[39m\u001b[38;5;124m'\u001b[39m,\u001b[38;5;124m'\u001b[39m\u001b[38;5;124mpressure_msl\u001b[39m\u001b[38;5;124m'\u001b[39m,\u001b[38;5;124m'\u001b[39m\u001b[38;5;124msurface_pressure\u001b[39m\u001b[38;5;124m'\u001b[39m,\n\u001b[1;32m      3\u001b[0m                       \u001b[38;5;124m'\u001b[39m\u001b[38;5;124mprecipitation\u001b[39m\u001b[38;5;124m'\u001b[39m,\u001b[38;5;124m'\u001b[39m\u001b[38;5;124mrain\u001b[39m\u001b[38;5;124m'\u001b[39m,\u001b[38;5;124m'\u001b[39m\u001b[38;5;124msnowfall\u001b[39m\u001b[38;5;124m'\u001b[39m,\u001b[38;5;124m'\u001b[39m\u001b[38;5;124mcloudcover\u001b[39m\u001b[38;5;124m'\u001b[39m,\n\u001b[0;32m   (...)\u001b[0m\n\u001b[1;32m     11\u001b[0m                       \u001b[38;5;124m'\u001b[39m\u001b[38;5;124msoil_moisture_0_to_7cm\u001b[39m\u001b[38;5;124m'\u001b[39m,\u001b[38;5;124m'\u001b[39m\u001b[38;5;124msoil_moisture_7_to_28cm\u001b[39m\u001b[38;5;124m'\u001b[39m,\n\u001b[1;32m     12\u001b[0m                       \u001b[38;5;124m'\u001b[39m\u001b[38;5;124msoil_moisture_28_to_100cm\u001b[39m\u001b[38;5;124m'\u001b[39m,\u001b[38;5;124m'\u001b[39m\u001b[38;5;124msoil_moisture_100_to_255cm\u001b[39m\u001b[38;5;124m'\u001b[39m]\n\u001b[1;32m     14\u001b[0m         \u001b[38;5;66;03m# Then we compute the dates used to get the weather forecast data\u001b[39;00m\n\u001b[1;32m     15\u001b[0m         \n\u001b[1;32m     16\u001b[0m         \u001b[38;5;66;03m# end_date : today + number of days of forecast (self.days)\u001b[39;00m\n\u001b[0;32m---> 17\u001b[0m end_date \u001b[38;5;241m=\u001b[39m (date\u001b[38;5;241m.\u001b[39mtoday() \u001b[38;5;241m+\u001b[39m relativedelta(days\u001b[38;5;241m=\u001b[39m\u001b[38;5;28;43mself\u001b[39;49m\u001b[38;5;241m.\u001b[39mdays))\u001b[38;5;241m.\u001b[39mstrftime(\u001b[38;5;124m'\u001b[39m\u001b[38;5;124m%\u001b[39m\u001b[38;5;124mY-\u001b[39m\u001b[38;5;124m%\u001b[39m\u001b[38;5;124mm-\u001b[39m\u001b[38;5;132;01m%d\u001b[39;00m\u001b[38;5;124m'\u001b[39m)\n\u001b[1;32m     19\u001b[0m         \u001b[38;5;66;03m#start_date : today at midnight\u001b[39;00m\n\u001b[1;32m     20\u001b[0m start_date \u001b[38;5;241m=\u001b[39m (date\u001b[38;5;241m.\u001b[39mtoday())\u001b[38;5;241m.\u001b[39mstrftime(\u001b[38;5;124m'\u001b[39m\u001b[38;5;124m%\u001b[39m\u001b[38;5;124mY-\u001b[39m\u001b[38;5;124m%\u001b[39m\u001b[38;5;124mm-\u001b[39m\u001b[38;5;132;01m%d\u001b[39;00m\u001b[38;5;124m'\u001b[39m)\n",
      "\u001b[0;31mNameError\u001b[0m: name 'self' is not defined"
     ]
    }
   ],
   "source": [
    "weather_params = ['temperature_2m','relativehumidity_2m','dewpoint_2m',\n",
    "                      'apparent_temperature','pressure_msl','surface_pressure',\n",
    "                      'precipitation','rain','snowfall','cloudcover',\n",
    "                      'cloudcover_low','cloudcover_mid','cloudcover_high',\n",
    "                      'shortwave_radiation','direct_radiation','direct_normal_irradiance',\n",
    "                      'diffuse_radiation','windspeed_10m','windspeed_100m',\n",
    "                      'winddirection_10m','winddirection_100m','windgusts_10m',\n",
    "                      'et0_fao_evapotranspiration','weathercode','vapor_pressure_deficit',\n",
    "                      'soil_temperature_0_to_7cm','soil_temperature_7_to_28cm',\n",
    "                      'soil_temperature_28_to_100cm','soil_temperature_100_to_255cm',\n",
    "                      'soil_moisture_0_to_7cm','soil_moisture_7_to_28cm',\n",
    "                      'soil_moisture_28_to_100cm','soil_moisture_100_to_255cm']\n",
    "\n",
    "        # Then we compute the dates used to get the weather forecast data\n",
    "        \n",
    "        # end_date : today + number of days of forecast (self.days)\n",
    "end_date = (date.today() + relativedelta(days=3)).strftime('%Y-%m-%d')\n",
    "        \n",
    "        #start_date : today at midnight\n",
    "start_date = (date.today()).strftime('%Y-%m-%d')\n",
    "\n",
    "        #call the method to receive the coordinates from the self.city list\n",
    "coordinates = self.get_city_lonlan()\n",
    "        \n",
    "        #create an empty dataframe\n",
    "weather_forecast_df_full = pd.DataFrame(columns=weather_params)\n",
    "        # cities = []\n",
    "        \n",
    "        #create a dataframe with weather params for the selected city and store it\n",
    "lat = coordinates[self.city][0]\n",
    "lan = coordinates[self.city][1]\n",
    "\n",
    "    \n",
    "        # So we make the request to the weather API archive\n",
    "weather_forecast_response= requests.get('https://api.open-meteo.com/v1/forecast',\n",
    "                            params = {'latitude': lat,\n",
    "                                        'longitude': lan,\n",
    "                                        'forecast_days' : self.days,\n",
    "                                        'hourly': weather_params,\n",
    "                                        'timezone': 'auto'}).json()\n",
    "weather_forecast_df = pd.DataFrame(weather_forecast_response['hourly'], columns = ['time'] + weather_params)\n",
    "weather_forecast_df['time'] = pd.to_datetime(weather_forecast_df['time'], format='%Y-%m-%d')\n",
    "weather_forecast_df = weather_forecast_df.set_index('time')\n",
    "\n",
    "        # Format float to 1 decimal, sum the 3 tables and return the average\n",
    "pd.options.display.float_format = \"{:,.1f}\".format\n",
    "\n",
    "# weather_forecast_df_full"
   ]
  },
  {
   "cell_type": "code",
   "execution_count": null,
   "id": "0ebb7eae",
   "metadata": {},
   "outputs": [],
   "source": []
  },
  {
   "cell_type": "code",
   "execution_count": 46,
   "id": "44c63e2f",
   "metadata": {},
   "outputs": [],
   "source": [
    "class WeatherForecast:\n",
    "    def __init__(self, city:str, days:int):\n",
    "        self.city = city\n",
    "        self.days = days\n",
    "\n",
    "    def get_city_lonlan(self):\n",
    "        '''\n",
    "        This function receives the name of one city and returns the lat and lon of that city\n",
    "        in a dictionary\n",
    "        '''\n",
    "\n",
    "        # Create a geolocator object\n",
    "        geolocator = Nominatim(user_agent=\"my_app\")\n",
    "\n",
    "        #save the coordinates of each city in self.city in a dictionary\n",
    "        coordinates = {}\n",
    "        \n",
    "        # Get the location of the city\n",
    "        location = geolocator.geocode(self.city)\n",
    "\n",
    "        #check if the location exists\n",
    "        if location:\n",
    "            lat, lon = location.latitude, location.longitude # Extract the latitude and longitude\n",
    "            coordinates[self.city] = [lat,lon]\n",
    "        else:\n",
    "            print(f\"Could not retrieve coordinates for {self.city}\")\n",
    "\n",
    "        return coordinates\n",
    "\n",
    "    def get_weather_forecast(self):\n",
    "\n",
    "        '''\n",
    "        This function receives \n",
    "            * the name of the city list\n",
    "            * a number of days of weather forecast we want to work on\n",
    "            \n",
    "        This function returns a dataframe with the average of the weather data from these city list during those days of forecast\n",
    "        '''\n",
    "\n",
    "        # First we declare the weather parameters. Here we'll be taking all params supported by the API\n",
    "        weather_params = ['temperature_2m','relativehumidity_2m','dewpoint_2m',\n",
    "                      'apparent_temperature','pressure_msl','surface_pressure',\n",
    "                      'precipitation','rain','snowfall','cloudcover',\n",
    "                      'cloudcover_low','cloudcover_mid','cloudcover_high',\n",
    "                      'shortwave_radiation','direct_radiation','direct_normal_irradiance',\n",
    "                      'diffuse_radiation','windspeed_10m','windspeed_100m',\n",
    "                      'winddirection_10m','winddirection_100m','windgusts_10m',\n",
    "                      'et0_fao_evapotranspiration','weathercode','vapor_pressure_deficit',\n",
    "                      'soil_temperature_0_to_7cm','soil_temperature_7_to_28cm',\n",
    "                      'soil_temperature_28_to_100cm','soil_temperature_100_to_255cm',\n",
    "                      'soil_moisture_0_to_7cm','soil_moisture_7_to_28cm',\n",
    "                      'soil_moisture_28_to_100cm','soil_moisture_100_to_255cm']\n",
    "\n",
    "        # Then we compute the dates used to get the weather forecast data\n",
    "        \n",
    "        # end_date : today + number of days of forecast (self.days)\n",
    "        end_date = (date.today() + relativedelta(days=self.days)).strftime('%Y-%m-%d')\n",
    "        \n",
    "        #start_date : today at midnight\n",
    "        start_date = (date.today()).strftime('%Y-%m-%d')\n",
    "\n",
    "        #call the method to receive the coordinates from the self.city list\n",
    "        coordinates = self.get_city_lonlan()\n",
    "        \n",
    "        #create an empty dataframe\n",
    "        weather_forecast_df_full = pd.DataFrame(columns=weather_params)\n",
    "        # cities = []\n",
    "        \n",
    "        #create a dataframe with weather params for the selected city and store it\n",
    "        lat = coordinates[self.city][0]\n",
    "        lan = coordinates[self.city][1]\n",
    "\n",
    "    \n",
    "        # So we make the request to the weather API archive\n",
    "        weather_forecast_response= requests.get('https://api.open-meteo.com/v1/forecast',\n",
    "                            params = {'latitude': lat,\n",
    "                                        'longitude': lan,\n",
    "                                        'forecast_days' : self.days,\n",
    "                                        'hourly': weather_params,\n",
    "                                        'timezone': 'auto'}).json()\n",
    "        weather_forecast_df = pd.DataFrame(weather_forecast_response['hourly'], columns = ['time'] + weather_params)\n",
    "        weather_forecast_df['time'] = pd.to_datetime(weather_forecast_df['time'], format='%Y-%m-%d')\n",
    "        weather_forecast_df = weather_forecast_df.set_index('time')\n",
    "\n",
    "        # Format float to 1 decimal, sum the 3 tables and return the average\n",
    "        pd.options.display.float_format = \"{:,.1f}\".format\n",
    "\n",
    "        return weather_forecast_df_full"
   ]
  },
  {
   "cell_type": "code",
   "execution_count": 47,
   "id": "7499d387",
   "metadata": {},
   "outputs": [],
   "source": [
    "forecast = WeatherForecast(city=\"Amiens\", days=3)"
   ]
  },
  {
   "cell_type": "code",
   "execution_count": 48,
   "id": "51fca035",
   "metadata": {},
   "outputs": [
    {
     "data": {
      "text/plain": [
       "{'Amiens': [49.8941708, 2.2956951]}"
      ]
     },
     "execution_count": 48,
     "metadata": {},
     "output_type": "execute_result"
    }
   ],
   "source": [
    "forecast.get_city_lonlan()"
   ]
  },
  {
   "cell_type": "code",
   "execution_count": 49,
   "id": "f34a313e",
   "metadata": {},
   "outputs": [
    {
     "data": {
      "text/html": [
       "<div>\n",
       "<style scoped>\n",
       "    .dataframe tbody tr th:only-of-type {\n",
       "        vertical-align: middle;\n",
       "    }\n",
       "\n",
       "    .dataframe tbody tr th {\n",
       "        vertical-align: top;\n",
       "    }\n",
       "\n",
       "    .dataframe thead th {\n",
       "        text-align: right;\n",
       "    }\n",
       "</style>\n",
       "<table border=\"1\" class=\"dataframe\">\n",
       "  <thead>\n",
       "    <tr style=\"text-align: right;\">\n",
       "      <th></th>\n",
       "      <th>temperature_2m</th>\n",
       "      <th>relativehumidity_2m</th>\n",
       "      <th>dewpoint_2m</th>\n",
       "      <th>apparent_temperature</th>\n",
       "      <th>pressure_msl</th>\n",
       "      <th>surface_pressure</th>\n",
       "      <th>precipitation</th>\n",
       "      <th>rain</th>\n",
       "      <th>snowfall</th>\n",
       "      <th>cloudcover</th>\n",
       "      <th>...</th>\n",
       "      <th>weathercode</th>\n",
       "      <th>vapor_pressure_deficit</th>\n",
       "      <th>soil_temperature_0_to_7cm</th>\n",
       "      <th>soil_temperature_7_to_28cm</th>\n",
       "      <th>soil_temperature_28_to_100cm</th>\n",
       "      <th>soil_temperature_100_to_255cm</th>\n",
       "      <th>soil_moisture_0_to_7cm</th>\n",
       "      <th>soil_moisture_7_to_28cm</th>\n",
       "      <th>soil_moisture_28_to_100cm</th>\n",
       "      <th>soil_moisture_100_to_255cm</th>\n",
       "    </tr>\n",
       "  </thead>\n",
       "  <tbody>\n",
       "  </tbody>\n",
       "</table>\n",
       "<p>0 rows × 33 columns</p>\n",
       "</div>"
      ],
      "text/plain": [
       "Empty DataFrame\n",
       "Columns: [temperature_2m, relativehumidity_2m, dewpoint_2m, apparent_temperature, pressure_msl, surface_pressure, precipitation, rain, snowfall, cloudcover, cloudcover_low, cloudcover_mid, cloudcover_high, shortwave_radiation, direct_radiation, direct_normal_irradiance, diffuse_radiation, windspeed_10m, windspeed_100m, winddirection_10m, winddirection_100m, windgusts_10m, et0_fao_evapotranspiration, weathercode, vapor_pressure_deficit, soil_temperature_0_to_7cm, soil_temperature_7_to_28cm, soil_temperature_28_to_100cm, soil_temperature_100_to_255cm, soil_moisture_0_to_7cm, soil_moisture_7_to_28cm, soil_moisture_28_to_100cm, soil_moisture_100_to_255cm]\n",
       "Index: []\n",
       "\n",
       "[0 rows x 33 columns]"
      ]
     },
     "execution_count": 49,
     "metadata": {},
     "output_type": "execute_result"
    }
   ],
   "source": [
    "forecast.get_weather_forecast()"
   ]
  },
  {
   "cell_type": "code",
   "execution_count": null,
   "id": "4b3ae728",
   "metadata": {},
   "outputs": [],
   "source": []
  }
 ],
 "metadata": {
  "kernelspec": {
   "display_name": "Python 3 (ipykernel)",
   "language": "python",
   "name": "python3"
  },
  "language_info": {
   "codemirror_mode": {
    "name": "ipython",
    "version": 3
   },
   "file_extension": ".py",
   "mimetype": "text/x-python",
   "name": "python",
   "nbconvert_exporter": "python",
   "pygments_lexer": "ipython3",
   "version": "3.10.6"
  },
  "toc": {
   "base_numbering": 1,
   "nav_menu": {},
   "number_sections": true,
   "sideBar": true,
   "skip_h1_title": false,
   "title_cell": "Table of Contents",
   "title_sidebar": "Contents",
   "toc_cell": false,
   "toc_position": {},
   "toc_section_display": true,
   "toc_window_display": false
  }
 },
 "nbformat": 4,
 "nbformat_minor": 5
}
