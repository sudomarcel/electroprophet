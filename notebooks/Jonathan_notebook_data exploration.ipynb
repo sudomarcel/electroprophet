{
 "cells": [
  {
   "cell_type": "code",
   "execution_count": 8,
   "id": "56eebc1d",
   "metadata": {},
   "outputs": [],
   "source": [
    "import pandas as pd\n",
    "import matplotlib.pyplot as plt"
   ]
  },
  {
   "cell_type": "code",
   "execution_count": 9,
   "id": "5fda0131",
   "metadata": {},
   "outputs": [],
   "source": [
    "path = '../raw_data/df_amiens_weather.csv'\n",
    "\n",
    "data = pd.read_csv(path)"
   ]
  },
  {
   "cell_type": "code",
   "execution_count": 10,
   "id": "23330de0",
   "metadata": {},
   "outputs": [
    {
     "data": {
      "text/html": [
       "<div>\n",
       "<style scoped>\n",
       "    .dataframe tbody tr th:only-of-type {\n",
       "        vertical-align: middle;\n",
       "    }\n",
       "\n",
       "    .dataframe tbody tr th {\n",
       "        vertical-align: top;\n",
       "    }\n",
       "\n",
       "    .dataframe thead th {\n",
       "        text-align: right;\n",
       "    }\n",
       "</style>\n",
       "<table border=\"1\" class=\"dataframe\">\n",
       "  <thead>\n",
       "    <tr style=\"text-align: right;\">\n",
       "      <th></th>\n",
       "      <th>time</th>\n",
       "      <th>temperature_2m</th>\n",
       "      <th>relativehumidity_2m</th>\n",
       "      <th>dewpoint_2m</th>\n",
       "      <th>apparent_temperature</th>\n",
       "      <th>pressure_msl</th>\n",
       "      <th>surface_pressure</th>\n",
       "      <th>precipitation</th>\n",
       "      <th>rain</th>\n",
       "      <th>snowfall</th>\n",
       "      <th>...</th>\n",
       "      <th>weathercode</th>\n",
       "      <th>vapor_pressure_deficit</th>\n",
       "      <th>soil_temperature_0_to_7cm</th>\n",
       "      <th>soil_temperature_7_to_28cm</th>\n",
       "      <th>soil_temperature_28_to_100cm</th>\n",
       "      <th>soil_temperature_100_to_255cm</th>\n",
       "      <th>soil_moisture_0_to_7cm</th>\n",
       "      <th>soil_moisture_7_to_28cm</th>\n",
       "      <th>soil_moisture_28_to_100cm</th>\n",
       "      <th>soil_moisture_100_to_255cm</th>\n",
       "    </tr>\n",
       "  </thead>\n",
       "  <tbody>\n",
       "    <tr>\n",
       "      <th>0</th>\n",
       "      <td>2013-03-09T00:00</td>\n",
       "      <td>8.5</td>\n",
       "      <td>97</td>\n",
       "      <td>8.1</td>\n",
       "      <td>5.4</td>\n",
       "      <td>999.9</td>\n",
       "      <td>986.9</td>\n",
       "      <td>0.0</td>\n",
       "      <td>0.0</td>\n",
       "      <td>0.0</td>\n",
       "      <td>...</td>\n",
       "      <td>3</td>\n",
       "      <td>0.03</td>\n",
       "      <td>7.9</td>\n",
       "      <td>7.6</td>\n",
       "      <td>5.2</td>\n",
       "      <td>5.6</td>\n",
       "      <td>0.399</td>\n",
       "      <td>0.373</td>\n",
       "      <td>0.384</td>\n",
       "      <td>0.391</td>\n",
       "    </tr>\n",
       "    <tr>\n",
       "      <th>1</th>\n",
       "      <td>2013-03-09T01:00</td>\n",
       "      <td>8.5</td>\n",
       "      <td>97</td>\n",
       "      <td>8.1</td>\n",
       "      <td>5.8</td>\n",
       "      <td>1000.3</td>\n",
       "      <td>987.3</td>\n",
       "      <td>0.0</td>\n",
       "      <td>0.0</td>\n",
       "      <td>0.0</td>\n",
       "      <td>...</td>\n",
       "      <td>3</td>\n",
       "      <td>0.03</td>\n",
       "      <td>7.8</td>\n",
       "      <td>7.5</td>\n",
       "      <td>5.3</td>\n",
       "      <td>5.6</td>\n",
       "      <td>0.397</td>\n",
       "      <td>0.374</td>\n",
       "      <td>0.384</td>\n",
       "      <td>0.391</td>\n",
       "    </tr>\n",
       "    <tr>\n",
       "      <th>2</th>\n",
       "      <td>2013-03-09T02:00</td>\n",
       "      <td>8.5</td>\n",
       "      <td>97</td>\n",
       "      <td>8.1</td>\n",
       "      <td>6.2</td>\n",
       "      <td>1000.8</td>\n",
       "      <td>987.8</td>\n",
       "      <td>0.0</td>\n",
       "      <td>0.0</td>\n",
       "      <td>0.0</td>\n",
       "      <td>...</td>\n",
       "      <td>3</td>\n",
       "      <td>0.03</td>\n",
       "      <td>7.8</td>\n",
       "      <td>7.5</td>\n",
       "      <td>5.3</td>\n",
       "      <td>5.6</td>\n",
       "      <td>0.396</td>\n",
       "      <td>0.374</td>\n",
       "      <td>0.384</td>\n",
       "      <td>0.391</td>\n",
       "    </tr>\n",
       "    <tr>\n",
       "      <th>3</th>\n",
       "      <td>2013-03-09T03:00</td>\n",
       "      <td>8.5</td>\n",
       "      <td>97</td>\n",
       "      <td>8.0</td>\n",
       "      <td>6.6</td>\n",
       "      <td>1001.0</td>\n",
       "      <td>988.0</td>\n",
       "      <td>0.0</td>\n",
       "      <td>0.0</td>\n",
       "      <td>0.0</td>\n",
       "      <td>...</td>\n",
       "      <td>3</td>\n",
       "      <td>0.04</td>\n",
       "      <td>7.7</td>\n",
       "      <td>7.5</td>\n",
       "      <td>5.3</td>\n",
       "      <td>5.6</td>\n",
       "      <td>0.394</td>\n",
       "      <td>0.375</td>\n",
       "      <td>0.384</td>\n",
       "      <td>0.391</td>\n",
       "    </tr>\n",
       "    <tr>\n",
       "      <th>4</th>\n",
       "      <td>2013-03-09T04:00</td>\n",
       "      <td>8.4</td>\n",
       "      <td>97</td>\n",
       "      <td>7.9</td>\n",
       "      <td>6.7</td>\n",
       "      <td>1000.9</td>\n",
       "      <td>987.9</td>\n",
       "      <td>0.0</td>\n",
       "      <td>0.0</td>\n",
       "      <td>0.0</td>\n",
       "      <td>...</td>\n",
       "      <td>3</td>\n",
       "      <td>0.04</td>\n",
       "      <td>7.6</td>\n",
       "      <td>7.4</td>\n",
       "      <td>5.3</td>\n",
       "      <td>5.6</td>\n",
       "      <td>0.392</td>\n",
       "      <td>0.375</td>\n",
       "      <td>0.384</td>\n",
       "      <td>0.391</td>\n",
       "    </tr>\n",
       "  </tbody>\n",
       "</table>\n",
       "<p>5 rows × 34 columns</p>\n",
       "</div>"
      ],
      "text/plain": [
       "               time  temperature_2m  relativehumidity_2m  dewpoint_2m  \\\n",
       "0  2013-03-09T00:00             8.5                   97          8.1   \n",
       "1  2013-03-09T01:00             8.5                   97          8.1   \n",
       "2  2013-03-09T02:00             8.5                   97          8.1   \n",
       "3  2013-03-09T03:00             8.5                   97          8.0   \n",
       "4  2013-03-09T04:00             8.4                   97          7.9   \n",
       "\n",
       "   apparent_temperature  pressure_msl  surface_pressure  precipitation  rain  \\\n",
       "0                   5.4         999.9             986.9            0.0   0.0   \n",
       "1                   5.8        1000.3             987.3            0.0   0.0   \n",
       "2                   6.2        1000.8             987.8            0.0   0.0   \n",
       "3                   6.6        1001.0             988.0            0.0   0.0   \n",
       "4                   6.7        1000.9             987.9            0.0   0.0   \n",
       "\n",
       "   snowfall  ...  weathercode  vapor_pressure_deficit  \\\n",
       "0       0.0  ...            3                    0.03   \n",
       "1       0.0  ...            3                    0.03   \n",
       "2       0.0  ...            3                    0.03   \n",
       "3       0.0  ...            3                    0.04   \n",
       "4       0.0  ...            3                    0.04   \n",
       "\n",
       "   soil_temperature_0_to_7cm  soil_temperature_7_to_28cm  \\\n",
       "0                        7.9                         7.6   \n",
       "1                        7.8                         7.5   \n",
       "2                        7.8                         7.5   \n",
       "3                        7.7                         7.5   \n",
       "4                        7.6                         7.4   \n",
       "\n",
       "   soil_temperature_28_to_100cm  soil_temperature_100_to_255cm  \\\n",
       "0                           5.2                            5.6   \n",
       "1                           5.3                            5.6   \n",
       "2                           5.3                            5.6   \n",
       "3                           5.3                            5.6   \n",
       "4                           5.3                            5.6   \n",
       "\n",
       "   soil_moisture_0_to_7cm  soil_moisture_7_to_28cm  soil_moisture_28_to_100cm  \\\n",
       "0                   0.399                    0.373                      0.384   \n",
       "1                   0.397                    0.374                      0.384   \n",
       "2                   0.396                    0.374                      0.384   \n",
       "3                   0.394                    0.375                      0.384   \n",
       "4                   0.392                    0.375                      0.384   \n",
       "\n",
       "   soil_moisture_100_to_255cm  \n",
       "0                       0.391  \n",
       "1                       0.391  \n",
       "2                       0.391  \n",
       "3                       0.391  \n",
       "4                       0.391  \n",
       "\n",
       "[5 rows x 34 columns]"
      ]
     },
     "execution_count": 10,
     "metadata": {},
     "output_type": "execute_result"
    }
   ],
   "source": [
    "data.head()"
   ]
  },
  {
   "cell_type": "code",
   "execution_count": 13,
   "id": "3db5fd84",
   "metadata": {},
   "outputs": [
    {
     "data": {
      "text/plain": [
       "pandas.core.frame.DataFrame"
      ]
     },
     "execution_count": 13,
     "metadata": {},
     "output_type": "execute_result"
    }
   ],
   "source": [
    "type(data)"
   ]
  },
  {
   "cell_type": "code",
   "execution_count": 20,
   "id": "ddd600d4",
   "metadata": {},
   "outputs": [
    {
     "data": {
      "text/plain": [
       "<pandas.plotting._core.PlotAccessor object at 0x7f9ce13ff2e0>"
      ]
     },
     "execution_count": 20,
     "metadata": {},
     "output_type": "execute_result"
    }
   ],
   "source": [
    "pd.DataFrame.plot(data)"
   ]
  },
  {
   "cell_type": "code",
   "execution_count": 14,
   "id": "67cd8dd5",
   "metadata": {},
   "outputs": [
    {
     "data": {
      "text/plain": [
       "[<matplotlib.lines.Line2D at 0x7f9cb0868fd0>]"
      ]
     },
     "execution_count": 14,
     "metadata": {},
     "output_type": "execute_result"
    },
    {
     "data": {
      "image/png": "[encoded data removed]",
      "text/plain": [
       "<Figure size 640x480 with 1 Axes>"
      ]
     },
     "metadata": {},
     "output_type": "display_data"
    }
   ],
   "source": [
    "plt.plot(data['temperature_2m'])"
   ]
  },
  {
   "cell_type": "code",
   "execution_count": null,
   "id": "b7b9d773",
   "metadata": {},
   "outputs": [],
   "source": []
  }
 ],
 "metadata": {
  "kernelspec": {
   "display_name": "Python 3 (ipykernel)",
   "language": "python",
   "name": "python3"
  },
  "language_info": {
   "codemirror_mode": {
    "name": "ipython",
    "version": 3
   },
   "file_extension": ".py",
   "mimetype": "text/x-python",
   "name": "python",
   "nbconvert_exporter": "python",
   "pygments_lexer": "ipython3",
   "version": "3.10.6"
  },
  "toc": {
   "base_numbering": 1,
   "nav_menu": {},
   "number_sections": true,
   "sideBar": true,
   "skip_h1_title": false,
   "title_cell": "Table of Contents",
   "title_sidebar": "Contents",
   "toc_cell": false,
   "toc_position": {},
   "toc_section_display": true,
   "toc_window_display": false
  }
 },
 "nbformat": 4,
 "nbformat_minor": 5
}
