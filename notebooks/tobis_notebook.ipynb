{
 "cells": [
  {
   "cell_type": "markdown",
   "id": "04211e4f",
   "metadata": {},
   "source": [
    "Testing the newly written get_data.py file"
   ]
  },
  {
   "cell_type": "code",
   "execution_count": 8,
   "id": "23acdc2e",
   "metadata": {},
   "outputs": [
    {
     "name": "stdout",
     "output_type": "stream",
     "text": [
      "WeatherEnergy_merged copy.ipynb data_to_csv.ipynb\r\n",
      "caiovnd_electroprophet.ipynb    tobis_notebook.ipynb\r\n"
     ]
    }
   ],
   "source": [
    "!ls"
   ]
  },
  {
   "cell_type": "code",
   "execution_count": 26,
   "id": "a49321b0",
   "metadata": {},
   "outputs": [
    {
     "ename": "ModuleNotFoundError",
     "evalue": "No module named 'electroprophet'",
     "output_type": "error",
     "traceback": [
      "\u001b[0;31m---------------------------------------------------------------------------\u001b[0m",
      "\u001b[0;31mModuleNotFoundError\u001b[0m                       Traceback (most recent call last)",
      "Cell \u001b[0;32mIn[26], line 1\u001b[0m\n\u001b[0;32m----> 1\u001b[0m \u001b[38;5;28;01mimport\u001b[39;00m \u001b[38;5;21;01melectroprophet\u001b[39;00m\u001b[38;5;21;01m.\u001b[39;00m\u001b[38;5;21;01mprophecy\u001b[39;00m\u001b[38;5;21;01m.\u001b[39;00m\u001b[38;5;21;01mget_data\u001b[39;00m\n",
      "\u001b[0;31mModuleNotFoundError\u001b[0m: No module named 'electroprophet'"
     ]
    }
   ],
   "source": [
    "\n",
    "import electroprophet.prophecy.get_data"
   ]
  },
  {
   "cell_type": "code",
   "execution_count": null,
   "id": "dddef609",
   "metadata": {},
   "outputs": [],
   "source": [
    "data = WeatherEnergy(limit=-1, \n",
    "                     offset=0, \n",
    "                     refine='Hauts-de-France', \n",
    "                     city=['Heudicourt', 'Bucy-les-Pierrepont', 'Riencourt']\n",
    "                     years=10)"
   ]
  },
  {
   "cell_type": "code",
   "execution_count": null,
   "id": "683d81c0",
   "metadata": {},
   "outputs": [],
   "source": []
  }
 ],
 "metadata": {
  "kernelspec": {
   "display_name": "Python 3 (ipykernel)",
   "language": "python",
   "name": "python3"
  },
  "language_info": {
   "codemirror_mode": {
    "name": "ipython",
    "version": 3
   },
   "file_extension": ".py",
   "mimetype": "text/x-python",
   "name": "python",
   "nbconvert_exporter": "python",
   "pygments_lexer": "ipython3",
   "version": "3.10.6"
  },
  "toc": {
   "base_numbering": 1,
   "nav_menu": {},
   "number_sections": true,
   "sideBar": true,
   "skip_h1_title": false,
   "title_cell": "Table of Contents",
   "title_sidebar": "Contents",
   "toc_cell": false,
   "toc_position": {},
   "toc_section_display": true,
   "toc_window_display": false
  }
 },
 "nbformat": 4,
 "nbformat_minor": 5
}
