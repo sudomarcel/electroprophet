{
 "cells": [
  {
   "cell_type": "markdown",
   "id": "ae9a82fb-9c39-481c-8f70-f67b67d69df1",
   "metadata": {
    "tags": []
   },
   "source": [
    "# Electroprophet⚡️"
   ]
  },
  {
   "cell_type": "markdown",
   "id": "e9a2c05e-5621-426a-95f1-26efd4bc231e",
   "metadata": {},
   "source": [
    "In this notebook, I will do the first steps on our final project for Le Wagon's Data Science bootcamp. Here, I'll try to model the carbon emission in France using weather data, in order to provide recomendations for users to reduce their carbon footprint 👣."
   ]
  },
  {
   "cell_type": "markdown",
   "id": "ffb58387-f1dc-47e8-b72d-e894e5028721",
   "metadata": {
    "jp-MarkdownHeadingCollapsed": true,
    "tags": []
   },
   "source": [
    "## Getting the data (outdated, don't use it)"
   ]
  },
  {
   "cell_type": "code",
   "execution_count": null,
   "id": "7d2e034b-8575-43a0-a99a-648fcf513e87",
   "metadata": {
    "tags": []
   },
   "outputs": [
    {
     "name": "stdout",
     "output_type": "stream",
     "text": [
      "The autoreload extension is already loaded. To reload it, use:\n",
      "  %reload_ext autoreload\n"
     ]
    }
   ],
   "source": [
    "%load_ext autoreload\n",
    "%autoreload 2"
   ]
  },
  {
   "cell_type": "markdown",
   "id": "925e0148-f70b-46dd-adc2-607d7a593ea5",
   "metadata": {
    "tags": []
   },
   "source": [
    "### 1. Wheater API"
   ]
  },
  {
   "cell_type": "markdown",
   "id": "2412d19f-2bc2-4c76-abdd-106d1d7fe2b0",
   "metadata": {
    "tags": []
   },
   "source": [
    "Here we'll be able to get weather data of a chosen city. "
   ]
  },
  {
   "cell_type": "markdown",
   "id": "ee79b2c4-b652-4c67-bc73-053da1fb8d5f",
   "metadata": {
    "tags": []
   },
   "source": [
    "As the energy data is given by region, later we'll have to check how many cities we have to take in consideration in order to get the weather in a given region."
   ]
  },
  {
   "cell_type": "code",
   "execution_count": null,
   "id": "642bf52d-a3e7-4c55-bbcb-40db85f034bc",
   "metadata": {
    "tags": []
   },
   "outputs": [],
   "source": [
    "import requests\n",
    "import datetime\n",
    "from dateutil.relativedelta import relativedelta\n",
    "import pandas as pd\n",
    "import os.path\n",
    "\n",
    "# Get the absolute path of the directory where the script is located\n",
    "script_dir = os.getcwd()\n",
    "\n",
    "# Construct the path to the \"my_directory\" directory relative to the script directory\n",
    "raw_data_path = os.path.join(script_dir, \"raw_data\")"
   ]
  },
  {
   "cell_type": "code",
   "execution_count": null,
   "id": "bd5c2a24-9326-4946-a2a9-333af436e65d",
   "metadata": {
    "tags": []
   },
   "outputs": [],
   "source": [
    "def get_weather(city, years=10, overwrite=False):\n",
    "    \n",
    "    '''\n",
    "    This function receives the name of a city and a number of years, and returns a dataframe \n",
    "    with weather data from this city during those past years\n",
    "    '''\n",
    "    \n",
    "    path = raw_data_path + '/df_' + city.lower() + '_weather.csv'\n",
    "    file_exists = os.path.isfile(path) \n",
    "    \n",
    "    if file_exists and not overwrite:\n",
    "        \n",
    "        print('Found a file for this city. Importing...')\n",
    "        \n",
    "        weather_df = pd.read_csv(path, index_col=0)\n",
    "        \n",
    "    else:\n",
    "        \n",
    "        print('Creating a new .csv file for this city')\n",
    "        \n",
    "        # First we declare the weather parameters. Here we'll be taking all params supported by the API\n",
    "        weather_params = ['temperature_2m','relativehumidity_2m','dewpoint_2m',\n",
    "                      'apparent_temperature','pressure_msl','surface_pressure',\n",
    "                      'precipitation','rain','snowfall','cloudcover',\n",
    "                      'cloudcover_low','cloudcover_mid','cloudcover_high',\n",
    "                      'shortwave_radiation','direct_radiation','direct_normal_irradiance',\n",
    "                      'diffuse_radiation','windspeed_10m','windspeed_100m',\n",
    "                      'winddirection_10m','winddirection_100m','windgusts_10m',\n",
    "                      'et0_fao_evapotranspiration','weathercode','vapor_pressure_deficit',\n",
    "                      'soil_temperature_0_to_7cm','soil_temperature_7_to_28cm',\n",
    "                      'soil_temperature_28_to_100cm','soil_temperature_100_to_255cm',\n",
    "                      'soil_moisture_0_to_7cm','soil_moisture_7_to_28cm',\n",
    "                      'soil_moisture_28_to_100cm','soil_moisture_100_to_255cm']\n",
    "\n",
    "        # This request is done in order to get the latitude and longitude of the desired city\n",
    "        city_response = requests.get('https://geocoding-api.open-meteo.com/v1/search',\n",
    "                           params = {'name': city}).json()\n",
    "\n",
    "        lat = city_response['results'][0]['latitude']\n",
    "        lon = city_response['results'][0]['longitude']\n",
    "\n",
    "        # Then we compute the dates used to get the weather data\n",
    "        ## The API only has data until 9 days ago\n",
    "        end_date = (datetime.date.today() - relativedelta(days=8)).strftime('%Y-%m-%d') \n",
    "        #start_date = (datetime.date.today() - relativedelta(years=years)).strftime('%Y-%m-%d')\n",
    "        start_date = '2013-01-01 13:00:00'\n",
    "\n",
    "        # So we make the request to the weather API archive\n",
    "        weather_response = requests.get('https://archive-api.open-meteo.com/v1/archive',\n",
    "                           params = {'latitude': lat,\n",
    "                                    'longitude': lon,\n",
    "                                    'start_date': start_date,\n",
    "                                    'end_date': end_date,\n",
    "                                    'hourly': weather_params,\n",
    "                                    'timezone': 'auto'}).json()\n",
    "        \n",
    "        weather_df = pd.DataFrame(weather_response['hourly'], columns = ['time'] + weather_params)\n",
    "        weather_df['time'] = pd.to_datetime(weather_df['time'], format='%Y-%m-%d')\n",
    "        weather_df = weather_df.set_index('time')\n",
    "        \n",
    "        weather_df.to_csv(path)\n",
    "    \n",
    "    print('Done ✅')\n",
    "    return weather_df"
   ]
  },
  {
   "cell_type": "code",
   "execution_count": null,
   "id": "0b719a2e-244c-4fa5-a407-6b39d76ae448",
   "metadata": {
    "tags": []
   },
   "outputs": [
    {
     "ename": "ImportError",
     "evalue": "cannot import name 'data' from 'prophecy' (/home/jupyter/code/caiovnd/electroprophet/prophecy/__init__.py)",
     "output_type": "error",
     "traceback": [
      "\u001b[0;31m---------------------------------------------------------------------------\u001b[0m",
      "\u001b[0;31mImportError\u001b[0m                               Traceback (most recent call last)",
      "\u001b[0;32m/var/tmp/ipykernel_11691/3965296030.py\u001b[0m in \u001b[0;36m<module>\u001b[0;34m\u001b[0m\n\u001b[0;32m----> 1\u001b[0;31m \u001b[0;32mfrom\u001b[0m \u001b[0mprophecy\u001b[0m \u001b[0;32mimport\u001b[0m \u001b[0mdata\u001b[0m\u001b[0;34m\u001b[0m\u001b[0;34m\u001b[0m\u001b[0m\n\u001b[0m\u001b[1;32m      2\u001b[0m \u001b[0;34m\u001b[0m\u001b[0m\n\u001b[1;32m      3\u001b[0m \u001b[0mdata\u001b[0m\u001b[0;34m.\u001b[0m\u001b[0mget_weather\u001b[0m\u001b[0;34m(\u001b[0m\u001b[0;34m'Amiens'\u001b[0m\u001b[0;34m)\u001b[0m\u001b[0;34m\u001b[0m\u001b[0;34m\u001b[0m\u001b[0m\n\u001b[1;32m      4\u001b[0m \u001b[0;31m#df = data.get_weather('Paris',overwrite=True)\u001b[0m\u001b[0;34m\u001b[0m\u001b[0;34m\u001b[0m\u001b[0;34m\u001b[0m\u001b[0m\n\u001b[1;32m      5\u001b[0m \u001b[0;31m#df = data.get_weather('Marseille',overwrite=True)\u001b[0m\u001b[0;34m\u001b[0m\u001b[0;34m\u001b[0m\u001b[0;34m\u001b[0m\u001b[0m\n",
      "\u001b[0;31mImportError\u001b[0m: cannot import name 'data' from 'prophecy' (/home/jupyter/code/caiovnd/electroprophet/prophecy/__init__.py)"
     ]
    }
   ],
   "source": [
    "from prophecy import data\n",
    "\n",
    "data.get_weather('Amiens')\n",
    "#df = data.get_weather('Paris',overwrite=True)\n",
    "#df = data.get_weather('Marseille',overwrite=True)"
   ]
  },
  {
   "cell_type": "code",
   "execution_count": null,
   "id": "20aec581-71ca-43e1-babf-0465ac63c798",
   "metadata": {
    "tags": []
   },
   "outputs": [],
   "source": [
    "import pandas as pd\n",
    "pd.to_datetime(df.index, format='%Y-%m-%d')"
   ]
  },
  {
   "cell_type": "code",
   "execution_count": null,
   "id": "5423da93-1fd7-4148-8cbe-c0dad6bf59fa",
   "metadata": {
    "tags": []
   },
   "outputs": [],
   "source": [
    "import datetime\n",
    "\n",
    "print(datetime.datetime.strptime('2013-01-01','%Y-%m-%d'))"
   ]
  },
  {
   "cell_type": "markdown",
   "id": "33d661a9-00bc-4e9b-b461-8b28aa511663",
   "metadata": {},
   "source": [
    "First let's explore and see if we find any problems"
   ]
  },
  {
   "cell_type": "code",
   "execution_count": null,
   "id": "975742d5-e74a-4c1b-ba5f-21e6a58c9088",
   "metadata": {
    "tags": []
   },
   "outputs": [],
   "source": [
    "df.duplicated().sum() # Checking for duplicates"
   ]
  },
  {
   "cell_type": "code",
   "execution_count": null,
   "id": "57f15f7d-e458-4f2b-93a1-93b7cad4cee8",
   "metadata": {
    "tags": []
   },
   "outputs": [],
   "source": [
    "df.isnull().sum().sort_values(ascending=False)/len(df) # Checking for null values"
   ]
  },
  {
   "cell_type": "code",
   "execution_count": null,
   "id": "4ca06ea7-73b0-4773-91b4-675ef554e93c",
   "metadata": {
    "tags": []
   },
   "outputs": [],
   "source": [
    "weather_params = ['temperature_2m','relativehumidity_2m','dewpoint_2m',\n",
    "                      'apparent_temperature','pressure_msl','surface_pressure',\n",
    "                      'precipitation','rain','snowfall','cloudcover',\n",
    "                      'cloudcover_low','cloudcover_mid','cloudcover_high',\n",
    "                      'shortwave_radiation','direct_radiation','direct_normal_irradiance',\n",
    "                      'diffuse_radiation','windspeed_10m','windspeed_100m',\n",
    "                      'winddirection_10m','winddirection_100m','windgusts_10m',\n",
    "                      'et0_fao_evapotranspiration','weathercode','vapor_pressure_deficit',\n",
    "                      'soil_temperature_0_to_7cm','soil_temperature_7_to_28cm',\n",
    "                      'soil_temperature_28_to_100cm','soil_temperature_100_to_255cm',\n",
    "                      'soil_moisture_0_to_7cm','soil_moisture_7_to_28cm',\n",
    "                      'soil_moisture_28_to_100cm','soil_moisture_100_to_255cm']"
   ]
  },
  {
   "cell_type": "code",
   "execution_count": null,
   "id": "7c3a3b0b-c2bf-46a3-8ea1-a7cf896b33e7",
   "metadata": {},
   "outputs": [],
   "source": [
    "import matplotlib.pyplot as plt\n",
    "import seaborn as sns"
   ]
  },
  {
   "cell_type": "markdown",
   "id": "e703e73b-82b3-46ad-9f63-629fbe550c2b",
   "metadata": {},
   "source": [
    "Then we can preprocess our data"
   ]
  },
  {
   "cell_type": "markdown",
   "id": "b9348414-765c-4ad6-b0ac-b04848bf26b8",
   "metadata": {
    "tags": []
   },
   "source": [
    "### 1. MinMax Scaling"
   ]
  },
  {
   "cell_type": "code",
   "execution_count": null,
   "id": "90dcfce0-6c19-469e-8b99-00996bc9c04b",
   "metadata": {
    "tags": []
   },
   "outputs": [],
   "source": [
    "from sklearn.preprocessing import MinMaxScaler"
   ]
  },
  {
   "cell_type": "code",
   "execution_count": null,
   "id": "869125a0-377a-44ad-b829-15be41e18d2b",
   "metadata": {
    "tags": []
   },
   "outputs": [],
   "source": [
    "scaler = MinMaxScaler()\n",
    "df_preproc = df.copy()\n",
    "for feature in weather_params:\n",
    "    scaler.fit(df[[feature]])\n",
    "    df_preproc[feature] = scaler.transform(df[[feature]])"
   ]
  },
  {
   "cell_type": "code",
   "execution_count": null,
   "id": "7521f10e-7fbc-4ca0-b75a-0769a54124be",
   "metadata": {
    "tags": []
   },
   "outputs": [],
   "source": [
    "df_preproc.head()"
   ]
  },
  {
   "cell_type": "code",
   "execution_count": null,
   "id": "b8320d06-cfb8-44dd-b983-510682e226ea",
   "metadata": {
    "tags": []
   },
   "outputs": [],
   "source": [
    "import matplotlib.pyplot as plt\n",
    "import seaborn as sns\n",
    "\n",
    "index = 0\n",
    "\n",
    "for index in enumerate(weather_params):\n",
    "    index=index[0]\n",
    "    fig, axes = plt.subplots(nrows=1, ncols=4, figsize=(12,3))\n",
    "\n",
    "    sns.histplot(df[weather_params[index]], bins=200,kde = True, ax=axes[0]);\n",
    "    sns.boxplot(data=df, x=weather_params[index], ax=axes[1]);\n",
    "    sns.histplot(df_preproc[weather_params[index]], bins=200,kde = True, ax=axes[2], color='orange');\n",
    "    sns.boxplot(data=df_preproc, x=weather_params[index], ax=axes[3], color='orange');"
   ]
  },
  {
   "cell_type": "markdown",
   "id": "773c7651-ee9d-4267-83ed-9cea76ec5696",
   "metadata": {
    "tags": []
   },
   "source": [
    "### 2. Robust Scaler"
   ]
  },
  {
   "cell_type": "code",
   "execution_count": null,
   "id": "23d59102-2a9d-4780-8ea2-e82b9d2a5902",
   "metadata": {},
   "outputs": [],
   "source": [
    "from sklearn.preprocessing import RobustScaler\n",
    "\n",
    "\n",
    "rb_scaler = RobustScaler() \n",
    "df_preproc2 = df.copy()\n",
    "for feature in weather_params:\n",
    "    rb_scaler.fit(df[[feature]])\n",
    "    df_preproc2[feature] = rb_scaler.transform(df[[feature]])\n",
    "\n",
    "rb_scaler.fit(data[['GrLivArea']]) \n",
    "\n",
    "data['GrLivArea'] = rb_scaler.transform(data[['GrLivArea']]) \n"
   ]
  },
  {
   "cell_type": "code",
   "execution_count": null,
   "id": "c551cd81-7c8b-45ff-893a-e1bc3d6ac76a",
   "metadata": {
    "tags": []
   },
   "outputs": [],
   "source": [
    "df_weather = data.get_weather('Amiens')\n",
    "df_weather"
   ]
  },
  {
   "cell_type": "code",
   "execution_count": null,
   "id": "49321968-f3d3-4c86-9235-1df7b31b9240",
   "metadata": {
    "tags": []
   },
   "outputs": [],
   "source": [
    "df_merge = data.merge_weather_energy_df('Amiens', 'Hauts-de-France', 'eolien')\n",
    "df_merge"
   ]
  },
  {
   "cell_type": "code",
   "execution_count": null,
   "id": "b709516b-7325-46c7-bcc0-d2aaa2b90dbd",
   "metadata": {
    "tags": []
   },
   "outputs": [],
   "source": [
    "prod_df = data.get_energy_production(-1, 0, 'Hauts-de-France')"
   ]
  },
  {
   "cell_type": "code",
   "execution_count": null,
   "id": "c7177e02-b1ab-4955-abb3-e290c9adb05f",
   "metadata": {
    "tags": []
   },
   "outputs": [],
   "source": [
    "prod_df.columns"
   ]
  },
  {
   "cell_type": "markdown",
   "id": "093604c9-cf91-4d2b-a5bc-bbfacbf03754",
   "metadata": {
    "jp-MarkdownHeadingCollapsed": true,
    "tags": []
   },
   "source": [
    "## Baseline model - Random Forest (not the best parameters)"
   ]
  },
  {
   "cell_type": "markdown",
   "id": "3fa172b4-393c-4db9-8d6d-b89addc7dea8",
   "metadata": {},
   "source": [
    "First we import our class:"
   ]
  },
  {
   "cell_type": "code",
   "execution_count": null,
   "id": "a68d2977-f26e-4c7f-b692-9baea60f09d4",
   "metadata": {
    "tags": []
   },
   "outputs": [],
   "source": [
    "from prophecy.data_3_cities import WeatherEnergy"
   ]
  },
  {
   "cell_type": "code",
   "execution_count": null,
   "id": "87b72dff-2488-4afd-a72a-ee37ecefc08e",
   "metadata": {
    "tags": []
   },
   "outputs": [],
   "source": [
    "data = WeatherEnergy(limit=-1, offset=0, refine='Hauts-de-France', city1='Heudicourt', city2='Bucy-les-Pierrepont', city3='Riencourt', target='eolien')"
   ]
  },
  {
   "cell_type": "markdown",
   "id": "72dffb03-32aa-4fdd-85bb-867efd42ea5e",
   "metadata": {},
   "source": [
    "Then we get our dataframe"
   ]
  },
  {
   "cell_type": "code",
   "execution_count": null,
   "id": "548c6a39-4dec-4d45-ab2e-779d60817177",
   "metadata": {
    "tags": []
   },
   "outputs": [],
   "source": [
    "df = data.merged()\n",
    "df.head()"
   ]
  },
  {
   "cell_type": "markdown",
   "id": "0827d1ba-b43a-47a6-b1a7-59710e95eb7e",
   "metadata": {},
   "source": [
    "And we drop all `NaN`'s from our target"
   ]
  },
  {
   "cell_type": "code",
   "execution_count": null,
   "id": "ca365b88-06ae-469f-a8a7-d15abd8b461b",
   "metadata": {
    "scrolled": true,
    "tags": []
   },
   "outputs": [],
   "source": [
    "df_nona=df.dropna(subset=['eolien'])"
   ]
  },
  {
   "cell_type": "markdown",
   "id": "455b2c4c-81bd-42b4-85ec-3fd701f108d9",
   "metadata": {},
   "source": [
    "Now we define our features and target"
   ]
  },
  {
   "cell_type": "code",
   "execution_count": null,
   "id": "3b2d6889-12e3-48ba-bfce-fbcb218e4181",
   "metadata": {
    "tags": []
   },
   "outputs": [],
   "source": [
    "X = df_nona.drop(columns=['eolien','weathercode'])\n",
    "y = df_nona['eolien']"
   ]
  },
  {
   "cell_type": "markdown",
   "id": "8c0dc4e7-7fc7-4b6e-a0be-b1b24e13dc8c",
   "metadata": {},
   "source": [
    "Then we run and evaluate our baseline model with RandomForest"
   ]
  },
  {
   "cell_type": "code",
   "execution_count": null,
   "id": "b1603788-bc51-4143-a321-489cbe8352e1",
   "metadata": {
    "tags": []
   },
   "outputs": [],
   "source": [
    "from sklearn.ensemble import RandomForestRegressor\n",
    "from sklearn.model_selection import cross_val_score"
   ]
  },
  {
   "cell_type": "code",
   "execution_count": null,
   "id": "d00dc439-49f4-46cf-9289-9a0417da153e",
   "metadata": {
    "tags": []
   },
   "outputs": [],
   "source": [
    "forest = RandomForestRegressor(max_depth=10, n_estimators=100)\n",
    "score_baseline = cross_val_score(forest, X, y, cv=5,scoring='r2',n_jobs=-1)\n",
    "score_baseline.mean()"
   ]
  },
  {
   "cell_type": "markdown",
   "id": "d11a0645-085d-4077-932f-16261e43c802",
   "metadata": {},
   "source": [
    "Let's try also for XGBoost"
   ]
  },
  {
   "cell_type": "code",
   "execution_count": null,
   "id": "297436f1-f9e4-4eba-a663-2c23c1ff41f0",
   "metadata": {},
   "outputs": [],
   "source": [
    "!pip install xgboost"
   ]
  },
  {
   "cell_type": "code",
   "execution_count": null,
   "id": "eedb715a-b739-4772-8512-ff48814247e4",
   "metadata": {
    "tags": []
   },
   "outputs": [],
   "source": [
    "from xgboost import XGBRegressor"
   ]
  },
  {
   "cell_type": "code",
   "execution_count": null,
   "id": "5a1d4218-6663-4cf9-be5b-3b5dde3f6b28",
   "metadata": {
    "tags": []
   },
   "outputs": [],
   "source": [
    "xgb_reg = XGBRegressor(max_depth=10, n_estimators=100, learning_rate=0.1)\n",
    "score_baseline = cross_val_score(xgb_reg, X, y, cv=5,scoring='r2',n_jobs=-1)\n",
    "score_baseline.mean()"
   ]
  },
  {
   "cell_type": "markdown",
   "id": "8dd81acb-b0d2-4181-a246-2df150b6e0f3",
   "metadata": {
    "jp-MarkdownHeadingCollapsed": true,
    "tags": []
   },
   "source": [
    "## Model Tuning - Random Forest (here I run GridSearch and use the best parameters)"
   ]
  },
  {
   "cell_type": "code",
   "execution_count": null,
   "id": "3569930a-93c7-4c62-81de-784a825a4b8a",
   "metadata": {
    "tags": []
   },
   "outputs": [],
   "source": [
    "import numpy as np\n",
    "import pandas as pd\n",
    "from random import randint\n",
    "from sklearn.model_selection import RandomizedSearchCV\n",
    "from sklearn.ensemble import RandomForestRegressor\n",
    "from sklearn.model_selection import cross_val_score\n",
    "import multiprocessing"
   ]
  },
  {
   "cell_type": "code",
   "execution_count": null,
   "id": "67938d62-0ece-49fc-afe0-d9e845d7bd9c",
   "metadata": {
    "tags": []
   },
   "outputs": [],
   "source": [
    "df_scaled = pd.read_csv('raw_data/wind_energy_scaled.csv',index_col=0)\n",
    "df_scaled.head()"
   ]
  },
  {
   "cell_type": "code",
   "execution_count": null,
   "id": "5540376a-cb96-4e8e-b1e5-c1b0a8e288ae",
   "metadata": {},
   "outputs": [],
   "source": [
    "df_scaled.columns"
   ]
  },
  {
   "cell_type": "code",
   "execution_count": null,
   "id": "ee7a0c4e-0083-4d01-a069-48d2524ad934",
   "metadata": {
    "tags": []
   },
   "outputs": [],
   "source": [
    "X_scaled = df_scaled.drop(columns=['eolien'])\n",
    "y = df_scaled['eolien']"
   ]
  },
  {
   "cell_type": "code",
   "execution_count": null,
   "id": "e4f5a541-afd4-4b46-8c1b-ccbfae258d9e",
   "metadata": {},
   "outputs": [],
   "source": [
    "X_red = X_scaled.tail(8760)\n",
    "y_red = y.tail(8760)"
   ]
  },
  {
   "cell_type": "code",
   "execution_count": null,
   "id": "d6166bd1-5773-4256-8bc6-7c94df616f30",
   "metadata": {
    "tags": []
   },
   "outputs": [],
   "source": [
    "forest = RandomForestRegressor(max_depth=10, n_estimators=100)\n",
    "score_scaled = cross_val_score(forest, X_red, y_red, cv=5,scoring='r2',n_jobs=-1)\n",
    "score_scaled.mean()"
   ]
  },
  {
   "cell_type": "code",
   "execution_count": null,
   "id": "1b034b9e-a749-4167-8787-bdb56d812cef",
   "metadata": {
    "tags": []
   },
   "outputs": [],
   "source": [
    "# Define the parameter grid to search over\n",
    "param_grid = {\n",
    "    'n_estimators': [50, 100, 150],\n",
    "    'max_depth': [3, 5, 10, 15, 20],\n",
    "    'min_samples_split': [2, 5, 10],\n",
    "    'min_samples_leaf': [1, 2, 4]\n",
    "}\n",
    "\n",
    "# Define the RandomForestRegressor model\n",
    "rf_model = RandomForestRegressor(random_state=42)"
   ]
  },
  {
   "cell_type": "code",
   "execution_count": null,
   "id": "ba75fcb8-059f-4d22-91ee-cd86fb20643f",
   "metadata": {
    "tags": []
   },
   "outputs": [],
   "source": [
    "# Use RandomizedSearchCV to search for the best hyperparameters\n",
    "random_search = RandomizedSearchCV(rf_model, param_distributions=param_grid, n_iter=50, cv=5, n_jobs=multiprocessing.cpu_count(), scoring='r2')"
   ]
  },
  {
   "cell_type": "code",
   "execution_count": null,
   "id": "0c12d939-f5e0-4db0-a229-19dfde6e36a4",
   "metadata": {
    "tags": []
   },
   "outputs": [],
   "source": [
    "# Fit the model on the Boston Housing dataset\n",
    "random_search.fit(X_red, y_red)"
   ]
  },
  {
   "cell_type": "code",
   "execution_count": null,
   "id": "467262ae-68b1-4eef-baa4-17e961383945",
   "metadata": {
    "tags": []
   },
   "outputs": [],
   "source": [
    "# Print the best hyperparameters found\n",
    "print('Best hyperparameters:', random_search.best_params_)"
   ]
  },
  {
   "cell_type": "markdown",
   "id": "afc8c4e4-426d-4d89-9771-7fb9007a97a2",
   "metadata": {},
   "source": [
    "Results from last run: (n_estimators: 150, min_samples_split: 2, min_samples_leaf: 2, max_depth: 10)"
   ]
  },
  {
   "cell_type": "code",
   "execution_count": null,
   "id": "04004c58-44c7-4d69-97d7-8ec2cbd780dc",
   "metadata": {},
   "outputs": [],
   "source": [
    "# Print the best score found\n",
    "print('Best score:', random_search.best_score_)"
   ]
  },
  {
   "cell_type": "markdown",
   "id": "3ff1a745-97ba-4901-8581-dc60bd21d15b",
   "metadata": {
    "jp-MarkdownHeadingCollapsed": true,
    "tags": []
   },
   "source": [
    "## Feature importance"
   ]
  },
  {
   "cell_type": "code",
   "execution_count": null,
   "id": "c40d53cf-318a-489c-a799-3a590dc45547",
   "metadata": {},
   "outputs": [],
   "source": [
    "import pandas as pd\n",
    "import numpy as np\n",
    "from statsmodels.tsa.statespace.sarimax import SARIMAX\n",
    "from sklearn.inspection import permutation_importance"
   ]
  },
  {
   "cell_type": "markdown",
   "id": "39318ad3-85db-4f45-8c62-e4104d27d021",
   "metadata": {},
   "source": [
    "Here I use the .csv without the vector features"
   ]
  },
  {
   "cell_type": "code",
   "execution_count": null,
   "id": "9b21694a-5c94-46d6-b6cb-ea0633df4680",
   "metadata": {},
   "outputs": [],
   "source": [
    "df_scaled = pd.read_csv('raw_data/wind_energy_scaled.csv',index_col=0)"
   ]
  },
  {
   "cell_type": "markdown",
   "id": "08171e31-7899-4224-8035-0d130e1476cc",
   "metadata": {},
   "source": [
    "Here I am dropping the worst features"
   ]
  },
  {
   "cell_type": "code",
   "execution_count": null,
   "id": "ee1e98c8-63a4-4ba0-af93-77dcb42854d8",
   "metadata": {},
   "outputs": [],
   "source": [
    "X_scaled = df_scaled.drop(columns=['eolien','cloudcover','cloudcover_low','cloudcover_mid',\n",
    "                       'cloudcover_high','shortwave_radiation','direct_radiation',\n",
    "                      'direct_normal_irradiance','diffuse_radiation','et0_fao_evapotranspiration',\n",
    "                       'soil_temperature_0_to_7cm','soil_temperature_7_to_28cm','soil_temperature_28_to_100cm',\n",
    "                       'soil_temperature_100_to_255cm','soil_moisture_0_to_7cm','soil_moisture_7_to_28cm',\n",
    "                       'soil_moisture_28_to_100cm','soil_moisture_100_to_255cm','dewpoint_2m','precipitation',\n",
    "                        'rain','snowfall'])\n",
    "y = df_scaled['eolien']"
   ]
  },
  {
   "cell_type": "code",
   "execution_count": null,
   "id": "02c1c342-9976-4801-b8de-1db57b398099",
   "metadata": {},
   "outputs": [],
   "source": [
    "X_red_train = X_scaled.iloc[:8760]\n",
    "y_red_train = y.iloc[:8760]\n",
    "X_red_test = X_scaled.iloc[8760:8784]\n",
    "y_red_test = y.iloc[8760:8784]"
   ]
  },
  {
   "cell_type": "code",
   "execution_count": null,
   "id": "86ce37e5-7aa8-44b3-ad22-905a381c578f",
   "metadata": {},
   "outputs": [],
   "source": [
    "forest = RandomForestRegressor(n_estimators=150, min_samples_split=2, min_samples_leaf=2, max_depth=10)\n",
    "result = forest.fit(X_red_train,y_red_train)"
   ]
  },
  {
   "cell_type": "code",
   "execution_count": null,
   "id": "d47d430f-1a78-44d4-8136-fd6d7db34079",
   "metadata": {},
   "outputs": [],
   "source": [
    "result = permutation_importance(forest, X_red_test, y_red_test.values, n_repeats=10, random_state=42, scoring='r2')"
   ]
  },
  {
   "cell_type": "code",
   "execution_count": null,
   "id": "365694cc-1ed1-4e9e-9036-d0313be13e40",
   "metadata": {},
   "outputs": [],
   "source": [
    "df = pd.DataFrame({\n",
    "    'feature': X_red_test.columns,\n",
    "    'importance_mean': abs(result['importances_mean']),\n",
    "    'importance_std': result['importances_std']\n",
    "}).sort_values('importance_mean', ascending=False)\n",
    "\n",
    "print(df)"
   ]
  },
  {
   "cell_type": "markdown",
   "id": "a14956a8-9a45-4985-8833-b0e6f3f9d377",
   "metadata": {
    "jp-MarkdownHeadingCollapsed": true,
    "tags": []
   },
   "source": [
    "## Best RandomForest"
   ]
  },
  {
   "cell_type": "code",
   "execution_count": null,
   "id": "4a1d78f2-4843-4ae3-9ef1-95a04a3d3490",
   "metadata": {},
   "outputs": [],
   "source": [
    "df_scaled = pd.read_csv('raw_data/wind_energy_scaled.csv',index_col=0)"
   ]
  },
  {
   "cell_type": "code",
   "execution_count": null,
   "id": "4d2bb41d-dcc1-47fd-a060-9c140ce9fe3e",
   "metadata": {
    "tags": []
   },
   "outputs": [],
   "source": [
    "X_scaled = df_scaled.drop(columns=['eolien','cloudcover','cloudcover_low','cloudcover_mid',\n",
    "                       'cloudcover_high','shortwave_radiation','direct_radiation',\n",
    "                      'direct_normal_irradiance','diffuse_radiation','et0_fao_evapotranspiration',\n",
    "                       'soil_temperature_0_to_7cm','soil_temperature_7_to_28cm','soil_temperature_28_to_100cm',\n",
    "                       'soil_temperature_100_to_255cm','soil_moisture_0_to_7cm','soil_moisture_7_to_28cm',\n",
    "                       'soil_moisture_28_to_100cm','soil_moisture_100_to_255cm','dewpoint_2m','precipitation',\n",
    "                        'rain','snowfall'])\n",
    "y = df_scaled['eolien']"
   ]
  },
  {
   "cell_type": "markdown",
   "id": "1eac315e-cc7a-4a79-8cca-b70cbdf440eb",
   "metadata": {},
   "source": [
    "Training one year to predict the following day"
   ]
  },
  {
   "cell_type": "code",
   "execution_count": null,
   "id": "77b6d9b9-a65b-4d0d-8b3f-03bbf75874f6",
   "metadata": {},
   "outputs": [],
   "source": [
    "X_red_train = X_scaled.iloc[:8760]\n",
    "y_red_train = y.iloc[:8760]\n",
    "X_red_test = X_scaled.iloc[8760:8784]\n",
    "y_red_test = y.iloc[8760:8784]"
   ]
  },
  {
   "cell_type": "markdown",
   "id": "f00b694f-2750-4bbe-89df-0a8deef740cd",
   "metadata": {},
   "source": [
    "Using the best params from GridSearch"
   ]
  },
  {
   "cell_type": "code",
   "execution_count": null,
   "id": "eedbaa9b-28a9-4e76-a34e-acc56181a590",
   "metadata": {},
   "outputs": [],
   "source": [
    "forest = RandomForestRegressor(n_estimators=150, min_samples_split=2, min_samples_leaf=2, max_depth=10)\n",
    "score_scaled = cross_val_score(forest, X_red_train, y_red_train, cv=5,scoring='r2',n_jobs=-1)\n",
    "score_scaled.mean()"
   ]
  },
  {
   "cell_type": "markdown",
   "id": "dde911dd-e619-47e6-8c01-7b6b2bbacea9",
   "metadata": {
    "jp-MarkdownHeadingCollapsed": true,
    "tags": []
   },
   "source": [
    "## SARIMAX (gave up on it)"
   ]
  },
  {
   "cell_type": "code",
   "execution_count": null,
   "id": "f3e7d54a-3ab3-458a-be6a-f13ff4986848",
   "metadata": {},
   "outputs": [],
   "source": [
    "from pmdarima.arima import auto_arima\n",
    "import statsmodels.api as sm\n",
    "import numpy as np\n",
    "import pandas as pd\n",
    "from random import randint\n",
    "from sklearn.model_selection import RandomizedSearchCV\n",
    "from sklearn.ensemble import RandomForestRegressor\n",
    "from sklearn.model_selection import cross_val_score\n",
    "import multiprocessing\n",
    "from statsmodels.tsa.statespace.sarimax import SARIMAX"
   ]
  },
  {
   "cell_type": "code",
   "execution_count": null,
   "id": "6b9e483a-4c35-4db8-997b-367f52d86749",
   "metadata": {},
   "outputs": [],
   "source": [
    "df_scaled = pd.read_csv('raw_data/wind_energy_scaled.csv',index_col=0)"
   ]
  },
  {
   "cell_type": "code",
   "execution_count": null,
   "id": "dfe03140-a8c5-43eb-bb2d-61d7880bc0c8",
   "metadata": {},
   "outputs": [],
   "source": [
    "X_scaled = df_scaled.drop(columns=['eolien','cloudcover','cloudcover_low','cloudcover_mid',\n",
    "                       'cloudcover_high','shortwave_radiation','direct_radiation',\n",
    "                      'direct_normal_irradiance','diffuse_radiation','et0_fao_evapotranspiration',\n",
    "                       'soil_temperature_0_to_7cm','soil_temperature_7_to_28cm','soil_temperature_28_to_100cm',\n",
    "                       'soil_temperature_100_to_255cm','soil_moisture_0_to_7cm','soil_moisture_7_to_28cm',\n",
    "                       'soil_moisture_28_to_100cm','soil_moisture_100_to_255cm','dewpoint_2m','precipitation',\n",
    "                        'rain','snowfall'])\n",
    "y = df_scaled['eolien']"
   ]
  },
  {
   "cell_type": "code",
   "execution_count": null,
   "id": "41950220-b5f4-43ff-8453-a5b1276a014d",
   "metadata": {},
   "outputs": [],
   "source": [
    "X_red_train = X_scaled.iloc[:8760]\n",
    "y_red_train = y.iloc[:8760]\n",
    "X_red_test = X_scaled.iloc[8760:8784]\n",
    "y_red_test = y.iloc[8760:8784]"
   ]
  },
  {
   "cell_type": "code",
   "execution_count": null,
   "id": "c5dc334c-dcb8-403c-926b-7e7907c21bc4",
   "metadata": {},
   "outputs": [],
   "source": [
    "# Define the SARIMAX model with exogenous variables\n",
    "model = sm.tsa.statespace.SARIMAX(endog=y_red_train, exog=X_red_train, order=(2,1,1), seasonal_order=(1,0,0,12))\n",
    "\n",
    "# Use auto_arima to find the best hyperparameters for the SARIMAX model\n",
    "arima_model = auto_arima(y_red_train, exogenous=X_red_train, seasonal=True, m=24, \n",
    "                         max_p=2, max_d=2, max_q=2, max_P=2, max_D=1, max_Q=2, \n",
    "                         stepwise=False, trace=True, information_criterion='bic',\n",
    "                         parallel=True,njobs=-1)\n",
    "\n",
    "# Print the best hyperparameters found by auto_arima\n",
    "print(arima_model.summary())"
   ]
  },
  {
   "cell_type": "code",
   "execution_count": null,
   "id": "34efe7ba-032b-4eed-b507-4e7ebfe8da47",
   "metadata": {},
   "outputs": [],
   "source": [
    "# Fit the SARIMAX model using the best hyperparameters found by auto_arima\n",
    "sarima = SARIMAX(endog=y_red_train, exog=X_red_train, order=(0, 1, 2), seasonal_order=(0, 0, 0, 24))\n",
    "results = sarima.fit()"
   ]
  },
  {
   "cell_type": "code",
   "execution_count": null,
   "id": "68350fda-55c4-48bf-8073-ebdfac33ac3a",
   "metadata": {},
   "outputs": [],
   "source": [
    "y_red_test"
   ]
  },
  {
   "cell_type": "code",
   "execution_count": null,
   "id": "c866b107-e559-4dce-9de0-524a79d1bed1",
   "metadata": {},
   "outputs": [],
   "source": [
    "# Make predictions on the test data using the trained model\n",
    "predictions = results.predict(start='2014-03-13 00:00:00', end='2014-03-13 23:00:00', exog=X_red_test)\n",
    "predictions"
   ]
  },
  {
   "cell_type": "code",
   "execution_count": null,
   "id": "8c36d012-afee-4785-a3c0-8cbc959a95e3",
   "metadata": {},
   "outputs": [],
   "source": [
    "from sklearn.metrics import r2_score"
   ]
  },
  {
   "cell_type": "code",
   "execution_count": null,
   "id": "6740a6ef-3438-4bd9-a78a-db76787355ad",
   "metadata": {},
   "outputs": [],
   "source": [
    "# Calculate the score of the forecast\n",
    "score = r2_score(y_red_test, predictions)\n",
    "print('Forecast score:', score)"
   ]
  },
  {
   "cell_type": "markdown",
   "id": "957e9085-b3fb-4d9d-87b2-92abfaca1b77",
   "metadata": {},
   "source": [
    "Don't forget to move this notebook back to the notebooks folder using import sys"
   ]
  },
  {
   "cell_type": "markdown",
   "id": "6d0a3e02-6533-4e49-a7fe-9c1356cf2b24",
   "metadata": {
    "tags": []
   },
   "source": [
    "## RNN"
   ]
  },
  {
   "cell_type": "code",
   "execution_count": null,
   "id": "6cd631f5-1848-43e3-b5af-d172b0df1110",
   "metadata": {},
   "outputs": [
    {
     "name": "stdout",
     "output_type": "stream",
     "text": [
      "The autoreload extension is already loaded. To reload it, use:\n",
      "  %reload_ext autoreload\n"
     ]
    }
   ],
   "source": [
    "%load_ext autoreload\n",
    "%autoreload 2"
   ]
  },
  {
   "cell_type": "markdown",
   "id": "350a8056-0ed8-44d2-9c36-4f620c3c35f6",
   "metadata": {
    "jp-MarkdownHeadingCollapsed": true,
    "tags": []
   },
   "source": [
    "### Importations"
   ]
  },
  {
   "cell_type": "code",
   "execution_count": 523,
   "id": "341420f4-ce80-44d0-b085-2d84aa6a19bb",
   "metadata": {},
   "outputs": [],
   "source": [
    "# Data manipulation\n",
    "import numpy as np\n",
    "import pandas as pd\n",
    "pd.set_option(\"display.max_columns\", None)\n",
    "\n",
    "# Data Visualiation\n",
    "import matplotlib.pyplot as plt\n",
    "import seaborn as sns\n",
    "\n",
    "# System\n",
    "import os\n",
    "\n",
    "# Deep Learning\n",
    "import tensorflow as tf\n",
    "\n",
    "from typing import Dict, List, Tuple, Sequence\n",
    "\n",
    "from tensorflow.keras import models\n",
    "from tensorflow.keras import layers\n",
    "from tensorflow.keras import optimizers, metrics\n",
    "from tensorflow.keras.regularizers import L1L2\n",
    "from tensorflow.keras.layers.experimental.preprocessing import Normalization\n",
    "\n",
    "from sklearn.metrics import r2_score, mean_squared_error, mean_absolute_error, mean_absolute_percentage_error\n",
    "\n",
    "from prophecy.get_data import WeatherEnergy\n",
    "from prophecy.Feauture_processing import FeaturePreprocessing\n",
    "import numpy as np"
   ]
  },
  {
   "cell_type": "markdown",
   "id": "223be2f1-0fe0-4e34-a462-a47573b9c670",
   "metadata": {
    "jp-MarkdownHeadingCollapsed": true,
    "tags": []
   },
   "source": [
    "### Functions"
   ]
  },
  {
   "cell_type": "code",
   "execution_count": 524,
   "id": "5bcb21c5-ea40-4ed5-a911-2bf6532460cf",
   "metadata": {},
   "outputs": [],
   "source": [
    "def get_folds(\n",
    "    df: pd.DataFrame,\n",
    "    fold_length: int,\n",
    "    fold_stride: int) -> List[pd.DataFrame]:\n",
    "    \"\"\"    \n",
    "    This function slides through the Time Series dataframe of shape (n_timesteps, n_features) to create folds\n",
    "    - of equal `fold_length`\n",
    "    - using `fold_stride` between each fold\n",
    "\n",
    "    Args:\n",
    "        df (pd.DataFrame): Overall dataframe\n",
    "        fold_length (int): How long each fold should be in rows\n",
    "        fold_stride (int): How many timesteps to move forward between taking each fold\n",
    "\n",
    "    Returns:\n",
    "        List[pd.DataFrame]: A list where each fold is a dataframe within\n",
    "    \"\"\"\n",
    "    # $CHALLENGIFY_BEGIN\n",
    "    \n",
    "    folds = []\n",
    "    for idx in range(0, len(df), fold_stride):\n",
    "        # Exits the loop as soon as the last fold index would exceed the last index\n",
    "        if (idx + fold_length) > len(df):\n",
    "            break\n",
    "        fold = df.iloc[idx:idx + fold_length, :]\n",
    "        folds.append(fold)\n",
    "    return folds"
   ]
  },
  {
   "cell_type": "code",
   "execution_count": 525,
   "id": "c8a8a442-4a80-4ba0-8f01-1740d5141fc5",
   "metadata": {},
   "outputs": [],
   "source": [
    "def train_test_split(fold:pd.DataFrame,\n",
    "                     train_test_ratio: float,\n",
    "                     input_length: int) -> Tuple[pd.DataFrame]:\n",
    "    \"\"\"From a fold dataframe, take a train dataframe and test dataframe based on \n",
    "    the split ratio.\n",
    "    - df_train should contain all the timesteps until round(train_test_ratio * len(fold))\n",
    "    - df_test should contain all the timesteps needed to create all (X_test, y_test) tuples\n",
    "\n",
    "    Args:\n",
    "        fold (pd.DataFrame): A fold of timesteps\n",
    "        train_test_ratio (float): The ratio between train and test 0-1\n",
    "        input_length (int): How long each X_i will be\n",
    "\n",
    "    Returns:\n",
    "        Tuple[pd.DataFrame]: A tuple of two dataframes (fold_train, fold_test)\n",
    "    \"\"\"\n",
    "    # $CHALLENGIFY_BEGIN\n",
    "    \n",
    "    # TRAIN SET\n",
    "    # ======================\n",
    "    last_train_idx = round(train_test_ratio * len(fold))\n",
    "    fold_train = fold.iloc[0:last_train_idx, :]\n",
    "\n",
    "    # TEST SET\n",
    "    # ======================    \n",
    "    first_test_idx = last_train_idx - input_length\n",
    "    fold_test = fold.iloc[first_test_idx:, :]\n",
    "\n",
    "    return (fold_train, fold_test)"
   ]
  },
  {
   "cell_type": "code",
   "execution_count": 526,
   "id": "1868d349-2d6d-45a0-9016-12ba01801c44",
   "metadata": {},
   "outputs": [],
   "source": [
    "def get_Xi_yi(\n",
    "    fold:pd.DataFrame, \n",
    "    input_length:int, \n",
    "    output_length:int) -> Tuple[pd.DataFrame]:\n",
    "    \"\"\"given a fold, it returns one sequence (X_i, y_i) as based on the desired \n",
    "    input_length and output_length with the starting point of the sequence being chosen at random based\n",
    "\n",
    "    Args:\n",
    "        fold (pd.DataFrame): A single fold\n",
    "        input_length (int): How long each X_i should be \n",
    "        output_length (int): How long each y_i should be\n",
    "\n",
    "    Returns:\n",
    "        Tuple[pd.DataFrame]: A tuple of two dataframes (X_i, y_i)\n",
    "    \"\"\"\n",
    "    # $CHALLENGIFY_BEGIN\n",
    "    first_possible_start = 0\n",
    "    last_possible_start = len(fold) - (input_length + output_length) + 1\n",
    "    random_start = np.random.randint(first_possible_start, last_possible_start)\n",
    "    X_i = fold.iloc[random_start:random_start+input_length]    \n",
    "    y_i = fold.iloc[random_start+input_length:\n",
    "                  random_start+input_length+output_length][[TARGET]]\n",
    "    \n",
    "    return (X_i, y_i)"
   ]
  },
  {
   "cell_type": "code",
   "execution_count": 527,
   "id": "6647a99e-11d2-4144-9774-aec3f58c5e7a",
   "metadata": {},
   "outputs": [],
   "source": [
    "def get_X_y(\n",
    "    fold:pd.DataFrame,\n",
    "    number_of_sequences:int,\n",
    "    input_length:int,\n",
    "    output_length:int) -> Tuple[np.array]:\n",
    "    \"\"\"Given a fold generate X and y based on the number of desired sequences \n",
    "    of the given input_length and output_length\n",
    "\n",
    "    Args:\n",
    "        fold (pd.DataFrame): Fold dataframe\n",
    "        number_of_sequences (int): The number of X_i and y_i pairs to include\n",
    "        input_length (int): Length of each X_i\n",
    "        output_length (int): Length of each y_i\n",
    "\n",
    "    Returns:\n",
    "        Tuple[np.array]: A tuple of numpy arrays (X, y)\n",
    "    \"\"\"\n",
    "    # $CHALLENGIFY_BEGIN    \n",
    "    X, y = [], []\n",
    "\n",
    "    for i in range(number_of_sequences):\n",
    "        (Xi, yi) = get_Xi_yi(fold, input_length, output_length)\n",
    "        X.append(Xi)\n",
    "        y.append(yi)\n",
    "        \n",
    "    return np.array(X), np.array(y)"
   ]
  },
  {
   "cell_type": "code",
   "execution_count": 528,
   "id": "9793ebfa-7444-4d40-a1e3-a2abfc1035bf",
   "metadata": {},
   "outputs": [],
   "source": [
    "def init_model(X_train, y_train):\n",
    "    \n",
    "    # $CHALLENGIFY_BEGIN    \n",
    "    \n",
    "    # 0 - Normalization\n",
    "    # ======================    \n",
    "    normalizer = Normalization()\n",
    "    normalizer.adapt(X_train)\n",
    "    \n",
    "    # 1 - RNN architecture\n",
    "    # ======================    \n",
    "    model = models.Sequential()\n",
    "    ## 1.0 - All the rows will be standardized through the already adapted normalization layer\n",
    "    model.add(normalizer)\n",
    "    ## 1.1 - Recurrent Layer\n",
    "    model.add(layers.LSTM(64, \n",
    "                          activation='tanh', \n",
    "                          return_sequences = False,\n",
    "                          kernel_regularizer=L1L2(l1=0.05, l2=0.05),\n",
    "                          ))\n",
    "    ## 1.2 - Predictive Dense Layers\n",
    "    output_length = y_train.shape[1]\n",
    "    model.add(layers.Dense(output_length, activation='linear'))\n",
    "\n",
    "    # 2 - Compiler\n",
    "    # ======================    \n",
    "    adam = optimizers.Adam(learning_rate=0.02)    \n",
    "    model.compile(loss='mse', optimizer=adam, metrics=['mae'])\n",
    "    \n",
    "    return model\n",
    "    # $CHALLENGIFY_END"
   ]
  },
  {
   "cell_type": "code",
   "execution_count": 529,
   "id": "9272f2b3-3805-4441-b463-ea76292164d1",
   "metadata": {},
   "outputs": [],
   "source": [
    "from tensorflow import keras\n",
    "from keras.callbacks import EarlyStopping\n",
    "\n",
    "def fit_model(model: tf.keras.Model, verbose=1) -> Tuple[tf.keras.Model, dict]:\n",
    "\n",
    "    # $CHALLENGIFY_BEGIN\n",
    "    es = EarlyStopping(monitor = \"val_loss\",\n",
    "                      patience = 5,\n",
    "                      mode = \"min\",\n",
    "                      restore_best_weights = True)\n",
    "\n",
    "\n",
    "    history = model.fit(X_train, y_train,\n",
    "                        validation_split = 0.3,\n",
    "                        shuffle = False,\n",
    "                        batch_size = 32,\n",
    "                        epochs = 100,\n",
    "                        callbacks = [es],\n",
    "                        verbose = verbose)\n",
    "\n",
    "    return model, history"
   ]
  },
  {
   "cell_type": "code",
   "execution_count": 530,
   "id": "8df8b6ea-d6a8-4eed-8636-8ec6c253ef7a",
   "metadata": {},
   "outputs": [],
   "source": [
    "def plot_history(history):\n",
    "    \n",
    "    fig, ax = plt.subplots(1,2, figsize=(20,7))\n",
    "    # --- LOSS: MSE --- \n",
    "    ax[0].plot(history.history['loss'])\n",
    "    ax[0].plot(history.history['val_loss'])\n",
    "    ax[0].set_title('MSE')\n",
    "    ax[0].set_ylabel('Loss')\n",
    "    ax[0].set_xlabel('Epoch')\n",
    "    ax[0].legend(['Train', 'Validation'], loc='best')\n",
    "    ax[0].grid(axis=\"x\",linewidth=0.5)\n",
    "    ax[0].grid(axis=\"y\",linewidth=0.5)\n",
    "    \n",
    "    # --- METRICS:MAE ---\n",
    "    \n",
    "    ax[1].plot(history.history['mae'])\n",
    "    ax[1].plot(history.history['val_mae'])\n",
    "    ax[1].set_title('MAE')\n",
    "    ax[1].set_ylabel('MAE')\n",
    "    ax[1].set_xlabel('Epoch')\n",
    "    ax[1].legend(['Train', 'Validation'], loc='best')\n",
    "    ax[1].grid(axis=\"x\",linewidth=0.5)\n",
    "    ax[1].grid(axis=\"y\",linewidth=0.5)\n",
    "                        \n",
    "    return ax"
   ]
  },
  {
   "cell_type": "markdown",
   "id": "132141f0-69a2-42be-90a3-411584102576",
   "metadata": {
    "jp-MarkdownHeadingCollapsed": true,
    "tags": []
   },
   "source": [
    "### Defining global variables"
   ]
  },
  {
   "cell_type": "code",
   "execution_count": 531,
   "id": "b3bfe3c9-5d2e-4815-af59-8984a9c7c3cb",
   "metadata": {},
   "outputs": [],
   "source": [
    "# Let's define the global variables of our dataset\n",
    "#TARGET = target\n",
    "N_TARGETS = 1\n",
    "N_FEATURES = df.shape[1] - 1"
   ]
  },
  {
   "cell_type": "markdown",
   "id": "7be3094a-37ed-4730-950a-0f65d6e29089",
   "metadata": {},
   "source": [
    "Defining the folds informations"
   ]
  },
  {
   "cell_type": "code",
   "execution_count": 532,
   "id": "1f9609ad-a737-4bf9-bf5c-c2eaeb616e6b",
   "metadata": {},
   "outputs": [],
   "source": [
    "# --------------------------------------------------- #\n",
    "# Let's consider FOLDS with a length of 3 years       #\n",
    "# (2 years will be used for train, 1 for test!)       #\n",
    "# --------------------------------------------------- #\n",
    "\n",
    "FOLD_LENGTH = 24*365 * 3 # every hour\n",
    "                        # three years\n",
    "\n",
    "# --------------------------------------------------- #\n",
    "# Let's consider FOLDS starting every trimester       #\n",
    "# --------------------------------------------------- #\n",
    "    \n",
    "FOLD_STRIDE = 24*91 # every hour\n",
    "                   # 1 quarter = 91 days\n",
    "\n",
    "# --------------------------------------------------- #\n",
    "# Let's consider a train-test-split ratio of 2/3      #\n",
    "# --------------------------------------------------- #\n",
    "\n",
    "TRAIN_TEST_RATIO = 0.66"
   ]
  },
  {
   "cell_type": "markdown",
   "id": "1e6c6054-067c-46ce-bc0f-263ab5632193",
   "metadata": {},
   "source": [
    "And the input length"
   ]
  },
  {
   "cell_type": "code",
   "execution_count": 533,
   "id": "7399e9dc-475b-41e5-870f-e7157072e2ed",
   "metadata": {},
   "outputs": [],
   "source": [
    "INPUT_LENGTH = 24 * 7 # records every hour\n",
    "                      # one week"
   ]
  },
  {
   "cell_type": "markdown",
   "id": "aa085a19-a1dd-4b88-baba-a1a39fb0e28e",
   "metadata": {
    "tags": []
   },
   "source": [
    "### Getting the dataframe"
   ]
  },
  {
   "cell_type": "code",
   "execution_count": 534,
   "id": "09c0a96d-cb94-48e6-9ef4-4e168de5e8b1",
   "metadata": {},
   "outputs": [],
   "source": [
    "target = 'consommation'\n",
    "TARGET = target"
   ]
  },
  {
   "cell_type": "code",
   "execution_count": 535,
   "id": "4940cef4-6bd4-4023-b04b-2996efee6a86",
   "metadata": {
    "tags": []
   },
   "outputs": [],
   "source": [
    "data = WeatherEnergy(limit=-1,\n",
    "                     offset=0,\n",
    "                     #refine='Hauts-de-France', # for wind\n",
    "                     #refine='Nouvelle-Aquitaine', # for sun\n",
    "                     refine='Hauts-de-France', # for consumption\n",
    "                     target = target,\n",
    "                     #city=['Heudicourt','Bucy-les-Pierrepont','Riencourt'], # for wind\n",
    "                     #city=['Cestas'], # for sun\n",
    "                     city=['Lille','Château-Thierry','Laon','Amiens'], # for consumption\n",
    "                     years=10)"
   ]
  },
  {
   "cell_type": "code",
   "execution_count": 536,
   "id": "997f303a-77fd-4ce2-9a8c-ebc1b807818a",
   "metadata": {
    "tags": []
   },
   "outputs": [],
   "source": [
    "merged_df = data.merged()"
   ]
  },
  {
   "cell_type": "code",
   "execution_count": null,
   "id": "f50949e6-26fe-4b04-947c-fe3a608fecc9",
   "metadata": {},
   "outputs": [
    {
     "data": {
      "text/html": [
       "<div>\n",
       "<style scoped>\n",
       "    .dataframe tbody tr th:only-of-type {\n",
       "        vertical-align: middle;\n",
       "    }\n",
       "\n",
       "    .dataframe tbody tr th {\n",
       "        vertical-align: top;\n",
       "    }\n",
       "\n",
       "    .dataframe thead th {\n",
       "        text-align: right;\n",
       "    }\n",
       "</style>\n",
       "<table border=\"1\" class=\"dataframe\">\n",
       "  <thead>\n",
       "    <tr style=\"text-align: right;\">\n",
       "      <th></th>\n",
       "      <th>soil_moisture_0_to_7cm</th>\n",
       "      <th>soil_moisture_7_to_28cm</th>\n",
       "      <th>soil_moisture_28_to_100cm</th>\n",
       "      <th>soil_moisture_100_to_255cm</th>\n",
       "    </tr>\n",
       "  </thead>\n",
       "  <tbody>\n",
       "    <tr>\n",
       "      <th>count</th>\n",
       "      <td>87,423.0</td>\n",
       "      <td>87,423.0</td>\n",
       "      <td>87,423.0</td>\n",
       "      <td>87,423.0</td>\n",
       "    </tr>\n",
       "    <tr>\n",
       "      <th>mean</th>\n",
       "      <td>0.3</td>\n",
       "      <td>0.3</td>\n",
       "      <td>0.3</td>\n",
       "      <td>0.4</td>\n",
       "    </tr>\n",
       "    <tr>\n",
       "      <th>std</th>\n",
       "      <td>0.1</td>\n",
       "      <td>0.1</td>\n",
       "      <td>0.1</td>\n",
       "      <td>0.0</td>\n",
       "    </tr>\n",
       "    <tr>\n",
       "      <th>min</th>\n",
       "      <td>0.1</td>\n",
       "      <td>0.2</td>\n",
       "      <td>0.2</td>\n",
       "      <td>0.3</td>\n",
       "    </tr>\n",
       "    <tr>\n",
       "      <th>25%</th>\n",
       "      <td>0.3</td>\n",
       "      <td>0.3</td>\n",
       "      <td>0.2</td>\n",
       "      <td>0.3</td>\n",
       "    </tr>\n",
       "    <tr>\n",
       "      <th>50%</th>\n",
       "      <td>0.3</td>\n",
       "      <td>0.3</td>\n",
       "      <td>0.3</td>\n",
       "      <td>0.4</td>\n",
       "    </tr>\n",
       "    <tr>\n",
       "      <th>75%</th>\n",
       "      <td>0.4</td>\n",
       "      <td>0.4</td>\n",
       "      <td>0.4</td>\n",
       "      <td>0.4</td>\n",
       "    </tr>\n",
       "    <tr>\n",
       "      <th>max</th>\n",
       "      <td>0.4</td>\n",
       "      <td>0.4</td>\n",
       "      <td>0.4</td>\n",
       "      <td>0.4</td>\n",
       "    </tr>\n",
       "  </tbody>\n",
       "</table>\n",
       "</div>"
      ],
      "text/plain": [
       "       soil_moisture_0_to_7cm  soil_moisture_7_to_28cm  \\\n",
       "count                87,423.0                 87,423.0   \n",
       "mean                      0.3                      0.3   \n",
       "std                       0.1                      0.1   \n",
       "min                       0.1                      0.2   \n",
       "25%                       0.3                      0.3   \n",
       "50%                       0.3                      0.3   \n",
       "75%                       0.4                      0.4   \n",
       "max                       0.4                      0.4   \n",
       "\n",
       "       soil_moisture_28_to_100cm  soil_moisture_100_to_255cm  \n",
       "count                   87,423.0                    87,423.0  \n",
       "mean                         0.3                         0.4  \n",
       "std                          0.1                         0.0  \n",
       "min                          0.2                         0.3  \n",
       "25%                          0.2                         0.3  \n",
       "50%                          0.3                         0.4  \n",
       "75%                          0.4                         0.4  \n",
       "max                          0.4                         0.4  "
      ]
     },
     "execution_count": 425,
     "metadata": {},
     "output_type": "execute_result"
    }
   ],
   "source": [
    "merged_df[['soil_moisture_0_to_7cm','soil_moisture_7_to_28cm','soil_moisture_28_to_100cm', 'soil_moisture_100_to_255cm']].describe()"
   ]
  },
  {
   "cell_type": "code",
   "execution_count": 542,
   "id": "b8559e19-f3d4-4c50-a8b2-2d06785e79cd",
   "metadata": {},
   "outputs": [],
   "source": [
    "processed_df = FeaturePreprocessing(merged_df,target)"
   ]
  },
  {
   "cell_type": "code",
   "execution_count": 543,
   "id": "1347bd3f-1ab0-419e-b376-3695dc456923",
   "metadata": {},
   "outputs": [],
   "source": [
    "df = processed_df.get_period_day()"
   ]
  },
  {
   "cell_type": "code",
   "execution_count": 544,
   "id": "1eff7470-7cad-4fc4-a297-f0e39e0b4c9f",
   "metadata": {},
   "outputs": [
    {
     "data": {
      "text/html": [
       "<div>\n",
       "<style scoped>\n",
       "    .dataframe tbody tr th:only-of-type {\n",
       "        vertical-align: middle;\n",
       "    }\n",
       "\n",
       "    .dataframe tbody tr th {\n",
       "        vertical-align: top;\n",
       "    }\n",
       "\n",
       "    .dataframe thead th {\n",
       "        text-align: right;\n",
       "    }\n",
       "</style>\n",
       "<table border=\"1\" class=\"dataframe\">\n",
       "  <thead>\n",
       "    <tr style=\"text-align: right;\">\n",
       "      <th></th>\n",
       "      <th>standardscaler__temperature_2m</th>\n",
       "      <th>standardscaler__dewpoint_2m</th>\n",
       "      <th>standardscaler__apparent_temperature</th>\n",
       "      <th>standardscaler__pressure_msl</th>\n",
       "      <th>standardscaler__surface_pressure</th>\n",
       "      <th>standardscaler__Wx_10</th>\n",
       "      <th>standardscaler__Wx_100</th>\n",
       "      <th>standardscaler__Wy_10</th>\n",
       "      <th>standardscaler__Wy_100</th>\n",
       "      <th>standardscaler__windgusts_10m</th>\n",
       "      <th>standardscaler__soil_temperature_0_to_7cm</th>\n",
       "      <th>standardscaler__soil_temperature_7_to_28cm</th>\n",
       "      <th>standardscaler__soil_temperature_28_to_100cm</th>\n",
       "      <th>standardscaler__soil_temperature_100_to_255cm</th>\n",
       "      <th>standardscaler__soil_moisture_0_to_7cm</th>\n",
       "      <th>standardscaler__soil_moisture_7_to_28cm</th>\n",
       "      <th>standardscaler__soil_moisture_28_to_100cm</th>\n",
       "      <th>standardscaler__soil_moisture_100_to_255cm</th>\n",
       "      <th>robustscaler__cloudcover</th>\n",
       "      <th>robustscaler__cloudcover_low</th>\n",
       "      <th>robustscaler__cloudcover_mid</th>\n",
       "      <th>robustscaler__cloudcover_high</th>\n",
       "      <th>powertransformer__relativehumidity_2m</th>\n",
       "      <th>powertransformer__precipitation</th>\n",
       "      <th>powertransformer__rain</th>\n",
       "      <th>powertransformer__snowfall</th>\n",
       "      <th>powertransformer__shortwave_radiation</th>\n",
       "      <th>powertransformer__direct_radiation</th>\n",
       "      <th>powertransformer__direct_normal_irradiance</th>\n",
       "      <th>powertransformer__diffuse_radiation</th>\n",
       "      <th>powertransformer__et0_fao_evapotranspiration</th>\n",
       "      <th>powertransformer__vapor_pressure_deficit</th>\n",
       "      <th>season_Fall</th>\n",
       "      <th>season_Spring</th>\n",
       "      <th>season_Summer</th>\n",
       "      <th>season_Winter</th>\n",
       "      <th>weekday_Weekday</th>\n",
       "      <th>weekday_Weekend</th>\n",
       "      <th>period_Afternoon</th>\n",
       "      <th>period_Morning</th>\n",
       "      <th>period_Night</th>\n",
       "      <th>consommation</th>\n",
       "    </tr>\n",
       "    <tr>\n",
       "      <th>time</th>\n",
       "      <th></th>\n",
       "      <th></th>\n",
       "      <th></th>\n",
       "      <th></th>\n",
       "      <th></th>\n",
       "      <th></th>\n",
       "      <th></th>\n",
       "      <th></th>\n",
       "      <th></th>\n",
       "      <th></th>\n",
       "      <th></th>\n",
       "      <th></th>\n",
       "      <th></th>\n",
       "      <th></th>\n",
       "      <th></th>\n",
       "      <th></th>\n",
       "      <th></th>\n",
       "      <th></th>\n",
       "      <th></th>\n",
       "      <th></th>\n",
       "      <th></th>\n",
       "      <th></th>\n",
       "      <th></th>\n",
       "      <th></th>\n",
       "      <th></th>\n",
       "      <th></th>\n",
       "      <th></th>\n",
       "      <th></th>\n",
       "      <th></th>\n",
       "      <th></th>\n",
       "      <th></th>\n",
       "      <th></th>\n",
       "      <th></th>\n",
       "      <th></th>\n",
       "      <th></th>\n",
       "      <th></th>\n",
       "      <th></th>\n",
       "      <th></th>\n",
       "      <th></th>\n",
       "      <th></th>\n",
       "      <th></th>\n",
       "      <th></th>\n",
       "    </tr>\n",
       "  </thead>\n",
       "  <tbody>\n",
       "    <tr>\n",
       "      <th>2013-03-17 00:00:00</th>\n",
       "      <td>-1.1</td>\n",
       "      <td>-0.9</td>\n",
       "      <td>-1.1</td>\n",
       "      <td>-1.7</td>\n",
       "      <td>-1.8</td>\n",
       "      <td>-1.6</td>\n",
       "      <td>-1.7</td>\n",
       "      <td>0.1</td>\n",
       "      <td>-0.0</td>\n",
       "      <td>1.1</td>\n",
       "      <td>-1.3</td>\n",
       "      <td>-1.5</td>\n",
       "      <td>-1.7</td>\n",
       "      <td>-1.8</td>\n",
       "      <td>1.4</td>\n",
       "      <td>1.2</td>\n",
       "      <td>1.1</td>\n",
       "      <td>1.6</td>\n",
       "      <td>0.7</td>\n",
       "      <td>0.8</td>\n",
       "      <td>0.4</td>\n",
       "      <td>0.6</td>\n",
       "      <td>1.0</td>\n",
       "      <td>1.9</td>\n",
       "      <td>1.9</td>\n",
       "      <td>-0.1</td>\n",
       "      <td>-1.0</td>\n",
       "      <td>-0.9</td>\n",
       "      <td>-0.9</td>\n",
       "      <td>-1.0</td>\n",
       "      <td>-0.9</td>\n",
       "      <td>-1.1</td>\n",
       "      <td>0</td>\n",
       "      <td>0</td>\n",
       "      <td>0</td>\n",
       "      <td>1</td>\n",
       "      <td>0</td>\n",
       "      <td>1</td>\n",
       "      <td>0</td>\n",
       "      <td>0</td>\n",
       "      <td>1</td>\n",
       "      <td>6,930.0</td>\n",
       "    </tr>\n",
       "    <tr>\n",
       "      <th>2013-03-17 01:00:00</th>\n",
       "      <td>-1.2</td>\n",
       "      <td>-0.9</td>\n",
       "      <td>-1.1</td>\n",
       "      <td>-1.8</td>\n",
       "      <td>-1.8</td>\n",
       "      <td>-1.5</td>\n",
       "      <td>-1.6</td>\n",
       "      <td>0.1</td>\n",
       "      <td>-0.1</td>\n",
       "      <td>0.9</td>\n",
       "      <td>-1.3</td>\n",
       "      <td>-1.5</td>\n",
       "      <td>-1.7</td>\n",
       "      <td>-1.8</td>\n",
       "      <td>1.4</td>\n",
       "      <td>1.2</td>\n",
       "      <td>1.1</td>\n",
       "      <td>1.6</td>\n",
       "      <td>0.5</td>\n",
       "      <td>0.7</td>\n",
       "      <td>-0.1</td>\n",
       "      <td>0.3</td>\n",
       "      <td>1.1</td>\n",
       "      <td>0.7</td>\n",
       "      <td>0.7</td>\n",
       "      <td>-0.1</td>\n",
       "      <td>-1.0</td>\n",
       "      <td>-0.9</td>\n",
       "      <td>-0.9</td>\n",
       "      <td>-1.0</td>\n",
       "      <td>-0.9</td>\n",
       "      <td>-1.2</td>\n",
       "      <td>0</td>\n",
       "      <td>0</td>\n",
       "      <td>0</td>\n",
       "      <td>1</td>\n",
       "      <td>0</td>\n",
       "      <td>1</td>\n",
       "      <td>0</td>\n",
       "      <td>0</td>\n",
       "      <td>1</td>\n",
       "      <td>6,703.0</td>\n",
       "    </tr>\n",
       "    <tr>\n",
       "      <th>2013-03-17 02:00:00</th>\n",
       "      <td>-1.1</td>\n",
       "      <td>-0.9</td>\n",
       "      <td>-1.1</td>\n",
       "      <td>-1.8</td>\n",
       "      <td>-1.9</td>\n",
       "      <td>-1.4</td>\n",
       "      <td>-1.5</td>\n",
       "      <td>0.1</td>\n",
       "      <td>-0.1</td>\n",
       "      <td>0.7</td>\n",
       "      <td>-1.3</td>\n",
       "      <td>-1.5</td>\n",
       "      <td>-1.7</td>\n",
       "      <td>-1.8</td>\n",
       "      <td>1.3</td>\n",
       "      <td>1.2</td>\n",
       "      <td>1.1</td>\n",
       "      <td>1.6</td>\n",
       "      <td>0.2</td>\n",
       "      <td>0.6</td>\n",
       "      <td>-0.3</td>\n",
       "      <td>0.1</td>\n",
       "      <td>1.2</td>\n",
       "      <td>-0.6</td>\n",
       "      <td>-0.6</td>\n",
       "      <td>-0.1</td>\n",
       "      <td>-1.0</td>\n",
       "      <td>-0.9</td>\n",
       "      <td>-0.9</td>\n",
       "      <td>-1.0</td>\n",
       "      <td>-1.0</td>\n",
       "      <td>-1.2</td>\n",
       "      <td>0</td>\n",
       "      <td>0</td>\n",
       "      <td>0</td>\n",
       "      <td>1</td>\n",
       "      <td>0</td>\n",
       "      <td>1</td>\n",
       "      <td>0</td>\n",
       "      <td>0</td>\n",
       "      <td>1</td>\n",
       "      <td>6,572.0</td>\n",
       "    </tr>\n",
       "    <tr>\n",
       "      <th>2013-03-17 03:00:00</th>\n",
       "      <td>-1.1</td>\n",
       "      <td>-0.8</td>\n",
       "      <td>-1.1</td>\n",
       "      <td>-1.9</td>\n",
       "      <td>-1.9</td>\n",
       "      <td>-1.3</td>\n",
       "      <td>-1.5</td>\n",
       "      <td>0.1</td>\n",
       "      <td>-0.1</td>\n",
       "      <td>0.5</td>\n",
       "      <td>-1.3</td>\n",
       "      <td>-1.5</td>\n",
       "      <td>-1.7</td>\n",
       "      <td>-1.8</td>\n",
       "      <td>1.3</td>\n",
       "      <td>1.2</td>\n",
       "      <td>1.1</td>\n",
       "      <td>1.6</td>\n",
       "      <td>0.3</td>\n",
       "      <td>0.8</td>\n",
       "      <td>-0.3</td>\n",
       "      <td>-0.0</td>\n",
       "      <td>1.2</td>\n",
       "      <td>-0.6</td>\n",
       "      <td>-0.6</td>\n",
       "      <td>-0.1</td>\n",
       "      <td>-1.0</td>\n",
       "      <td>-0.9</td>\n",
       "      <td>-0.9</td>\n",
       "      <td>-1.0</td>\n",
       "      <td>-1.0</td>\n",
       "      <td>-1.3</td>\n",
       "      <td>0</td>\n",
       "      <td>0</td>\n",
       "      <td>0</td>\n",
       "      <td>1</td>\n",
       "      <td>0</td>\n",
       "      <td>1</td>\n",
       "      <td>0</td>\n",
       "      <td>0</td>\n",
       "      <td>1</td>\n",
       "      <td>6,231.0</td>\n",
       "    </tr>\n",
       "    <tr>\n",
       "      <th>2013-03-17 04:00:00</th>\n",
       "      <td>-1.1</td>\n",
       "      <td>-0.8</td>\n",
       "      <td>-1.0</td>\n",
       "      <td>-1.9</td>\n",
       "      <td>-2.0</td>\n",
       "      <td>-1.3</td>\n",
       "      <td>-1.4</td>\n",
       "      <td>0.1</td>\n",
       "      <td>-0.0</td>\n",
       "      <td>0.4</td>\n",
       "      <td>-1.3</td>\n",
       "      <td>-1.5</td>\n",
       "      <td>-1.7</td>\n",
       "      <td>-1.8</td>\n",
       "      <td>1.3</td>\n",
       "      <td>1.2</td>\n",
       "      <td>1.1</td>\n",
       "      <td>1.6</td>\n",
       "      <td>0.4</td>\n",
       "      <td>0.9</td>\n",
       "      <td>-0.1</td>\n",
       "      <td>-0.0</td>\n",
       "      <td>1.3</td>\n",
       "      <td>-0.6</td>\n",
       "      <td>-0.6</td>\n",
       "      <td>-0.1</td>\n",
       "      <td>-1.0</td>\n",
       "      <td>-0.9</td>\n",
       "      <td>-0.9</td>\n",
       "      <td>-1.0</td>\n",
       "      <td>-1.1</td>\n",
       "      <td>-1.3</td>\n",
       "      <td>0</td>\n",
       "      <td>0</td>\n",
       "      <td>0</td>\n",
       "      <td>1</td>\n",
       "      <td>0</td>\n",
       "      <td>1</td>\n",
       "      <td>0</td>\n",
       "      <td>1</td>\n",
       "      <td>0</td>\n",
       "      <td>6,000.0</td>\n",
       "    </tr>\n",
       "  </tbody>\n",
       "</table>\n",
       "</div>"
      ],
      "text/plain": [
       "                     standardscaler__temperature_2m  \\\n",
       "time                                                  \n",
       "2013-03-17 00:00:00                            -1.1   \n",
       "2013-03-17 01:00:00                            -1.2   \n",
       "2013-03-17 02:00:00                            -1.1   \n",
       "2013-03-17 03:00:00                            -1.1   \n",
       "2013-03-17 04:00:00                            -1.1   \n",
       "\n",
       "                     standardscaler__dewpoint_2m  \\\n",
       "time                                               \n",
       "2013-03-17 00:00:00                         -0.9   \n",
       "2013-03-17 01:00:00                         -0.9   \n",
       "2013-03-17 02:00:00                         -0.9   \n",
       "2013-03-17 03:00:00                         -0.8   \n",
       "2013-03-17 04:00:00                         -0.8   \n",
       "\n",
       "                     standardscaler__apparent_temperature  \\\n",
       "time                                                        \n",
       "2013-03-17 00:00:00                                  -1.1   \n",
       "2013-03-17 01:00:00                                  -1.1   \n",
       "2013-03-17 02:00:00                                  -1.1   \n",
       "2013-03-17 03:00:00                                  -1.1   \n",
       "2013-03-17 04:00:00                                  -1.0   \n",
       "\n",
       "                     standardscaler__pressure_msl  \\\n",
       "time                                                \n",
       "2013-03-17 00:00:00                          -1.7   \n",
       "2013-03-17 01:00:00                          -1.8   \n",
       "2013-03-17 02:00:00                          -1.8   \n",
       "2013-03-17 03:00:00                          -1.9   \n",
       "2013-03-17 04:00:00                          -1.9   \n",
       "\n",
       "                     standardscaler__surface_pressure  standardscaler__Wx_10  \\\n",
       "time                                                                           \n",
       "2013-03-17 00:00:00                              -1.8                   -1.6   \n",
       "2013-03-17 01:00:00                              -1.8                   -1.5   \n",
       "2013-03-17 02:00:00                              -1.9                   -1.4   \n",
       "2013-03-17 03:00:00                              -1.9                   -1.3   \n",
       "2013-03-17 04:00:00                              -2.0                   -1.3   \n",
       "\n",
       "                     standardscaler__Wx_100  standardscaler__Wy_10  \\\n",
       "time                                                                 \n",
       "2013-03-17 00:00:00                    -1.7                    0.1   \n",
       "2013-03-17 01:00:00                    -1.6                    0.1   \n",
       "2013-03-17 02:00:00                    -1.5                    0.1   \n",
       "2013-03-17 03:00:00                    -1.5                    0.1   \n",
       "2013-03-17 04:00:00                    -1.4                    0.1   \n",
       "\n",
       "                     standardscaler__Wy_100  standardscaler__windgusts_10m  \\\n",
       "time                                                                         \n",
       "2013-03-17 00:00:00                    -0.0                            1.1   \n",
       "2013-03-17 01:00:00                    -0.1                            0.9   \n",
       "2013-03-17 02:00:00                    -0.1                            0.7   \n",
       "2013-03-17 03:00:00                    -0.1                            0.5   \n",
       "2013-03-17 04:00:00                    -0.0                            0.4   \n",
       "\n",
       "                     standardscaler__soil_temperature_0_to_7cm  \\\n",
       "time                                                             \n",
       "2013-03-17 00:00:00                                       -1.3   \n",
       "2013-03-17 01:00:00                                       -1.3   \n",
       "2013-03-17 02:00:00                                       -1.3   \n",
       "2013-03-17 03:00:00                                       -1.3   \n",
       "2013-03-17 04:00:00                                       -1.3   \n",
       "\n",
       "                     standardscaler__soil_temperature_7_to_28cm  \\\n",
       "time                                                              \n",
       "2013-03-17 00:00:00                                        -1.5   \n",
       "2013-03-17 01:00:00                                        -1.5   \n",
       "2013-03-17 02:00:00                                        -1.5   \n",
       "2013-03-17 03:00:00                                        -1.5   \n",
       "2013-03-17 04:00:00                                        -1.5   \n",
       "\n",
       "                     standardscaler__soil_temperature_28_to_100cm  \\\n",
       "time                                                                \n",
       "2013-03-17 00:00:00                                          -1.7   \n",
       "2013-03-17 01:00:00                                          -1.7   \n",
       "2013-03-17 02:00:00                                          -1.7   \n",
       "2013-03-17 03:00:00                                          -1.7   \n",
       "2013-03-17 04:00:00                                          -1.7   \n",
       "\n",
       "                     standardscaler__soil_temperature_100_to_255cm  \\\n",
       "time                                                                 \n",
       "2013-03-17 00:00:00                                           -1.8   \n",
       "2013-03-17 01:00:00                                           -1.8   \n",
       "2013-03-17 02:00:00                                           -1.8   \n",
       "2013-03-17 03:00:00                                           -1.8   \n",
       "2013-03-17 04:00:00                                           -1.8   \n",
       "\n",
       "                     standardscaler__soil_moisture_0_to_7cm  \\\n",
       "time                                                          \n",
       "2013-03-17 00:00:00                                     1.4   \n",
       "2013-03-17 01:00:00                                     1.4   \n",
       "2013-03-17 02:00:00                                     1.3   \n",
       "2013-03-17 03:00:00                                     1.3   \n",
       "2013-03-17 04:00:00                                     1.3   \n",
       "\n",
       "                     standardscaler__soil_moisture_7_to_28cm  \\\n",
       "time                                                           \n",
       "2013-03-17 00:00:00                                      1.2   \n",
       "2013-03-17 01:00:00                                      1.2   \n",
       "2013-03-17 02:00:00                                      1.2   \n",
       "2013-03-17 03:00:00                                      1.2   \n",
       "2013-03-17 04:00:00                                      1.2   \n",
       "\n",
       "                     standardscaler__soil_moisture_28_to_100cm  \\\n",
       "time                                                             \n",
       "2013-03-17 00:00:00                                        1.1   \n",
       "2013-03-17 01:00:00                                        1.1   \n",
       "2013-03-17 02:00:00                                        1.1   \n",
       "2013-03-17 03:00:00                                        1.1   \n",
       "2013-03-17 04:00:00                                        1.1   \n",
       "\n",
       "                     standardscaler__soil_moisture_100_to_255cm  \\\n",
       "time                                                              \n",
       "2013-03-17 00:00:00                                         1.6   \n",
       "2013-03-17 01:00:00                                         1.6   \n",
       "2013-03-17 02:00:00                                         1.6   \n",
       "2013-03-17 03:00:00                                         1.6   \n",
       "2013-03-17 04:00:00                                         1.6   \n",
       "\n",
       "                     robustscaler__cloudcover  robustscaler__cloudcover_low  \\\n",
       "time                                                                          \n",
       "2013-03-17 00:00:00                       0.7                           0.8   \n",
       "2013-03-17 01:00:00                       0.5                           0.7   \n",
       "2013-03-17 02:00:00                       0.2                           0.6   \n",
       "2013-03-17 03:00:00                       0.3                           0.8   \n",
       "2013-03-17 04:00:00                       0.4                           0.9   \n",
       "\n",
       "                     robustscaler__cloudcover_mid  \\\n",
       "time                                                \n",
       "2013-03-17 00:00:00                           0.4   \n",
       "2013-03-17 01:00:00                          -0.1   \n",
       "2013-03-17 02:00:00                          -0.3   \n",
       "2013-03-17 03:00:00                          -0.3   \n",
       "2013-03-17 04:00:00                          -0.1   \n",
       "\n",
       "                     robustscaler__cloudcover_high  \\\n",
       "time                                                 \n",
       "2013-03-17 00:00:00                            0.6   \n",
       "2013-03-17 01:00:00                            0.3   \n",
       "2013-03-17 02:00:00                            0.1   \n",
       "2013-03-17 03:00:00                           -0.0   \n",
       "2013-03-17 04:00:00                           -0.0   \n",
       "\n",
       "                     powertransformer__relativehumidity_2m  \\\n",
       "time                                                         \n",
       "2013-03-17 00:00:00                                    1.0   \n",
       "2013-03-17 01:00:00                                    1.1   \n",
       "2013-03-17 02:00:00                                    1.2   \n",
       "2013-03-17 03:00:00                                    1.2   \n",
       "2013-03-17 04:00:00                                    1.3   \n",
       "\n",
       "                     powertransformer__precipitation  powertransformer__rain  \\\n",
       "time                                                                           \n",
       "2013-03-17 00:00:00                              1.9                     1.9   \n",
       "2013-03-17 01:00:00                              0.7                     0.7   \n",
       "2013-03-17 02:00:00                             -0.6                    -0.6   \n",
       "2013-03-17 03:00:00                             -0.6                    -0.6   \n",
       "2013-03-17 04:00:00                             -0.6                    -0.6   \n",
       "\n",
       "                     powertransformer__snowfall  \\\n",
       "time                                              \n",
       "2013-03-17 00:00:00                        -0.1   \n",
       "2013-03-17 01:00:00                        -0.1   \n",
       "2013-03-17 02:00:00                        -0.1   \n",
       "2013-03-17 03:00:00                        -0.1   \n",
       "2013-03-17 04:00:00                        -0.1   \n",
       "\n",
       "                     powertransformer__shortwave_radiation  \\\n",
       "time                                                         \n",
       "2013-03-17 00:00:00                                   -1.0   \n",
       "2013-03-17 01:00:00                                   -1.0   \n",
       "2013-03-17 02:00:00                                   -1.0   \n",
       "2013-03-17 03:00:00                                   -1.0   \n",
       "2013-03-17 04:00:00                                   -1.0   \n",
       "\n",
       "                     powertransformer__direct_radiation  \\\n",
       "time                                                      \n",
       "2013-03-17 00:00:00                                -0.9   \n",
       "2013-03-17 01:00:00                                -0.9   \n",
       "2013-03-17 02:00:00                                -0.9   \n",
       "2013-03-17 03:00:00                                -0.9   \n",
       "2013-03-17 04:00:00                                -0.9   \n",
       "\n",
       "                     powertransformer__direct_normal_irradiance  \\\n",
       "time                                                              \n",
       "2013-03-17 00:00:00                                        -0.9   \n",
       "2013-03-17 01:00:00                                        -0.9   \n",
       "2013-03-17 02:00:00                                        -0.9   \n",
       "2013-03-17 03:00:00                                        -0.9   \n",
       "2013-03-17 04:00:00                                        -0.9   \n",
       "\n",
       "                     powertransformer__diffuse_radiation  \\\n",
       "time                                                       \n",
       "2013-03-17 00:00:00                                 -1.0   \n",
       "2013-03-17 01:00:00                                 -1.0   \n",
       "2013-03-17 02:00:00                                 -1.0   \n",
       "2013-03-17 03:00:00                                 -1.0   \n",
       "2013-03-17 04:00:00                                 -1.0   \n",
       "\n",
       "                     powertransformer__et0_fao_evapotranspiration  \\\n",
       "time                                                                \n",
       "2013-03-17 00:00:00                                          -0.9   \n",
       "2013-03-17 01:00:00                                          -0.9   \n",
       "2013-03-17 02:00:00                                          -1.0   \n",
       "2013-03-17 03:00:00                                          -1.0   \n",
       "2013-03-17 04:00:00                                          -1.1   \n",
       "\n",
       "                     powertransformer__vapor_pressure_deficit  season_Fall  \\\n",
       "time                                                                         \n",
       "2013-03-17 00:00:00                                      -1.1            0   \n",
       "2013-03-17 01:00:00                                      -1.2            0   \n",
       "2013-03-17 02:00:00                                      -1.2            0   \n",
       "2013-03-17 03:00:00                                      -1.3            0   \n",
       "2013-03-17 04:00:00                                      -1.3            0   \n",
       "\n",
       "                     season_Spring  season_Summer  season_Winter  \\\n",
       "time                                                               \n",
       "2013-03-17 00:00:00              0              0              1   \n",
       "2013-03-17 01:00:00              0              0              1   \n",
       "2013-03-17 02:00:00              0              0              1   \n",
       "2013-03-17 03:00:00              0              0              1   \n",
       "2013-03-17 04:00:00              0              0              1   \n",
       "\n",
       "                     weekday_Weekday  weekday_Weekend  period_Afternoon  \\\n",
       "time                                                                      \n",
       "2013-03-17 00:00:00                0                1                 0   \n",
       "2013-03-17 01:00:00                0                1                 0   \n",
       "2013-03-17 02:00:00                0                1                 0   \n",
       "2013-03-17 03:00:00                0                1                 0   \n",
       "2013-03-17 04:00:00                0                1                 0   \n",
       "\n",
       "                     period_Morning  period_Night  consommation  \n",
       "time                                                             \n",
       "2013-03-17 00:00:00               0             1       6,930.0  \n",
       "2013-03-17 01:00:00               0             1       6,703.0  \n",
       "2013-03-17 02:00:00               0             1       6,572.0  \n",
       "2013-03-17 03:00:00               0             1       6,231.0  \n",
       "2013-03-17 04:00:00               1             0       6,000.0  "
      ]
     },
     "execution_count": 544,
     "metadata": {},
     "output_type": "execute_result"
    }
   ],
   "source": [
    "df.head()"
   ]
  },
  {
   "cell_type": "code",
   "execution_count": null,
   "id": "c61efe68-62b3-4c7c-a91e-3efd33cfac84",
   "metadata": {},
   "outputs": [],
   "source": [
    "#df_scaled = df = pd.read_csv('raw_data/wind_energy_1.csv',index_col=0)"
   ]
  },
  {
   "cell_type": "markdown",
   "id": "5dd63dcf-7700-488d-8d3b-e78e2465b9e7",
   "metadata": {
    "jp-MarkdownHeadingCollapsed": true,
    "tags": []
   },
   "source": [
    "### Getting the folds"
   ]
  },
  {
   "cell_type": "code",
   "execution_count": null,
   "id": "9d511419-37df-420f-9f40-77fd6eeba620",
   "metadata": {},
   "outputs": [
    {
     "name": "stdout",
     "output_type": "stream",
     "text": [
      "The function generated 28 folds.\n",
      "Each fold has a shape equal to (26280, 42).\n"
     ]
    }
   ],
   "source": [
    "folds = get_folds(df, FOLD_LENGTH, FOLD_STRIDE)\n",
    "\n",
    "print(f'The function generated {len(folds)} folds.')\n",
    "print(f'Each fold has a shape equal to {folds[0].shape}.')"
   ]
  },
  {
   "cell_type": "code",
   "execution_count": null,
   "id": "c770b099-7ac6-4eda-84a7-7f5a065946da",
   "metadata": {},
   "outputs": [
    {
     "data": {
      "text/html": [
       "<div>\n",
       "<style scoped>\n",
       "    .dataframe tbody tr th:only-of-type {\n",
       "        vertical-align: middle;\n",
       "    }\n",
       "\n",
       "    .dataframe tbody tr th {\n",
       "        vertical-align: top;\n",
       "    }\n",
       "\n",
       "    .dataframe thead th {\n",
       "        text-align: right;\n",
       "    }\n",
       "</style>\n",
       "<table border=\"1\" class=\"dataframe\">\n",
       "  <thead>\n",
       "    <tr style=\"text-align: right;\">\n",
       "      <th></th>\n",
       "      <th>standardscaler__temperature_2m</th>\n",
       "      <th>standardscaler__dewpoint_2m</th>\n",
       "      <th>standardscaler__apparent_temperature</th>\n",
       "      <th>standardscaler__pressure_msl</th>\n",
       "      <th>standardscaler__surface_pressure</th>\n",
       "      <th>standardscaler__Wx_10</th>\n",
       "      <th>standardscaler__Wx_100</th>\n",
       "      <th>standardscaler__Wy_10</th>\n",
       "      <th>standardscaler__Wy_100</th>\n",
       "      <th>standardscaler__windgusts_10m</th>\n",
       "      <th>standardscaler__soil_temperature_0_to_7cm</th>\n",
       "      <th>standardscaler__soil_temperature_7_to_28cm</th>\n",
       "      <th>standardscaler__soil_temperature_28_to_100cm</th>\n",
       "      <th>standardscaler__soil_temperature_100_to_255cm</th>\n",
       "      <th>standardscaler__soil_moisture_0_to_7cm</th>\n",
       "      <th>standardscaler__soil_moisture_7_to_28cm</th>\n",
       "      <th>standardscaler__soil_moisture_28_to_100cm</th>\n",
       "      <th>standardscaler__soil_moisture_100_to_255cm</th>\n",
       "      <th>robustscaler__cloudcover</th>\n",
       "      <th>robustscaler__cloudcover_low</th>\n",
       "      <th>robustscaler__cloudcover_mid</th>\n",
       "      <th>robustscaler__cloudcover_high</th>\n",
       "      <th>powertransformer__relativehumidity_2m</th>\n",
       "      <th>powertransformer__precipitation</th>\n",
       "      <th>powertransformer__rain</th>\n",
       "      <th>powertransformer__snowfall</th>\n",
       "      <th>powertransformer__shortwave_radiation</th>\n",
       "      <th>powertransformer__direct_radiation</th>\n",
       "      <th>powertransformer__direct_normal_irradiance</th>\n",
       "      <th>powertransformer__diffuse_radiation</th>\n",
       "      <th>powertransformer__et0_fao_evapotranspiration</th>\n",
       "      <th>powertransformer__vapor_pressure_deficit</th>\n",
       "      <th>season_Fall</th>\n",
       "      <th>season_Spring</th>\n",
       "      <th>season_Summer</th>\n",
       "      <th>season_Winter</th>\n",
       "      <th>weekday_Weekday</th>\n",
       "      <th>weekday_Weekend</th>\n",
       "      <th>period_Afternoon</th>\n",
       "      <th>period_Morning</th>\n",
       "      <th>period_Night</th>\n",
       "      <th>consommation</th>\n",
       "    </tr>\n",
       "    <tr>\n",
       "      <th>time</th>\n",
       "      <th></th>\n",
       "      <th></th>\n",
       "      <th></th>\n",
       "      <th></th>\n",
       "      <th></th>\n",
       "      <th></th>\n",
       "      <th></th>\n",
       "      <th></th>\n",
       "      <th></th>\n",
       "      <th></th>\n",
       "      <th></th>\n",
       "      <th></th>\n",
       "      <th></th>\n",
       "      <th></th>\n",
       "      <th></th>\n",
       "      <th></th>\n",
       "      <th></th>\n",
       "      <th></th>\n",
       "      <th></th>\n",
       "      <th></th>\n",
       "      <th></th>\n",
       "      <th></th>\n",
       "      <th></th>\n",
       "      <th></th>\n",
       "      <th></th>\n",
       "      <th></th>\n",
       "      <th></th>\n",
       "      <th></th>\n",
       "      <th></th>\n",
       "      <th></th>\n",
       "      <th></th>\n",
       "      <th></th>\n",
       "      <th></th>\n",
       "      <th></th>\n",
       "      <th></th>\n",
       "      <th></th>\n",
       "      <th></th>\n",
       "      <th></th>\n",
       "      <th></th>\n",
       "      <th></th>\n",
       "      <th></th>\n",
       "      <th></th>\n",
       "    </tr>\n",
       "  </thead>\n",
       "  <tbody>\n",
       "    <tr>\n",
       "      <th>2019-12-08 00:00:00</th>\n",
       "      <td>-0.6</td>\n",
       "      <td>-0.1</td>\n",
       "      <td>-0.5</td>\n",
       "      <td>-0.2</td>\n",
       "      <td>-0.2</td>\n",
       "      <td>-1.3</td>\n",
       "      <td>-1.3</td>\n",
       "      <td>-0.7</td>\n",
       "      <td>-0.9</td>\n",
       "      <td>0.7</td>\n",
       "      <td>-0.7</td>\n",
       "      <td>-0.8</td>\n",
       "      <td>-1.0</td>\n",
       "      <td>0.3</td>\n",
       "      <td>0.8</td>\n",
       "      <td>0.9</td>\n",
       "      <td>0.7</td>\n",
       "      <td>-1.4</td>\n",
       "      <td>0.4</td>\n",
       "      <td>0.8</td>\n",
       "      <td>-0.4</td>\n",
       "      <td>0.2</td>\n",
       "      <td>1.2</td>\n",
       "      <td>-0.6</td>\n",
       "      <td>-0.6</td>\n",
       "      <td>-0.1</td>\n",
       "      <td>-1.0</td>\n",
       "      <td>-0.9</td>\n",
       "      <td>-0.9</td>\n",
       "      <td>-1.0</td>\n",
       "      <td>-0.7</td>\n",
       "      <td>-1.1</td>\n",
       "      <td>0</td>\n",
       "      <td>0</td>\n",
       "      <td>0</td>\n",
       "      <td>1</td>\n",
       "      <td>0</td>\n",
       "      <td>1</td>\n",
       "      <td>0</td>\n",
       "      <td>0</td>\n",
       "      <td>1</td>\n",
       "      <td>6,392.0</td>\n",
       "    </tr>\n",
       "    <tr>\n",
       "      <th>2019-12-08 01:00:00</th>\n",
       "      <td>-0.5</td>\n",
       "      <td>-0.1</td>\n",
       "      <td>-0.5</td>\n",
       "      <td>-0.3</td>\n",
       "      <td>-0.3</td>\n",
       "      <td>-1.5</td>\n",
       "      <td>-1.5</td>\n",
       "      <td>-0.7</td>\n",
       "      <td>-0.8</td>\n",
       "      <td>0.8</td>\n",
       "      <td>-0.7</td>\n",
       "      <td>-0.8</td>\n",
       "      <td>-0.9</td>\n",
       "      <td>0.3</td>\n",
       "      <td>0.8</td>\n",
       "      <td>0.9</td>\n",
       "      <td>0.7</td>\n",
       "      <td>-1.4</td>\n",
       "      <td>0.5</td>\n",
       "      <td>0.7</td>\n",
       "      <td>-0.4</td>\n",
       "      <td>0.6</td>\n",
       "      <td>1.3</td>\n",
       "      <td>0.1</td>\n",
       "      <td>0.2</td>\n",
       "      <td>-0.1</td>\n",
       "      <td>-1.0</td>\n",
       "      <td>-0.9</td>\n",
       "      <td>-0.9</td>\n",
       "      <td>-1.0</td>\n",
       "      <td>-0.7</td>\n",
       "      <td>-1.2</td>\n",
       "      <td>0</td>\n",
       "      <td>0</td>\n",
       "      <td>0</td>\n",
       "      <td>1</td>\n",
       "      <td>0</td>\n",
       "      <td>1</td>\n",
       "      <td>0</td>\n",
       "      <td>0</td>\n",
       "      <td>1</td>\n",
       "      <td>6,149.0</td>\n",
       "    </tr>\n",
       "    <tr>\n",
       "      <th>2019-12-08 02:00:00</th>\n",
       "      <td>-0.5</td>\n",
       "      <td>-0.0</td>\n",
       "      <td>-0.5</td>\n",
       "      <td>-0.4</td>\n",
       "      <td>-0.4</td>\n",
       "      <td>-1.7</td>\n",
       "      <td>-1.7</td>\n",
       "      <td>-0.7</td>\n",
       "      <td>-0.8</td>\n",
       "      <td>1.1</td>\n",
       "      <td>-0.7</td>\n",
       "      <td>-0.8</td>\n",
       "      <td>-0.9</td>\n",
       "      <td>0.3</td>\n",
       "      <td>0.8</td>\n",
       "      <td>0.9</td>\n",
       "      <td>0.7</td>\n",
       "      <td>-1.4</td>\n",
       "      <td>0.7</td>\n",
       "      <td>0.9</td>\n",
       "      <td>-0.4</td>\n",
       "      <td>0.9</td>\n",
       "      <td>1.3</td>\n",
       "      <td>-0.6</td>\n",
       "      <td>-0.6</td>\n",
       "      <td>-0.1</td>\n",
       "      <td>-1.0</td>\n",
       "      <td>-0.9</td>\n",
       "      <td>-0.9</td>\n",
       "      <td>-1.0</td>\n",
       "      <td>-0.7</td>\n",
       "      <td>-1.2</td>\n",
       "      <td>0</td>\n",
       "      <td>0</td>\n",
       "      <td>0</td>\n",
       "      <td>1</td>\n",
       "      <td>0</td>\n",
       "      <td>1</td>\n",
       "      <td>0</td>\n",
       "      <td>0</td>\n",
       "      <td>1</td>\n",
       "      <td>5,834.0</td>\n",
       "    </tr>\n",
       "    <tr>\n",
       "      <th>2019-12-08 03:00:00</th>\n",
       "      <td>-0.4</td>\n",
       "      <td>0.1</td>\n",
       "      <td>-0.5</td>\n",
       "      <td>-0.5</td>\n",
       "      <td>-0.6</td>\n",
       "      <td>-1.9</td>\n",
       "      <td>-1.8</td>\n",
       "      <td>-0.9</td>\n",
       "      <td>-1.0</td>\n",
       "      <td>1.4</td>\n",
       "      <td>-0.7</td>\n",
       "      <td>-0.8</td>\n",
       "      <td>-0.9</td>\n",
       "      <td>0.3</td>\n",
       "      <td>0.8</td>\n",
       "      <td>0.9</td>\n",
       "      <td>0.7</td>\n",
       "      <td>-1.4</td>\n",
       "      <td>0.6</td>\n",
       "      <td>0.8</td>\n",
       "      <td>-0.4</td>\n",
       "      <td>1.0</td>\n",
       "      <td>1.3</td>\n",
       "      <td>-0.6</td>\n",
       "      <td>-0.6</td>\n",
       "      <td>-0.1</td>\n",
       "      <td>-1.0</td>\n",
       "      <td>-0.9</td>\n",
       "      <td>-0.9</td>\n",
       "      <td>-1.0</td>\n",
       "      <td>-0.5</td>\n",
       "      <td>-1.2</td>\n",
       "      <td>0</td>\n",
       "      <td>0</td>\n",
       "      <td>0</td>\n",
       "      <td>1</td>\n",
       "      <td>0</td>\n",
       "      <td>1</td>\n",
       "      <td>0</td>\n",
       "      <td>0</td>\n",
       "      <td>1</td>\n",
       "      <td>5,621.0</td>\n",
       "    </tr>\n",
       "    <tr>\n",
       "      <th>2019-12-08 04:00:00</th>\n",
       "      <td>-0.4</td>\n",
       "      <td>0.1</td>\n",
       "      <td>-0.5</td>\n",
       "      <td>-0.7</td>\n",
       "      <td>-0.7</td>\n",
       "      <td>-1.9</td>\n",
       "      <td>-1.8</td>\n",
       "      <td>-1.1</td>\n",
       "      <td>-1.1</td>\n",
       "      <td>1.6</td>\n",
       "      <td>-0.7</td>\n",
       "      <td>-0.8</td>\n",
       "      <td>-0.9</td>\n",
       "      <td>0.3</td>\n",
       "      <td>0.8</td>\n",
       "      <td>0.9</td>\n",
       "      <td>0.7</td>\n",
       "      <td>-1.4</td>\n",
       "      <td>0.6</td>\n",
       "      <td>0.9</td>\n",
       "      <td>-0.4</td>\n",
       "      <td>1.0</td>\n",
       "      <td>1.2</td>\n",
       "      <td>-0.6</td>\n",
       "      <td>-0.6</td>\n",
       "      <td>-0.1</td>\n",
       "      <td>-1.0</td>\n",
       "      <td>-0.9</td>\n",
       "      <td>-0.9</td>\n",
       "      <td>-1.0</td>\n",
       "      <td>-0.4</td>\n",
       "      <td>-1.1</td>\n",
       "      <td>0</td>\n",
       "      <td>0</td>\n",
       "      <td>0</td>\n",
       "      <td>1</td>\n",
       "      <td>0</td>\n",
       "      <td>1</td>\n",
       "      <td>0</td>\n",
       "      <td>1</td>\n",
       "      <td>0</td>\n",
       "      <td>5,370.0</td>\n",
       "    </tr>\n",
       "    <tr>\n",
       "      <th>...</th>\n",
       "      <td>...</td>\n",
       "      <td>...</td>\n",
       "      <td>...</td>\n",
       "      <td>...</td>\n",
       "      <td>...</td>\n",
       "      <td>...</td>\n",
       "      <td>...</td>\n",
       "      <td>...</td>\n",
       "      <td>...</td>\n",
       "      <td>...</td>\n",
       "      <td>...</td>\n",
       "      <td>...</td>\n",
       "      <td>...</td>\n",
       "      <td>...</td>\n",
       "      <td>...</td>\n",
       "      <td>...</td>\n",
       "      <td>...</td>\n",
       "      <td>...</td>\n",
       "      <td>...</td>\n",
       "      <td>...</td>\n",
       "      <td>...</td>\n",
       "      <td>...</td>\n",
       "      <td>...</td>\n",
       "      <td>...</td>\n",
       "      <td>...</td>\n",
       "      <td>...</td>\n",
       "      <td>...</td>\n",
       "      <td>...</td>\n",
       "      <td>...</td>\n",
       "      <td>...</td>\n",
       "      <td>...</td>\n",
       "      <td>...</td>\n",
       "      <td>...</td>\n",
       "      <td>...</td>\n",
       "      <td>...</td>\n",
       "      <td>...</td>\n",
       "      <td>...</td>\n",
       "      <td>...</td>\n",
       "      <td>...</td>\n",
       "      <td>...</td>\n",
       "      <td>...</td>\n",
       "      <td>...</td>\n",
       "    </tr>\n",
       "    <tr>\n",
       "      <th>2022-12-07 21:00:00</th>\n",
       "      <td>-1.4</td>\n",
       "      <td>-1.1</td>\n",
       "      <td>-1.2</td>\n",
       "      <td>-0.0</td>\n",
       "      <td>-0.1</td>\n",
       "      <td>-0.3</td>\n",
       "      <td>-0.4</td>\n",
       "      <td>0.5</td>\n",
       "      <td>0.8</td>\n",
       "      <td>-1.2</td>\n",
       "      <td>-1.3</td>\n",
       "      <td>-1.2</td>\n",
       "      <td>-0.7</td>\n",
       "      <td>0.6</td>\n",
       "      <td>0.7</td>\n",
       "      <td>0.7</td>\n",
       "      <td>0.5</td>\n",
       "      <td>-1.4</td>\n",
       "      <td>-0.1</td>\n",
       "      <td>0.3</td>\n",
       "      <td>-0.2</td>\n",
       "      <td>-0.4</td>\n",
       "      <td>1.5</td>\n",
       "      <td>-0.6</td>\n",
       "      <td>-0.6</td>\n",
       "      <td>-0.1</td>\n",
       "      <td>-1.0</td>\n",
       "      <td>-0.9</td>\n",
       "      <td>-0.9</td>\n",
       "      <td>-1.0</td>\n",
       "      <td>-1.1</td>\n",
       "      <td>-1.5</td>\n",
       "      <td>0</td>\n",
       "      <td>0</td>\n",
       "      <td>0</td>\n",
       "      <td>1</td>\n",
       "      <td>1</td>\n",
       "      <td>0</td>\n",
       "      <td>0</td>\n",
       "      <td>0</td>\n",
       "      <td>1</td>\n",
       "      <td>6,164.0</td>\n",
       "    </tr>\n",
       "    <tr>\n",
       "      <th>2022-12-07 22:00:00</th>\n",
       "      <td>-1.4</td>\n",
       "      <td>-1.1</td>\n",
       "      <td>-1.2</td>\n",
       "      <td>-0.0</td>\n",
       "      <td>-0.1</td>\n",
       "      <td>-0.3</td>\n",
       "      <td>-0.4</td>\n",
       "      <td>0.4</td>\n",
       "      <td>0.8</td>\n",
       "      <td>-1.2</td>\n",
       "      <td>-1.3</td>\n",
       "      <td>-1.2</td>\n",
       "      <td>-0.7</td>\n",
       "      <td>0.6</td>\n",
       "      <td>0.7</td>\n",
       "      <td>0.7</td>\n",
       "      <td>0.5</td>\n",
       "      <td>-1.4</td>\n",
       "      <td>-0.1</td>\n",
       "      <td>0.4</td>\n",
       "      <td>-0.2</td>\n",
       "      <td>-0.4</td>\n",
       "      <td>1.6</td>\n",
       "      <td>-0.6</td>\n",
       "      <td>-0.6</td>\n",
       "      <td>-0.1</td>\n",
       "      <td>-1.0</td>\n",
       "      <td>-0.9</td>\n",
       "      <td>-0.9</td>\n",
       "      <td>-1.0</td>\n",
       "      <td>-1.1</td>\n",
       "      <td>-1.6</td>\n",
       "      <td>0</td>\n",
       "      <td>0</td>\n",
       "      <td>0</td>\n",
       "      <td>1</td>\n",
       "      <td>1</td>\n",
       "      <td>0</td>\n",
       "      <td>0</td>\n",
       "      <td>0</td>\n",
       "      <td>1</td>\n",
       "      <td>5,769.0</td>\n",
       "    </tr>\n",
       "    <tr>\n",
       "      <th>2022-12-07 23:00:00</th>\n",
       "      <td>-1.5</td>\n",
       "      <td>-1.2</td>\n",
       "      <td>-1.3</td>\n",
       "      <td>-0.1</td>\n",
       "      <td>-0.1</td>\n",
       "      <td>-0.3</td>\n",
       "      <td>-0.4</td>\n",
       "      <td>0.5</td>\n",
       "      <td>0.8</td>\n",
       "      <td>-1.2</td>\n",
       "      <td>-1.3</td>\n",
       "      <td>-1.2</td>\n",
       "      <td>-0.8</td>\n",
       "      <td>0.6</td>\n",
       "      <td>0.7</td>\n",
       "      <td>0.7</td>\n",
       "      <td>0.5</td>\n",
       "      <td>-1.4</td>\n",
       "      <td>0.3</td>\n",
       "      <td>0.4</td>\n",
       "      <td>0.6</td>\n",
       "      <td>-0.4</td>\n",
       "      <td>1.7</td>\n",
       "      <td>-0.6</td>\n",
       "      <td>-0.6</td>\n",
       "      <td>-0.1</td>\n",
       "      <td>-1.0</td>\n",
       "      <td>-0.9</td>\n",
       "      <td>-0.9</td>\n",
       "      <td>-1.0</td>\n",
       "      <td>-1.1</td>\n",
       "      <td>-1.6</td>\n",
       "      <td>0</td>\n",
       "      <td>0</td>\n",
       "      <td>0</td>\n",
       "      <td>1</td>\n",
       "      <td>1</td>\n",
       "      <td>0</td>\n",
       "      <td>0</td>\n",
       "      <td>0</td>\n",
       "      <td>1</td>\n",
       "      <td>5,612.0</td>\n",
       "    </tr>\n",
       "    <tr>\n",
       "      <th>2022-12-08 00:00:00</th>\n",
       "      <td>-1.5</td>\n",
       "      <td>-1.2</td>\n",
       "      <td>-1.2</td>\n",
       "      <td>-0.1</td>\n",
       "      <td>-0.2</td>\n",
       "      <td>-0.3</td>\n",
       "      <td>-0.3</td>\n",
       "      <td>0.5</td>\n",
       "      <td>0.8</td>\n",
       "      <td>-1.2</td>\n",
       "      <td>-1.3</td>\n",
       "      <td>-1.2</td>\n",
       "      <td>-0.8</td>\n",
       "      <td>0.6</td>\n",
       "      <td>0.7</td>\n",
       "      <td>0.7</td>\n",
       "      <td>0.5</td>\n",
       "      <td>-1.4</td>\n",
       "      <td>0.4</td>\n",
       "      <td>0.5</td>\n",
       "      <td>0.5</td>\n",
       "      <td>-0.4</td>\n",
       "      <td>1.7</td>\n",
       "      <td>-0.6</td>\n",
       "      <td>-0.6</td>\n",
       "      <td>-0.1</td>\n",
       "      <td>-1.0</td>\n",
       "      <td>-0.9</td>\n",
       "      <td>-0.9</td>\n",
       "      <td>-1.0</td>\n",
       "      <td>-1.1</td>\n",
       "      <td>-1.7</td>\n",
       "      <td>0</td>\n",
       "      <td>0</td>\n",
       "      <td>0</td>\n",
       "      <td>1</td>\n",
       "      <td>1</td>\n",
       "      <td>0</td>\n",
       "      <td>0</td>\n",
       "      <td>0</td>\n",
       "      <td>1</td>\n",
       "      <td>5,784.0</td>\n",
       "    </tr>\n",
       "    <tr>\n",
       "      <th>2022-12-08 01:00:00</th>\n",
       "      <td>-1.5</td>\n",
       "      <td>-1.2</td>\n",
       "      <td>-1.3</td>\n",
       "      <td>-0.2</td>\n",
       "      <td>-0.3</td>\n",
       "      <td>-0.3</td>\n",
       "      <td>-0.3</td>\n",
       "      <td>0.4</td>\n",
       "      <td>0.7</td>\n",
       "      <td>-1.2</td>\n",
       "      <td>-1.4</td>\n",
       "      <td>-1.2</td>\n",
       "      <td>-0.8</td>\n",
       "      <td>0.6</td>\n",
       "      <td>0.6</td>\n",
       "      <td>0.7</td>\n",
       "      <td>0.5</td>\n",
       "      <td>-1.4</td>\n",
       "      <td>0.2</td>\n",
       "      <td>0.4</td>\n",
       "      <td>0.3</td>\n",
       "      <td>-0.4</td>\n",
       "      <td>1.8</td>\n",
       "      <td>-0.6</td>\n",
       "      <td>-0.6</td>\n",
       "      <td>-0.1</td>\n",
       "      <td>-1.0</td>\n",
       "      <td>-0.9</td>\n",
       "      <td>-0.9</td>\n",
       "      <td>-1.0</td>\n",
       "      <td>-1.1</td>\n",
       "      <td>-1.7</td>\n",
       "      <td>0</td>\n",
       "      <td>0</td>\n",
       "      <td>0</td>\n",
       "      <td>1</td>\n",
       "      <td>1</td>\n",
       "      <td>0</td>\n",
       "      <td>0</td>\n",
       "      <td>0</td>\n",
       "      <td>1</td>\n",
       "      <td>5,543.0</td>\n",
       "    </tr>\n",
       "  </tbody>\n",
       "</table>\n",
       "<p>26280 rows × 42 columns</p>\n",
       "</div>"
      ],
      "text/plain": [
       "                     standardscaler__temperature_2m  \\\n",
       "time                                                  \n",
       "2019-12-08 00:00:00                            -0.6   \n",
       "2019-12-08 01:00:00                            -0.5   \n",
       "2019-12-08 02:00:00                            -0.5   \n",
       "2019-12-08 03:00:00                            -0.4   \n",
       "2019-12-08 04:00:00                            -0.4   \n",
       "...                                             ...   \n",
       "2022-12-07 21:00:00                            -1.4   \n",
       "2022-12-07 22:00:00                            -1.4   \n",
       "2022-12-07 23:00:00                            -1.5   \n",
       "2022-12-08 00:00:00                            -1.5   \n",
       "2022-12-08 01:00:00                            -1.5   \n",
       "\n",
       "                     standardscaler__dewpoint_2m  \\\n",
       "time                                               \n",
       "2019-12-08 00:00:00                         -0.1   \n",
       "2019-12-08 01:00:00                         -0.1   \n",
       "2019-12-08 02:00:00                         -0.0   \n",
       "2019-12-08 03:00:00                          0.1   \n",
       "2019-12-08 04:00:00                          0.1   \n",
       "...                                          ...   \n",
       "2022-12-07 21:00:00                         -1.1   \n",
       "2022-12-07 22:00:00                         -1.1   \n",
       "2022-12-07 23:00:00                         -1.2   \n",
       "2022-12-08 00:00:00                         -1.2   \n",
       "2022-12-08 01:00:00                         -1.2   \n",
       "\n",
       "                     standardscaler__apparent_temperature  \\\n",
       "time                                                        \n",
       "2019-12-08 00:00:00                                  -0.5   \n",
       "2019-12-08 01:00:00                                  -0.5   \n",
       "2019-12-08 02:00:00                                  -0.5   \n",
       "2019-12-08 03:00:00                                  -0.5   \n",
       "2019-12-08 04:00:00                                  -0.5   \n",
       "...                                                   ...   \n",
       "2022-12-07 21:00:00                                  -1.2   \n",
       "2022-12-07 22:00:00                                  -1.2   \n",
       "2022-12-07 23:00:00                                  -1.3   \n",
       "2022-12-08 00:00:00                                  -1.2   \n",
       "2022-12-08 01:00:00                                  -1.3   \n",
       "\n",
       "                     standardscaler__pressure_msl  \\\n",
       "time                                                \n",
       "2019-12-08 00:00:00                          -0.2   \n",
       "2019-12-08 01:00:00                          -0.3   \n",
       "2019-12-08 02:00:00                          -0.4   \n",
       "2019-12-08 03:00:00                          -0.5   \n",
       "2019-12-08 04:00:00                          -0.7   \n",
       "...                                           ...   \n",
       "2022-12-07 21:00:00                          -0.0   \n",
       "2022-12-07 22:00:00                          -0.0   \n",
       "2022-12-07 23:00:00                          -0.1   \n",
       "2022-12-08 00:00:00                          -0.1   \n",
       "2022-12-08 01:00:00                          -0.2   \n",
       "\n",
       "                     standardscaler__surface_pressure  standardscaler__Wx_10  \\\n",
       "time                                                                           \n",
       "2019-12-08 00:00:00                              -0.2                   -1.3   \n",
       "2019-12-08 01:00:00                              -0.3                   -1.5   \n",
       "2019-12-08 02:00:00                              -0.4                   -1.7   \n",
       "2019-12-08 03:00:00                              -0.6                   -1.9   \n",
       "2019-12-08 04:00:00                              -0.7                   -1.9   \n",
       "...                                               ...                    ...   \n",
       "2022-12-07 21:00:00                              -0.1                   -0.3   \n",
       "2022-12-07 22:00:00                              -0.1                   -0.3   \n",
       "2022-12-07 23:00:00                              -0.1                   -0.3   \n",
       "2022-12-08 00:00:00                              -0.2                   -0.3   \n",
       "2022-12-08 01:00:00                              -0.3                   -0.3   \n",
       "\n",
       "                     standardscaler__Wx_100  standardscaler__Wy_10  \\\n",
       "time                                                                 \n",
       "2019-12-08 00:00:00                    -1.3                   -0.7   \n",
       "2019-12-08 01:00:00                    -1.5                   -0.7   \n",
       "2019-12-08 02:00:00                    -1.7                   -0.7   \n",
       "2019-12-08 03:00:00                    -1.8                   -0.9   \n",
       "2019-12-08 04:00:00                    -1.8                   -1.1   \n",
       "...                                     ...                    ...   \n",
       "2022-12-07 21:00:00                    -0.4                    0.5   \n",
       "2022-12-07 22:00:00                    -0.4                    0.4   \n",
       "2022-12-07 23:00:00                    -0.4                    0.5   \n",
       "2022-12-08 00:00:00                    -0.3                    0.5   \n",
       "2022-12-08 01:00:00                    -0.3                    0.4   \n",
       "\n",
       "                     standardscaler__Wy_100  standardscaler__windgusts_10m  \\\n",
       "time                                                                         \n",
       "2019-12-08 00:00:00                    -0.9                            0.7   \n",
       "2019-12-08 01:00:00                    -0.8                            0.8   \n",
       "2019-12-08 02:00:00                    -0.8                            1.1   \n",
       "2019-12-08 03:00:00                    -1.0                            1.4   \n",
       "2019-12-08 04:00:00                    -1.1                            1.6   \n",
       "...                                     ...                            ...   \n",
       "2022-12-07 21:00:00                     0.8                           -1.2   \n",
       "2022-12-07 22:00:00                     0.8                           -1.2   \n",
       "2022-12-07 23:00:00                     0.8                           -1.2   \n",
       "2022-12-08 00:00:00                     0.8                           -1.2   \n",
       "2022-12-08 01:00:00                     0.7                           -1.2   \n",
       "\n",
       "                     standardscaler__soil_temperature_0_to_7cm  \\\n",
       "time                                                             \n",
       "2019-12-08 00:00:00                                       -0.7   \n",
       "2019-12-08 01:00:00                                       -0.7   \n",
       "2019-12-08 02:00:00                                       -0.7   \n",
       "2019-12-08 03:00:00                                       -0.7   \n",
       "2019-12-08 04:00:00                                       -0.7   \n",
       "...                                                        ...   \n",
       "2022-12-07 21:00:00                                       -1.3   \n",
       "2022-12-07 22:00:00                                       -1.3   \n",
       "2022-12-07 23:00:00                                       -1.3   \n",
       "2022-12-08 00:00:00                                       -1.3   \n",
       "2022-12-08 01:00:00                                       -1.4   \n",
       "\n",
       "                     standardscaler__soil_temperature_7_to_28cm  \\\n",
       "time                                                              \n",
       "2019-12-08 00:00:00                                        -0.8   \n",
       "2019-12-08 01:00:00                                        -0.8   \n",
       "2019-12-08 02:00:00                                        -0.8   \n",
       "2019-12-08 03:00:00                                        -0.8   \n",
       "2019-12-08 04:00:00                                        -0.8   \n",
       "...                                                         ...   \n",
       "2022-12-07 21:00:00                                        -1.2   \n",
       "2022-12-07 22:00:00                                        -1.2   \n",
       "2022-12-07 23:00:00                                        -1.2   \n",
       "2022-12-08 00:00:00                                        -1.2   \n",
       "2022-12-08 01:00:00                                        -1.2   \n",
       "\n",
       "                     standardscaler__soil_temperature_28_to_100cm  \\\n",
       "time                                                                \n",
       "2019-12-08 00:00:00                                          -1.0   \n",
       "2019-12-08 01:00:00                                          -0.9   \n",
       "2019-12-08 02:00:00                                          -0.9   \n",
       "2019-12-08 03:00:00                                          -0.9   \n",
       "2019-12-08 04:00:00                                          -0.9   \n",
       "...                                                           ...   \n",
       "2022-12-07 21:00:00                                          -0.7   \n",
       "2022-12-07 22:00:00                                          -0.7   \n",
       "2022-12-07 23:00:00                                          -0.8   \n",
       "2022-12-08 00:00:00                                          -0.8   \n",
       "2022-12-08 01:00:00                                          -0.8   \n",
       "\n",
       "                     standardscaler__soil_temperature_100_to_255cm  \\\n",
       "time                                                                 \n",
       "2019-12-08 00:00:00                                            0.3   \n",
       "2019-12-08 01:00:00                                            0.3   \n",
       "2019-12-08 02:00:00                                            0.3   \n",
       "2019-12-08 03:00:00                                            0.3   \n",
       "2019-12-08 04:00:00                                            0.3   \n",
       "...                                                            ...   \n",
       "2022-12-07 21:00:00                                            0.6   \n",
       "2022-12-07 22:00:00                                            0.6   \n",
       "2022-12-07 23:00:00                                            0.6   \n",
       "2022-12-08 00:00:00                                            0.6   \n",
       "2022-12-08 01:00:00                                            0.6   \n",
       "\n",
       "                     standardscaler__soil_moisture_0_to_7cm  \\\n",
       "time                                                          \n",
       "2019-12-08 00:00:00                                     0.8   \n",
       "2019-12-08 01:00:00                                     0.8   \n",
       "2019-12-08 02:00:00                                     0.8   \n",
       "2019-12-08 03:00:00                                     0.8   \n",
       "2019-12-08 04:00:00                                     0.8   \n",
       "...                                                     ...   \n",
       "2022-12-07 21:00:00                                     0.7   \n",
       "2022-12-07 22:00:00                                     0.7   \n",
       "2022-12-07 23:00:00                                     0.7   \n",
       "2022-12-08 00:00:00                                     0.7   \n",
       "2022-12-08 01:00:00                                     0.6   \n",
       "\n",
       "                     standardscaler__soil_moisture_7_to_28cm  \\\n",
       "time                                                           \n",
       "2019-12-08 00:00:00                                      0.9   \n",
       "2019-12-08 01:00:00                                      0.9   \n",
       "2019-12-08 02:00:00                                      0.9   \n",
       "2019-12-08 03:00:00                                      0.9   \n",
       "2019-12-08 04:00:00                                      0.9   \n",
       "...                                                      ...   \n",
       "2022-12-07 21:00:00                                      0.7   \n",
       "2022-12-07 22:00:00                                      0.7   \n",
       "2022-12-07 23:00:00                                      0.7   \n",
       "2022-12-08 00:00:00                                      0.7   \n",
       "2022-12-08 01:00:00                                      0.7   \n",
       "\n",
       "                     standardscaler__soil_moisture_28_to_100cm  \\\n",
       "time                                                             \n",
       "2019-12-08 00:00:00                                        0.7   \n",
       "2019-12-08 01:00:00                                        0.7   \n",
       "2019-12-08 02:00:00                                        0.7   \n",
       "2019-12-08 03:00:00                                        0.7   \n",
       "2019-12-08 04:00:00                                        0.7   \n",
       "...                                                        ...   \n",
       "2022-12-07 21:00:00                                        0.5   \n",
       "2022-12-07 22:00:00                                        0.5   \n",
       "2022-12-07 23:00:00                                        0.5   \n",
       "2022-12-08 00:00:00                                        0.5   \n",
       "2022-12-08 01:00:00                                        0.5   \n",
       "\n",
       "                     standardscaler__soil_moisture_100_to_255cm  \\\n",
       "time                                                              \n",
       "2019-12-08 00:00:00                                        -1.4   \n",
       "2019-12-08 01:00:00                                        -1.4   \n",
       "2019-12-08 02:00:00                                        -1.4   \n",
       "2019-12-08 03:00:00                                        -1.4   \n",
       "2019-12-08 04:00:00                                        -1.4   \n",
       "...                                                         ...   \n",
       "2022-12-07 21:00:00                                        -1.4   \n",
       "2022-12-07 22:00:00                                        -1.4   \n",
       "2022-12-07 23:00:00                                        -1.4   \n",
       "2022-12-08 00:00:00                                        -1.4   \n",
       "2022-12-08 01:00:00                                        -1.4   \n",
       "\n",
       "                     robustscaler__cloudcover  robustscaler__cloudcover_low  \\\n",
       "time                                                                          \n",
       "2019-12-08 00:00:00                       0.4                           0.8   \n",
       "2019-12-08 01:00:00                       0.5                           0.7   \n",
       "2019-12-08 02:00:00                       0.7                           0.9   \n",
       "2019-12-08 03:00:00                       0.6                           0.8   \n",
       "2019-12-08 04:00:00                       0.6                           0.9   \n",
       "...                                       ...                           ...   \n",
       "2022-12-07 21:00:00                      -0.1                           0.3   \n",
       "2022-12-07 22:00:00                      -0.1                           0.4   \n",
       "2022-12-07 23:00:00                       0.3                           0.4   \n",
       "2022-12-08 00:00:00                       0.4                           0.5   \n",
       "2022-12-08 01:00:00                       0.2                           0.4   \n",
       "\n",
       "                     robustscaler__cloudcover_mid  \\\n",
       "time                                                \n",
       "2019-12-08 00:00:00                          -0.4   \n",
       "2019-12-08 01:00:00                          -0.4   \n",
       "2019-12-08 02:00:00                          -0.4   \n",
       "2019-12-08 03:00:00                          -0.4   \n",
       "2019-12-08 04:00:00                          -0.4   \n",
       "...                                           ...   \n",
       "2022-12-07 21:00:00                          -0.2   \n",
       "2022-12-07 22:00:00                          -0.2   \n",
       "2022-12-07 23:00:00                           0.6   \n",
       "2022-12-08 00:00:00                           0.5   \n",
       "2022-12-08 01:00:00                           0.3   \n",
       "\n",
       "                     robustscaler__cloudcover_high  \\\n",
       "time                                                 \n",
       "2019-12-08 00:00:00                            0.2   \n",
       "2019-12-08 01:00:00                            0.6   \n",
       "2019-12-08 02:00:00                            0.9   \n",
       "2019-12-08 03:00:00                            1.0   \n",
       "2019-12-08 04:00:00                            1.0   \n",
       "...                                            ...   \n",
       "2022-12-07 21:00:00                           -0.4   \n",
       "2022-12-07 22:00:00                           -0.4   \n",
       "2022-12-07 23:00:00                           -0.4   \n",
       "2022-12-08 00:00:00                           -0.4   \n",
       "2022-12-08 01:00:00                           -0.4   \n",
       "\n",
       "                     powertransformer__relativehumidity_2m  \\\n",
       "time                                                         \n",
       "2019-12-08 00:00:00                                    1.2   \n",
       "2019-12-08 01:00:00                                    1.3   \n",
       "2019-12-08 02:00:00                                    1.3   \n",
       "2019-12-08 03:00:00                                    1.3   \n",
       "2019-12-08 04:00:00                                    1.2   \n",
       "...                                                    ...   \n",
       "2022-12-07 21:00:00                                    1.5   \n",
       "2022-12-07 22:00:00                                    1.6   \n",
       "2022-12-07 23:00:00                                    1.7   \n",
       "2022-12-08 00:00:00                                    1.7   \n",
       "2022-12-08 01:00:00                                    1.8   \n",
       "\n",
       "                     powertransformer__precipitation  powertransformer__rain  \\\n",
       "time                                                                           \n",
       "2019-12-08 00:00:00                             -0.6                    -0.6   \n",
       "2019-12-08 01:00:00                              0.1                     0.2   \n",
       "2019-12-08 02:00:00                             -0.6                    -0.6   \n",
       "2019-12-08 03:00:00                             -0.6                    -0.6   \n",
       "2019-12-08 04:00:00                             -0.6                    -0.6   \n",
       "...                                              ...                     ...   \n",
       "2022-12-07 21:00:00                             -0.6                    -0.6   \n",
       "2022-12-07 22:00:00                             -0.6                    -0.6   \n",
       "2022-12-07 23:00:00                             -0.6                    -0.6   \n",
       "2022-12-08 00:00:00                             -0.6                    -0.6   \n",
       "2022-12-08 01:00:00                             -0.6                    -0.6   \n",
       "\n",
       "                     powertransformer__snowfall  \\\n",
       "time                                              \n",
       "2019-12-08 00:00:00                        -0.1   \n",
       "2019-12-08 01:00:00                        -0.1   \n",
       "2019-12-08 02:00:00                        -0.1   \n",
       "2019-12-08 03:00:00                        -0.1   \n",
       "2019-12-08 04:00:00                        -0.1   \n",
       "...                                         ...   \n",
       "2022-12-07 21:00:00                        -0.1   \n",
       "2022-12-07 22:00:00                        -0.1   \n",
       "2022-12-07 23:00:00                        -0.1   \n",
       "2022-12-08 00:00:00                        -0.1   \n",
       "2022-12-08 01:00:00                        -0.1   \n",
       "\n",
       "                     powertransformer__shortwave_radiation  \\\n",
       "time                                                         \n",
       "2019-12-08 00:00:00                                   -1.0   \n",
       "2019-12-08 01:00:00                                   -1.0   \n",
       "2019-12-08 02:00:00                                   -1.0   \n",
       "2019-12-08 03:00:00                                   -1.0   \n",
       "2019-12-08 04:00:00                                   -1.0   \n",
       "...                                                    ...   \n",
       "2022-12-07 21:00:00                                   -1.0   \n",
       "2022-12-07 22:00:00                                   -1.0   \n",
       "2022-12-07 23:00:00                                   -1.0   \n",
       "2022-12-08 00:00:00                                   -1.0   \n",
       "2022-12-08 01:00:00                                   -1.0   \n",
       "\n",
       "                     powertransformer__direct_radiation  \\\n",
       "time                                                      \n",
       "2019-12-08 00:00:00                                -0.9   \n",
       "2019-12-08 01:00:00                                -0.9   \n",
       "2019-12-08 02:00:00                                -0.9   \n",
       "2019-12-08 03:00:00                                -0.9   \n",
       "2019-12-08 04:00:00                                -0.9   \n",
       "...                                                 ...   \n",
       "2022-12-07 21:00:00                                -0.9   \n",
       "2022-12-07 22:00:00                                -0.9   \n",
       "2022-12-07 23:00:00                                -0.9   \n",
       "2022-12-08 00:00:00                                -0.9   \n",
       "2022-12-08 01:00:00                                -0.9   \n",
       "\n",
       "                     powertransformer__direct_normal_irradiance  \\\n",
       "time                                                              \n",
       "2019-12-08 00:00:00                                        -0.9   \n",
       "2019-12-08 01:00:00                                        -0.9   \n",
       "2019-12-08 02:00:00                                        -0.9   \n",
       "2019-12-08 03:00:00                                        -0.9   \n",
       "2019-12-08 04:00:00                                        -0.9   \n",
       "...                                                         ...   \n",
       "2022-12-07 21:00:00                                        -0.9   \n",
       "2022-12-07 22:00:00                                        -0.9   \n",
       "2022-12-07 23:00:00                                        -0.9   \n",
       "2022-12-08 00:00:00                                        -0.9   \n",
       "2022-12-08 01:00:00                                        -0.9   \n",
       "\n",
       "                     powertransformer__diffuse_radiation  \\\n",
       "time                                                       \n",
       "2019-12-08 00:00:00                                 -1.0   \n",
       "2019-12-08 01:00:00                                 -1.0   \n",
       "2019-12-08 02:00:00                                 -1.0   \n",
       "2019-12-08 03:00:00                                 -1.0   \n",
       "2019-12-08 04:00:00                                 -1.0   \n",
       "...                                                  ...   \n",
       "2022-12-07 21:00:00                                 -1.0   \n",
       "2022-12-07 22:00:00                                 -1.0   \n",
       "2022-12-07 23:00:00                                 -1.0   \n",
       "2022-12-08 00:00:00                                 -1.0   \n",
       "2022-12-08 01:00:00                                 -1.0   \n",
       "\n",
       "                     powertransformer__et0_fao_evapotranspiration  \\\n",
       "time                                                                \n",
       "2019-12-08 00:00:00                                          -0.7   \n",
       "2019-12-08 01:00:00                                          -0.7   \n",
       "2019-12-08 02:00:00                                          -0.7   \n",
       "2019-12-08 03:00:00                                          -0.5   \n",
       "2019-12-08 04:00:00                                          -0.4   \n",
       "...                                                           ...   \n",
       "2022-12-07 21:00:00                                          -1.1   \n",
       "2022-12-07 22:00:00                                          -1.1   \n",
       "2022-12-07 23:00:00                                          -1.1   \n",
       "2022-12-08 00:00:00                                          -1.1   \n",
       "2022-12-08 01:00:00                                          -1.1   \n",
       "\n",
       "                     powertransformer__vapor_pressure_deficit  season_Fall  \\\n",
       "time                                                                         \n",
       "2019-12-08 00:00:00                                      -1.1            0   \n",
       "2019-12-08 01:00:00                                      -1.2            0   \n",
       "2019-12-08 02:00:00                                      -1.2            0   \n",
       "2019-12-08 03:00:00                                      -1.2            0   \n",
       "2019-12-08 04:00:00                                      -1.1            0   \n",
       "...                                                       ...          ...   \n",
       "2022-12-07 21:00:00                                      -1.5            0   \n",
       "2022-12-07 22:00:00                                      -1.6            0   \n",
       "2022-12-07 23:00:00                                      -1.6            0   \n",
       "2022-12-08 00:00:00                                      -1.7            0   \n",
       "2022-12-08 01:00:00                                      -1.7            0   \n",
       "\n",
       "                     season_Spring  season_Summer  season_Winter  \\\n",
       "time                                                               \n",
       "2019-12-08 00:00:00              0              0              1   \n",
       "2019-12-08 01:00:00              0              0              1   \n",
       "2019-12-08 02:00:00              0              0              1   \n",
       "2019-12-08 03:00:00              0              0              1   \n",
       "2019-12-08 04:00:00              0              0              1   \n",
       "...                            ...            ...            ...   \n",
       "2022-12-07 21:00:00              0              0              1   \n",
       "2022-12-07 22:00:00              0              0              1   \n",
       "2022-12-07 23:00:00              0              0              1   \n",
       "2022-12-08 00:00:00              0              0              1   \n",
       "2022-12-08 01:00:00              0              0              1   \n",
       "\n",
       "                     weekday_Weekday  weekday_Weekend  period_Afternoon  \\\n",
       "time                                                                      \n",
       "2019-12-08 00:00:00                0                1                 0   \n",
       "2019-12-08 01:00:00                0                1                 0   \n",
       "2019-12-08 02:00:00                0                1                 0   \n",
       "2019-12-08 03:00:00                0                1                 0   \n",
       "2019-12-08 04:00:00                0                1                 0   \n",
       "...                              ...              ...               ...   \n",
       "2022-12-07 21:00:00                1                0                 0   \n",
       "2022-12-07 22:00:00                1                0                 0   \n",
       "2022-12-07 23:00:00                1                0                 0   \n",
       "2022-12-08 00:00:00                1                0                 0   \n",
       "2022-12-08 01:00:00                1                0                 0   \n",
       "\n",
       "                     period_Morning  period_Night  consommation  \n",
       "time                                                             \n",
       "2019-12-08 00:00:00               0             1       6,392.0  \n",
       "2019-12-08 01:00:00               0             1       6,149.0  \n",
       "2019-12-08 02:00:00               0             1       5,834.0  \n",
       "2019-12-08 03:00:00               0             1       5,621.0  \n",
       "2019-12-08 04:00:00               1             0       5,370.0  \n",
       "...                             ...           ...           ...  \n",
       "2022-12-07 21:00:00               0             1       6,164.0  \n",
       "2022-12-07 22:00:00               0             1       5,769.0  \n",
       "2022-12-07 23:00:00               0             1       5,612.0  \n",
       "2022-12-08 00:00:00               0             1       5,784.0  \n",
       "2022-12-08 01:00:00               0             1       5,543.0  \n",
       "\n",
       "[26280 rows x 42 columns]"
      ]
     },
     "execution_count": 392,
     "metadata": {},
     "output_type": "execute_result"
    }
   ],
   "source": [
    "fold = folds[-1]\n",
    "fold"
   ]
  },
  {
   "cell_type": "markdown",
   "id": "26bc947b-f4a4-427e-ba8f-89de76377d64",
   "metadata": {
    "jp-MarkdownHeadingCollapsed": true,
    "tags": []
   },
   "source": [
    "### Spliting the train and test samples"
   ]
  },
  {
   "cell_type": "code",
   "execution_count": null,
   "id": "aa43fbd5-5ded-4143-b95a-6bd6a8bf0cfa",
   "metadata": {},
   "outputs": [],
   "source": [
    "(fold_train, fold_test) = train_test_split(fold, TRAIN_TEST_RATIO, INPUT_LENGTH)"
   ]
  },
  {
   "cell_type": "code",
   "execution_count": null,
   "id": "fcd4b911-ba84-48d4-832d-7319eb44bb0c",
   "metadata": {},
   "outputs": [
    {
     "name": "stdout",
     "output_type": "stream",
     "text": [
      "N_FEATURES = 41\n",
      "INPUT_LENGTH = 168 timesteps = 7 days = 1 weeks\n"
     ]
    }
   ],
   "source": [
    "# INPUT X\n",
    "print(f'N_FEATURES = {N_FEATURES}')\n",
    "print(f'INPUT_LENGTH = {INPUT_LENGTH} timesteps = {int(INPUT_LENGTH/24)} days = {int(INPUT_LENGTH/24/7)} weeks')"
   ]
  },
  {
   "cell_type": "code",
   "execution_count": null,
   "id": "d9151e1d-81be-428a-a7e8-047cc9f19695",
   "metadata": {},
   "outputs": [
    {
     "name": "stdout",
     "output_type": "stream",
     "text": [
      "N_TARGETS = 1\n",
      "OUTPUT_LENGTH = 1\n"
     ]
    }
   ],
   "source": [
    "# TARGET Y\n",
    "print(f'N_TARGETS = {N_TARGETS}')\n",
    "\n",
    "# Let's only predict 1 value ahead of us\n",
    "OUTPUT_LENGTH = 1\n",
    "print(f'OUTPUT_LENGTH = {OUTPUT_LENGTH}')"
   ]
  },
  {
   "cell_type": "markdown",
   "id": "3cdb3658-8b38-4788-9bf4-16aba24d6477",
   "metadata": {
    "jp-MarkdownHeadingCollapsed": true,
    "tags": []
   },
   "source": [
    "### Getting sequences"
   ]
  },
  {
   "cell_type": "markdown",
   "id": "c10ad1ca-648c-40ec-b6ff-08a895af4bcb",
   "metadata": {
    "tags": []
   },
   "source": [
    "#### Random based"
   ]
  },
  {
   "cell_type": "code",
   "execution_count": null,
   "id": "8aaf2d31-675a-4172-9248-bba390232e73",
   "metadata": {},
   "outputs": [],
   "source": [
    "X_train_i, y_train_i = get_Xi_yi(fold_train, INPUT_LENGTH, OUTPUT_LENGTH)\n",
    "X_test_i, y_test_i = get_Xi_yi(fold_test, INPUT_LENGTH, OUTPUT_LENGTH)"
   ]
  },
  {
   "cell_type": "code",
   "execution_count": null,
   "id": "44e35b9d-0c9b-4734-9cd0-c53a83c538b5",
   "metadata": {},
   "outputs": [],
   "source": [
    "X_last, y_last = get_Xi_yi(fold_test, input_length=len(fold_test)-1, output_length=OUTPUT_LENGTH)\n",
    "assert y_last.values == fold_test.iloc[-1,:][TARGET]"
   ]
  },
  {
   "cell_type": "markdown",
   "id": "31f12a59-1c55-46fe-8230-6156c1613ccf",
   "metadata": {
    "tags": []
   },
   "source": [
    "#### Not random "
   ]
  },
  {
   "cell_type": "code",
   "execution_count": null,
   "id": "45ac7201-1e35-46e3-b5c4-8ee010ea8589",
   "metadata": {},
   "outputs": [],
   "source": [
    "N_TRAIN = 6666 # number_of_sequences_train\n",
    "N_TEST =  3333 # number_of_sequences_test\n",
    "\n",
    "X_train, y_train = get_X_y(fold_train, N_TRAIN, INPUT_LENGTH, OUTPUT_LENGTH)\n",
    "X_test, y_test = get_X_y(fold_test, N_TEST, INPUT_LENGTH, OUTPUT_LENGTH)"
   ]
  },
  {
   "cell_type": "code",
   "execution_count": null,
   "id": "b1c18c39-b5c4-4d56-ab2e-d5446f9b2a3a",
   "metadata": {},
   "outputs": [],
   "source": [
    "SEQUENCE_STRIDE = 1"
   ]
  },
  {
   "cell_type": "markdown",
   "id": "f25f488d-ca19-4a1f-a722-d89b5a7b9340",
   "metadata": {
    "jp-MarkdownHeadingCollapsed": true,
    "tags": []
   },
   "source": [
    "### Running the model"
   ]
  },
  {
   "cell_type": "code",
   "execution_count": null,
   "id": "c4c260ff-954c-4674-b566-6b7823884878",
   "metadata": {},
   "outputs": [
    {
     "name": "stdout",
     "output_type": "stream",
     "text": [
      "Model: \"sequential_20\"\n",
      "_________________________________________________________________\n",
      " Layer (type)                Output Shape              Param #   \n",
      "=================================================================\n",
      " normalization_20 (Normaliza  (None, None, 42)         85        \n",
      " tion)                                                           \n",
      "                                                                 \n",
      " lstm_20 (LSTM)              (None, 64)                27392     \n",
      "                                                                 \n",
      " dense_20 (Dense)            (None, 1)                 65        \n",
      "                                                                 \n",
      "=================================================================\n",
      "Total params: 27,542\n",
      "Trainable params: 27,457\n",
      "Non-trainable params: 85\n",
      "_________________________________________________________________\n"
     ]
    }
   ],
   "source": [
    "model = init_model(X_train, y_train)\n",
    "model.summary()"
   ]
  },
  {
   "cell_type": "code",
   "execution_count": null,
   "id": "6d3e3b3c-ab6e-4be2-8cc3-8a06e31590f4",
   "metadata": {},
   "outputs": [
    {
     "name": "stdout",
     "output_type": "stream",
     "text": [
      "Model: \"sequential_21\"\n",
      "_________________________________________________________________\n",
      " Layer (type)                Output Shape              Param #   \n",
      "=================================================================\n",
      " normalization_21 (Normaliza  (None, None, 42)         85        \n",
      " tion)                                                           \n",
      "                                                                 \n",
      " lstm_21 (LSTM)              (None, 64)                27392     \n",
      "                                                                 \n",
      " dense_21 (Dense)            (None, 1)                 65        \n",
      "                                                                 \n",
      "=================================================================\n",
      "Total params: 27,542\n",
      "Trainable params: 27,457\n",
      "Non-trainable params: 85\n",
      "_________________________________________________________________\n",
      "Epoch 1/100\n",
      "146/146 [==============================] - 14s 83ms/step - loss: 30039140.0000 - mae: 5387.7422 - val_loss: 28940674.0000 - val_mae: 5282.1177\n",
      "Epoch 2/100\n",
      "146/146 [==============================] - 12s 83ms/step - loss: 28012816.0000 - mae: 5196.3149 - val_loss: 26994926.0000 - val_mae: 5094.6064\n",
      "Epoch 3/100\n",
      "146/146 [==============================] - 12s 81ms/step - loss: 26120846.0000 - mae: 5010.9707 - val_loss: 25160268.0000 - val_mae: 4911.2515\n",
      "Epoch 4/100\n",
      "146/146 [==============================] - 12s 82ms/step - loss: 24333548.0000 - mae: 4829.3506 - val_loss: 23425364.0000 - val_mae: 4731.3286\n",
      "Epoch 5/100\n",
      "146/146 [==============================] - 12s 80ms/step - loss: 22642810.0000 - mae: 4651.0166 - val_loss: 21784032.0000 - val_mae: 4554.5757\n",
      "Epoch 6/100\n",
      "146/146 [==============================] - 12s 80ms/step - loss: 21043244.0000 - mae: 4475.7642 - val_loss: 20231520.0000 - val_mae: 4380.8286\n",
      "Epoch 7/100\n",
      "146/146 [==============================] - 12s 83ms/step - loss: 19530526.0000 - mae: 4303.4648 - val_loss: 18763806.0000 - val_mae: 4209.9834\n",
      "Epoch 8/100\n",
      "146/146 [==============================] - 12s 82ms/step - loss: 18100814.0000 - mae: 4134.0249 - val_loss: 17377266.0000 - val_mae: 4041.9551\n",
      "Epoch 9/100\n",
      "146/146 [==============================] - 12s 81ms/step - loss: 17523726.0000 - mae: 4064.3081 - val_loss: 16562065.0000 - val_mae: 3938.2639\n",
      "Epoch 10/100\n",
      "146/146 [==============================] - 12s 80ms/step - loss: 15926068.0000 - mae: 3861.6125 - val_loss: 15255402.0000 - val_mae: 3770.4399\n",
      "Epoch 11/100\n",
      "146/146 [==============================] - 12s 79ms/step - loss: 14699843.0000 - mae: 3699.7686 - val_loss: 14092133.0000 - val_mae: 3612.8345\n",
      "Epoch 12/100\n",
      "146/146 [==============================] - 12s 80ms/step - loss: 13566785.0000 - mae: 3543.4941 - val_loss: 12999410.0000 - val_mae: 3458.2490\n",
      "Epoch 13/100\n",
      "146/146 [==============================] - 12s 85ms/step - loss: 12505181.0000 - mae: 3390.3838 - val_loss: 11972686.0000 - val_mae: 3306.4834\n",
      "Epoch 14/100\n",
      "146/146 [==============================] - 12s 82ms/step - loss: 11506853.0000 - mae: 3239.7952 - val_loss: 11007650.0000 - val_mae: 3157.1360\n",
      "Epoch 15/100\n",
      "146/146 [==============================] - 12s 82ms/step - loss: 10579257.0000 - mae: 3093.0171 - val_loss: 10106444.0000 - val_mae: 3011.2520\n",
      "Epoch 16/100\n",
      "146/146 [==============================] - 13s 86ms/step - loss: 9692221.0000 - mae: 2946.4819 - val_loss: 9255548.0000 - val_mae: 2866.2310\n",
      "Epoch 17/100\n",
      "146/146 [==============================] - 13s 86ms/step - loss: 8869457.0000 - mae: 2803.3745 - val_loss: 8463149.0000 - val_mae: 2724.4932\n",
      "Epoch 18/100\n",
      "146/146 [==============================] - 13s 90ms/step - loss: 8101559.0000 - mae: 2662.9023 - val_loss: 7723990.5000 - val_mae: 2585.2847\n",
      "Epoch 19/100\n",
      "146/146 [==============================] - 12s 81ms/step - loss: 7385962.5000 - mae: 2524.9727 - val_loss: 7036276.0000 - val_mae: 2448.6870\n",
      "Epoch 20/100\n",
      "146/146 [==============================] - 12s 81ms/step - loss: 6720774.0000 - mae: 2389.6404 - val_loss: 6397769.5000 - val_mae: 2314.6409\n",
      "Epoch 21/100\n",
      "146/146 [==============================] - 12s 79ms/step - loss: 6103985.5000 - mae: 2256.9072 - val_loss: 5806765.5000 - val_mae: 2183.2458\n",
      "Epoch 22/100\n",
      "146/146 [==============================] - 12s 81ms/step - loss: 5533829.5000 - mae: 2126.8606 - val_loss: 5261435.5000 - val_mae: 2054.5647\n",
      "Epoch 23/100\n",
      "146/146 [==============================] - 12s 80ms/step - loss: 5008669.0000 - mae: 1999.7953 - val_loss: 4759969.5000 - val_mae: 1929.0812\n",
      "Epoch 24/100\n",
      "146/146 [==============================] - 12s 79ms/step - loss: 4526172.5000 - mae: 1876.0908 - val_loss: 4300577.0000 - val_mae: 1807.3682\n",
      "Epoch 25/100\n",
      "146/146 [==============================] - 11s 78ms/step - loss: 4085081.5000 - mae: 1756.4142 - val_loss: 3881468.0000 - val_mae: 1690.5839\n",
      "Epoch 26/100\n",
      "146/146 [==============================] - 11s 78ms/step - loss: 3683427.2500 - mae: 1641.5316 - val_loss: 3500889.7500 - val_mae: 1579.8289\n",
      "Epoch 27/100\n",
      "146/146 [==============================] - 12s 80ms/step - loss: 3319408.5000 - mae: 1532.6063 - val_loss: 3156924.2500 - val_mae: 1476.2247\n",
      "Epoch 28/100\n",
      "146/146 [==============================] - 12s 82ms/step - loss: 2991205.0000 - mae: 1430.1786 - val_loss: 2847796.5000 - val_mae: 1381.0171\n",
      "Epoch 29/100\n",
      "146/146 [==============================] - 12s 79ms/step - loss: 2696969.0000 - mae: 1335.7988 - val_loss: 2571638.7500 - val_mae: 1293.8341\n",
      "Epoch 30/100\n",
      "146/146 [==============================] - 12s 79ms/step - loss: 2434836.0000 - mae: 1250.4031 - val_loss: 2326600.2500 - val_mae: 1216.8199\n",
      "Epoch 31/100\n",
      "146/146 [==============================] - 12s 79ms/step - loss: 2202905.2500 - mae: 1174.1680 - val_loss: 2110866.5000 - val_mae: 1148.0400\n",
      "Epoch 32/100\n",
      "146/146 [==============================] - 11s 79ms/step - loss: 1999234.2500 - mae: 1107.4457 - val_loss: 1922283.0000 - val_mae: 1087.5269\n",
      "Epoch 33/100\n",
      "146/146 [==============================] - 12s 81ms/step - loss: 1822666.3750 - mae: 1050.6349 - val_loss: 1758960.1250 - val_mae: 1035.2527\n",
      "Epoch 34/100\n",
      "146/146 [==============================] - 12s 79ms/step - loss: 1703572.5000 - mae: 1005.2800 - val_loss: 1660468.1250 - val_mae: 1000.3861\n",
      "Epoch 35/100\n",
      "146/146 [==============================] - 12s 82ms/step - loss: 1528785.6250 - mae: 950.4933 - val_loss: 1469014.3750 - val_mae: 929.3209\n",
      "Epoch 36/100\n",
      "146/146 [==============================] - 12s 81ms/step - loss: 1382489.1250 - mae: 890.6126 - val_loss: 1332307.8750 - val_mae: 875.2451\n",
      "Epoch 37/100\n",
      "146/146 [==============================] - 12s 80ms/step - loss: 1255114.7500 - mae: 839.5205 - val_loss: 1209430.1250 - val_mae: 824.3007\n",
      "Epoch 38/100\n",
      "146/146 [==============================] - 12s 85ms/step - loss: 1134277.5000 - mae: 786.1924 - val_loss: 1087416.5000 - val_mae: 765.9744\n",
      "Epoch 39/100\n",
      "146/146 [==============================] - 12s 84ms/step - loss: 1026703.8750 - mae: 737.7179 - val_loss: 989670.0000 - val_mae: 724.6536\n",
      "Epoch 40/100\n",
      "146/146 [==============================] - 12s 83ms/step - loss: 928586.7500 - mae: 694.4243 - val_loss: 899129.8125 - val_mae: 684.8148\n",
      "Epoch 41/100\n",
      "146/146 [==============================] - 12s 84ms/step - loss: 842974.5000 - mae: 655.9066 - val_loss: 813244.5000 - val_mae: 645.5425\n",
      "Epoch 42/100\n",
      "146/146 [==============================] - 12s 83ms/step - loss: 765872.9375 - mae: 617.2137 - val_loss: 734622.1250 - val_mae: 603.4992\n",
      "Epoch 43/100\n",
      "146/146 [==============================] - 13s 88ms/step - loss: 690242.5625 - mae: 578.4251 - val_loss: 671339.6250 - val_mae: 574.2078\n",
      "Epoch 44/100\n",
      "146/146 [==============================] - 12s 83ms/step - loss: 622736.3750 - mae: 539.7346 - val_loss: 598697.2500 - val_mae: 531.2047\n",
      "Epoch 45/100\n",
      "146/146 [==============================] - 12s 79ms/step - loss: 561509.1250 - mae: 501.2699 - val_loss: 543984.6875 - val_mae: 498.1502\n",
      "Epoch 46/100\n",
      "146/146 [==============================] - 12s 80ms/step - loss: 506720.0000 - mae: 473.9576 - val_loss: 490443.1250 - val_mae: 469.3028\n",
      "Epoch 47/100\n",
      "146/146 [==============================] - 12s 80ms/step - loss: 459830.7188 - mae: 448.1414 - val_loss: 440336.7812 - val_mae: 437.1479\n",
      "Epoch 48/100\n",
      "146/146 [==============================] - 12s 82ms/step - loss: 410873.8750 - mae: 415.4464 - val_loss: 394104.5938 - val_mae: 405.7708\n",
      "Epoch 49/100\n",
      "146/146 [==============================] - 12s 79ms/step - loss: 371238.1250 - mae: 392.2541 - val_loss: 361292.5312 - val_mae: 390.4023\n",
      "Epoch 50/100\n",
      "146/146 [==============================] - 11s 78ms/step - loss: 334967.9375 - mae: 369.4670 - val_loss: 323942.9688 - val_mae: 364.1317\n",
      "Epoch 51/100\n",
      "146/146 [==============================] - 11s 78ms/step - loss: 304046.8438 - mae: 350.6325 - val_loss: 296884.9062 - val_mae: 348.1646\n",
      "Epoch 52/100\n",
      "146/146 [==============================] - 12s 79ms/step - loss: 275795.8125 - mae: 331.5257 - val_loss: 267418.4062 - val_mae: 326.2798\n",
      "Epoch 53/100\n",
      "146/146 [==============================] - 12s 82ms/step - loss: 250425.0000 - mae: 314.4777 - val_loss: 241457.0156 - val_mae: 306.6193\n",
      "Epoch 54/100\n",
      "146/146 [==============================] - 11s 78ms/step - loss: 227235.4531 - mae: 295.9532 - val_loss: 223650.1562 - val_mae: 297.1486\n",
      "Epoch 55/100\n",
      "146/146 [==============================] - 11s 78ms/step - loss: 209924.7812 - mae: 285.8928 - val_loss: 206214.1094 - val_mae: 284.5298\n",
      "Epoch 56/100\n",
      "146/146 [==============================] - 11s 78ms/step - loss: 193170.0000 - mae: 274.9332 - val_loss: 189314.8438 - val_mae: 276.0899\n",
      "Epoch 57/100\n",
      "146/146 [==============================] - 11s 78ms/step - loss: 180708.4375 - mae: 272.3428 - val_loss: 175892.2969 - val_mae: 265.3808\n",
      "Epoch 58/100\n",
      "146/146 [==============================] - 12s 82ms/step - loss: 163297.9688 - mae: 254.8674 - val_loss: 171260.9062 - val_mae: 253.6221\n",
      "Epoch 59/100\n",
      "146/146 [==============================] - 11s 78ms/step - loss: 160441.6562 - mae: 250.4572 - val_loss: 174314.1094 - val_mae: 261.6599\n",
      "Epoch 60/100\n",
      "146/146 [==============================] - 11s 78ms/step - loss: 152068.0000 - mae: 249.2162 - val_loss: 142199.4219 - val_mae: 245.9447\n",
      "Epoch 61/100\n",
      "146/146 [==============================] - 11s 78ms/step - loss: 154325.4844 - mae: 258.1366 - val_loss: 259394.7188 - val_mae: 263.9170\n",
      "Epoch 62/100\n",
      "146/146 [==============================] - 11s 79ms/step - loss: 188241.0312 - mae: 255.0210 - val_loss: 186808.2188 - val_mae: 253.5508\n",
      "Epoch 63/100\n",
      "146/146 [==============================] - 12s 81ms/step - loss: 161331.3750 - mae: 247.4709 - val_loss: 209328.2188 - val_mae: 304.9142\n",
      "Epoch 64/100\n",
      "146/146 [==============================] - 12s 79ms/step - loss: 388384.3125 - mae: 348.3868 - val_loss: 1442762.3750 - val_mae: 805.9429\n",
      "Epoch 65/100\n",
      "146/146 [==============================] - 11s 79ms/step - loss: 528499.5000 - mae: 499.9409 - val_loss: 229948.6406 - val_mae: 368.2936\n"
     ]
    }
   ],
   "source": [
    "# 1 - Initialising the RNN model\n",
    "# ====================================\n",
    "\n",
    "model = init_model(X_train, y_train)\n",
    "model.summary()\n",
    "\n",
    "# 2 - Training\n",
    "# ====================================\n",
    "model, history = fit_model(model)"
   ]
  },
  {
   "cell_type": "code",
   "execution_count": null,
   "id": "860463d5-5ae0-4253-a52f-0a2e0d2946f1",
   "metadata": {},
   "outputs": [
    {
     "data": {
      "image/png": "[encoded data removed]",
      "text/plain": [
       "<Figure size 2000x700 with 2 Axes>"
      ]
     },
     "metadata": {},
     "output_type": "display_data"
    }
   ],
   "source": [
    "plot_history(history);"
   ]
  },
  {
   "cell_type": "code",
   "execution_count": null,
   "id": "727f6afa-d284-4f4d-a165-0fb3471cb016",
   "metadata": {},
   "outputs": [
    {
     "name": "stdout",
     "output_type": "stream",
     "text": [
      "105/105 [==============================] - 3s 22ms/step\n"
     ]
    }
   ],
   "source": [
    "y_pred = model.predict(X_test)"
   ]
  },
  {
   "cell_type": "code",
   "execution_count": null,
   "id": "e196075d-fe82-49a0-9f67-dce4c4a915e0",
   "metadata": {},
   "outputs": [],
   "source": [
    "import math"
   ]
  },
  {
   "cell_type": "code",
   "execution_count": null,
   "id": "37833917-217e-4f63-ada9-a7b796502197",
   "metadata": {},
   "outputs": [
    {
     "name": "stdout",
     "output_type": "stream",
     "text": [
      "R2 Score:  0.8555683674524928\n",
      "MSE Score:  182981.37211510728\n",
      "MAE Score:  310.1488115120106\n",
      "MAPS error:  0.06099251941995598\n",
      "RMSE Score:  427.76321968480096\n"
     ]
    }
   ],
   "source": [
    "print('R2 Score: ', r2_score(y_test.reshape((3333,1)), y_pred))\n",
    "print('MSE Score: ', mean_squared_error(y_test.reshape((3333,1)), y_pred))\n",
    "print('MAE Score: ', mean_absolute_error(y_test.reshape((3333,1)), y_pred))\n",
    "print('MAPS error: ', mean_absolute_percentage_error(y_test.reshape((3333,1)), y_pred))\n",
    "print('RMSE Score: ', math.sqrt(mean_squared_error(y_test.reshape((3333,1)), y_pred)))"
   ]
  },
  {
   "cell_type": "code",
   "execution_count": null,
   "id": "f89d49f1-e565-41ff-9f6b-57f1c7a054c0",
   "metadata": {},
   "outputs": [
    {
     "name": "stderr",
     "output_type": "stream",
     "text": [
      "WARNING:absl:Found untraced functions such as _update_step_xla, lstm_cell_21_layer_call_fn, lstm_cell_21_layer_call_and_return_conditional_losses while saving (showing 3 of 3). These functions will not be directly callable after loading.\n"
     ]
    },
    {
     "name": "stdout",
     "output_type": "stream",
     "text": [
      "INFO:tensorflow:Assets written to: saved_model/cons_model/assets\n"
     ]
    },
    {
     "name": "stderr",
     "output_type": "stream",
     "text": [
      "INFO:tensorflow:Assets written to: saved_model/cons_model/assets\n"
     ]
    }
   ],
   "source": [
    "model.save('saved_model/cons_model')"
   ]
  },
  {
   "cell_type": "markdown",
   "id": "28863736-8968-42da-b437-f335c538da63",
   "metadata": {
    "jp-MarkdownHeadingCollapsed": true,
    "tags": []
   },
   "source": [
    "### Cross-validation"
   ]
  },
  {
   "cell_type": "code",
   "execution_count": null,
   "id": "fcd96912-5a72-4837-aac1-30d2de4d4e49",
   "metadata": {},
   "outputs": [],
   "source": [
    "res = model.evaluate(X_test, y_test)\n",
    "print(f\"The LSTM MAE on the test set is equal to {round(res[1],2)}\")"
   ]
  },
  {
   "cell_type": "code",
   "execution_count": null,
   "id": "85c4360d-7108-4c06-aa25-a58d66e50e9c",
   "metadata": {},
   "outputs": [],
   "source": [
    "from tensorflow.keras.layers import Lambda\n",
    "\n",
    "def init_baseline():\n",
    "\n",
    "    # $CHALLENGIFY_BEGIN\n",
    "    model = models.Sequential()\n",
    "    model.add(layers.Lambda(lambda x: x[:,-1,1,None]))\n",
    "\n",
    "    adam = optimizers.Adam(learning_rate=0.02)\n",
    "    model.compile(loss='mse', optimizer=adam, metrics=[\"mae\"])\n",
    "\n",
    "    return model\n",
    "    # $CHALLENGIFY_END"
   ]
  },
  {
   "cell_type": "code",
   "execution_count": null,
   "id": "933fc5ec-fca6-47b6-8f5a-0e976edfce3f",
   "metadata": {},
   "outputs": [],
   "source": [
    "baseline_model = init_baseline()\n",
    "baseline_score = baseline_model.evaluate(X_test, y_test)\n",
    "print(f\"- The Baseline MAE on the test set is equal to {round(baseline_score[1],2)}\")"
   ]
  },
  {
   "cell_type": "code",
   "execution_count": null,
   "id": "6ed78414-99e7-460f-938f-757cac439e6f",
   "metadata": {},
   "outputs": [],
   "source": [
    "from tensorflow.keras.callbacks import EarlyStopping\n",
    "\n",
    "def cross_validate_baseline_and_lstm():\n",
    "    '''\n",
    "    This function cross-validates \n",
    "    - the \"last seen value\" baseline model\n",
    "    - the RNN model\n",
    "    '''\n",
    "    \n",
    "    list_of_mae_baseline_model = []\n",
    "    list_of_mae_recurrent_model = []\n",
    "    \n",
    "    # 0 - Creating folds\n",
    "    # =========================================    \n",
    "    folds = get_folds(df, FOLD_LENGTH, FOLD_STRIDE)\n",
    "    \n",
    "    for fold_id, fold in enumerate(folds):\n",
    "        \n",
    "        # 1 - Train/Test split the current fold\n",
    "        # =========================================\n",
    "        (fold_train, fold_test) = train_test_split(fold, TRAIN_TEST_RATIO, INPUT_LENGTH)                   \n",
    "\n",
    "        X_train, y_train = get_X_y(fold_train, N_TRAIN, INPUT_LENGTH, OUTPUT_LENGTH)\n",
    "        X_test, y_test = get_X_y(fold_test, N_TEST, INPUT_LENGTH, OUTPUT_LENGTH)\n",
    "        \n",
    "        # 2 - Modelling\n",
    "        # =========================================\n",
    "        \n",
    "        ##### Baseline Model\n",
    "        baseline_model = init_baseline()\n",
    "        mae_baseline = baseline_model.evaluate(X_test, y_test, verbose=0)[1]\n",
    "        list_of_mae_baseline_model.append(mae_baseline)\n",
    "        print(\"-\"*50)\n",
    "        print(f\"MAE baseline fold n°{fold_id} = {round(mae_baseline, 2)}\")\n",
    "\n",
    "        ##### LSTM Model\n",
    "        model = init_model(X_train, y_train)\n",
    "        es = EarlyStopping(monitor = \"val_mae\",\n",
    "                           mode = \"min\",\n",
    "                           patience = 2, \n",
    "                           restore_best_weights = True)\n",
    "        history = model.fit(X_train, y_train,\n",
    "                            validation_split = 0.3,\n",
    "                            shuffle = False,\n",
    "                            batch_size = 32,\n",
    "                            epochs = 50,\n",
    "                            callbacks = [es],\n",
    "                            verbose = 0)\n",
    "        res = model.evaluate(X_test, y_test, verbose=0)\n",
    "        mae_lstm = res[1]\n",
    "        list_of_mae_recurrent_model.append(mae_lstm)\n",
    "        print(f\"MAE LSTM fold n°{fold_id} = {round(mae_lstm, 2)}\")\n",
    "        \n",
    "        ##### Comparison LSTM vs Baseline for the current fold\n",
    "        print(f\"🏋🏽‍♂️ improvement over baseline: {round((1 - (mae_lstm/mae_baseline))*100,2)} % \\n\")\n",
    "\n",
    "    return list_of_mae_baseline_model, list_of_mae_recurrent_model"
   ]
  },
  {
   "cell_type": "code",
   "execution_count": null,
   "id": "c8f8e789-2b0f-453a-ae48-cdd9217c66b4",
   "metadata": {},
   "outputs": [],
   "source": [
    "%%time\n",
    "# WARNING : it takes 75 minutes to run this cell \n",
    "mae_baselines, mae_lstms = cross_validate_baseline_and_lstm()"
   ]
  },
  {
   "cell_type": "code",
   "execution_count": null,
   "id": "d9537b70-2311-4aba-a698-877b80dfff1a",
   "metadata": {},
   "outputs": [],
   "source": []
  },
  {
   "cell_type": "markdown",
   "id": "b6dc4ace-d4ad-441f-acfa-d96746bd8575",
   "metadata": {
    "tags": []
   },
   "source": [
    "## Forecast data"
   ]
  },
  {
   "cell_type": "code",
   "execution_count": 446,
   "id": "5ace674d-4c1f-4937-82a1-0d042831ed03",
   "metadata": {},
   "outputs": [],
   "source": [
    "from prophecy.get_data_forecast import WeatherForecast\n",
    "from prophecy.feature_processing import FeaturePreprocessing\n",
    "from prophecy.get_data import WeatherEnergy\n",
    "import tensorflow as tf"
   ]
  },
  {
   "cell_type": "markdown",
   "id": "ac0db257-ad7a-46df-bfad-9cbe056bc429",
   "metadata": {
    "tags": []
   },
   "source": [
    "### Getting the dataframes"
   ]
  },
  {
   "cell_type": "code",
   "execution_count": null,
   "id": "e150aa56-8827-4f21-9c90-2ef7cd04204b",
   "metadata": {},
   "outputs": [],
   "source": [
    "wind_df = WeatherForecast('Heudicourt').rename_columns()"
   ]
  },
  {
   "cell_type": "code",
   "execution_count": null,
   "id": "5181bbf6-48dd-489d-b770-60083e21c232",
   "metadata": {},
   "outputs": [],
   "source": [
    "wind_df_prep = FeaturePreprocessing(wind_df).get_period_day()"
   ]
  },
  {
   "cell_type": "code",
   "execution_count": null,
   "id": "a7f8c3fc-45b8-4e8c-bf9a-3c78fb5a3b6b",
   "metadata": {},
   "outputs": [],
   "source": [
    "sun_df = WeatherForecast('Cestas').rename_columns()"
   ]
  },
  {
   "cell_type": "code",
   "execution_count": null,
   "id": "67ee7c77-a3da-4f91-8308-09bad1e27a89",
   "metadata": {},
   "outputs": [],
   "source": [
    "sun_df_prep = FeaturePreprocessing(sun_df).get_period_day()"
   ]
  },
  {
   "cell_type": "code",
   "execution_count": null,
   "id": "ffaedf52-92e6-46ef-acdd-e2a2ad6b3cf3",
   "metadata": {},
   "outputs": [],
   "source": [
    "city = 'Amiens'"
   ]
  },
  {
   "cell_type": "code",
   "execution_count": null,
   "id": "10070e5c-a226-4f04-bc36-6cc05acb55a0",
   "metadata": {},
   "outputs": [],
   "source": [
    "cons_df = WeatherForecast(city).rename_columns()"
   ]
  },
  {
   "cell_type": "code",
   "execution_count": null,
   "id": "727eb90e-83be-40cd-b344-65c389e5b0ed",
   "metadata": {},
   "outputs": [],
   "source": [
    "cons_df_prep = FeaturePreprocessing(cons_df).get_period_day()"
   ]
  },
  {
   "cell_type": "markdown",
   "id": "1f8541aa-ccf4-4ea6-bb46-c5d96f5efe7e",
   "metadata": {},
   "source": [
    "Still columns missing"
   ]
  },
  {
   "cell_type": "markdown",
   "id": "856a57e3-acef-4af0-abe7-c3c52788ccdf",
   "metadata": {
    "tags": []
   },
   "source": [
    "### Loading the models"
   ]
  },
  {
   "cell_type": "code",
   "execution_count": null,
   "id": "46909716-cefb-4633-bfe1-a36c7b7f81d7",
   "metadata": {},
   "outputs": [],
   "source": [
    "wind_model = tf.keras.models.load_model('saved_model/wind_model')"
   ]
  },
  {
   "cell_type": "code",
   "execution_count": null,
   "id": "cfcd246e-6785-4ce4-b991-7846433f028b",
   "metadata": {},
   "outputs": [],
   "source": [
    "sun_model = tf.keras.models.load_model('saved_model/sun_model')"
   ]
  },
  {
   "cell_type": "code",
   "execution_count": null,
   "id": "d3731410-6e79-4b00-a262-3b20f4fb23f5",
   "metadata": {},
   "outputs": [],
   "source": [
    "cons_model = tf.keras.models.load_model('saved_model/cons_model')"
   ]
  },
  {
   "cell_type": "markdown",
   "id": "fee9f9ba-6cc0-4004-8abd-15124f91b837",
   "metadata": {
    "tags": []
   },
   "source": [
    "### Making the predictions"
   ]
  },
  {
   "cell_type": "code",
   "execution_count": null,
   "id": "19326883-eb3b-47fa-a640-50defeb10815",
   "metadata": {},
   "outputs": [],
   "source": [
    "wind_predict = wind_model.predict(wind_df_prep)"
   ]
  },
  {
   "cell_type": "code",
   "execution_count": null,
   "id": "e86d263a-888a-42f8-8674-3ee5b2009716",
   "metadata": {},
   "outputs": [],
   "source": [
    "sun_predict = sun_model.predict(sun_df_prep)"
   ]
  },
  {
   "cell_type": "code",
   "execution_count": null,
   "id": "e1628d25-9c56-4815-a200-6e5c0cbed320",
   "metadata": {},
   "outputs": [],
   "source": [
    "cons_predict = cons_model.predict(cons_df_prep)"
   ]
  },
  {
   "cell_type": "markdown",
   "id": "8de72446-7941-44cf-bdba-69a3ae0e0440",
   "metadata": {
    "tags": []
   },
   "source": [
    "### Computing the recommendations"
   ]
  },
  {
   "cell_type": "code",
   "execution_count": 537,
   "id": "37f521ab-cc8a-4364-92df-d6697252c6e6",
   "metadata": {},
   "outputs": [],
   "source": [
    "eolien_data = WeatherEnergy(limit=-1, offset=0, city='Amiens', target='eolien', refine='Hauts-de-France')"
   ]
  },
  {
   "cell_type": "code",
   "execution_count": 556,
   "id": "81f09d6a-8ecb-49c7-977e-607bfbe43bf5",
   "metadata": {},
   "outputs": [],
   "source": [
    "eolien_df = eolien_data.get_energy_production().asfreq('h').reset_index().drop(columns='time')"
   ]
  },
  {
   "cell_type": "code",
   "execution_count": 557,
   "id": "a61cdfd0-2a09-4e12-844d-cd9ae5287903",
   "metadata": {},
   "outputs": [
    {
     "data": {
      "text/plain": [
       "0           NaN\n",
       "1       1,062.0\n",
       "2         951.0\n",
       "3         769.0\n",
       "4         637.0\n",
       "          ...  \n",
       "89467     861.0\n",
       "89468   1,019.0\n",
       "89469       NaN\n",
       "89470       NaN\n",
       "89471       NaN\n",
       "Name: eolien, Length: 89472, dtype: float64"
      ]
     },
     "execution_count": 557,
     "metadata": {},
     "output_type": "execute_result"
    }
   ],
   "source": [
    "eolien_df[\"eolien\"]"
   ]
  },
  {
   "cell_type": "code",
   "execution_count": null,
   "id": "27606dd4-9bec-4171-bb4e-cff9e45bb65d",
   "metadata": {},
   "outputs": [],
   "source": [
    "transformed_ts1 = pd.Series(np.log(pd.concat([eolien_df[\"eolien\"], wind_predict[\"eolien\"][-1:]]))).diff().dropna()"
   ]
  },
  {
   "cell_type": "code",
   "execution_count": 546,
   "id": "e7f6601e-bc26-49bd-a5ba-d11d5eba9dda",
   "metadata": {},
   "outputs": [
    {
     "data": {
      "text/plain": [
       "32"
      ]
     },
     "execution_count": 546,
     "metadata": {},
     "output_type": "execute_result"
    }
   ],
   "source": [
    "age_col_index = df.columns.get_loc('season_Fall')\n",
    "age_col_index"
   ]
  }
 ],
 "metadata": {
  "environment": {
   "kernel": "python3",
   "name": "tf2-gpu.2-11.m104",
   "type": "gcloud",
   "uri": "gcr.io/deeplearning-platform-release/tf2-gpu.2-11:m104"
  },
  "kernelspec": {
   "display_name": "Python 3 (ipykernel)",
   "language": "python",
   "name": "python3"
  },
  "language_info": {
   "codemirror_mode": {
    "name": "ipython",
    "version": 3
   },
   "file_extension": ".py",
   "mimetype": "text/x-python",
   "name": "python",
   "nbconvert_exporter": "python",
   "pygments_lexer": "ipython3",
   "version": "3.7.12"
  }
 },
 "nbformat": 4,
 "nbformat_minor": 5
}
