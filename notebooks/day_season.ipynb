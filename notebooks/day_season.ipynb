{
 "cells": [
  {
   "cell_type": "code",
   "execution_count": null,
   "id": "3f1a28ae-e70b-4c21-ae26-c3ce5a9777d7",
   "metadata": {},
   "outputs": [],
   "source": [
    "# get the current day of the year\n",
    "doy = wind_energy_scaled.iloc[0].name.timetuple().tm_yday\n",
    "\n",
    "# \"day of year\" ranges for the northern hemisphere\n",
    "spring = range(80, 172)\n",
    "summer = range(172, 264)\n",
    "fall = range(264, 355)\n",
    "# winter = everything else\n",
    "if doy in spring:\n",
    "  season = 'spring'\n",
    "elif doy in summer:\n",
    "  season = 'summer'\n",
    "elif doy in fall:\n",
    "  season = 'fall'\n",
    "else:\n",
    "  season = 'winter'\n",
    "print(season)"
   ]
  },
  {
   "cell_type": "code",
   "execution_count": null,
   "id": "e6337dbb-5d84-485a-80f6-58ba3a866064",
   "metadata": {},
   "outputs": [],
   "source": [
    "wind_energy_scaled.iloc[0].name.day_name()"
   ]
  }
 ],
 "metadata": {
  "environment": {
   "kernel": "python3",
   "name": "tf2-gpu.2-11.m104",
   "type": "gcloud",
   "uri": "gcr.io/deeplearning-platform-release/tf2-gpu.2-11:m104"
  },
  "kernelspec": {
   "display_name": "Python 3 (ipykernel)",
   "language": "python",
   "name": "python3"
  },
  "language_info": {
   "codemirror_mode": {
    "name": "ipython",
    "version": 3
   },
   "file_extension": ".py",
   "mimetype": "text/x-python",
   "name": "python",
   "nbconvert_exporter": "python",
   "pygments_lexer": "ipython3",
   "version": "3.7.12"
  }
 },
 "nbformat": 4,
 "nbformat_minor": 5
}
